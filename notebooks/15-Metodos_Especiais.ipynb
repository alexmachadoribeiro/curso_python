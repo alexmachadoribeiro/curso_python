{
 "cells": [
  {
   "cell_type": "markdown",
   "metadata": {},
   "source": [
    "# **Métodos Especiais**\n",
    "---"
   ]
  },
  {
   "cell_type": "markdown",
   "metadata": {},
   "source": [
    "## Pré-requisitos da aula\n",
    "\n",
    "- Orientação a Objetos\n",
    "---"
   ]
  },
  {
   "cell_type": "markdown",
   "metadata": {},
   "source": [
    "Os **métodos especiais** em Python, também conhecidos como **métodos mágicos** ou **Dunder**, são métodos que definem o comportamento de classes e objetos, sendo invocados automaticamente sob circunstâncias especiais, o que ajuda a diminuir o tempo de execução do código. Normalmente não são chamados diretamente pelo usuário mas podem ser *overloaded* (sobrescritos e alterados). Eles são identificados por nomes que começam e terminam com dois sublinhados (`__`).\n",
    "\n",
    "Lembra do `__init__` que utilizamos como construtor? É um exemplo de método especial. Outros exemplos de métodos especiais são:\n",
    "\n",
    "- `__str__`: Define como o objeto deve ser representado como uma string.\n",
    "- `__repr__`: Representa o objeto como uma string que pode ser usada para criar um novo objeto com os mesmos valores.\n",
    "- `__eq__`: Verifica se dois objetos são iguais.\n",
    "- `__lt__`: Determina se um objeto é menor que outro.\n",
    "- `__call__`: É invocado quando o objeto é invocado como função.\n",
    "- `__float__`: Determina o comportamento da classe quando a instância é usada como o tipo float.\n",
    "- `__len__`: permite que a função `len()` seja chamada em objetos da classe. Geralmente, retorna o comprimento do objeto.\n",
    "- `__del__`: chamado quando um objeto está prestes a ser destruído (quando não há mais referências a ele). É útil para realizar qualquer limpeza necessária.\n",
    "- `__add__`: sobrecarrega o operador `+`.\n",
    "- `__getitem__`: utilizado para indexação.\n"
   ]
  },
  {
   "cell_type": "markdown",
   "metadata": {},
   "source": [
    "\n",
    "## Muito além do `__init__`\n",
    "---\n",
    "\n",
    "Para o algoritmo dessa aula, vamos fazer uso de alguns desses métodos. Os outros métodos podem ser consultados na documentação do Python. Vamos criar a nossa tradicional classe `Pessoa` como exemplo. Veja o código abaixo:"
   ]
  },
  {
   "cell_type": "code",
   "execution_count": 1,
   "metadata": {},
   "outputs": [],
   "source": [
    "# classe Pessoa\n",
    "class Pessoa:\n",
    "    # método construtor\n",
    "    def __init__(self, nome, idade, cargo):\n",
    "        self.nome = nome\n",
    "        self.idade = idade\n",
    "        self.cargo = cargo\n",
    "\n",
    "    @property\n",
    "    def nome(self):\n",
    "        return self.__nome\n",
    "\n",
    "    @nome.setter\n",
    "    def nome(self, value):\n",
    "        self.__nome = value\n",
    "\n",
    "    @property\n",
    "    def idade(self):\n",
    "        return self.__idade\n",
    "\n",
    "    @idade.setter\n",
    "    def idade(self, value):\n",
    "        self.__idade = value\n",
    "\n",
    "    @property\n",
    "    def cargo(self):\n",
    "        return self.__cargo\n",
    "\n",
    "    @cargo.setter\n",
    "    def cargo(self, value):\n",
    "        self.__cargo = value"
   ]
  },
  {
   "cell_type": "markdown",
   "metadata": {},
   "source": [
    "Como já sabemos, o método especial `__init__` funciona como um construtor, conforme o código abaixo comprova:"
   ]
  },
  {
   "cell_type": "code",
   "execution_count": 2,
   "metadata": {},
   "outputs": [
    {
     "name": "stdout",
     "output_type": "stream",
     "text": [
      "Alex\n",
      "39\n",
      "Programador\n"
     ]
    }
   ],
   "source": [
    "if __name__ == \"__main__\":\n",
    "    # instanciando objeto da classe Pessoa\n",
    "    usuario = Pessoa(\"Alex\", 39, \"Programador\")\n",
    "\n",
    "    # saída de dados\n",
    "    print(usuario.nome)\n",
    "    print(usuario.idade)\n",
    "    print(usuario.cargo)"
   ]
  },
  {
   "cell_type": "markdown",
   "metadata": {},
   "source": [
    "### `__str__`\n",
    "\n",
    "Porém, você já experimentou tentar exibir o objeto sem especificar seus atributos? Veja:"
   ]
  },
  {
   "cell_type": "code",
   "execution_count": 3,
   "metadata": {},
   "outputs": [
    {
     "name": "stdout",
     "output_type": "stream",
     "text": [
      "<__main__.Pessoa object at 0x00000260B7BD6C60>\n"
     ]
    }
   ],
   "source": [
    "print(usuario)"
   ]
  },
  {
   "cell_type": "markdown",
   "metadata": {},
   "source": [
    "O resultado parece ininteligível, ou pelo menos técnico demais para um usuário comum. Podemos resolver isso criando uma apresentação legal para o usuário através do método `__str__`. Nas aulas anteriores, fazíamos isso criando um método comum, mas tínhamos que chamar esse método. Com o `__str__`, as coisas são facilitadas. Veja:"
   ]
  },
  {
   "cell_type": "code",
   "execution_count": 5,
   "metadata": {},
   "outputs": [],
   "source": [
    "class Pessoa:\n",
    "    def __init__(self, nome, idade, cargo):\n",
    "        self.nome = nome\n",
    "        self.idade = idade\n",
    "        self.cargo = cargo\n",
    "\n",
    "    @property\n",
    "    def nome(self):\n",
    "        return self.__nome\n",
    "\n",
    "    @nome.setter\n",
    "    def nome(self, value):\n",
    "        self.__nome = value\n",
    "\n",
    "    @property\n",
    "    def idade(self):\n",
    "        return self.__idade\n",
    "\n",
    "    @idade.setter\n",
    "    def idade(self, value):\n",
    "        self.__idade = value\n",
    "\n",
    "    @property\n",
    "    def cargo(self):\n",
    "        return self.__cargo\n",
    "\n",
    "    @cargo.setter\n",
    "    def cargo(self, value):\n",
    "        self.__cargo = value\n",
    "\n",
    "    # método para retornar representações de valores que sejam legíveis para as pessoas.\n",
    "    def __str__(self):\n",
    "        return f\"Olá, meu nome é {self.nome}, tenho {self.idade} anos e trabalho como {self.cargo}.\""
   ]
  },
  {
   "cell_type": "markdown",
   "metadata": {},
   "source": [
    "Observe como esse método é chamado no algoritmo principal:"
   ]
  },
  {
   "cell_type": "code",
   "execution_count": 6,
   "metadata": {},
   "outputs": [
    {
     "name": "stdout",
     "output_type": "stream",
     "text": [
      "Olá, meu nome é Alex, tenho 39 anos e trabalho como Programador.\n"
     ]
    }
   ],
   "source": [
    "if __name__ == \"__main__\":\n",
    "    # instanciando objeto da classe Pessoa\n",
    "    usuario = Pessoa(\"Alex\", 39, \"Programador\")\n",
    "\n",
    "    # saída de dados\n",
    "    print(usuario)"
   ]
  },
  {
   "cell_type": "markdown",
   "metadata": {},
   "source": [
    "### `__len__`\n",
    "\n",
    "O método especial `__len__` permite que um objeto possa ser usado na função `len()`. Esse método obrigatoriamente retorna um **inteiro**, e funciona para retornar um valor de um atributo do tipo inteiro como se fosse comprimento do objeto. Vamos, por exemplo, retirar a idade do método `__str__` e colocá-la no método `__len__`, e depois vamos executar os dois métodos no algoritmo principal. Veja:"
   ]
  },
  {
   "cell_type": "code",
   "execution_count": 7,
   "metadata": {},
   "outputs": [
    {
     "name": "stdout",
     "output_type": "stream",
     "text": [
      "Olá, meu nome é Alex e trabalho como Programador.\n",
      "Idade: 39 anos.\n"
     ]
    }
   ],
   "source": [
    "class Pessoa:\n",
    "    def __init__(self, nome, idade, cargo):\n",
    "        self.nome = nome\n",
    "        self.idade = idade\n",
    "        self.cargo = cargo\n",
    "\n",
    "    @property\n",
    "    def nome(self):\n",
    "        return self.__nome\n",
    "\n",
    "    @nome.setter\n",
    "    def nome(self, value):\n",
    "        self.__nome = value\n",
    "\n",
    "    @property\n",
    "    def idade(self):\n",
    "        return self.__idade\n",
    "\n",
    "    @idade.setter\n",
    "    def idade(self, value):\n",
    "        self.__idade = value\n",
    "\n",
    "    @property\n",
    "    def cargo(self):\n",
    "        return self.__cargo\n",
    "\n",
    "    @cargo.setter\n",
    "    def cargo(self, value):\n",
    "        self.__cargo = value\n",
    "\n",
    "    def __str__(self):\n",
    "        return f\"Olá, meu nome é {self.nome} e trabalho como {self.cargo}.\"\n",
    "\n",
    "    # método para usar a função len() no objeto da classe\n",
    "    def __len__(self):\n",
    "        return self.idade\n",
    "\n",
    "# algoritmo principal\n",
    "if __name__ == \"__main__\":\n",
    "    usuario = Pessoa(\"Alex\", 39, \"Programador\")\n",
    "\n",
    "    # saída de dados\n",
    "    print(usuario)\n",
    "    print(f\"Idade: {len(usuario)} anos.\")"
   ]
  },
  {
   "cell_type": "markdown",
   "metadata": {},
   "source": [
    "### `__repr__`"
   ]
  },
  {
   "cell_type": "markdown",
   "metadata": {},
   "source": [
    "O método `__repr__` também retorna uma representação de string, mais técnica e em geral usando uma expressão completa que pode ser usada para reconstruir o objeto. Ele é acionado pela função `repr(objeto)`. Veja o código abaixo:"
   ]
  },
  {
   "cell_type": "code",
   "execution_count": 8,
   "metadata": {},
   "outputs": [
    {
     "name": "stdout",
     "output_type": "stream",
     "text": [
      "Olá, meu nome é Alex e trabalho como Programador.\n",
      "Idade: 39 anos.\n",
      "Construtor da classe Pessoa: Pessoa(Alex, 39, Programador).\n"
     ]
    }
   ],
   "source": [
    "class Pessoa:\n",
    "    def __init__(self, nome, idade, cargo):\n",
    "        self.nome = nome\n",
    "        self.idade = idade\n",
    "        self.cargo = cargo\n",
    "\n",
    "    @property\n",
    "    def nome(self):\n",
    "        return self.__nome\n",
    "\n",
    "    @nome.setter\n",
    "    def nome(self, value):\n",
    "        self.__nome = value\n",
    "\n",
    "    @property\n",
    "    def idade(self):\n",
    "        return self.__idade\n",
    "\n",
    "    @idade.setter\n",
    "    def idade(self, value):\n",
    "        self.__idade = value\n",
    "\n",
    "    @property\n",
    "    def cargo(self):\n",
    "        return self.__cargo\n",
    "\n",
    "    @cargo.setter\n",
    "    def cargo(self, value):\n",
    "        self.__cargo = value\n",
    "\n",
    "    def __str__(self):\n",
    "        return f\"Olá, meu nome é {self.nome} e trabalho como {self.cargo}.\"\n",
    "\n",
    "    def __len__(self):\n",
    "        return self.idade\n",
    "\n",
    "    # método repr, que pode ser usado para reconstruir o objeto\n",
    "    def __repr__(self):\n",
    "        return f\"Pessoa({self.nome}, {self.idade}, {self.cargo})\"\n",
    "\n",
    "# algoritmo principal\n",
    "if __name__ == \"__main__\":\n",
    "    # instancia do objeto\n",
    "    usuario = Pessoa(\"Alex\", 39, \"Programador\")\n",
    "\n",
    "    # saída de dados\n",
    "    print(usuario)\n",
    "    print(f\"Idade: {len(usuario)} anos.\")\n",
    "    print(f\"Construtor da classe Pessoa: {repr(usuario)}.\")"
   ]
  },
  {
   "cell_type": "markdown",
   "metadata": {},
   "source": [
    "### `__del__`\n",
    "\n",
    "O `__del__` é exatamente o contrário do método `__init__`, ou seja, é um **destrutor**. Ele é utilizado para destruir um objeto quando o mesmo não possui mais representação dentro do programa. A questão é que o próprio Python decide quando ou mesmo se deve destruir o objeto, o que significa que um programa pode ser encerrado sem o objeto ter sido efetivamente destruído. Na verdade, o Python trabalha com um recurso chamado ***Garbage Collector***. Trata-se de um mecanismo automático que gerencia a memória do programa, identificando e removendo objetos que não estão mais sendo usados. Para programar um destrutor, basta seguir o código abaixo:"
   ]
  },
  {
   "cell_type": "code",
   "execution_count": 9,
   "metadata": {},
   "outputs": [
    {
     "name": "stdout",
     "output_type": "stream",
     "text": [
      "Olá, meu nome é Alex e trabalho como Programador.\n",
      "Idade: 39 anos.\n",
      "Construtor da classe Pessoa: Pessoa(Alex, 39, Programador).\n"
     ]
    }
   ],
   "source": [
    "class Pessoa:\n",
    "    def __init__(self, nome, idade, cargo):\n",
    "        self.nome = nome\n",
    "        self.idade = idade\n",
    "        self.cargo = cargo\n",
    "\n",
    "    @property\n",
    "    def nome(self):\n",
    "        return self.__nome\n",
    "\n",
    "    @nome.setter\n",
    "    def nome(self, value):\n",
    "        self.__nome = value\n",
    "\n",
    "    @property\n",
    "    def idade(self):\n",
    "        return self.__idade\n",
    "\n",
    "    @idade.setter\n",
    "    def idade(self, value):\n",
    "        self.__idade = value\n",
    "\n",
    "    @property\n",
    "    def cargo(self):\n",
    "        return self.__cargo\n",
    "\n",
    "    @cargo.setter\n",
    "    def cargo(self, value):\n",
    "        self.__cargo = value\n",
    "\n",
    "    def __str__(self):\n",
    "        return f\"Olá, meu nome é {self.nome} e trabalho como {self.cargo}.\"\n",
    "\n",
    "    def __len__(self):\n",
    "        return self.idade\n",
    "\n",
    "    def __repr__(self):\n",
    "        return f\"Pessoa({self.nome}, {self.idade}, {self.cargo})\"\n",
    "\n",
    "    # destrutor\n",
    "    def __del__(self):\n",
    "        print(f\"O objeto {self.nome} foi destruído com sucesso!\")\n",
    "\n",
    "# algoritmo principal\n",
    "if __name__ == \"__main__\":\n",
    "    # instancia do objeto\n",
    "    usuario = Pessoa(\"Alex\", 39, \"Programador\")\n",
    "\n",
    "    # saída de dados\n",
    "    print(usuario)\n",
    "    print(f\"Idade: {len(usuario)} anos.\")\n",
    "    print(f\"Construtor da classe Pessoa: {repr(usuario)}.\")"
   ]
  },
  {
   "cell_type": "markdown",
   "metadata": {},
   "source": [
    "Observe que o ***Garbage Collector*** do Python decidiu por conta própria não destruir o objeto. Mas isso não impede de nós destruírmos por conta própria ao final da execução do código. Basta adicionar a seguinte linha de código ao final do seu algoritmo principal:"
   ]
  },
  {
   "cell_type": "code",
   "execution_count": 10,
   "metadata": {},
   "outputs": [
    {
     "name": "stdout",
     "output_type": "stream",
     "text": [
      "O objeto Alex foi destruído com sucesso!\n"
     ]
    }
   ],
   "source": [
    "del(usuario)"
   ]
  },
  {
   "cell_type": "markdown",
   "metadata": {},
   "source": [
    "Dessa forma, o objeto será destruído sempre que o programa terminar, sem depender do ***Garbage Collector***.\n",
    "\n",
    "Há muitos outros métodos especiais, e dominá-los pode fazer a diferença no domínio do Python. Você encontra todos eles na documentação do Python. "
   ]
  },
  {
   "cell_type": "markdown",
   "metadata": {},
   "source": [
    "## **Código-fonte final**\n",
    "---"
   ]
  },
  {
   "cell_type": "code",
   "execution_count": 11,
   "metadata": {},
   "outputs": [
    {
     "name": "stdout",
     "output_type": "stream",
     "text": [
      "Olá, meu nome é Alex e trabalho como Programador.\n",
      "Idade: 39 anos.\n",
      "Construtor da classe Pessoa: Pessoa(Alex, 39, Programador).\n",
      "O objeto Alex foi destruído com sucesso!\n"
     ]
    }
   ],
   "source": [
    "class Pessoa:\n",
    "    def __init__(self, nome, idade, cargo):\n",
    "        self.nome = nome\n",
    "        self.idade = idade\n",
    "        self.cargo = cargo\n",
    "\n",
    "    @property\n",
    "    def nome(self):\n",
    "        return self.__nome\n",
    "\n",
    "    @nome.setter\n",
    "    def nome(self, value):\n",
    "        self.__nome = value\n",
    "\n",
    "    @property\n",
    "    def idade(self):\n",
    "        return self.__idade\n",
    "\n",
    "    @idade.setter\n",
    "    def idade(self, value):\n",
    "        self.__idade = value\n",
    "\n",
    "    @property\n",
    "    def cargo(self):\n",
    "        return self.__cargo\n",
    "\n",
    "    @cargo.setter\n",
    "    def cargo(self, value):\n",
    "        self.__cargo = value\n",
    "\n",
    "    def __str__(self):\n",
    "        return f\"Olá, meu nome é {self.nome} e trabalho como {self.cargo}.\"\n",
    "\n",
    "    def __len__(self):\n",
    "        return self.idade\n",
    "\n",
    "    def __repr__(self):\n",
    "        return f\"Pessoa({self.nome}, {self.idade}, {self.cargo})\"\n",
    "\n",
    "    def __del__(self):\n",
    "        print(f\"O objeto {self.nome} foi destruído com sucesso!\")\n",
    "\n",
    "if __name__ == \"__main__\":\n",
    "    usuario = Pessoa(\"Alex\", 39, \"Programador\")\n",
    "\n",
    "    print(usuario)\n",
    "    print(f\"Idade: {len(usuario)} anos.\")\n",
    "    print(f\"Construtor da classe Pessoa: {repr(usuario)}.\")\n",
    "\n",
    "    del(usuario)"
   ]
  }
 ],
 "metadata": {
  "kernelspec": {
   "display_name": ".venv",
   "language": "python",
   "name": "python3"
  },
  "language_info": {
   "codemirror_mode": {
    "name": "ipython",
    "version": 3
   },
   "file_extension": ".py",
   "mimetype": "text/x-python",
   "name": "python",
   "nbconvert_exporter": "python",
   "pygments_lexer": "ipython3",
   "version": "3.12.7"
  }
 },
 "nbformat": 4,
 "nbformat_minor": 2
}
