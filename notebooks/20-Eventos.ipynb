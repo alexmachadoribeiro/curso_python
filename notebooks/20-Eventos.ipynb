{
 "cells": [
  {
   "cell_type": "markdown",
   "metadata": {},
   "source": [
    "# **Eventos**\n",
    "---"
   ]
  },
  {
   "cell_type": "markdown",
   "metadata": {},
   "source": [
    "## Pré-requitios da aula\n",
    "\n",
    "- Funções\n",
    "- Import\n",
    "- Orientação a Objetos\n",
    "- Interface Gráfica\n",
    "- Introdução ao Flet\n",
    "- Meu primeiro Flet App\n",
    "\n",
    "---"
   ]
  },
  {
   "cell_type": "markdown",
   "metadata": {},
   "source": [
    "Nas aulas anteriores, aprendemos sobre os paradigmas da programação estruturada e da orientação a objetos. Agora, vamos aprender um terceiro paradigma, que é obrigatório para a programação no Flet: a **Programação Orientada a Eventos**."
   ]
  },
  {
   "cell_type": "markdown",
   "metadata": {},
   "source": [
    "## Programação Orientada a Eventos\n",
    "---\n",
    "\n",
    "Funciona assim: a tela do seu programa é geralmente chamada de **Front-End**. No Front-End da aplicação eventualmente acontecem determinadas ações que podem ou não ter sido influenciadas pelo usuário. Alguns exemplos de ações são: clique do mouse, clique duplo, apertar de teclas, carregamento da tela, entre outros.\n",
    "\n",
    "Essas ações são chamadas de **Eventos**. Na programação orientada a eventos, criamos funções que são ativadas quando esses eventos ocorrem no Front-End da aplicação. É o que acontece quando, por exemplo, o usuário clica em um botão e acontece algo. Esse algo é uma função que foi ativada assim que o usuário clicou no botão.\n",
    "\n",
    "É o que faremos no programa dessa aula.\n",
    "\n",
    "## Criando o programa\n",
    "---\n",
    "\n",
    "No programa dessa aula, iremos criar duas aplicações diferentes: na primeira, o usuário irá digitar um texto qualquer que irá ser inserido diretamente na página da aplicação em tempo real. No outro, o usuário irá informar seus dados em um formulário, e após clicar em um botão, a página irá exibir os dados.\n",
    "\n",
    "### App 1\n",
    "\n",
    "1. Começe criando o app flet através do comando `flet create evento_01` no terminal na pasta do projeto.\n",
    "2. Confira se a estrutura de pastas e arquivos do seu projeto confere com a imagem abaixxo:"
   ]
  },
  {
   "cell_type": "markdown",
   "metadata": {},
   "source": [
    "<div style=\"display: flex; justify-content: center\">\n",
    "    <img src=\"../assets/criando_evento_01_app.png\" alt=\"Criando app evento_01\" />\n",
    "</div>"
   ]
  },
  {
   "cell_type": "markdown",
   "metadata": {},
   "source": [
    "3. Abra o arquivo `main.py` dentro da pasta `src` e veja se o código-fonte é igual ao que está abaixo:"
   ]
  },
  {
   "cell_type": "code",
   "execution_count": null,
   "metadata": {},
   "outputs": [],
   "source": [
    "import flet as ft\n",
    "\n",
    "\n",
    "def main(page: ft.Page):\n",
    "    counter = ft.Text(\"0\", size=50, data=0)\n",
    "\n",
    "    def increment_click(e):\n",
    "        counter.data += 1\n",
    "        counter.value = str(counter.data)\n",
    "        counter.update()\n",
    "\n",
    "    page.floating_action_button = ft.FloatingActionButton(\n",
    "        icon=ft.Icons.ADD, on_click=increment_click\n",
    "    )\n",
    "    page.add(\n",
    "        ft.SafeArea(\n",
    "            ft.Container(\n",
    "                counter,\n",
    "                alignment=ft.alignment.center,\n",
    "            ),\n",
    "            expand=True,\n",
    "        )\n",
    "    )\n",
    "\n",
    "\n",
    "ft.app(main)\n"
   ]
  },
  {
   "cell_type": "markdown",
   "metadata": {},
   "source": [
    "4. Altere o código-fonte original para o código abaixo:"
   ]
  },
  {
   "cell_type": "code",
   "execution_count": null,
   "metadata": {},
   "outputs": [],
   "source": [
    "import flet as ft\n",
    "\n",
    "\n",
    "def main(page: ft.Page):\n",
    "    # propriedades da página\n",
    "    page.title = \"App Evento 01\"\n",
    "    page.scroll = \"adaptive\"\n",
    "\n",
    "    page.add(ft.SafeArea(ft.Text(\"App Evento 01\", size=30, weight=\"bold\")))\n",
    "\n",
    "\n",
    "ft.app(main)\n"
   ]
  },
  {
   "cell_type": "markdown",
   "metadata": {},
   "source": [
    "5. Agora vamos adicionar um novo elemento: o `ft.TextField()`, que será o responsável pela entrada de dados. Esse novo elemento será atribuído a uma variável que deverá ser inicializada antes de `page.add()`. O valor que o usuário inserir nesse controle será enviado para outro `ft.Text()`, que também será associado a outra variável. Ainda dentro do `ft.TextFiel()`, vamos acrescentar o `label` que servirá de legenda para o campo. As variáveis deverão ser inseridas dentro do `page.add()`. Veja:"
   ]
  },
  {
   "cell_type": "code",
   "execution_count": null,
   "metadata": {},
   "outputs": [],
   "source": [
    "import flet as ft\n",
    "\n",
    "\n",
    "def main(page: ft.Page):\n",
    "    # propriedades da página\n",
    "    page.title = \"App Evento 01\"\n",
    "    page.scroll = \"adaptive\"\n",
    "\n",
    "    # variáveis\n",
    "    texto = ft.TextField(label=\"Insira aqui seu texto\")\n",
    "    saida = ft.Text()\n",
    "\n",
    "    page.add(\n",
    "        ft.SafeArea(ft.Text(\"App Evento 01\", size=30, weight=\"bold\")),\n",
    "        texto,\n",
    "        saida\n",
    "    )\n",
    "\n",
    "\n",
    "ft.app(main)\n"
   ]
  },
  {
   "cell_type": "markdown",
   "metadata": {},
   "source": [
    "6. Ao executar o código, você terá uma tela semelhante à imagem logo abaixo:"
   ]
  },
  {
   "cell_type": "markdown",
   "metadata": {},
   "source": [
    "<div style=\"display: flex; justify-content: center\">\n",
    "    <img src=\"../assets/app-evento_01-janela-01.png\" alt=\"App evento_01\" />\n",
    "</div>"
   ]
  },
  {
   "cell_type": "markdown",
   "metadata": {},
   "source": [
    "7. Ao clicar dentro da caixa de texto, é possível digitar o que desejar, mas a tela ainda não sofrerá alterações, pois ainda não programamos nada:"
   ]
  },
  {
   "cell_type": "markdown",
   "metadata": {},
   "source": [
    "<div style=\"display: flex; justify-content: center\">\n",
    "    <img src=\"../assets/app-evento_01-janela-02.png\" alt=\"App evento_01\" />\n",
    "</div>"
   ]
  },
  {
   "cell_type": "markdown",
   "metadata": {},
   "source": [
    "8. A ideia é que, ao digitar, o conteúdo da variável `saida` seja alterado em tempo real. É aí onde entram os tais eventos. Vamos criar uma função que será executada ao acionar um evento chamado `on_change` em cima da caixa de texto. Para isso, deveremos chamar o evento `on_change` dentro de `ft.TextField()` e pedir para ele executar uma função que ainda iremos programar, chamada `mudar_conteudo`. Veja:"
   ]
  },
  {
   "cell_type": "code",
   "execution_count": null,
   "metadata": {},
   "outputs": [],
   "source": [
    "import flet as ft\n",
    "\n",
    "\n",
    "def main(page: ft.Page):\n",
    "    # propriedades da página\n",
    "    page.title = \"App Evento 01\"\n",
    "    page.scroll = \"adaptive\"\n",
    "\n",
    "    # variáveis\n",
    "    texto = ft.TextField(label=\"Insira aqui seu texto\", on_change=mudar_conteudo)\n",
    "    saida = ft.Text()\n",
    "\n",
    "    page.add(\n",
    "        ft.SafeArea(ft.Text(\"App Evento 01\", size=30, weight=\"bold\")),\n",
    "        texto,\n",
    "        saida\n",
    "    )\n",
    "\n",
    "\n",
    "ft.app(main)\n"
   ]
  },
  {
   "cell_type": "markdown",
   "metadata": {},
   "source": [
    "9. Esse código ainda não poderá ser executado, pois a função `mudar_conteudo` ainda não existe, e o código retornará um erro. Portanto, nosso próximo passo é criar essa função.\n",
    "10. A função receberá um parâmetro chamado `e`, que diz para a função que ela deverá ser executada sempre que ocorrer o evento.\n",
    "11. Na função, precisaremos pegar o valor do TextField e repassar para o valor da variável saída, através do código `saida.value = texto.value`, e depois iremos pedir para que o app atualize o conteúdo de saída através do comando `saida.update()`.\n",
    "12. A função deverá ser construída dentro da função `main` e antes das propriedades da página. Observe:"
   ]
  },
  {
   "cell_type": "code",
   "execution_count": null,
   "metadata": {},
   "outputs": [],
   "source": [
    "import flet as ft\n",
    "\n",
    "\n",
    "def main(page: ft.Page):\n",
    "    # função do evento\n",
    "    def mudar_conteudo(e):\n",
    "        saida.value = texto.value\n",
    "        saida.update()\n",
    "\n",
    "    # propriedades da página\n",
    "    page.title = \"App Evento 01\"\n",
    "    page.scroll = \"adaptive\"\n",
    "\n",
    "    # variáveis\n",
    "    texto = ft.TextField(label=\"Insira aqui seu texto\", on_change=mudar_conteudo)\n",
    "    saida = ft.Text()\n",
    "\n",
    "    page.add(\n",
    "        ft.SafeArea(ft.Text(\"App Evento 01\", size=30, weight=\"bold\")),\n",
    "        texto,\n",
    "        saida\n",
    "    )\n",
    "\n",
    "\n",
    "ft.app(main)\n"
   ]
  },
  {
   "cell_type": "markdown",
   "metadata": {},
   "source": [
    "13. Ao executar o código-fonte, digite qualquer texto dentro da caixa de texto, e veja que o conteúdo muda dinamicamente:"
   ]
  },
  {
   "cell_type": "markdown",
   "metadata": {},
   "source": [
    "<div style=\"display: flex; justify-content: center\">\n",
    "    <img src=\"../assets/app-evento_01-janela-03png.png\" alt=\"App evento_01\" />\n",
    "</div>"
   ]
  },
  {
   "cell_type": "markdown",
   "metadata": {},
   "source": [
    "14. Execute o seu programa nas diferentes plataformas. Se tudo tiver dado certo, vamos para o App 2."
   ]
  },
  {
   "cell_type": "markdown",
   "metadata": {},
   "source": [
    "### App 2\n",
    "\n",
    "1. Repita os mesmos passos de 1 ao 4 do App 1 que acabamos de fazer, mantendo apenas o cuidado de colocar outro nome no seu projeto. Sugestão: \"**Evento_02**\".\n",
    "2. Acrescente as propriedades da página, assim como fizemos no App 1:"
   ]
  },
  {
   "cell_type": "code",
   "execution_count": null,
   "metadata": {},
   "outputs": [],
   "source": [
    "import flet as ft\n",
    "\n",
    "\n",
    "def main(page: ft.Page):\n",
    "    # propriedades da página\n",
    "    page.title = \"App Evento 02\"\n",
    "    page.scroll = \"adaptive\"\n",
    "\n",
    "    page.add(\n",
    "        ft.SafeArea(ft.Text(\"App Evento 02\", size=30, weight=\"bold\"))\n",
    "    )\n",
    "\n",
    "\n",
    "ft.app(main)\n"
   ]
  },
  {
   "cell_type": "markdown",
   "metadata": {},
   "source": [
    "3. Antes de inserirmos os controles que utilizaremos, vamos criar nosso app usando os conceitos que aprendemos de orientação a objetos para cadastrar um novo usuário. Nossa classe terá os atributos **nome**, **cargo** e **e-mail**. Vamos importar `dataclasses` para simplificar nosso código:"
   ]
  },
  {
   "cell_type": "code",
   "execution_count": null,
   "metadata": {},
   "outputs": [],
   "source": [
    "import flet as ft\n",
    "from dataclasses import dataclass\n",
    "\n",
    "# classe Pessoa\n",
    "@dataclass\n",
    "class Pessoa:\n",
    "    nome: str\n",
    "    cargo: str\n",
    "    email: str\n",
    "\n",
    "def main(page: ft.Page):\n",
    "    # propriedades da página\n",
    "    page.title = \"App Evento 02\"\n",
    "    page.scroll = \"adaptive\"\n",
    "\n",
    "    page.add(\n",
    "        ft.SafeArea(ft.Text(\"App Evento 02\", size=30, weight=\"bold\"))\n",
    "    )\n",
    "\n",
    "\n",
    "ft.app(main)\n"
   ]
  },
  {
   "cell_type": "markdown",
   "metadata": {},
   "source": [
    "4. Agora, vamos chamar os atributos da classe e setar as caixas de textos correspondentes. Depois vamos adicionar as variáveis em `page.add()`. Não esqueça de instanciar o objeto dentro do método `main`.\n",
    "5. Depois, vamos criar um botão através do comando `ft.ElevatedButton()`, que por sua vez será associado à uma variável. Veja:"
   ]
  },
  {
   "cell_type": "code",
   "execution_count": null,
   "metadata": {},
   "outputs": [],
   "source": [
    "import flet as ft\n",
    "from dataclasses import dataclass\n",
    "\n",
    "# classe Pessoa\n",
    "@dataclass\n",
    "class Pessoa:\n",
    "    nome: str\n",
    "    cargo: str\n",
    "    email: str\n",
    "\n",
    "def main(page: ft.Page):\n",
    "    # instancia objeto\n",
    "    usuario = Pessoa(nome=\"\", cargo=\"\", email=\"\")\n",
    "\n",
    "    # propriedades da página\n",
    "    page.title = \"App Evento 02\"\n",
    "    page.scroll = \"adaptive\"\n",
    "\n",
    "    # seta os valores informados pelo usuário\n",
    "    usuario.nome = ft.TextField(label=\"Nome\")\n",
    "    usuario.cargo = ft.TextField(label=\"Cargo\")\n",
    "    usuario.email = ft.TextField(label=\"E-mail\")\n",
    "\n",
    "    # botão\n",
    "    botao = ft.ElevatedButton(\"Cadastrar\")\n",
    "\n",
    "    page.add(\n",
    "        ft.SafeArea(ft.Text(\"App Evento 02\", size=30, weight=\"bold\")),\n",
    "        usuario.nome,\n",
    "        usuario.cargo,\n",
    "        usuario.email,\n",
    "        botao\n",
    "    )\n",
    "\n",
    "\n",
    "ft.app(main)"
   ]
  },
  {
   "cell_type": "markdown",
   "metadata": {},
   "source": [
    "6. Ao executar o código, temos a tela abaixo:"
   ]
  },
  {
   "cell_type": "markdown",
   "metadata": {},
   "source": [
    "<div style=\"display: flex; justify-content: center\">\n",
    "    <img src=\"../assets/app-evento_02-janela-01.png\" alt=\"Evento 02\" />\n",
    "</div>"
   ]
  },
  {
   "cell_type": "markdown",
   "metadata": {},
   "source": [
    "7. Embora seja possível inserir textos nas caixas de textos, o programa ainda não funciona, pois não programamos o evento que irá mostrar na tela as informações do usuário. Mas antes de fazermos isso, vamos criar os elementos que receberão os dados inseridos pelo usuário. Vamos adicionar as variáveis **msg**, **nome**, **cargo** e **email**, atribuí-los aos controles `ft.Text()` que ficarão vazias, e adicioná-las ao `page.add()`, conforme código abaixo:"
   ]
  },
  {
   "cell_type": "code",
   "execution_count": null,
   "metadata": {},
   "outputs": [],
   "source": [
    "import flet as ft\n",
    "from dataclasses import dataclass\n",
    "\n",
    "# classe Pessoa\n",
    "@dataclass\n",
    "class Pessoa:\n",
    "    nome: str\n",
    "    cargo: str\n",
    "    email: str\n",
    "\n",
    "def main(page: ft.Page):\n",
    "    # instancia objeto\n",
    "    usuario = Pessoa(nome=\"\", cargo=\"\", email=\"\")\n",
    "\n",
    "    # propriedades da página\n",
    "    page.title = \"App Evento 02\"\n",
    "    page.scroll = \"adaptive\"\n",
    "\n",
    "    # seta os valores informados pelo usuário\n",
    "    usuario.nome = ft.TextField(label=\"Nome\")\n",
    "    usuario.cargo = ft.TextField(label=\"Cargo\")\n",
    "    usuario.email = ft.TextField(label=\"E-mail\")\n",
    "\n",
    "    # botão\n",
    "    botao = ft.ElevatedButton(\"Cadastrar\")\n",
    "\n",
    "    # saída de dados\n",
    "    msg = ft.Text(weight=\"bold\")\n",
    "    nome = ft.Text()\n",
    "    cargo = ft.Text()\n",
    "    email = ft.Text()\n",
    "\n",
    "    page.add(\n",
    "        ft.SafeArea(ft.Text(\"App Evento 02\", size=30, weight=\"bold\")),\n",
    "        usuario.nome,\n",
    "        usuario.cargo,\n",
    "        usuario.email,\n",
    "        botao,\n",
    "        msg,\n",
    "        nome,\n",
    "        cargo,\n",
    "        email\n",
    "    )\n",
    "\n",
    "\n",
    "ft.app(main)"
   ]
  },
  {
   "cell_type": "markdown",
   "metadata": {},
   "source": [
    "8. Agora vamos programar a nossa função do evento, que irá se chamar \"**mostrar_dados**\". Após terminar a função, chamaremos ela no evento `on_click` que será inserido no botão. Veja:"
   ]
  },
  {
   "cell_type": "code",
   "execution_count": null,
   "metadata": {},
   "outputs": [],
   "source": [
    "import flet as ft\n",
    "from dataclasses import dataclass\n",
    "\n",
    "# classe Pessoa\n",
    "@dataclass\n",
    "class Pessoa:\n",
    "    nome: str\n",
    "    cargo: str\n",
    "    email: str\n",
    "\n",
    "def main(page: ft.Page):\n",
    "    # função do evento do botão\n",
    "    def mostrar_dados(e):\n",
    "        msg.value = \"\\nSegue os dados do usuário:\\n\"\n",
    "        nome.value = f\"Nome: {usuario.nome.value}.\"\n",
    "        cargo.value = f\"Cargo: {usuario.cargo.value}.\"\n",
    "        email.value = f\"E-mail: {usuario.email.value}.\"\n",
    "\n",
    "        page.update()\n",
    "\n",
    "    # instancia objeto\n",
    "    usuario = Pessoa(nome=\"\", cargo=\"\", email=\"\")\n",
    "\n",
    "    # propriedades da página\n",
    "    page.title = \"App Evento 02\"\n",
    "    page.scroll = \"adaptive\"\n",
    "\n",
    "    # seta os valores informados pelo usuário\n",
    "    usuario.nome = ft.TextField(label=\"Nome\")\n",
    "    usuario.cargo = ft.TextField(label=\"Cargo\")\n",
    "    usuario.email = ft.TextField(label=\"E-mail\")\n",
    "\n",
    "    # botão\n",
    "    botao = ft.ElevatedButton(\"Cadastrar\", on_click=mostrar_dados)\n",
    "\n",
    "    # saída de dados\n",
    "    msg = ft.Text(weight=\"bold\")\n",
    "    nome = ft.Text()\n",
    "    cargo = ft.Text()\n",
    "    email = ft.Text()\n",
    "\n",
    "    page.add(\n",
    "        ft.SafeArea(ft.Text(\"App Evento 02\", size=30, weight=\"bold\")),\n",
    "        usuario.nome,\n",
    "        usuario.cargo,\n",
    "        usuario.email,\n",
    "        botao,\n",
    "        msg,\n",
    "        nome,\n",
    "        cargo,\n",
    "        email\n",
    "    )\n",
    "\n",
    "\n",
    "ft.app(main)"
   ]
  },
  {
   "cell_type": "markdown",
   "metadata": {},
   "source": [
    "9. O resultado desse programa é esse:"
   ]
  },
  {
   "cell_type": "markdown",
   "metadata": {},
   "source": [
    "<div style=\"display: flex; justify-content: center\">\n",
    "    <img src=\"../assets/app-evento_02-janela-02.png\" alt=\"Evento 02\" />\n",
    "</div>"
   ]
  },
  {
   "cell_type": "markdown",
   "metadata": {},
   "source": [
    "10. Ainda podemos melhorar esse programa um pouquinho. A função só é executada quando o evento `on_click` no botão é acionado. Podemos acionar essa mesma função quando o usuário apertar o botão \"Enter\" no teclado ao final do formulário. Para isso, basta adicionar o evento `on_submit` no último `ft.TextField()`, que corresponde ao email:"
   ]
  },
  {
   "cell_type": "code",
   "execution_count": null,
   "metadata": {},
   "outputs": [],
   "source": [
    "import flet as ft\n",
    "from dataclasses import dataclass\n",
    "\n",
    "# classe Pessoa\n",
    "@dataclass\n",
    "class Pessoa:\n",
    "    nome: str\n",
    "    cargo: str\n",
    "    email: str\n",
    "\n",
    "def main(page: ft.Page):\n",
    "    # função do evento do botão\n",
    "    def mostrar_dados(e):\n",
    "        msg.value = \"\\nSegue os dados do usuário:\\n\"\n",
    "        nome.value = f\"Nome: {usuario.nome.value}.\"\n",
    "        cargo.value = f\"Cargo: {usuario.cargo.value}.\"\n",
    "        email.value = f\"E-mail: {usuario.email.value}.\"\n",
    "\n",
    "        page.update()\n",
    "\n",
    "    # instancia objeto\n",
    "    usuario = Pessoa(nome=\"\", cargo=\"\", email=\"\")\n",
    "\n",
    "    # propriedades da página\n",
    "    page.title = \"App Evento 02\"\n",
    "    page.scroll = \"adaptive\"\n",
    "\n",
    "    # seta os valores informados pelo usuário\n",
    "    usuario.nome = ft.TextField(label=\"Nome\")\n",
    "    usuario.cargo = ft.TextField(label=\"Cargo\")\n",
    "    usuario.email = ft.TextField(label=\"E-mail\", on_submit=mostrar_dados)\n",
    "\n",
    "    # botão\n",
    "    botao = ft.ElevatedButton(\"Cadastrar\", on_click=mostrar_dados)\n",
    "\n",
    "    # saída de dados\n",
    "    msg = ft.Text(weight=\"bold\")\n",
    "    nome = ft.Text()\n",
    "    cargo = ft.Text()\n",
    "    email = ft.Text()\n",
    "\n",
    "    page.add(\n",
    "        ft.SafeArea(ft.Text(\"App Evento 02\", size=30, weight=\"bold\")),\n",
    "        usuario.nome,\n",
    "        usuario.cargo,\n",
    "        usuario.email,\n",
    "        botao,\n",
    "        msg,\n",
    "        nome,\n",
    "        cargo,\n",
    "        email\n",
    "    )\n",
    "\n",
    "\n",
    "ft.app(main)"
   ]
  },
  {
   "cell_type": "markdown",
   "metadata": {},
   "source": [
    "11. O resultado final é o mesmo, mas experimente apertar \"**Enter**\" ao final do formulário."
   ]
  }
 ],
 "metadata": {
  "kernelspec": {
   "display_name": ".venv",
   "language": "python",
   "name": "python3"
  },
  "language_info": {
   "name": "python",
   "version": "3.12.5"
  }
 },
 "nbformat": 4,
 "nbformat_minor": 2
}
