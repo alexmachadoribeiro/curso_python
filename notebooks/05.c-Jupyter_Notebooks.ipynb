{
 "cells": [
  {
   "cell_type": "markdown",
   "metadata": {},
   "source": [
    "# **Jupyter Notebooks**\n",
    "---\n",
    "\n",
    "## Pré-requisitos da aula\n",
    "\n",
    "- Configurando o ambiente de desenvolvimento Python\n",
    "- Sintaxe da Linguagem Python\n",
    "- IDEs\n",
    "\n",
    "---"
   ]
  },
  {
   "cell_type": "markdown",
   "metadata": {},
   "source": [
    "Como é sabido a essa altura do campeonato, os dados são atualmente o artefato mais valioso do mundo, sendo considerado o \"novo ouro\", superando valores do próprio ouro e também do petróleo. Um dos motivos principais do Python ser a linguagem número 1 do mundo atualmente é a sua facilidade em minerar dados de diversas fontes, como sites, bancos de dados e arquivos **.csv**. Esse é um tipo de tarefa muito requisitado por instituições financeiras, como bancos, por exemplo, e é um dos pré-requisitos para a criação de sistemas de IA (inteligência artificial).\n",
    "\n",
    "A partir daqui, iremos utilizar dois recursos muito utilizados para esse fim:\n",
    "\n",
    "- Jupyter Notebooks\n",
    "- Pandas"
   ]
  },
  {
   "cell_type": "markdown",
   "metadata": {},
   "source": [
    "## Notebooks - Jupyter Notebook, Jupyter Lab e Google Colaboratory\n",
    "---"
   ]
  },
  {
   "cell_type": "markdown",
   "metadata": {},
   "source": [
    "### O que são os notebooks?\n",
    "\n",
    "Os ***notebooks*** em análise de dados não são computadores do tipo _laptop_, mas sim verdadeiros \"cadernos de anotações digitais\", onde é possível inserir textos normais, _hypertextos_ (HTML) e códigos-fonte. Por padrão os notebooks aceitam códigos de 3 linguagens de programação: Julia, R e Python. É claro que em nossas aulas, utilizaremos o Python, mas há a possibilidade de usar códigos de outras linguagens de programação nos notebooks também, como o JavaScript ou o C++, por exemplo, graças a algumas extensões. A grande vantagem de se trabalhar com os notebooks é a possibilidade não só de digitar códigos-fonte em Python, mas também de executá-los dentro dos notebooks. Sabe esse arquivo do qual você está lendo esse texto? Ele é um notebook, assim como os arquivos das aulas anteriores, e é por isso que é possível executar todos os códigos que se encontram nas aulas.\n",
    "\n",
    "A extensão de um arquivo notebook é **.ipynb**, e podem ser lidos, criados, editados e executados por 3 programas que iremos listar logo mais abaixo. É possível visualizar esse tipo de arquivo diretamente do _GitHub_, mas não é possível executar os códigos diretamente de lá. Esses arquivos conseguem executar _tags_ de linguagens de marcação, como o HTML, tornando possível modificar os notebooks como se fossem páginas da Internet (é possível inclusive inserir formulários HTML dentro dos notebooks). Também é possível converter os notebooks para HTML e PDF, mas em ambos os casos ele não irá mais executar os códigos em Python, e no caso do PDF, ele também não irá executar os códigos html caso eles tenham sido utilizados para criar formulários.\n",
    "\n",
    "### O que é Jupyter Notebook?\n",
    "\n",
    "É uma aplicação web de código aberto cuja função é criar, abrir, visualizar e editar os _notebooks_. Ele funciona praticamente como uma IDE voltada para ciência mineração e análise de dados, assim como inteligência artificial. Apesar da aplicação ser web (abre diretamente do navegador padrão da máquina do usuário), ele roda localmente, ou seja, não há a necessidade de Internet para rodar o software (mas há a neccessidade de instalação).\n",
    "\n",
    "#### Há 3 formas de usar o Jupyter Notebook:\n",
    "\n",
    "- Através do ***Anaconda Navigator***: o pacote de aplicações voltadas para ciência de dados, que instala, entre outros programas, o Python e o Jupyter Notebook. Ao executar o Jupyter Notebook, ele irá abrir no navegador padrão.\n",
    "- Através do **CLI**: escolher uma pasta onde irá rodar o Jupyter Notebook, abrir o terminal nessa pasta, e executar o comando `pip install notebook` (ele irá instalar o Jupyter especificamente em uma pasta). Para abrir o Jupyter Notebook, basta abrir novamente o terminal e executar o comando `jupyter notebook`, e o programa irá abrir no navegador padrão da máquina do usuário.\n",
    "- Através do ***Visual Studio Code***: abrir o painel de extensões do _VSCode_, procurar pela extensão **Jupyter** e instalar. Isso fará com que os notebooks rodem diretamente do VSCode, sem a necessidade de abrir o Jupyter Notebook no navegador.\n",
    "\n",
    "### O que é Jupyter Lab?\n",
    "\n",
    "Assim como o **Jupyter Notebook**, o **Jupyter Lab** também é uma ferramenta utilizada para trabalhar com os _notebooks_. Porém, ela é mais completa e refinada, que reúne em uma aplicação o melhor dos _notebooks_ e das _IDEs_ tradicionais, chegando a ser mais recomendado a utilização dele em vez do Jupyter Notebook.\n",
    "\n",
    "#### Há 2 formas de usar o Jupyter Lab:\n",
    "\n",
    "- Através do ***Anaconda Navigator***: assim como o Jupyter Notebook, o ***Jupyter Lab*** também vem dentro do pacote do Anaconda, e assim como o Jupyter Notebook, ao executá-lo, ele também irá abrir no navegador padrão da máquina do usuário.\n",
    "- Através do **CLI**: é possível instalar e usar o Jupyter Lab também através do CLI. Basta abrir o terminal do Sistema Operacional na pasta desejada, e digitar o comando `pip install jupyterlab` para instalar, e após o término da instalação, executar no terminal o comando `jupyter lab` para abrir a aplicação, que também será aberta no navegador padrão do usuário.\n",
    "\n",
    "### O que é o Google Colaboratory?\n",
    "\n",
    "Também conhecido como **Google Colab**, é o concorrente do Jupyter Notebook/Lab criado pela Google. Funciona de forma quase idêntica ao Jupyter Notebook, com a diferença de que ele não roda localmente, mas sim na nuvem. Se por um lado isso facilita a colaboração entre os cientistas/desenvolvedores em um mesmo arquivo, por outro exige acesso constante à Internet. É necessário uma conta Google para o uso. Como era de se esperar, não há a necessidade de instalação, bastando apenas acessar o seguinte endereço logado em sua conta do Google: https://colab.research.google.com/. É possível também instalar uma extensão no seu Google Apps para que apareça a opção de criar um notebook diretamente da sua conta do Google Drive.\n",
    "\n",
    "### Qual usar?\n",
    "\n",
    "A resposta simples é: tanto faz. Vai do gosto do freguês. Você usa o que se sentir mais à vontade para usar. O professor Alex se sente mais à vontade de usar a extensão **Jupyter** para o **VSCode**, pois assim é possível abrir localmente e diretamente no editor de código, sem necessidade de abrir o navegador para trabalhar com os notebooks, facilitando e agilizando o trabalho.\n",
    "\n",
    "### Como criar os notebooks?\n",
    "\n",
    "Os notebooks são basicamente arquivos com a extensão **.ipynb**. Portanto, basta criar um arquivo com essa extensão que ele já será reconhecido como um notebook pelo Jupyter, VSCode ou Colab. Veja as formas de se criar um .ipynb:\n",
    "\n",
    "- **Criando um novo arquivo .ipynb manualmente:** qualquer forma de se criar qualquer tipo de arquivo pode ser feita para criar um ipynb. No VSCode, você pode simplesmente criar um novo arquivo no Explorador e digitar no final do nome do arquivo **.ipynb**. Exemplo: aula_15.ipynb.\n",
    "- **Pelo Jupyter Notebook:** você pode abrir a aplicação **Jupyter Notebook** e ir em **File -> New -> Notebook**. Veja imagem abaixo:"
   ]
  },
  {
   "cell_type": "markdown",
   "metadata": {},
   "source": [
    "<div style=\"display: flex; justify-content: center\">\n",
    "    <img src=\"../assets/jupyter-notebook-new-notebook.png\" alt=\"Novo notebook pelo jupyter notebooks\" />\n",
    "</div>"
   ]
  },
  {
   "cell_type": "markdown",
   "metadata": {},
   "source": [
    "- **Pelo Jupyter Lab:** você também pode usar o **Jupyter Lab**. O procedimento é o mesmo do Jupyter Notebook: **File -> New -> Notebook**. Veja abaixo:"
   ]
  },
  {
   "cell_type": "markdown",
   "metadata": {},
   "source": [
    "<div style=\"display: flex; justify-content: center\">\n",
    "    <img src=\"../assets/jupyter-lab-new-notebook.png\" alt=\"Novo notebook pelo Jupyter Lab\" />\n",
    "</div>"
   ]
  },
  {
   "cell_type": "markdown",
   "metadata": {},
   "source": [
    "- **Pelo Google Colab**: logado em sua conta do Google, acesse https://colab.research.google.com/, e na tela que surgir, clique no botão azul **+ Novo notebook**:"
   ]
  },
  {
   "cell_type": "markdown",
   "metadata": {},
   "source": [
    "<div style=\"display: flex; justify-content: center\">\n",
    "    <img src=\"../assets/colab.png\" alt=\"Google Colaboratory\" />\n",
    "</div>"
   ]
  },
  {
   "cell_type": "markdown",
   "metadata": {},
   "source": [
    "- Caso clique em Cancelar por acidente, você pode clicar em **Arquivo -> Novo notebook**:"
   ]
  },
  {
   "cell_type": "markdown",
   "metadata": {},
   "source": [
    "<div style=\"display: flex; justify-content: center\">\n",
    "    <img src=\"../assets/colab-novo-notebook.png\" alt=\"Criando novo notebook pelo Google Colab\" />\n",
    "</div>"
   ]
  },
  {
   "cell_type": "markdown",
   "metadata": {},
   "source": [
    "### Células do notebook\n",
    "\n",
    "Um arquivo do tipo notebook é dividido em células. Cada célula contém um tipo de conteúdo, e podem ser de dois tipos: ***Markdown*** e ***Código***.\n",
    "\n",
    "#### Markdown\n",
    "\n",
    "Uma célula do tipo ***Markdown*** é uma célula que contém conteúdos do tipo texto e/ou imagens. A formatação do texto é feita usando alguns símbolos, por exemplo:\n",
    "\n",
    "- `#`: título. Os níveis dos títulos mudam de acordo com a quantidade de `#` aplicados em uma linha.\n",
    "- `-`: marcador de tópico.\n",
    "- `---`: linha divisória.\n",
    "- `_texto_`: _underscore_ aplica estilo itálico quando aplicado no início e fim do texto.\n",
    "- `**texto**`: dois asterísticos no início e no fim do texto deixam em negrito.\n",
    "- `***texto***`: três asterísticos no início e fim de um texto aplicam negrito e itálico ao mesmo tempo.\n",
    "- Acento de crase no início e fim do texto: indicam um texto que simboliza um código-fonte.\n",
    "\n",
    "As células _markdown_ também aceitam códigos _html_, o que permite uma estilização parecida com a das páginas web.\n",
    "\n",
    "#### Código\n",
    "\n",
    "Células do tipo _código_ são utilizadas para escrever um código-fonte a ser executado dentro do próprio notebook. Essa é uma das principais vantagens de se usar um notebook como este. A célula exibe um código-fonte identico aos dos arquivos **.py**, e são acompanhadas por um botão de executar do lado. Ao clicar no botão, o código-fonte é executado diretamente da célula, exibindo a saída de dados logo abaixo, o que é excelente para a exibição de relatórios de análsie de dados feita por Python.\n",
    "\n",
    "##### Um pequeno detalhe sobre as células de código do Notebook...\n",
    "\n",
    "Os códigos de um notebook são executados em sequência, e não de forma isolada em cada célula. Ou seja, o valor atribuído a uma variável em uma celula permanece o mesmo caso essa mesma variável seja chamada em outra célula. Com isso, o código não precisa ser repetido caso precise ser retomado mais para frente. Esse detalhe deverá ser levado em conta a partir do próximo notebook/aula."
   ]
  }
 ],
 "metadata": {
  "kernelspec": {
   "display_name": ".venv",
   "language": "python",
   "name": "python3"
  },
  "language_info": {
   "name": "python",
   "version": "3.12.7"
  }
 },
 "nbformat": 4,
 "nbformat_minor": 2
}
