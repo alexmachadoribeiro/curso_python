{
 "cells": [
  {
   "cell_type": "markdown",
   "metadata": {},
   "source": [
    "# **Interface Gráfica**\n",
    "---"
   ]
  },
  {
   "cell_type": "markdown",
   "metadata": {},
   "source": [
    "## Pré-requisitos da aula\n",
    "\n",
    "- Import\n",
    "- Funções\n",
    "- Orientação a Objetos\n",
    "\n",
    "---"
   ]
  },
  {
   "cell_type": "markdown",
   "metadata": {},
   "source": [
    "Até o momento do curso estávamos executando nossos programas em um terminal, ou seja, uma tela preta com textos e comandos em textos. Mas como sabemos, os programas da atualidade não são mais executados assim, ou pelo menos não para o usuário final. Quase a totalidade dos softwares hoje em dia são executados em telas que chamamos de **janelas**, e os comandos são executados através dos cliques do **mouse**. Isso é possível graças ao que chamamos de **GUI** (sigla para **Graphical User Interface**, ou em português, **Interafce Gráfica com o Usuário**). A **Interface Gráfica com o Usuário**, ou simplesmente **Interface Gráfica** consiste em um conjuntos de elementos visuais e interativos que permitem que toda a operação de entrada e saída de dados ocorra nas janelas do Sistema Operacional.\n",
    "\n",
    "A interface gráfica é utilizada em computadores, smartphones, e dispositivos com touchscreen. Ela torna a utilização dos dispositivos mais fácil, substituindo a necessidade de utilizar comandos de texto complexos. A interface gráfica usa símbolos e linguagem visual para estabelecer a comunicação com o usuário. Por exemplo, quando se toca em um ícone no celular ou se clica em um link em um site, está-se a utilizar a interface gráfica. Uma interface bem projetada e otimizada pode facilitar a experiência do usuário."
   ]
  },
  {
   "attachments": {
    "image.png": {
     "image/png": "[encoded data removed]"
    }
   },
   "cell_type": "markdown",
   "metadata": {},
   "source": [
    "![image.png](attachment:image.png)"
   ]
  },
  {
   "cell_type": "markdown",
   "metadata": {},
   "source": [
    "## História da Interface Gráfica\n",
    "---\n"
   ]
  },
  {
   "cell_type": "markdown",
   "metadata": {},
   "source": [
    "\n",
    "### Xerox\n",
    "\n",
    "A ideia de uma Interface Gráfica foi apresentada pelo engenheiro Vannevar Bush, que na época trabalhava na famosa empresa de TI **Xerox** (a pronúncia correta é Zírôx), sediada no famoso Vale do Silício, onde se concentram a sede da maioria das empresas de TI existentes no mundo. O que transformou Bush em um pioneiro da área foi a percepção de que os meios de armazenamento de informações não estavam mais comportando tantos dados. A máquina imaginada por Bush, chamada de Memex, era capaz não apenas de armazenar tanta informação, como também de relacioná-las e oferecer uma maneira fácil de procurá-las em meio a tantos dados.\n"
   ]
  },
  {
   "cell_type": "markdown",
   "metadata": {},
   "source": [
    "\n",
    "### O pai do mouse e da interface gráfica\n",
    "\n",
    "Inspirado pelo trabalho de Vannevar Bush, o engenheiro elétrico Douglas Engelbart visualizou a possibilidade de usar computadores para aumentar o intelecto humano, em vez de substituí-lo. Ele acreditava que, com informações dispostas em uma tela, o usuário poderia se organizar de maneira gráfica e pular de uma informação para outra, sempre que necessário. Como no caso do Memex, as ideias de Engelbart estavam muito à frente de sua época. Em 1962, até mesmo interfaces em modo texto, com comandos sendo executados em tempo real, eram consideradas como “de outro mundo”, já que os mainframes da época eram operados com cartões perfurados e demoravam horas ou dias para entregarem o resultado do processamento.\n",
    "\n",
    "Em 1968, depois de conseguir um financiamento para suas pesquisas, Engelbart e sua equipe demonstraram o potencial dos computadores e de alguns dispositivos de entrada. Entre os “periféricos”, estava uma caixa retangular e conectada ao computador por um cabo: era um dos primeiros modelos de mouse da história, inventado pelo próprio Engelbart e construído por um dos engenheiros da equipe. Mas o mouse foi apenas uma das muitas inovações demonstradas naquele dia, que incluíam o hipertexto, comunicação por rede e uma tela compartilhada por duas pessoas que estavam em locais diferentes, mas que podiam trabalhar em conjunto: a primeira videoconferência da história. Os softwares desenvolvidos para esse computador ainda não trabalhavam com o conceito de janelas, como nas interfaces atuais.\n"
   ]
  },
  {
   "cell_type": "markdown",
   "metadata": {},
   "source": [
    "\n",
    "### Janelas: cada um no seu quadrado\n",
    "\n",
    "Com o surgimento da Smalltalk, linguagem de programação e ambiente de desenvolvimento que possuía uma interface gráfica diferenciada, a GUI começou a ganhar aspectos mais modernos, em 1974. A grande inovação foram as janelas, que possuíam bordas e barras de títulos que permitiam a identificação e o reposicionamento delas. O conceito de ícones também surgiu na mesma época, assim como o menu de contexto. No mesmo período, também foram apresentadas as barras de rolagem, as caixas de diálogo e os botões de opções (radio buttons).\n",
    "\n",
    "As primeiras interfaces gráficas de usuário como nós concebemos atualmente foram criadas na década de 1970, pela **Xerox**, no **PARC** (**Palo Research Center**, ou em português, **Centro de Pesquisas de Palo Alto**), e foram pensadas para diversas máquinas da companhia. Em 1975, a Xerox lançou o Alto, uma máquina destinada a uso industrial. Tratava-se de uma interface semelhante à que temos hoje, entretanto, com poucos recursos e não tão bonita.\n"
   ]
  },
  {
   "cell_type": "markdown",
   "metadata": {},
   "source": [
    "\n",
    "### Apple Lisa\n",
    "\n",
    "De início, a **Xerox** não acreditava no potencial das GUI, e embora tenha chegado a lançar no mercado alguns computadores com interface gráfica, não houve marketing suficiente, e as vendas foram baixíssimas, até mesmo porque, em parte, acreditava-se na época que eram apenas brinquedo de criança, e poucos levaram a sério o invento.\n",
    "\n",
    "As coisas começaram a mudar após uma visita dos líderes da até então recente empresa **Apple Computers**, **Steve Jobs** e **Steve Wozniak**, ao PARC para conhecer a \"novíssima\" invenção da Xerox. Após essa visita, \"coincidentemente\" a Apple começou o desenvolvimento do computador projetado para ser o sucessor de sua máquina mais moderna até então - o **Apple III** - e então no ano de 1983 foi lançado o **Apple Lisa**, o primeiro computador da Apple a utilizar interface gráfica e mouse, tratados como uma grande novidade na época.\n",
    "\n",
    "Infelizmente, o alto custo do aparelho obrigou a empresa a vendê-la a preços exorbitantes, e o produto acabou sendo um grande fracasso comercial na época.\n"
   ]
  },
  {
   "cell_type": "markdown",
   "metadata": {},
   "source": [
    "\n",
    "### Apple Macintosh\n",
    "\n",
    "Steve Jobs não se deixou abalar, e aproximadamente 1 ano após o lançamento do Lisa, a Apple já estava preparada para lançar seu sucessor. Com John Scully, ex-CEO da Pepsi como novo CEO da Apple, a empresa não economizou no marketing, e contratou o famoso diretor de cinema Ridley Scott para dirigir o comercial de lançamento do novíssimo Macintosh, com direito a referência ao livro **1984**, de George Orwell. Assim como o Lisa, o Macintosh era um computador com interface gráfica e mouse, e foi um dos computadores mais famosos da empresa até hoje, tanto que muitos de seus computadores mais novos herdaram o nome **Mac**.\n"
   ]
  },
  {
   "cell_type": "markdown",
   "metadata": {},
   "source": [
    "\n",
    "### Microsoft Windows 1.0\n",
    "\n",
    "Em 1985, pouco tempo depois do lançamento do Macintosh, a Microsoft em parceria com a **International Business Machine** (mais conhecida como **IBM**) lançava o **Windows** para o computador **IBM-PC**. Ao contrário do que muita gente acredita hoje, o Windows não era, pelo menos inicialmente, um Sistema Operacional, mas sim um programa de gerenciamento do **verdadeiro** SO do IBM-PC: o **MS-DOS**, que adicionava a GUI por cima do DOS, que por sua vez funcionava através de linhas de comando. Também ao contrário do que muita gente pensa, o Windows não foi um sucesso na época, pois os comandos não respondiam tão bem quanto na linha de comando, e o produto logo foi tratado com desdém.\n",
    "\n",
    "Mas assim como o seu concorrente mais direto, o computador também tinha janelas e usava o mouse, e foi considerado uma cópia do Macintosh. Na verdade, a Apple tratou o produto como plágio, e a Microsoft acabou sendo processada pela Apple, embora a vitória tenha sido dada à Microsoft, já que foi entendido que embora fossem produtos praticamente idêntivos, o conceito de \"ideia\" não poderia ser plagiada, e portanto não teria base legal, e a única coisa que poderia ser passível de plágio seria a construção do software, ou seja, o seu código-fonte, que de fato era diferente do código-fonte do Sistema do Macintosh.\n"
   ]
  },
  {
   "cell_type": "markdown",
   "metadata": {},
   "source": [
    "\n",
    "### Microsoft Windows 3.x\n",
    "\n",
    "O Windows só passou a ser considerado um Sistema Operacional a partir de 1990, com o lançamento do Windows 3, mesmo que ele ainda precisasse do DOS para poder rodar. Foi também a partir do Windows 3 que o software passou a ser considerado um sucesso, e mesmo assim, isso aconteceu após a empresa lançar alguns patches.\n",
    "\n",
    "O sistema foi tão famoso que continuou sendo utilizado durante muitos anos, mesmo após o lançamento de novos Windows. Na verdade, o sistema deixou de ter o suporte em 2001, quando já existia o famosíssimo Windows XP, mas até 2006, quando o Windows Vista foi lançado, ainda era comum ver máquinas equipadas com Windows 3 em postos de gasolina ao redor do Brasil.\n"
   ]
  },
  {
   "cell_type": "markdown",
   "metadata": {},
   "source": [
    "\n",
    "### Microsoft Windows 95\n",
    "\n",
    "Dois dos itens mais famosos da história das GUI são a **Barra de Tarefas** e o **Menu Iniciar**. Esses recursos surgiram com o Windows 95, e desde então fazem parte de quase todos os SO Windows lançados até hoje. Foi também no Windows 95 que a Internet passou a ser conhecida, mesmo que o acesso na época, feito através da tecnologia **Dial-Up** deixasse muitíssimo a desejar.\n"
   ]
  },
  {
   "cell_type": "markdown",
   "metadata": {},
   "source": [
    "\n",
    "### Palm, Nokia, Blackberry, e os Smartphones\n",
    "\n",
    "No início dos anos 2000, surgiram os primeiros celulares com telas coloridas, câmera integrada e com acesso à Internet através da então novíssima tecnologia **3G**, cujo acesso era feito através do tipo de rede conhecida como **WAP**, que era exclusiva para aparelhos móveis.\n",
    "\n",
    "Foi nesse cenário que surgiram os **PDAs** (**Personal Digital Assistant**) e os **Smartphones**. Na verdade, os Smartphones são muito mais antigos do que muita gente pensa, os primeiros surgiram em 1989, e eram, de fato, os telefones mais avançados do mundo, ao unirem o melhor do celular convencional com os recursos do PDA, que aqui no Brasil eram mais conhecidos como **Agênda Eletrônica**. Porém, os novos recursos saíndo para os celulares da época beneficiaram, e muito, os smartphones, principalmente depois que a Palm lançou no mercado o famoso **Palmtop**, que na época era chamado de \"**computador de bolso**\" por muitos.\n",
    "\n",
    "De fato, o Palmtop pode ser considerado um dos primeiros, se não for o primeiro dispositivo móvel com uma interface gráfica. Surfando na mesma onda, a **Research In Motion**, também conhecida como **RIM**, lançou seu aparelho mais famoso até hoje: o **Blackberry** (Blackberry era o nome da família de smartphones, e não da marca), um smartphone que conseguia ter bem mais a cara de um computador de bolso, já que uma de suas principais características era o teclado QWERTY embutido no aparelho. Além da Palm, sua principal concorrente na época era a Nokia, famosa não só por seus celulares, como pela qualidade dos seus smartphones, que eram equiparáveis às duas marcas.\n",
    "\n",
    "Todas as três marcas possuíam Sistemas Operacionais com interface gráfica, embora não fosse possível utilizar, é claro, o mouse.\n"
   ]
  },
  {
   "cell_type": "markdown",
   "metadata": {},
   "source": [
    "\n",
    "### Apple iPhone\n",
    "\n",
    "Com a popularização dos smartphones, a Apple resolveu lançar um para chamar de seu. O **iPhone** era um smartphone que conseguia usar mais ainda os mesmos recursos de um computador pessoal, como acesso à Wi-Fi e conseguia acessar às mesmas páginas de Internet que eram acessadas por um computador de mesa, além da tecnologia **Multi-touch**, que era superior ao Touch-Screen da época. Equipado com o Sistema Operacional **iOS**, ele provocou uma revolução no mercado de smartphones, e foi o responsável por tornar os telefones celulares obsoletos, assim como os smartphones das outras marcas, fazendo com que as três principais marcas de smartphones - Palm, RIM, e Nokia - desaparecessem do mercado.\n",
    "\n",
    "Não só isso. Graças à ele, surgiram uma nova geração de smartphones, e agora eles são responsáveis pela maioria dos acessos à Internet no mundo.\n"
   ]
  },
  {
   "cell_type": "markdown",
   "metadata": {},
   "source": [
    "\n",
    "### Android\n",
    "\n",
    "Mesmo assim, ele não é o principal SO móvel do mundo. Graças à popularização dos smartphones, o Sistema Operacional mais usado no mundo deixou de ser o Windows e passou a ser o Android, já que não só os dispositivos móveis supearam em número os computadores desktops, como também o Android equipa várias marcas de smartphones diferentes, como a Motrola, a Samsung e a Xiaomi."
   ]
  },
  {
   "cell_type": "markdown",
   "metadata": {},
   "source": [
    "## Exemplos de bibliotecas GUI para Python\n",
    "---"
   ]
  },
  {
   "cell_type": "markdown",
   "metadata": {},
   "source": [
    "Python é uma linguagem de programação interativa que facilita o início da programação de uma estrutura GUI, pois tem uma ampla variedade de opções para estruturas de GUI, incluindo estruturas de plataforma cruzada e estruturas específicas de plataforma."
   ]
  },
  {
   "cell_type": "markdown",
   "metadata": {},
   "source": [
    "### Tkinter\n",
    "\n",
    "É uma biblioteca de interface gráfica do usuário Python de código aberto. É bem conhecido por sua simplicidade e vem pré-instalado em Python, o que significa que não há trabalho de sua parte. Esses recursos o tornam uma ótima opção para iniciantes e intermediários, mas não é capaz de realizar projetos de grande escala. \n",
    "\n",
    "Com o Tkinter, os elementos visuais são chamados de widgets, e cada um dos widgets vem com um nível diferente de customização. Ele também oferece uma ampla variedade de elementos comumente usados ​​com os quais muitos desenvolvedores já estão familiarizados, como Frame, Buttons, Checkbuttons, Labels, File Dialogs e Canvas. \n",
    "\n",
    "Aqui estão algumas das principais vantagens do Tkinter: \n",
    "\n",
    "- Fácil de usar e rápido de implementar.\n",
    "- Flexível e estável.\n",
    "- Incluído no Python.\n",
    "- Fornece uma sintaxe simples.\n",
    "\n",
    "Exemplo de como criar uma janela com **Tkinter**:"
   ]
  },
  {
   "cell_type": "code",
   "execution_count": null,
   "metadata": {},
   "outputs": [],
   "source": [
    "# importa a bilioteca\n",
    "import tkinter as tk\n",
    "\n",
    "# cria uma janela\n",
    "janela = tk.Tk()\n",
    "janela.title(\"Minha Janela\")\n",
    "\n",
    "# adiciona widgets à janela\n",
    "label = tk.Label(janela, text=\"Olá, mundo!\")\n",
    "label.pack()\n",
    "\n",
    "# # executa o loop principal da janela\n",
    "janela.mainloop()"
   ]
  },
  {
   "cell_type": "markdown",
   "metadata": {},
   "source": [
    "### CustomTkinter\n",
    "\n",
    "O CustomTkinter é uma abordagem de personalização ou extensão da biblioteca Tkinter em Python. Personalizar o Tkinter com CustomTkinter permite criar interfaces gráficas mais complexas, aprimorar o estilo visual dos widgets (elementos da interface, como botões, caixas de texto, etc.) e até mesmo adicionar novos componentes ou funcionalidades à biblioteca padrão.\n",
    "\n",
    "Aqui estão algumas das principais vantagens do CustomTkinter:\n",
    "\n",
    "- Fácil de aprender e usar: O CustomTkinter mantém a simplicidade do Tkinter, sendo uma biblioteca relativamente simples de aprender e usar, com sintaxe clara e concisa.\n",
    "- Extensível: Permite personalização avançada e criação de widgets customizados para atender às necessidades específicas de um aplicativo.\n",
    "- Portátil: Funciona em diferentes sistemas operacionais, tornando-o uma boa escolha para aplicativos multiplataforma.\n",
    "\n",
    "Exemplo de como criar uma janela com **CustomTkinter** (necessário o `pip install customtkinter`):"
   ]
  },
  {
   "cell_type": "code",
   "execution_count": null,
   "metadata": {},
   "outputs": [],
   "source": [
    "# importa a biblioteca\n",
    "import customtkinter as ctk\n",
    "\n",
    "# define a aparência da janela\n",
    "ctk.set_appearance_mode(\"light\")\n",
    "\n",
    "# cria uma janela\n",
    "janela = ctk.CTk()\n",
    "janela.geometry(\"500x300\")\n",
    "\n",
    "# adiciona widgets à janela\n",
    "texto = ctk.CTkLabel(janela, text=\"Olá, mundo!\")\n",
    "texto.pack(padx=10, pady=10)\n",
    "\n",
    "# executa o loop principal da janela\n",
    "janela.mainloop()"
   ]
  },
  {
   "cell_type": "markdown",
   "metadata": {},
   "source": [
    "### Flet\n",
    "\n",
    "O Flet é um framework que permite a criação de aplicações para web, desktop e mobile usando a linguagem Python. Ele é uma ferramenta para o desenvolvimento de frontends em Python, que oferece uma solução completa para a construção de interfaces.\n",
    "\n",
    "O Flet permite a construção de aplicações multiusuário interativas, mesmo sem experiência prévia em desenvolvimento front-end. Ele faz isso combinando widgets menores, simplificando complexidades, implementando práticas recomendadas de UI e aplicando padrões sensatos.\n",
    "\n",
    "O Flet compila os códigos escritos em Python para Dart.\n",
    "\n",
    "Aqui estão algumas das principais vantagens do Flet:\n",
    "\n",
    "- Suporte para múltiplas plataformas: É possível criar aplicativos para Windows, Mac, Linux, Android e iOS.\n",
    "- Desenvolvimento do front-end e back-end com o mesmo código: O Flet é uma boa opção para desenvolvedores que querem usar Python para todo o processo de desenvolvimento.\n",
    "- Integração com bancos de dados: O Flet permite integrar facilmente os aplicativos aos bancos de dados.\n",
    "- Interface de usuário rica: O Flet permite criar uma interface de usuário profissional com controle baseado em mix flutter.\n",
    "\n",
    "Exemplo de como criar uma janela com **Flet** (necessário o `pip install flet`). **Obs:** não se pode executar um código **flet** em um Jupyter Notebook:"
   ]
  },
  {
   "cell_type": "code",
   "execution_count": null,
   "metadata": {},
   "outputs": [],
   "source": [
    "# importa a biblioteca\n",
    "import flet as ft\n",
    "\n",
    "# cria a janela principal\n",
    "def main(page: ft.Page):\n",
    "\n",
    "    # configuração da janela\n",
    "    page.title = \"Minha janela\"\n",
    "    page.scroll = \"adaptive\"\n",
    "    page.theme_mode = ft.ThemeMode.LIGHT\n",
    "\n",
    "    # adiciona widgets à janela\n",
    "    page.add(ft.Row([ft.Text(\"Olá, mundo!\")], alignment=ft.MainAxisAlignment.CENTER))\n",
    "\n",
    "    # atualiza a janela\n",
    "    page.update()\n",
    "\n",
    "# executa a janela\n",
    "ft.app(main)"
   ]
  },
  {
   "cell_type": "markdown",
   "metadata": {},
   "source": [
    "### PyQt5\n",
    "\n",
    "Desenvolvido pela Riverbank Computing, o PyQt5 é um dos frameworks Python mais populares para GUI. O pacote PyQt é construído em torno da estrutura Qt, que é uma estrutura de plataforma cruzada usada para criar vários aplicativos em diferentes plataformas. \n",
    "\n",
    "O PyQt5 é totalmente multiplataforma, o que significa que os desenvolvedores podem usá-lo para criar aplicativos em várias plataformas, como Mac, Windows, Linux, iOS e Android. Oferece módulos QtGUI e QtDesigner que fornecem elementos visuais que o desenvolvedor pode implementar arrastando e soltando. Você também pode optar por criar o elemento por código, o que permite desenvolver facilmente aplicativos de pequena e grande escala. \n",
    "\n",
    "Aqui estão algumas das principais vantagens do PyQt5: \n",
    "\n",
    "- Versatilidade de codificação.\n",
    "- Vários componentes da interface do usuário.\n",
    "- Vários recursos de aprendizado.\n",
    "- Ampla variedade de APIs de plataforma nativa para rede, gerenciamento de banco de dados e muito mais.\n",
    "\n",
    "Exemplo de como criar uma janela com **PyQt5** (necessário o `pip install pyqt5`):"
   ]
  },
  {
   "cell_type": "code",
   "execution_count": null,
   "metadata": {},
   "outputs": [],
   "source": [
    "# importa a biblioteca\n",
    "from PyQt5.QtWidgets import QApplication, QWidget\n",
    "\n",
    "# Necessário somente para acessar os argumetos da linha de comando.\n",
    "import sys\n",
    "\n",
    "# Você precisa de uma (e somente uma) instância do QApplication por aplicativo.\n",
    "# Passe sys.argv para permitir argumentos de linha de comando para seu aplicativo.\n",
    "# Se você sabe que não usará argumentos de linha de comando, QApplication([]) também funciona.\n",
    "app = QApplication(sys.argv)\n",
    "\n",
    "# abre os widgets\n",
    "tela = QWidget()\n",
    "\n",
    "tela.show()  # IMPORTANTE!!! As telas ficam ocultas por padrão\n",
    "\n",
    "# Iniciar o loop de eventos\n",
    "app.exec_()"
   ]
  },
  {
   "cell_type": "markdown",
   "metadata": {},
   "source": [
    "### Kivy\n",
    "\n",
    "Estrutura acelerada OpenGL ES 2, Kivy foi projetada para a criação de novas interfaces de usuário. Ele fornece suporte para uma variedade de plataformas como Windows, Mac, Linux, Android e iOS. A biblioteca de código aberto inclui mais de 20 widgets em seu kit de ferramentas. \n",
    "\n",
    "O Kivy foi escrito com uma mistura de Python e Cython e ajuda a criar algumas das interfaces de usuário mais intuitivas com aplicativos multitoque. Esses aplicativos multitoque ajudam a implementar a Natural User Interface (NUI), que é um tipo de interface onde o usuário aprende naturalmente sobre as várias interações enquanto elas geralmente estão invisíveis. \n",
    "\n",
    "O Kivy permite que os designers de interface codifiquem e implementem em várias plataformas, e o suporte integrado para OpenGL ES 2 permite gráficos e técnicas modernas. \n",
    "\n",
    "Aqui estão algumas das principais vantagens do Kivy: \n",
    "\n",
    "- Baseado em Python.\n",
    "- O código escrito uma vez pode ser usado em todos os dispositivos.\n",
    "- Widgets fáceis de usar com suporte multitoque.\n",
    "- Implantar em várias plataformas.\n",
    "\n",
    "Exemplo de como criar uma janela com **kivy** (necessário o `pip install pyqt5`):"
   ]
  },
  {
   "cell_type": "code",
   "execution_count": null,
   "metadata": {},
   "outputs": [],
   "source": [
    "from kivy.app import App\n",
    "from kivy.uix.button import Button\n",
    "\n",
    "class TestApp(App):\n",
    " def build(self):\n",
    "  return Button(text='Olá, Kivy!')\n",
    "\n",
    "TestApp().run()"
   ]
  },
  {
   "cell_type": "markdown",
   "metadata": {},
   "source": [
    "**Obs:** para economizar bibliotecas e não deixar o arquivo pesado, só irei mostrar os códigos-fonte das janelas até aqui. O restante das bibliotecas serão apenas citadas."
   ]
  },
  {
   "cell_type": "markdown",
   "metadata": {},
   "source": [
    "### wxPython\n",
    "\n",
    "Permite aos desenvolvedores Python criar interfaces de usuário nativas com nenhuma sobrecarga adicional para o aplicativo. Como as outras bibliotecas e estruturas, wxPython funciona em uma variedade de plataformas como Mac OS, Windows, Linux e sistemas baseados em Unix. \n",
    "\n",
    "wxPython inclui muitos widgets, que é seu maior ponto de venda. Ele também fica ótimo em todas as plataformas imediatamente e não requer muita alteração personalizada. Com isso dito, ele tem uma curva de aprendizado mais acentuada do que alguns dos outros frameworks, como o Tkinter. \n",
    "\n",
    "Aqui estão algumas das vantagens do wxPython: \n",
    "\n",
    "- Grande biblioteca de widgets\n",
    "- Aparência nativa\n",
    "- Altamente flexível \n",
    "- Comunidade de usuários úteis "
   ]
  },
  {
   "cell_type": "markdown",
   "metadata": {},
   "source": [
    "### PySimpleGUI\n",
    "\n",
    "Desenvolvido em 2018 para facilitar o início do desenvolvimento de GUI para iniciantes em Python. Muitas das outras estruturas exigem um trabalho mais complicado, mas o PySimpleGUI permite que você comece imediatamente sem se preocupar com as complexidades avançadas de outras bibliotecas. \n",
    "\n",
    "A estrutura depende de outras quatro estruturas de GUI: Qt, Tkinter, wxPython e Remi. Ao implementar a maior parte do código, a dificuldade deles cai drasticamente. Os iniciantes podem escolher a estrutura da GUI e ter acesso fácil aos elementos visuais que a acompanham, permitindo que criem interfaces de usuário intuitivas. \n",
    "\n",
    "Aqui estão algumas das principais vantagens do PySimpleGUI: \n",
    "\n",
    "- Fácil para iniciantes \n",
    "- Não requer complexidades avançadas de outros frameworks\n",
    "- Usa Qt, Tkinter, wxPython e Remi\n",
    "- Crie UIs com base na estrutura de GUI favorita"
   ]
  },
  {
   "cell_type": "markdown",
   "metadata": {},
   "source": [
    "### Libavg\n",
    "\n",
    "Libavg é uma estrutura GUI que depende do Python como linguagem de script. É amplamente considerada uma das melhores bibliotecas para desenvolver interfaces de usuário para dispositivos modernos baseados em toque, e sua aceleração de hardware é obtida por meio de sombreadores OpenGL e GPU. \n",
    "\n",
    "A biblioteca Python possui uma ampla gama de recursos, como suporte a câmera, suporte a animação, alinhamento de texto, efeitos de GPU e muito mais. O mecanismo avançado de layout de tela possui rotação, dimensionamento, modos de mesclagem, corte e outras técnicas de elementos visuais. \n",
    "\n",
    "O Libavg é escrito em C++, o que o ajuda a obter tempos de execução rápidos. \n",
    "\n",
    "Aqui estão algumas das principais vantagens do Libavg:\n",
    "\n",
    "- Python como linguagem de script\n",
    "- Ampla gama de recursos\n",
    "- Mecanismo avançado de layout de tela\n",
    "- Escrito em C ++"
   ]
  },
  {
   "cell_type": "markdown",
   "metadata": {},
   "source": [
    "### PyForms\n",
    "\n",
    "A estrutura GUI do PyForms é a implementação do Python do Windows Forms, que permite aos desenvolvedores criar interfaces altamente interativas para o modo GUI do Windows, modo Web e modo Terminal. \n",
    "\n",
    "A biblioteca de plataforma cruzada e de código aberto facilita para os desenvolvedores criar aplicativos para várias plataformas sem a necessidade de fazer alterações significativas no código. Ele também fornece instâncias de bibliotecas gráficas populares como PyQT e Open GL. \n",
    "\n",
    "Os PyForms podem ser divididos em três seções diferentes: PyForms-GUI, PyForms-Web e PyForms-Terminal. Cada camada permite a execução da aplicação PyForms como Windows, ou em Web ou Terminal. \n",
    "\n",
    "Aqui estão algumas das principais características do PyForms: \n",
    "\n",
    "- Interfaces altamente interativas para o modo Windows GUI, modo Web e modo Terminal\n",
    "- Open-source\n",
    "- Multi-plataforma\n",
    "- Não requer mudanças significativas no código"
   ]
  },
  {
   "cell_type": "markdown",
   "metadata": {},
   "source": [
    "### PySide2 ou QT\n",
    "\n",
    "Outra biblioteca Python GUI importante é PySide2, ou QT para Python, que oferece as ligações oficiais do Python para Qt (PySide2). Ele permite o uso de suas APIs em aplicativos Python, e a ferramenta geradora de vinculação pode ser usada para expor projetos C++ em Python.\n",
    "\n",
    "O Qt é considerado o padrão ouro para design de GUI, com todas as outras estruturas de GUI do Python sendo comparadas a ele. Isso significa que o PySide2 permite que os desenvolvedores Python acessem uma ampla coleção de ferramentas e bibliotecas eficazes para criar interfaces de usuário com rapidez e flexibilidade.\n",
    "\n",
    "Aqui estão algumas das principais vantagens do PySide2: \n",
    "\n",
    "- Plataforma cruzada\n",
    "- Amplo suporte e documentação da comunidade\n",
    "- Suporta Python 3 e Python 2.7\n",
    "- Usado por grandes empresas como a Mercedes"
   ]
  },
  {
   "cell_type": "markdown",
   "metadata": {},
   "source": [
    "### Wax\n",
    "\n",
    "É o wrapper do wxPython. Oferecendo a mesma funcionalidade do wxPython, o Wax se destaca por ser muito mais fácil de usar. O Wax também é implementado como um módulo de extensão para Python e suporta o desenvolvimento de aplicativos de plataforma cruzada. \n",
    "\n",
    "O Wax foi projetado para criar uma maneira mais simples de acessar elementos e objetos Python para construir GUIs. Com a plataforma subjacente sendo o wxWindows, que é altamente eficiente, o Wax tem um alto nível de eficiência e velocidade. \n",
    "\n",
    "Aqui estão algumas das principais vantagens do Wax: \n",
    "\n",
    "- Código aberto e multiplataforma\n",
    "- Fácil de usar\n",
    "- Mesma funcionalidade do wxPython\n",
    "- Implementado como um módulo de extensão para Python"
   ]
  },
  {
   "cell_type": "markdown",
   "metadata": {},
   "source": [
    "### PyGUI\n",
    "\n",
    "É uma API simples que permite aos desenvolvedores criar interfaces de usuário com elementos nativos para aplicativos Python. É uma estrutura leve que requer menos código entre o aplicativo e a plataforma de destino, o que também garante mais eficiência. \n",
    "\n",
    "O PyGUI suporta a criação de aplicativos em diferentes sistemas, como máquinas Windows, dispositivos MacOS e sistemas baseados em Unix. A documentação da biblioteca está em Python, o que significa que você não precisa consultar outras bibliotecas GUI. \n",
    "\n",
    "Aqui estão algumas das principais vantagens do PyGUI:\n",
    "\n",
    "- Toda a documentação escrita em Python\n",
    "- Disponível em Python 2 e 3\n",
    "- Suporta extensões Python como OpenGL e GTK\n",
    "- Código aberto e multiplataforma"
   ]
  },
  {
   "cell_type": "markdown",
   "metadata": {},
   "source": [
    "### PyGTK\n",
    "\n",
    "PyGTK é um wrapper para o Python criado por James Henstridge, construído sobre o GIMP Toolkit (GTK) a biblioteca usada pelo GNOME e muitas outras aplicações para Linux. Tem ótimo desempenho, elementos ricos e visual agradável.\n",
    "\n",
    "Aqui estão algumas das principais vantagens do PyGTK:\n",
    "\n",
    "- Desempenho - PyGTK 0.X (para GTK 1.2) tem um ótimo desempenho. A versão 2.0 (para gtk 2.X) não tem o mesmo desempenho, mas é bem satisfatória.\n",
    "Documentação - Bem documentada. Existem bons tutoriais para ambas as versões. Apesar de não haver uma referência completa para PyGTK 0.X, existe uma muito boa para a versão 2.X.\n",
    "- API - PyGTK usa uma API eficiente, baseada em propagação de sinais e callbacks. Um elemento qualquer emite um sinal, que é propagado \"pra cima\" até ser capturado e gerar a chamada de um callback.\n",
    "- IDE - Possui uma ferramenta para construção de interfaces, o Glade, que permite gerar uma referência em XML da interface, que pode ser usada diretamente pela biblioteca.\n",
    "- Portabilidade - Portar aplicações de PyGTK para Windows é fácil. Normalmente sem trocar o código."
   ]
  },
  {
   "cell_type": "markdown",
   "metadata": {},
   "source": [
    "## Fontes\n",
    "---\n",
    "\n",
    "- https://www.unite.ai/pt/10-best-python-libraries-for-gui/"
   ]
  }
 ],
 "metadata": {
  "kernelspec": {
   "display_name": ".venv",
   "language": "python",
   "name": "python3"
  },
  "language_info": {
   "codemirror_mode": {
    "name": "ipython",
    "version": 3
   },
   "file_extension": ".py",
   "mimetype": "text/x-python",
   "name": "python",
   "nbconvert_exporter": "python",
   "pygments_lexer": "ipython3",
   "version": "3.12.7"
  }
 },
 "nbformat": 4,
 "nbformat_minor": 2
}
