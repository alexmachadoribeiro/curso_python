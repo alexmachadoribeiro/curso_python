{
 "cells": [
  {
   "cell_type": "markdown",
   "metadata": {},
   "source": [
    "# **Os 4 Pilares da Orientação a Objetos**\n",
    "---"
   ]
  },
  {
   "cell_type": "markdown",
   "metadata": {},
   "source": [
    "## Pré-requisitos da aula\n",
    "\n",
    "- Orientação a Objetos\n",
    "\n",
    "---"
   ]
  },
  {
   "cell_type": "markdown",
   "metadata": {},
   "source": [
    "Para uma melhor utilização e compreensão da Orientação a Objetos, seus conceitos são baseados no que chamamos de **Os 4 Pilares da Orientação a Objetos**.\n",
    "\n",
    "São 4 conceitos extremamente importantes que devem ser necessariamente aplicados nos códigos que utilizam o Paradigma da Orientação a Objetos. São eles: **Herança**, **Polimorfismo**, **Abstração** e **Encapsulamento**.\n",
    "\n",
    "## 1. Herança ou Generalização\n",
    "---\n",
    "\n",
    "Em programas grandes, com certeza você irá criar várias classes. É natural que algumas dessas classes possuam atributos em comum. Para evitar que o desenvolvedor crie várias classes com atributos idênticos, existe na orientação a objetos o conceito de **Herança** ou **Generalização**.\n",
    "\n",
    "Nesse conceito, uma classe reúne atributos que duas ou mais classes possam ter em comum, e a partir dela, são geradas outras classes, onde são acrescentadas apenas os atributos e métodos **exclusivos** da classe que está recebendo a herança. Sobre a ideia de herança, dividimos as classes em dois tipos:\n",
    "\n",
    "- **Superclasse** ou **classe-pai:** são as classes que possuem os atributos e/ou métodos a serem herdados.\n",
    "- **Subclasse** ou **classe-filha:** são as classes que irão receber os atributos e/ou métodos das superclasses.\n",
    "\n",
    "Vamos seguir com o nosso exemplo da classe **Pessoa**. No nosso programa, instanciamos um objeto do tipo pessoa. O problema é que não pudemos especificar que tipo de pessoa esse objeto é, já que ele pode ser tanto pessoa física quanto pessoa jurídica, sendo que cada uma dessas pessoas possuem atributos e métodos específicos para cada um.\n",
    "\n",
    "Dito isso, vamos fazer da classe **Pessoa** uma **superclasse**, e a partir dela, criar duas novas classes: a classe **Pessoa Física** e a classe **Pessoa Jurídica**. Vamos retirar temporariamente o método `apresentar()` da classe pessoa, deixando apenas com o **constutor**.\n",
    "\n",
    "Para isso, as classes Pessoa Física e Pessoa Jurídica precisam receber dentro de parênteses o nome da superclasse. Para exemplificar, vamos voltar a setar os valores diretamente no código, sem o método construtor. Veja no exemplo abaixo:"
   ]
  },
  {
   "cell_type": "code",
   "execution_count": 1,
   "metadata": {},
   "outputs": [],
   "source": [
    "# criando a superclasse Pessoa\n",
    "class Pessoa:\n",
    "    local = \"Brasília\"\n",
    "\n",
    "# criando a subclasse Pessoa Física\n",
    "class PessoaFisica(Pessoa):\n",
    "    nome = \"Alex Machado\"\n",
    "    cpf = \"123.456.789-12\"\n",
    "    cargo = \"Programador\"\n",
    "\n",
    "# criando a subclasse Pessoa Jurídica\n",
    "class PessoaJuridica(Pessoa):\n",
    "    razao_social = \"Alex S.A.\"\n",
    "    nome_fantasia = \"Cyberdyne Systems\"\n",
    "    cnpj = \"56.165.887/0001-22\""
   ]
  },
  {
   "cell_type": "markdown",
   "metadata": {},
   "source": [
    "Agora, no algoritmo principal, iremos criar dois objetos: um da classe **Pessoa Física**, e outro da classe **Pessoa Jurídica**:"
   ]
  },
  {
   "cell_type": "code",
   "execution_count": 2,
   "metadata": {},
   "outputs": [
    {
     "name": "stdout",
     "output_type": "stream",
     "text": [
      "Dados do usuário:\n",
      "\n",
      "Nome do usuário: Alex Machado.\n",
      "CPF do usuário: 123.456.789-12.\n",
      "Cargo do usuário: Programador.\n",
      "Local de residência do usuário: Brasília.\n",
      "\n",
      "Dados da empresa:\n",
      "\n",
      "Razão Social da empresa: Alex S.A..\n",
      "Nome Fantasia da empresa: Cyberdyne Systems.\n",
      "CNPJ da empresa: 56.165.887/0001-22.\n",
      "Local da sede da empresa: Brasília.\n"
     ]
    }
   ],
   "source": [
    "if __name__ == \"__main__\":\n",
    "    # instancia (cria) um objeto das classes\n",
    "    usuario = PessoaFisica()\n",
    "    empresa = PessoaJuridica()\n",
    "\n",
    "    # exibição dos dados do usuário\n",
    "    print(\"Dados do usuário:\\n\")\n",
    "    print(f\"Nome do usuário: {usuario.nome}.\")\n",
    "    print(f\"CPF do usuário: {usuario.cpf}.\")\n",
    "    print(f\"Cargo do usuário: {usuario.cargo}.\")\n",
    "    print(f\"Local de residência do usuário: {usuario.local}.\")\n",
    "\n",
    "    # exibição dos dados da empresa\n",
    "    print(\"\\nDados da empresa:\\n\")\n",
    "    print(f\"Razão Social da empresa: {empresa.razao_social}.\")\n",
    "    print(f\"Nome Fantasia da empresa: {empresa.nome_fantasia}.\")\n",
    "    print(f\"CNPJ da empresa: {empresa.cnpj}.\")\n",
    "    print(f\"Local da sede da empresa: {empresa.local}.\")"
   ]
  },
  {
   "cell_type": "markdown",
   "metadata": {},
   "source": [
    "**Obs: uma superclasse pode ser, ao mesmo tempo, uma subclasse também, e vice-versa.**\n",
    "\n",
    "Agora, vamos repetir o algoritmo, desta vez com um construtor:"
   ]
  },
  {
   "cell_type": "code",
   "execution_count": 3,
   "metadata": {},
   "outputs": [],
   "source": [
    "class Pessoa:\n",
    "    # construtor\n",
    "    def __init__(self, local):\n",
    "        self.local = local\n",
    "\n",
    "class PessoaFisica(Pessoa):\n",
    "    # construtor\n",
    "    def __init__(self, nome, cpf, cargo):\n",
    "        self.nome = nome\n",
    "        self.cpf = cpf\n",
    "        self.cargo = cargo\n",
    "\n",
    "class PessoaJuridica(Pessoa):\n",
    "    # construtor\n",
    "    def __init__(self, razao_social, nome_fantasia, cnpj):\n",
    "        self.razao_social = razao_social\n",
    "        self.nome_fantasia = nome_fantasia\n",
    "        self.cnpj = cnpj"
   ]
  },
  {
   "cell_type": "markdown",
   "metadata": {},
   "source": [
    "Aqui temos um problema: as classes \"PessoaFisica\" e \"PessoaJuridica\" não estão herdando o atributo \"local\" da superclasse, pois esse atributo está sendo retirando das subclasses pelo construtor. Para resolvermos este problema, precisaremos antes aprender sobre **Polimorfismo**.\n",
    "\n",
    "## 2. Polimorfismo\n",
    "---\n",
    "\n",
    "Polimorfismo é o nome que se dá quando um mesmo método assume um comportamento diferente em classes diferentes. Podemos usar o construtor como exemplo no nosso caso de agora. Veja por exemplo a classe Pessoa:"
   ]
  },
  {
   "cell_type": "code",
   "execution_count": 4,
   "metadata": {},
   "outputs": [],
   "source": [
    "class Pessoa:\n",
    "    # construtor\n",
    "    def __init__(self, local):\n",
    "        self.local = local"
   ]
  },
  {
   "cell_type": "markdown",
   "metadata": {},
   "source": [
    "A classe **Pessoa** é uma superclasse, o que significa que nela só poderão existir os atributos que são comuns às suas subclasses, que são **PessoaFisica** e **PessoaJuridica**. Nesse caso, o único atributo da classe é \"local\". Já qualquer outro atributo de suas subclasses são exclusivos delas mesmas, e por esse motivo, não pdoeremos inciá-los no construtor da superclasse.\n",
    "\n",
    "Agora, vamos dar uma olhada na subclasse **PessoaFisica**:"
   ]
  },
  {
   "cell_type": "code",
   "execution_count": 5,
   "metadata": {},
   "outputs": [],
   "source": [
    "class PessoaFisica(Pessoa):\n",
    "    # construtor\n",
    "    def __init__(self, nome, cpf, cargo):\n",
    "        self.nome = nome\n",
    "        self.cpf = cpf\n",
    "        self.cargo = cargo"
   ]
  },
  {
   "cell_type": "markdown",
   "metadata": {},
   "source": [
    "Embora a subclasse, em teoria, herde os atributos e métodos da superclasse \"Pessoa\", aqui neste caso ele não está fazendo isso, pois o construtor da subclasse está inicializando apenas os atributos que são exclusivos dela. Isso automaticamente retira da classe o atributo da superclasse. Como resolver esse problema? Precisaremos puxar o construtor da subclasse, e acrescentar os atributos da subclasse no construtor dela. Para isso, precisaremos da função `super()`. Essa função é responsável por pegar as ações do método da superclasse e mantê-los no mesmo método da subclasse. Veja no exemplo da classe **PessoaFisica** abaixo, onde acrescentamos nos parâmetros o atributo da superclasse, e o repassamos para a função `super()`:"
   ]
  },
  {
   "cell_type": "code",
   "execution_count": 6,
   "metadata": {},
   "outputs": [],
   "source": [
    "class PessoaFisica(Pessoa):\n",
    "    # construtor\n",
    "    def __init__(self, nome, cpf, cargo, local):\n",
    "        self.nome = nome\n",
    "        self.cpf = cpf\n",
    "        self.cargo = cargo\n",
    "        super().__init__(local=local) # pega a ação da superclasse"
   ]
  },
  {
   "cell_type": "markdown",
   "metadata": {},
   "source": [
    "O mesmo pode ser feito com a subclasse **PessoaJuridica**:"
   ]
  },
  {
   "cell_type": "code",
   "execution_count": 7,
   "metadata": {},
   "outputs": [],
   "source": [
    "class PessoaJuridica(Pessoa):\n",
    "    # construtor\n",
    "    def __init__(self, razao_social, nome_fantasia, cnpj, local):\n",
    "        self.razao_social = razao_social\n",
    "        self.nome_fantasia = nome_fantasia\n",
    "        self.cnpj = cnpj\n",
    "        super().__init__(local=local)"
   ]
  },
  {
   "cell_type": "markdown",
   "metadata": {},
   "source": [
    "Agora sim, podemos trabalhar em cima do algoritmo principal com as nossas novas classes, setando os valores preenchidos pelo usuário para os objetos das subclasses:"
   ]
  },
  {
   "cell_type": "code",
   "execution_count": 9,
   "metadata": {},
   "outputs": [
    {
     "name": "stdout",
     "output_type": "stream",
     "text": [
      "Dados do usuário:\n",
      "\n",
      "Nome do usuário: João.\n",
      "CPF do usuário: 222.222.222-22.\n",
      "Cargo do usuário: Tester.\n",
      "Local de residência do usuário: Brasília.\n",
      "\n",
      "Dados da empresa:\n",
      "\n",
      "Razão Social da empresa: João S.A..\n",
      "Nome da empresa: Cyberdyne Systems.\n",
      "CNPJ da empresa: 60.704.577/0001-06.\n",
      "Local da sede da empresa: Brasília.\n"
     ]
    }
   ],
   "source": [
    "if __name__ == \"__main__\":\n",
    "    # instancia as subclasses\n",
    "    usuario = PessoaFisica(\"\", \"\", \"\", \"\")\n",
    "    empresa = PessoaJuridica(\"\", \"\", \"\", \"\")\n",
    "\n",
    "    usuario.nome = input(\"Informe o nome do usuário: \")\n",
    "    usuario.cpf = input(\"Informe o CPF do usuário: \")\n",
    "    usuario.cargo = input(\"Informe o cargo do usuário: \")\n",
    "    usuario.local = input(\"Informe o local de residência do usuário: \")\n",
    "\n",
    "    empresa.razao_social = input(\"Informe a razão social da empresa: \")\n",
    "    empresa.nome_fantasia = input(\"Informe o nome fantasia da empresa: \")\n",
    "    empresa.cnpj = input(\"Informe o CNPJ da empresa: \")\n",
    "    empresa.local = input(\"Informe o local da sede da empresa: \")\n",
    "\n",
    "    # saída de dados\n",
    "    print(\"Dados do usuário:\\n\")\n",
    "    print(f\"Nome do usuário: {usuario.nome}.\")\n",
    "    print(f\"CPF do usuário: {usuario.cpf}.\")\n",
    "    print(f\"Cargo do usuário: {usuario.cargo}.\")\n",
    "    print(f\"Local de residência do usuário: {usuario.local}.\")\n",
    "\n",
    "    print(\"\\nDados da empresa:\\n\")\n",
    "    print(f\"Razão Social da empresa: {empresa.razao_social}.\")\n",
    "    print(f\"Nome da empresa: {empresa.nome_fantasia}.\")\n",
    "    print(f\"CNPJ da empresa: {empresa.cnpj}.\")\n",
    "    print(f\"Local da sede da empresa: {empresa.local}.\")"
   ]
  },
  {
   "cell_type": "markdown",
   "metadata": {},
   "source": [
    "Repare que não precisamos instanciar a classe \"Pessoa\", visto que ela serve apenas para reunir o único atributo que é comum para as outras classes.\n",
    "\n",
    "O polimorfismo não serve apenas para o construtor. Vamos voltar a trabalhar com métodos normais e retornar no código o método `apresentar()` na classe Pessoa. Porém, desta vez iremos alterar seu comportamento em suas subclasses. Veja:"
   ]
  },
  {
   "cell_type": "code",
   "execution_count": 10,
   "metadata": {},
   "outputs": [],
   "source": [
    "class Pessoa:\n",
    "    def __init__(self, local):\n",
    "        self.local = local\n",
    "\n",
    "    # método apresentar\n",
    "    def apresentar(self):\n",
    "        ...\n",
    "\n",
    "class PessoaFisica(Pessoa):\n",
    "    def __init__(self, nome, cpf, cargo, local):\n",
    "        self.nome = nome\n",
    "        self.cpf = cpf\n",
    "        self.cargo = cargo\n",
    "        super().__init__(local=local)\n",
    "\n",
    "    def apresentar(self):\n",
    "        return f\"Olá, meu nome é {self.nome}, meu CPF é {self.cpf}, trabalho como {self.cargo} e moro em {self.local}.\"\n",
    "\n",
    "class PessoaJuridica(Pessoa):\n",
    "    # construtor\n",
    "    def __init__(self, razao_social, nome_fantasia, cnpj, local):\n",
    "        self.razao_social = razao_social\n",
    "        self.nome_fantasia = nome_fantasia\n",
    "        self.cnpj = cnpj\n",
    "        super().__init__(local=local)\n",
    "\n",
    "    def apresentar(self):\n",
    "        return f\"Prazer, somos da empresa {self.nome_fantasia}, nossa Razão Social é {self.razao_social}, nosso CNPJ é {self.cnpj} e nossa sede fica em {self.local}.\""
   ]
  },
  {
   "cell_type": "markdown",
   "metadata": {},
   "source": [
    "Veja como o método `apresentar()` mostra comportamentos diferentes em suas respectivas classes. Vamos alterar o código principal e chamar esse mesmo exato método em seus respectivos objetos:"
   ]
  },
  {
   "cell_type": "code",
   "execution_count": 12,
   "metadata": {},
   "outputs": [
    {
     "name": "stdout",
     "output_type": "stream",
     "text": [
      "Olá, meu nome é Maria, meu CPF é 333.333.333-33, trabalho como Administradora de Empresas e moro em Brasília.\n",
      "Prazer, somos da empresa Umbrella Corporation, nossa Razão Social é Maria LTDA, nosso CNPJ é 48.828.866/0001-11 e nossa sede fica em Brasília.\n"
     ]
    }
   ],
   "source": [
    "if __name__ == \"__main__\":\n",
    "    # instancia as subclasses\n",
    "    usuario = PessoaFisica(\"\", \"\", \"\", \"\")\n",
    "    empresa = PessoaJuridica(\"\", \"\", \"\", \"\")\n",
    "\n",
    "    usuario.nome = input(\"Informe o nome do usuário: \")\n",
    "    usuario.cpf = input(\"Informe o CPF do usuário: \")\n",
    "    usuario.cargo = input(\"Informe o cargo do usuário: \")\n",
    "    usuario.local = input(\"Informe o local de residência do usuário: \")\n",
    "\n",
    "    empresa.razao_social = input(\"Informe a razão social da empresa: \")\n",
    "    empresa.nome_fantasia = input(\"Informe o nome fantasia da empresa: \")\n",
    "    empresa.cnpj = input(\"Informe o CNPJ da empresa: \")\n",
    "    empresa.local = input(\"Informe o local da sede da empresa: \")\n",
    "\n",
    "    # saída de dados\n",
    "    print(usuario.apresentar())\n",
    "    print(empresa.apresentar())"
   ]
  },
  {
   "cell_type": "markdown",
   "metadata": {},
   "source": [
    "Veja como o mesmo método `apresentar()` mostra dois resultados diferentes na execução. Esse é o conceito de **Polimorfismo**.\n",
    "\n",
    "## 3. Abstração\n",
    "---\n",
    "\n",
    "O conceito de abstração consiste em esconder os detalhes de algo, no caso, os detalhes desnecessários. No mundo real, utilizamos abstrações o tempo todo. Tudo que não sabemos como funciona por baixo dos panos pode ser considerado uma abstração. Na programação, a abstração é o princípio de criar uma classe que contenha atributos e métodos que são comuns a outras classes e que podem servir como base para serem herdados. Você abstrai características comuns a N classes e fornece uma classe abstrata que pode ser herdada e servir de base para as demais.\n",
    "\n",
    "Vejamos como isso funciona no nosso código. Lembra da superclasse \"Pessoa\"? Deve lembrar também que ela não foi instanciada no nosso programa. Também não seria interessante instanciarmos um objeto dessa classe. Portanto, vamos transformá-la em uma **Classe Abstrata**.\n",
    "\n",
    "Para isso, precisaremos importar uma biblioteca chamada `abc`, que contém a anotação `abstractmethod`, e fazer com que a nossa superclasse se transforme em uma subclasse da superclasse `ABC`:"
   ]
  },
  {
   "cell_type": "code",
   "execution_count": 1,
   "metadata": {},
   "outputs": [],
   "source": [
    "# importa a biblioteca abc que contém a classe ABC e a anotação abstractmethod\n",
    "from abc import ABC\n",
    "from abc import abstractmethod\n",
    "\n",
    "# classe Pessoa, agora como classe abstrata\n",
    "class Pessoa(ABC):\n",
    "    @abstractmethod\n",
    "    def __init__(self, local):\n",
    "        self.local = local\n",
    "\n",
    "    @abstractmethod\n",
    "    def apresentar(self):\n",
    "        ..."
   ]
  },
  {
   "cell_type": "markdown",
   "metadata": {},
   "source": [
    "Pronto. Caso alguém tente instanciar essa classe, o programa irá retornar um erro:"
   ]
  },
  {
   "cell_type": "code",
   "execution_count": 2,
   "metadata": {},
   "outputs": [
    {
     "ename": "TypeError",
     "evalue": "Can't instantiate abstract class Pessoa without an implementation for abstract methods '__init__', 'apresentar'",
     "output_type": "error",
     "traceback": [
      "\u001b[1;31m---------------------------------------------------------------------------\u001b[0m",
      "\u001b[1;31mTypeError\u001b[0m                                 Traceback (most recent call last)",
      "Cell \u001b[1;32mIn[2], line 3\u001b[0m\n\u001b[0;32m      1\u001b[0m \u001b[38;5;28;01mif\u001b[39;00m \u001b[38;5;18m__name__\u001b[39m \u001b[38;5;241m==\u001b[39m \u001b[38;5;124m\"\u001b[39m\u001b[38;5;124m__main__\u001b[39m\u001b[38;5;124m\"\u001b[39m:\n\u001b[0;32m      2\u001b[0m     \u001b[38;5;66;03m# instanciando a classe Pessoa\u001b[39;00m\n\u001b[1;32m----> 3\u001b[0m     pessoa \u001b[38;5;241m=\u001b[39m \u001b[43mPessoa\u001b[49m\u001b[43m(\u001b[49m\u001b[38;5;124;43m\"\u001b[39;49m\u001b[38;5;124;43mBrasília\u001b[39;49m\u001b[38;5;124;43m\"\u001b[39;49m\u001b[43m)\u001b[49m\n\u001b[0;32m      5\u001b[0m     \u001b[38;5;66;03m# tenta exibir \u001b[39;00m\n\u001b[0;32m      6\u001b[0m     \u001b[38;5;28mprint\u001b[39m(pessoa\u001b[38;5;241m.\u001b[39mlocal)\n",
      "\u001b[1;31mTypeError\u001b[0m: Can't instantiate abstract class Pessoa without an implementation for abstract methods '__init__', 'apresentar'"
     ]
    }
   ],
   "source": [
    "if __name__ == \"__main__\":\n",
    "    # instanciando a classe Pessoa\n",
    "    pessoa = Pessoa(\"Brasília\")\n",
    "\n",
    "    # FIXME: tenta exibir o local, mas o programa irá retornar um erro, pois não é possível instanciar uma classe abstrata\n",
    "    print(pessoa.local)"
   ]
  },
  {
   "cell_type": "markdown",
   "metadata": {},
   "source": [
    "### Interface\n",
    "\n",
    "Ainda dentro do conceito de **abstração** em Python, existe também o conceito de **interface**. Nesse conceito, é fornececida uma classe abstrata como um contrato para que quando herdada garanta que as classes filhas irão implementar os métodos necessários, dessa forma, proteger o nosso código dando a certeza da existência e implementação do método.\n",
    "\n",
    "Vamos tomar como exemplo a subclasse \"PessoaFisica\". Lembra do `@abstractmethod` que inserimos antes de cada um dos métodos da agora classe abstrata \"Pessoa\"? Ele garante que cada método que possua a anotação seja **OBRIGATORIAMENTE** aplicado na sua subclasse, sob pena da subclasse não poder ser isntanciada também. Observe:"
   ]
  },
  {
   "cell_type": "code",
   "execution_count": 3,
   "metadata": {},
   "outputs": [
    {
     "ename": "TypeError",
     "evalue": "Can't instantiate abstract class PessoaFisica without an implementation for abstract method 'apresentar'",
     "output_type": "error",
     "traceback": [
      "\u001b[1;31m---------------------------------------------------------------------------\u001b[0m",
      "\u001b[1;31mTypeError\u001b[0m                                 Traceback (most recent call last)",
      "Cell \u001b[1;32mIn[3], line 22\u001b[0m\n\u001b[0;32m     19\u001b[0m \u001b[38;5;66;03m# programa principal\u001b[39;00m\n\u001b[0;32m     20\u001b[0m \u001b[38;5;28;01mif\u001b[39;00m \u001b[38;5;18m__name__\u001b[39m \u001b[38;5;241m==\u001b[39m \u001b[38;5;124m\"\u001b[39m\u001b[38;5;124m__main__\u001b[39m\u001b[38;5;124m\"\u001b[39m:\n\u001b[0;32m     21\u001b[0m     \u001b[38;5;66;03m# instancia objeto da classe PessoaFisica\u001b[39;00m\n\u001b[1;32m---> 22\u001b[0m     pf \u001b[38;5;241m=\u001b[39m \u001b[43mPessoaFisica\u001b[49m\u001b[43m(\u001b[49m\u001b[38;5;124;43m\"\u001b[39;49m\u001b[38;5;124;43mFulano\u001b[39;49m\u001b[38;5;124;43m\"\u001b[39;49m\u001b[43m,\u001b[49m\u001b[43m \u001b[49m\u001b[38;5;124;43m\"\u001b[39;49m\u001b[38;5;124;43m999.999.999-99\u001b[39;49m\u001b[38;5;124;43m\"\u001b[39;49m\u001b[43m,\u001b[49m\u001b[43m \u001b[49m\u001b[38;5;124;43m\"\u001b[39;49m\u001b[38;5;124;43mRecepcionista\u001b[39;49m\u001b[38;5;124;43m\"\u001b[39;49m\u001b[43m,\u001b[49m\u001b[43m \u001b[49m\u001b[38;5;124;43m\"\u001b[39;49m\u001b[38;5;124;43mBrasília\u001b[39;49m\u001b[38;5;124;43m\"\u001b[39;49m\u001b[43m)\u001b[49m\n\u001b[0;32m     24\u001b[0m     \u001b[38;5;66;03m# saída de dados\u001b[39;00m\n\u001b[0;32m     25\u001b[0m     \u001b[38;5;28mprint\u001b[39m(pf\u001b[38;5;241m.\u001b[39mnome)\n",
      "\u001b[1;31mTypeError\u001b[0m: Can't instantiate abstract class PessoaFisica without an implementation for abstract method 'apresentar'"
     ]
    }
   ],
   "source": [
    "# classe abstrata\n",
    "class Pessoa(ABC):\n",
    "    @abstractmethod\n",
    "    def __init__(self, local):\n",
    "        self.local = local\n",
    "\n",
    "    @abstractmethod\n",
    "    def apresentar(self):\n",
    "        ...\n",
    "\n",
    "# subclasse sem o método apresentar\n",
    "class PessoaFisica(Pessoa):\n",
    "    def __init__(self, nome, cpf, cargo, local):\n",
    "        self.nome = nome\n",
    "        self.cpf = cpf\n",
    "        self.cargo = cargo\n",
    "        super().__init__(local=local)\n",
    "\n",
    "# programa principal\n",
    "if __name__ == \"__main__\":\n",
    "    # instancia objeto da classe PessoaFisica\n",
    "    pf = PessoaFisica(\"Fulano\", \"999.999.999-99\", \"Recepcionista\", \"Brasília\")\n",
    "\n",
    "    # FIXME: saída de dados retorna erro, pois o objeto não possui método obrigatório da superclasse\n",
    "    print(pf.nome)\n",
    "    print(pf.cpf)\n",
    "    print(pf.cargo)\n",
    "    print(pf.local)"
   ]
  },
  {
   "cell_type": "markdown",
   "metadata": {},
   "source": [
    "Para resolver este problema, a subclasse precisa ter o método `apresentar()`:"
   ]
  },
  {
   "cell_type": "code",
   "execution_count": 4,
   "metadata": {},
   "outputs": [
    {
     "name": "stdout",
     "output_type": "stream",
     "text": [
      "Olá, meu nome é Fulano, meu CPF é 999.999.999-99, trabalho como Recepcionista e moro em Brasília.\n"
     ]
    }
   ],
   "source": [
    "# classe abstrata\n",
    "class Pessoa(ABC):\n",
    "    @abstractmethod\n",
    "    def __init__(self, local):\n",
    "        self.local = local\n",
    "\n",
    "    @abstractmethod\n",
    "    def apresentar(self):\n",
    "        ...\n",
    "\n",
    "# subclasse sem o método apresentar\n",
    "class PessoaFisica(Pessoa):\n",
    "    def __init__(self, nome, cpf, cargo, local):\n",
    "        self.nome = nome\n",
    "        self.cpf = cpf\n",
    "        self.cargo = cargo\n",
    "        super().__init__(local=local)\n",
    "\n",
    "    # método obrigatório pela classe abstrata, que aqui funciona como interface\n",
    "    def apresentar(self):\n",
    "        return f\"Olá, meu nome é {self.nome}, meu CPF é {self.cpf}, trabalho como {self.cargo} e moro em {self.local}.\"\n",
    "\n",
    "# programa principal\n",
    "if __name__ == \"__main__\":\n",
    "    # instancia objeto da classe PessoaFisica\n",
    "    pf = PessoaFisica(\"Fulano\", \"999.999.999-99\", \"Recepcionista\", \"Brasília\")\n",
    "\n",
    "    # método apresentar\n",
    "    print(pf.apresentar())"
   ]
  },
  {
   "cell_type": "markdown",
   "metadata": {},
   "source": [
    "**Obs: em Java e em PHP, a classe abstrata é diferente da interface.**\n",
    "\n",
    "## 4. Encapsulamento\n",
    "---\n",
    "\n",
    "O princípio de encapsulamento consiste em \"esconder\" a parte funcional dos objetos de forma que quem estiver utilizando não tenha que conhecer mais do que o necessário para utiliza-lo. Esse conceito é muito utilizado para tratar a **visibilidade** dos atributos e/ou dos métodos da classe, também chamado de **modificadores de acesso**. Em Python, são basicamente 3:\n",
    "\n",
    "- **Public**: atributos ou métodos por padrão são públicos. Ou seja, podem ser acessados por qualquer código, interno ou externo, sem limitação.\n",
    "- **Protected**: atributos ou métodos protegidos podem ser acessados diretamente por suas subclasses, mas não são visíveis para outras classes e para o algoritmo principal. Um atributo **protected** é representado pelo caractere ***underscore*** (_). Exemplo: `_nome_da_variavel`.\n",
    "- **Private**: possui proteção máxima. Atributos ou métodos do tipo **private** só podem ser acessados de forma direta pela própria classe. Nenhuma outra classe, nem mesmo suas subclasses, nem o algoritmo principal possuem acesso direto. Um atributo **private** é representado por dois ***underscores*** (__). Exemplo: `__nome_da_variavel`.\n",
    "\n",
    "Veremos como isso se aplica ao nosso código. Vamos deixar todos os atributos das subclasses como **private**, e o da superclasse como **public, e depois setar os atributos fora do nosso construtor para ver como nosso programa se comporta:"
   ]
  },
  {
   "cell_type": "code",
   "execution_count": 17,
   "metadata": {},
   "outputs": [
    {
     "name": "stdout",
     "output_type": "stream",
     "text": [
      "Olá, meu nome é , meu CPF é , trabalho como  e moro em Brasília.\n",
      "Prazer, somos da empresa , nossa Razão Social é , nosso CNPJ é  e nossa sede fica em Brasília.\n"
     ]
    }
   ],
   "source": [
    "class Pessoa(ABC):\n",
    "    @abstractmethod\n",
    "    def __init__(self, local):\n",
    "        self.local = local # atributo public\n",
    "\n",
    "    @abstractmethod\n",
    "    def apresentar(self):\n",
    "        ...\n",
    "\n",
    "class PessoaFisica(Pessoa):\n",
    "    def __init__(self, nome, cpf, cargo, local):\n",
    "        # atributos private\n",
    "        self.__nome = nome\n",
    "        self.__cpf = cpf\n",
    "        self.__cargo = cargo\n",
    "        super().__init__(local=local)\n",
    "\n",
    "    def apresentar(self):\n",
    "        return f\"Olá, meu nome é {self.__nome}, meu CPF é {self.__cpf}, trabalho como {self.__cargo} e moro em {self.local}.\"\n",
    "\n",
    "class PessoaJuridica(Pessoa):\n",
    "    def __init__(self, razao_social, nome_fantasia, cnpj, local):\n",
    "        # atributos private\n",
    "        self.__razao_social = razao_social\n",
    "        self.__nome_fantasia = nome_fantasia\n",
    "        self.__cnpj = cnpj\n",
    "        super().__init__(local=local)\n",
    "\n",
    "    def apresentar(self):\n",
    "        return f\"Prazer, somos da empresa {self.__nome_fantasia}, nossa Razão Social é {self.__razao_social}, nosso CNPJ é {self.__cnpj} e nossa sede fica em {self.local}.\"\n",
    "\n",
    "if __name__ == \"__main__\":\n",
    "    # instancia dos objetos\n",
    "    pf = PessoaFisica(\"\", \"\", \"\", \"\")\n",
    "    pj = PessoaJuridica(\"\", \"\", \"\", \"\")\n",
    "\n",
    "    # setando os valores\n",
    "    pf.nome = \"Fulano\"\n",
    "    pf.cpf = \"807.416.550-71\"\n",
    "    pf.cargo = \"Assistente Administrativo\"\n",
    "    pf.local = \"Brasília\"\n",
    "\n",
    "    pj.razao_social = \"Corp S.A.\"\n",
    "    pj.nome_fantasia = \"McDonalds\"\n",
    "    pj.cnpj = \"21.721.127/0001-70\"\n",
    "    pj.local = \"Brasília\"\n",
    "\n",
    "    # método apresentar\n",
    "    print(pf.apresentar())\n",
    "    print(pj.apresentar())"
   ]
  },
  {
   "cell_type": "markdown",
   "metadata": {},
   "source": [
    "Observe que, apesar do nosso programa não ter retornado erro, os valores dos atributos não foram setados, exceto o **local**, cuja visibilidade está como **público**.\n",
    "\n",
    "- \"Ah, mas os atributos não foram chamados com dois *underscores*!\". Você diz.\n",
    "\n",
    "Então vamos lá: colocaremos os dois *underscores* do mesmo jeito que foram colocados na classe:"
   ]
  },
  {
   "cell_type": "code",
   "execution_count": 18,
   "metadata": {},
   "outputs": [
    {
     "name": "stdout",
     "output_type": "stream",
     "text": [
      "Olá, meu nome é , meu CPF é , trabalho como  e moro em .\n",
      "Prazer, somos da empresa , nossa Razão Social é , nosso CNPJ é  e nossa sede fica em .\n"
     ]
    }
   ],
   "source": [
    "class Pessoa(ABC):\n",
    "    @abstractmethod\n",
    "    def __init__(self, local):\n",
    "        self.local = local # atributo public\n",
    "\n",
    "    @abstractmethod\n",
    "    def apresentar(self):\n",
    "        ...\n",
    "\n",
    "class PessoaFisica(Pessoa):\n",
    "    def __init__(self, nome, cpf, cargo, local):\n",
    "        # atributos private\n",
    "        self.__nome = nome\n",
    "        self.__cpf = cpf\n",
    "        self.__cargo = cargo\n",
    "        super().__init__(local=local)\n",
    "\n",
    "    def apresentar(self):\n",
    "        return f\"Olá, meu nome é {self.__nome}, meu CPF é {self.__cpf}, trabalho como {self.__cargo} e moro em {self.local}.\"\n",
    "\n",
    "class PessoaJuridica(Pessoa):\n",
    "    def __init__(self, razao_social, nome_fantasia, cnpj, local):\n",
    "        # atributos private\n",
    "        self.__razao_social = razao_social\n",
    "        self.__nome_fantasia = nome_fantasia\n",
    "        self.__cnpj = cnpj\n",
    "        super().__init__(local=local)\n",
    "\n",
    "    def apresentar(self):\n",
    "        return f\"Prazer, somos da empresa {self.__nome_fantasia}, nossa Razão Social é {self.__razao_social}, nosso CNPJ é {self.__cnpj} e nossa sede fica em {self.local}.\"\n",
    "\n",
    "if __name__ == \"__main__\":\n",
    "    # instancia dos objetos\n",
    "    pf = PessoaFisica(\"\", \"\", \"\", \"\")\n",
    "    pj = PessoaJuridica(\"\", \"\", \"\", \"\")\n",
    "\n",
    "    # setando os valores\n",
    "    pf.__nome = \"Fulano\"\n",
    "    pf.__cpf = \"807.416.550-71\"\n",
    "    pf.__cargo = \"Assistente Administrativo\"\n",
    "    pf.__local = \"Brasília\"\n",
    "\n",
    "    pj.__razao_social = \"Corp S.A.\"\n",
    "    pj.__nome_fantasia = \"McDonalds\"\n",
    "    pj.__cnpj = \"21.721.127/0001-70\"\n",
    "    pj.__local = \"Brasília\"\n",
    "\n",
    "    # método apresentar\n",
    "    print(pf.apresentar())\n",
    "    print(pj.apresentar())"
   ]
  },
  {
   "cell_type": "markdown",
   "metadata": {},
   "source": [
    "Veja! Os valores continuam não sendo setados. E agora nem mesmo o **local** está sendo setado.\n",
    "\n",
    "Isso acontece porque conforme falado anteriormente, os atributos estão como **private**, exceto o atributo \"local\", que se encontra na sueprclasse. Para que possamos setar esses valores, precisaremos dos **métodos de acesso**, também conhecidos como **getters** e **setters**.\n",
    "\n",
    "### Getters e Setters\n",
    "\n",
    "Os métodos **get** e **set** são usados para acessar os valores dos atributos que estão protegidos pela visibilidade:\n",
    "\n",
    "- **Get**: acessa os valores já existentes nos atributos.\n",
    "- **Set**: atribui valores aos atributos das classes.\n",
    "\n",
    "Em outras linguagens de programação temos métodos específicos que possuem, de fato, os nomes **get** e **set**. No Python, as coisas são um pouco diferentes: para criar métodos **get**, ou seja, para acessar os valores já setados dos atributos, usamos a anotação `@property`. Já para criar os métodos **set**, ou seja, para setar os valores, usamos a anotação `@nome_do_atributo.setter`. Veja como fazer no código abaixo com a superclasse Pessoa, mas para isso, vamos ter que transformar o atributo \"local\" como \"private\":"
   ]
  },
  {
   "cell_type": "code",
   "execution_count": 19,
   "metadata": {},
   "outputs": [],
   "source": [
    "class Pessoa(ABC):\n",
    "    @abstractmethod\n",
    "    def __init__(self, local):\n",
    "        self.__local = local # atributo private\n",
    "\n",
    "    # método get\n",
    "    @property\n",
    "    def local(self):\n",
    "        return self.__local\n",
    "\n",
    "    # método set\n",
    "    @local.setter\n",
    "    def local(self, local):\n",
    "        self.__local = local\n",
    "\n",
    "    @abstractmethod\n",
    "    def apresentar(self):\n",
    "        ..."
   ]
  },
  {
   "cell_type": "markdown",
   "metadata": {},
   "source": [
    "Agora, repita o mesmo procedimento para cada atributo das duas subclasses restantes. Repare que não precisaremos criar o set e o get do atributo \"local\" das duas subclasses, pois essas já herdaram da superclasse:"
   ]
  },
  {
   "cell_type": "code",
   "execution_count": 21,
   "metadata": {},
   "outputs": [],
   "source": [
    "class PessoaFisica(Pessoa):\n",
    "    def __init__(self, nome, cpf, cargo, local):\n",
    "        self.__nome = nome\n",
    "        self.__cpf = cpf\n",
    "        self.__cargo = cargo\n",
    "        super().__init__(local=local)\n",
    "\n",
    "    # métodos de acesso\n",
    "    @property\n",
    "    def nome(self):\n",
    "        return self.__nome\n",
    "\n",
    "    @nome.setter\n",
    "    def nome(self, nome):\n",
    "        self.__nome = nome\n",
    "\n",
    "    @property\n",
    "    def cpf(self):\n",
    "        return self.__cpf\n",
    "\n",
    "    @cpf.setter\n",
    "    def cpf(self, cpf):\n",
    "        self.__cpf = cpf\n",
    "\n",
    "    @property\n",
    "    def cargo(self):\n",
    "        return self.__cargo\n",
    "\n",
    "    @cargo.setter\n",
    "    def cargo(self, cargo):\n",
    "        self.__cargo = cargo\n",
    "\n",
    "    # método da classe abstrata\n",
    "    def apresentar(self):\n",
    "        return f\"Olá, meu nome é {self.__nome}, meu CPF é {self.__cpf}, trabalho como {self.__cargo} e moro em {self.local}.\"\n",
    "\n",
    "class PessoaJuridica(Pessoa):\n",
    "    def __init__(self, razao_social, nome_fantasia, cnpj, local):\n",
    "        self.__razao_social = razao_social\n",
    "        self.__nome_fantasia = nome_fantasia\n",
    "        self.__cnpj = cnpj\n",
    "        super().__init__(local=local)\n",
    "\n",
    "    # métodos de acesso\n",
    "    @property\n",
    "    def razao_social(self):\n",
    "        return self.__razao_social\n",
    "\n",
    "    @razao_social.setter\n",
    "    def razao_social(self, razao_social):\n",
    "        self.__razao_social = razao_social\n",
    "\n",
    "    @property\n",
    "    def nome_fantasia(self):\n",
    "        return self.__nome_fantasia\n",
    "\n",
    "    @nome_fantasia.setter\n",
    "    def nome_fantasia(self, nome_fantasia):\n",
    "        self.__nome_fantasia = nome_fantasia\n",
    "\n",
    "    @property\n",
    "    def cnpj(self):\n",
    "        return self.__cnpj\n",
    "\n",
    "    @cnpj.setter\n",
    "    def cnpj(self, cnpj):\n",
    "        self.__cnpj = cnpj\n",
    "\n",
    "    # método da classe abstrata\n",
    "    def apresentar(self):\n",
    "        return f\"Prazer, somos da empresa {self.__nome_fantasia}, nossa Razão Social é {self.__razao_social}, nosso CNPJ é {self.__cnpj} e nossa sede fica em {self.local}.\""
   ]
  },
  {
   "cell_type": "markdown",
   "metadata": {},
   "source": [
    "Agora, vamos tentar executar o algoritmo principal de novo, chamando normalmente os atributos, da mesma forma que estávamos fazendo antes dos modificadores de acesso, ou seja, sem os *underscores* **(__)**:"
   ]
  },
  {
   "cell_type": "code",
   "execution_count": 22,
   "metadata": {},
   "outputs": [
    {
     "name": "stdout",
     "output_type": "stream",
     "text": [
      "Olá, meu nome é Fulano, meu CPF é 807.416.550-71, trabalho como Assistente Administrativo e moro em Brasília.\n",
      "Prazer, somos da empresa McDonalds, nossa Razão Social é Corp S.A., nosso CNPJ é 21.721.127/0001-70 e nossa sede fica em Brasília.\n"
     ]
    }
   ],
   "source": [
    "if __name__ == \"__main__\":\n",
    "    # instancia dos objetos\n",
    "    pf = PessoaFisica(\"\", \"\", \"\", \"\")\n",
    "    pj = PessoaJuridica(\"\", \"\", \"\", \"\")\n",
    "\n",
    "    # setando os valores\n",
    "    pf.nome = \"Fulano\"\n",
    "    pf.cpf = \"807.416.550-71\"\n",
    "    pf.cargo = \"Assistente Administrativo\"\n",
    "    pf.local = \"Brasília\"\n",
    "\n",
    "    pj.razao_social = \"Corp S.A.\"\n",
    "    pj.nome_fantasia = \"McDonalds\"\n",
    "    pj.cnpj = \"21.721.127/0001-70\"\n",
    "    pj.local = \"Brasília\"\n",
    "\n",
    "    # método apresentar\n",
    "    print(pf.apresentar())\n",
    "    print(pj.apresentar())"
   ]
  },
  {
   "cell_type": "markdown",
   "metadata": {},
   "source": [
    "Prontinho!!! Nosso programa agora está funcionando 100%, com todos os 4 pilares da Orientação a Objeto. Confira abaixo a versão final do código-fonte em sua totalidade: "
   ]
  },
  {
   "cell_type": "code",
   "execution_count": 23,
   "metadata": {},
   "outputs": [
    {
     "name": "stdout",
     "output_type": "stream",
     "text": [
      "Olá, meu nome é Fulano, meu CPF é 807.416.550-71, trabalho como Assistente Administrativo e moro em Brasília.\n",
      "Prazer, somos da empresa McDonalds, nossa Razão Social é Corp S.A., nosso CNPJ é 21.721.127/0001-70 e nossa sede fica em Brasília.\n"
     ]
    }
   ],
   "source": [
    "from abc import ABC\n",
    "from abc import abstractmethod\n",
    "\n",
    "class Pessoa(ABC):\n",
    "    @abstractmethod\n",
    "    def __init__(self, local):\n",
    "        self.__local = local\n",
    "\n",
    "    @property\n",
    "    def local(self):\n",
    "        return self.__local\n",
    "\n",
    "    @local.setter\n",
    "    def local(self, local):\n",
    "        self.__local = local\n",
    "\n",
    "    @abstractmethod\n",
    "    def apresentar(self):\n",
    "        ...\n",
    "\n",
    "class PessoaFisica(Pessoa):\n",
    "    def __init__(self, nome, cpf, cargo, local):\n",
    "        self.__nome = nome\n",
    "        self.__cpf = cpf\n",
    "        self.__cargo = cargo\n",
    "        super().__init__(local=local)\n",
    "\n",
    "    @property\n",
    "    def nome(self):\n",
    "        return self.__nome\n",
    "\n",
    "    @nome.setter\n",
    "    def nome(self, nome):\n",
    "        self.__nome = nome\n",
    "\n",
    "    @property\n",
    "    def cpf(self):\n",
    "        return self.__cpf\n",
    "\n",
    "    @cpf.setter\n",
    "    def cpf(self, cpf):\n",
    "        self.__cpf = cpf\n",
    "\n",
    "    @property\n",
    "    def cargo(self):\n",
    "        return self.__cargo\n",
    "\n",
    "    @cargo.setter\n",
    "    def cargo(self, cargo):\n",
    "        self.__cargo = cargo\n",
    "\n",
    "    def apresentar(self):\n",
    "        return f\"Olá, meu nome é {self.__nome}, meu CPF é {self.__cpf}, trabalho como {self.__cargo} e moro em {self.local}.\"\n",
    "\n",
    "class PessoaJuridica(Pessoa):\n",
    "    def __init__(self, razao_social, nome_fantasia, cnpj, local):\n",
    "        self.__razao_social = razao_social\n",
    "        self.__nome_fantasia = nome_fantasia\n",
    "        self.__cnpj = cnpj\n",
    "        super().__init__(local=local)\n",
    "\n",
    "    @property\n",
    "    def razao_social(self):\n",
    "        return self.__razao_social\n",
    "\n",
    "    @razao_social.setter\n",
    "    def razao_social(self, razao_social):\n",
    "        self.__razao_social = razao_social\n",
    "\n",
    "    @property\n",
    "    def nome_fantasia(self):\n",
    "        return self.__nome_fantasia\n",
    "\n",
    "    @nome_fantasia.setter\n",
    "    def nome_fantasia(self, nome_fantasia):\n",
    "        self.__nome_fantasia = nome_fantasia\n",
    "\n",
    "    @property\n",
    "    def cnpj(self):\n",
    "        return self.__cnpj\n",
    "\n",
    "    @cnpj.setter\n",
    "    def cnpj(self, cnpj):\n",
    "        self.__cnpj = cnpj\n",
    "\n",
    "    def apresentar(self):\n",
    "        return f\"Prazer, somos da empresa {self.__nome_fantasia}, nossa Razão Social é {self.__razao_social}, nosso CNPJ é {self.__cnpj} e nossa sede fica em {self.local}.\"\n",
    "\n",
    "if __name__ == \"__main__\":\n",
    "    pf = PessoaFisica(\"\", \"\", \"\", \"\")\n",
    "    pj = PessoaJuridica(\"\", \"\", \"\", \"\")\n",
    "\n",
    "    pf.nome = \"Fulano\"\n",
    "    pf.cpf = \"807.416.550-71\"\n",
    "    pf.cargo = \"Assistente Administrativo\"\n",
    "    pf.local = \"Brasília\"\n",
    "\n",
    "    pj.razao_social = \"Corp S.A.\"\n",
    "    pj.nome_fantasia = \"McDonalds\"\n",
    "    pj.cnpj = \"21.721.127/0001-70\"\n",
    "    pj.local = \"Brasília\"\n",
    "\n",
    "    print(pf.apresentar())\n",
    "    print(pj.apresentar())"
   ]
  }
 ],
 "metadata": {
  "kernelspec": {
   "display_name": ".venv",
   "language": "python",
   "name": "python3"
  },
  "language_info": {
   "codemirror_mode": {
    "name": "ipython",
    "version": 3
   },
   "file_extension": ".py",
   "mimetype": "text/x-python",
   "name": "python",
   "nbconvert_exporter": "python",
   "pygments_lexer": "ipython3",
   "version": "3.12.7"
  }
 },
 "nbformat": 4,
 "nbformat_minor": 2
}
