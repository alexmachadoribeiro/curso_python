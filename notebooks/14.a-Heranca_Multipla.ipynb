{
 "cells": [
  {
   "cell_type": "markdown",
   "metadata": {},
   "source": [
    "# **Herança Múltipla**\n",
    "---"
   ]
  },
  {
   "cell_type": "markdown",
   "metadata": {},
   "source": [
    "\n",
    "## Pré-requisitos da aula\n",
    "\n",
    "- Os 4 Pilares da Orientação a Objetos\n",
    "---"
   ]
  },
  {
   "cell_type": "markdown",
   "metadata": {},
   "source": [
    "Apesar de fazer parte do conceito de **Herança** visto na aula dos **4 Pilares da Orientação a Objetos**, esta aula foi separada em outra pois o recurso da **Herança Múltipla** é visto em poucas linguagens, mesmo entre aquelas que possuem suporte ou são, de fato, orientadas a objeto. Atualmente, só existem duas linguagens de programação que possuem suporte à herança múltipla. São elas o **C++** e, é claro, o **Python**.\n",
    "\n",
    "**Herança Múltipla é o recurso que permite que uma subclasse possa herdar atributos e métodos de mais de uma superclasse simultâneamente.**\n",
    "\n",
    "Vamos supor que precisaremos criar uma classe que possua atributos e métodos de duas classes diferentes. Para o nosso exemplo, vamos chamar essa classe de **Filho**, que por usa vez irá herdar das superclasses **Pai** e **Mae**. Para isso, crie um novo projeto com o nome que desejar (sugestão: **heranca_multipla**), e siga o mesmo ritual padrão de todos os nossos projetos já estabelecido nas aulas anteriores.\n",
    "\n",
    "Começaremos criando uma classe chamada **Pai**. Definiremos os atributos como **private** e os atributos:"
   ]
  },
  {
   "cell_type": "code",
   "execution_count": null,
   "metadata": {},
   "outputs": [],
   "source": [
    "# primeira superclasse\n",
    "class Pai:\n",
    "    def __init__(self, nome, cpf, email, profissao):\n",
    "        self.__nome = nome\n",
    "        self.__cpf = cpf\n",
    "        self.__email = email\n",
    "        self.__profissao = profissao\n",
    "\n",
    "    @property\n",
    "    def nome(self):\n",
    "        return self.__nome\n",
    "\n",
    "    @nome.setter\n",
    "    def nome(self, nome):\n",
    "        self.__nome = nome\n",
    "\n",
    "    @property\n",
    "    def cpf(self):\n",
    "        return self.__cpf\n",
    "\n",
    "    @cpf.setter\n",
    "    def cpf(self, cpf):\n",
    "        self.__cpf = cpf\n",
    "\n",
    "    @property\n",
    "    def email(self):\n",
    "        return self.__email\n",
    "\n",
    "    @email.setter\n",
    "    def email(self, email):\n",
    "        self.__email = email\n",
    "\n",
    "    @property\n",
    "    def profissao(self):\n",
    "        return self.__profissao\n",
    "\n",
    "    @profissao.setter\n",
    "    def profissao(self, profissao):\n",
    "        self.__profissao = profissao\n",
    "\n",
    "    def cumprimentar(self):\n",
    "        return f\"Sou {self.__nome}, meu CPF é {self.__cpf}, meu e-mail é {self.__email} e trabalho como {self.__profissao}.\""
   ]
  },
  {
   "cell_type": "markdown",
   "metadata": {},
   "source": [
    "Pronto. Agora, criaremos uma segunda classe, esta que inicialmente não possui relação alguma com a classe **Pai**, e que daremos o nome de **Mae**:"
   ]
  },
  {
   "cell_type": "code",
   "execution_count": null,
   "metadata": {},
   "outputs": [],
   "source": [
    "# segunda superclasse\n",
    "class Mae:\n",
    "    def __init__(self, olhos, peso, altura, tipo_sanguineo):\n",
    "        self.__olhos = olhos\n",
    "        self.__peso = peso\n",
    "        self.__altura = altura\n",
    "        self.__tipo_sanguineo = tipo_sanguineo\n",
    "\n",
    "    @property\n",
    "    def olhos(self):\n",
    "        return self.__olhos\n",
    "\n",
    "    @olhos.setter\n",
    "    def olhos(self, olhos):\n",
    "        self.__olhos = olhos\n",
    "\n",
    "    @property\n",
    "    def peso(self):\n",
    "        return self.__peso\n",
    "\n",
    "    @peso.setter\n",
    "    def peso(self, peso):\n",
    "        self.__peso = peso\n",
    "\n",
    "    @property\n",
    "    def altura(self):\n",
    "        return self.__altura\n",
    "\n",
    "    @altura.setter\n",
    "    def altura(self, altura):\n",
    "        self.__altura = altura\n",
    "\n",
    "    @property\n",
    "    def tipo_sanguineo(self):\n",
    "        return self.__tipo_sanguineo\n",
    "\n",
    "    @tipo_sanguineo.setter\n",
    "    def tipo_sanguineo(self, tipo_sanguineo):\n",
    "        self.__tipo_sanguineo = tipo_sanguineo\n",
    "\n",
    "    def mostrar_fisico(self):\n",
    "        return f\"Tenho olhos {self.__olhos}, {self.__peso} kg, {self.__altura} m de altura, sangue é {self.__tipo_sanguineo}.\""
   ]
  },
  {
   "cell_type": "markdown",
   "metadata": {},
   "source": [
    "Agora faremos a tal da herança múltipla: iremos criar uma terceira classe, chamada **Filho**, que herdará os atributos das duas classes simultâneamente, e ainda terá os métodos dos dois. Para isso, precisaremos criar um construtor que tenha os atributos dos dois, retirando a função `super()` e trocando pelo nome das superclasses, seguido de `__init__`. Veja:"
   ]
  },
  {
   "cell_type": "code",
   "execution_count": 12,
   "metadata": {},
   "outputs": [],
   "source": [
    "# subclasse\n",
    "class Filho(Pai, Mae):\n",
    "    def __init__(self, nome, cpf, email, profissao, olhos, peso, altura, tipo_sanguineo):\n",
    "        Pai.__init__(self, nome, cpf, email, profissao)\n",
    "        Mae.__init__(self, olhos, peso, altura, tipo_sanguineo)"
   ]
  },
  {
   "cell_type": "markdown",
   "metadata": {},
   "source": [
    "Apesar dessa classe ter um tamanho menor, dentro dela estão todos os getters e setters das duas superclasses, além dos métodos `cumprimentar()` e `mostrar_fisico()`.\n",
    "\n",
    "Vamos criar agora o algoritmo principal:"
   ]
  },
  {
   "cell_type": "code",
   "execution_count": 13,
   "metadata": {},
   "outputs": [
    {
     "name": "stdout",
     "output_type": "stream",
     "text": [
      "Olá, me chamo Júnior, meu CPF é 754.785.470-26, meu e-mail é junior@gmail.com e trabalho como Programador.\n",
      "Tenho olhos Verdes, peso 85.0 kg, tenho 1.81 metros de altura, e meu tipo sanguíneo é A+.\n"
     ]
    }
   ],
   "source": [
    "if __name__ == \"__main__\":\n",
    "    # instancia o objeto da subclasse\n",
    "    filho = Filho(\"\", \"\", \"\", \"\", \"\", 0.0, 0.0, \"\")\n",
    "\n",
    "    # setando os valores\n",
    "    filho.nome = \"Júnior\"\n",
    "    filho.cpf = \"754.785.470-26\"\n",
    "    filho.email = \"junior@gmail.com\"\n",
    "    filho.profissao = \"Programador\"\n",
    "    filho.olhos = \"Verdes\"\n",
    "    filho.peso = 85.0\n",
    "    filho.altura = 1.81\n",
    "    filho.tipo_sanguineo = \"A+\"\n",
    "\n",
    "    # executando os métodos\n",
    "    print(filho.cumprimentar())\n",
    "    print(filho.mostrar_fisico())"
   ]
  },
  {
   "cell_type": "markdown",
   "metadata": {},
   "source": [
    "E é isso!!!\n",
    "\n",
    "## **Código-fonte final**\n",
    "---"
   ]
  },
  {
   "cell_type": "code",
   "execution_count": null,
   "metadata": {},
   "outputs": [
    {
     "name": "stdout",
     "output_type": "stream",
     "text": [
      "Olá, me chamo Júnior, meu CPF é 754.785.470-26, meu e-mail é junior@gmail.com e trabalho como Programador.\n",
      "Tenho olhos Verdes, peso 85.0 kg, tenho 1.81 metros de altura, e meu tipo sanguíneo é A+.\n"
     ]
    }
   ],
   "source": [
    "class Pai:\n",
    "    def __init__(self, nome, cpf, email, profissao):\n",
    "        self.__nome = nome\n",
    "        self.__cpf = cpf\n",
    "        self.__email = email\n",
    "        self.__profissao = profissao\n",
    "\n",
    "    @property\n",
    "    def nome(self):\n",
    "        return self.__nome\n",
    "\n",
    "    @nome.setter\n",
    "    def nome(self, nome):\n",
    "        self.__nome = nome\n",
    "\n",
    "    @property\n",
    "    def cpf(self):\n",
    "        return self.__cpf\n",
    "\n",
    "    @cpf.setter\n",
    "    def cpf(self, cpf):\n",
    "        self.__cpf = cpf\n",
    "\n",
    "    @property\n",
    "    def email(self):\n",
    "        return self.__email\n",
    "\n",
    "    @email.setter\n",
    "    def email(self, email):\n",
    "        self.__email = email\n",
    "\n",
    "    @property\n",
    "    def profissao(self):\n",
    "        return self.__profissao\n",
    "\n",
    "    @profissao.setter\n",
    "    def profissao(self, profissao):\n",
    "        self.__profissao = profissao\n",
    "\n",
    "    def cumprimentar(self):\n",
    "        return f\"Sou {self.__nome}, meu CPF é {self.__cpf}, meu e-mail é {self.__email} e trabalho como {self.__profissao}.\"\n",
    "\n",
    "class Mae:\n",
    "    def __init__(self, olhos, peso, altura, tipo_sanguineo):\n",
    "        self.__olhos = olhos\n",
    "        self.__peso = peso\n",
    "        self.__altura = altura\n",
    "        self.__tipo_sanguineo = tipo_sanguineo\n",
    "\n",
    "    @property\n",
    "    def olhos(self):\n",
    "        return self.__olhos\n",
    "\n",
    "    @olhos.setter\n",
    "    def olhos(self, olhos):\n",
    "        self.__olhos = olhos\n",
    "\n",
    "    @property\n",
    "    def peso(self):\n",
    "        return self.__peso\n",
    "\n",
    "    @peso.setter\n",
    "    def peso(self, peso):\n",
    "        self.__peso = peso\n",
    "\n",
    "    @property\n",
    "    def altura(self):\n",
    "        return self.__altura\n",
    "\n",
    "    @altura.setter\n",
    "    def altura(self, altura):\n",
    "        self.__altura = altura\n",
    "\n",
    "    @property\n",
    "    def tipo_sanguineo(self):\n",
    "        return self.__tipo_sanguineo\n",
    "\n",
    "    @tipo_sanguineo.setter\n",
    "    def tipo_sanguineo(self, tipo_sanguineo):\n",
    "        self.__tipo_sanguineo = tipo_sanguineo\n",
    "\n",
    "    def mostrar_fisico(self):\n",
    "        return f\"Tenho olhos {self.__olhos}, {self.__peso} kg, {self.__altura} m de altura, sangue é {self.__tipo_sanguineo}.\"\n",
    "\n",
    "class Filho(Pai, Mae):\n",
    "    def __init__(self, nome, cpf, email, profissao, olhos, peso, altura, tipo_sanguineo):\n",
    "        Pai.__init__(self, nome, cpf, email, profissao)\n",
    "        Mae.__init__(self, olhos, peso, altura, tipo_sanguineo)\n",
    "\n",
    "if __name__ == \"__main__\":\n",
    "    filho = Filho(\"\", \"\", \"\", \"\", \"\", 0.0, 0.0, \"\")\n",
    "\n",
    "    filho.nome = \"Júnior\"\n",
    "    filho.cpf = \"754.785.470-26\"\n",
    "    filho.email = \"junior@gmail.com\"\n",
    "    filho.profissao = \"Programador\"\n",
    "    filho.olhos = \"Verdes\"\n",
    "    filho.peso = 85.0\n",
    "    filho.altura = 1.81\n",
    "    filho.tipo_sanguineo = \"A+\"\n",
    "\n",
    "    print(filho.cumprimentar())\n",
    "    print(filho.mostrar_fisico())"
   ]
  }
 ],
 "metadata": {
  "kernelspec": {
   "display_name": ".venv",
   "language": "python",
   "name": "python3"
  },
  "language_info": {
   "codemirror_mode": {
    "name": "ipython",
    "version": 3
   },
   "file_extension": ".py",
   "mimetype": "text/x-python",
   "name": "python",
   "nbconvert_exporter": "python",
   "pygments_lexer": "ipython3",
   "version": "3.12.7"
  }
 },
 "nbformat": 4,
 "nbformat_minor": 2
}
