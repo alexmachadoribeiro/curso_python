{
 "cells": [
  {
   "cell_type": "markdown",
   "metadata": {},
   "source": [
    "# **Interface Gráfica**\n",
    "---"
   ]
  },
  {
   "cell_type": "markdown",
   "metadata": {},
   "source": [
    "## Pré-requisitos da aula\n",
    "\n",
    "- Import\n",
    "- Funções\n",
    "- Orientação a Objetos\n",
    "\n",
    "---"
   ]
  },
  {
   "cell_type": "markdown",
   "metadata": {},
   "source": [
    "Até o momento do curso estávamos executando nossos programas em um terminal, ou seja, uma tela preta com textos e comandos em textos. Mas como sabemos, os programas da atualidade não são mais executados assim, ou pelo menos não para o usuário final. Quase a totalidade dos softwares hoje em dia são executados em telas que chamamos de **janelas**, e os comandos são executados através dos cliques do **mouse**. Isso é possível graças ao que chamamos de **GUI** (sigla para **Graphical User Interface**, ou em português, **Interafce Gráfica com o Usuário**). A **Interface Gráfica com o Usuário**, ou simplesmente **Interface Gráfica** consiste em um conjuntos de elementos visuais e interativos que permitem que toda a operação de entrada e saída de dados ocorra nas janelas do Sistema Operacional.\n",
    "\n",
    "A interface gráfica é utilizada em computadores, smartphones, e dispositivos com touchscreen. Ela torna a utilização dos dispositivos mais fácil, substituindo a necessidade de utilizar comandos de texto complexos. A interface gráfica usa símbolos e linguagem visual para estabelecer a comunicação com o usuário. Por exemplo, quando se toca em um ícone no celular ou se clica em um link em um site, está-se a utilizar a interface gráfica. Uma interface bem projetada e otimizada pode facilitar a experiência do usuário."
   ]
  },
  {
   "cell_type": "markdown",
   "metadata": {},
   "source": [
    "## História da Interface Gráfica\n",
    "---\n",
    "\n",
    "### Xerox\n",
    "\n",
    "A ideia de uma Interface Gráfica foi apresentada pelo engenheiro Vannevar Bush, que na época trabalhava na famosa empresa de TI **Xerox** (a pronúncia correta é Zírôx), sediada no famoso Vale do Silício, onde se concentram a sede da maioria das empresas de TI existentes no mundo. O que transformou Bush em um pioneiro da área foi a percepção de que os meios de armazenamento de informações não estavam mais comportando tantos dados. A máquina imaginada por Bush, chamada de Memex, era capaz não apenas de armazenar tanta informação, como também de relacioná-las e oferecer uma maneira fácil de procurá-las em meio a tantos dados.\n",
    "\n",
    "### O pai do mouse e da interface gráfica\n",
    "\n",
    "Inspirado pelo trabalho de Vannevar Bush, o engenheiro elétrico Douglas Engelbart visualizou a possibilidade de usar computadores para aumentar o intelecto humano, em vez de substituí-lo. Ele acreditava que, com informações dispostas em uma tela, o usuário poderia se organizar de maneira gráfica e pular de uma informação para outra, sempre que necessário. Como no caso do Memex, as ideias de Engelbart estavam muito à frente de sua época. Em 1962, até mesmo interfaces em modo texto, com comandos sendo executados em tempo real, eram consideradas como “de outro mundo”, já que os mainframes da época eram operados com cartões perfurados e demoravam horas ou dias para entregarem o resultado do processamento.\n",
    "\n",
    "Em 1968, depois de conseguir um financiamento para suas pesquisas, Engelbart e sua equipe demonstraram o potencial dos computadores e de alguns dispositivos de entrada. Entre os “periféricos”, estava uma caixa retangular e conectada ao computador por um cabo: era um dos primeiros modelos de mouse da história, inventado pelo próprio Engelbart e construído por um dos engenheiros da equipe. Mas o mouse foi apenas uma das muitas inovações demonstradas naquele dia, que incluíam o hipertexto, comunicação por rede e uma tela compartilhada por duas pessoas que estavam em locais diferentes, mas que podiam trabalhar em conjunto: a primeira videoconferência da história. Os softwares desenvolvidos para esse computador ainda não trabalhavam com o conceito de janelas, como nas interfaces atuais.\n",
    "\n",
    "### Janelas: cada um no seu quadrado\n",
    "\n",
    "Com o surgimento da Smalltalk, linguagem de programação e ambiente de desenvolvimento que possuía uma interface gráfica diferenciada, a GUI começou a ganhar aspectos mais modernos, em 1974. A grande inovação foram as janelas, que possuíam bordas e barras de títulos que permitiam a identificação e o reposicionamento delas. O conceito de ícones também surgiu na mesma época, assim como o menu de contexto. No mesmo período, também foram apresentadas as barras de rolagem, as caixas de diálogo e os botões de opções (radio buttons).\n",
    "\n",
    "As primeiras interfaces gráficas de usuário como nós concebemos atualmente foram criadas na década de 1970, pela **Xerox**, no **PARC** (**Palo Research Center**, ou em português, **Centro de Pesquisas de Palo Alto**), e foram pensadas para diversas máquinas da companhia. Em 1975, a Xerox lançou o Alto, uma máquina destinada a uso industrial. Tratava-se de uma interface semelhante à que temos hoje, entretanto, com poucos recursos e não tão bonita.\n",
    "\n",
    "### Apple Lisa\n",
    "\n",
    "De início, a **Xerox** não acreditava no potencial das GUI, e embora tenha chegado a lançar no mercado alguns computadores com interface gráfica, não houve marketing suficiente, e as vendas foram baixíssimas, até mesmo porque, em parte, acreditava-se na época que eram apenas brinquedo de criança, e poucos levaram a sério o invento.\n",
    "\n",
    "As coisas começaram a mudar após uma visita dos líderes da até então recente empresa **Apple Computers**, **Steve Jobs** e **Steve Wozniak**, ao PARC para conhecer a \"novíssima\" invenção da Xerox. Após essa visita, \"coincidentemente\" a Apple começou o desenvolvimento do computador projetado para ser o suessor de sua máquina mais moderna até então: o **Apple III**, e então no ano de 1983 foi lançado o **Apple Lisa**, o primeiro computador da Apple a utilizar interface gráfica e mouse, tratados como uma grande novidade na época.\n",
    "\n",
    "Infelizmente, o alto custo do aparelho obrigou a empresa a vendê-la a preços exorbitantes, e o produto acabou sendo um grande fracasso comercial na época.\n",
    "\n",
    "### Apple Macintosh\n",
    "\n",
    "Steve Jobs não se deixou abalar, e aproximadamente 1 ano após o lançamento do Lisa, a Apple já estava preparada para lançar seu sucessor. Com John Scully, ex-CEO da Pepsi como novo CEO da Apple, a empresa não economizou no marketing, e contratou o famoso diretor de cinema Ridley Scott para dirigir o comercial de lançamento do novíssimo Macintosh, com direito a referência ao livro **1984**, de George Orwell. Assim como o Lisa, o Macintosh era um computador com interface gráfica e mouse, e foi um dos computadores mais famosos da empresa até hoje, tanto que muitos de seus computadores mais novos herdaram o nome **Mac**.\n",
    "\n",
    "### Microsoft Windows 1.0\n",
    "\n",
    "Em 1985, pouco tempo depois do lançamento do Macintosh, a Microsoft em parceria com a **International Business Machine** (mais conhecida como **IBM**) lançava o **Windows** para o computador **IBM-PC**. Ao contrário do que muita gente acredita hoje, o Windows não era, pelo menos inicialmente, um Sistema Operacional, mas sim um programa de gerenciamento do **verdadeiro** SO do IBM-PC: o **MS-DOS**, que adicionava a GUI por cima do DOS, que por sua vez funcionava através de linhas de comando. Também ao contrário do que muita gente pensa, o Windows não foi um sucesso na época, pois os comandos não respondiam tão bem quanto na linha de comando, e o produto logo foi tratado com desdém.\n",
    "\n",
    "Mas assim como o seu concorrente mais direto, o computador também tinha janelas e usava o mouse, e foi considerado uma cópia do Macintosh. Na verdade, a Apple tratou o produto como plágio, e a Microsoft acabou sendo processada pela Apple, embora a vitória tenha sido dada à Microsoft, já que foi entendido que embora fossem produtos praticamente idêntivos, o conceito de \"ideia\" não poderia ser plagiada, e portanto não teria base legal, e a única coisa que poderia ser passível de plágio seria a construção do software, ou seja, o seu código-fonte, que de fato era diferente do código-fonte do Sistema do Macintosh.\n",
    "\n",
    "### Microsoft Windows 3.x\n",
    "\n",
    "O Windows só passou a ser considerado um Sistema Operacional a partir de 1990, com o lançamento do Windows 3, mesmo que ele ainda precisasse do DOS para poder rodar. Foi também a partir do Windows 3 que o software passou a ser considerado um sucesso, e mesmo assim, isso aconteceu após a empresa lançar alguns patches.\n",
    "\n",
    "O sistema foi tão famoso que continuou sendo utilizado durante muitos anos, mesmo após o lançamento de novos Windows. Na verdade, o sistema deixou de ter o suporte em 2001, quando já existia o famosíssimo Windows XP, mas até 2006, quando o Windows Vista foi lançado, ainda era comum ver máquinas equipadas com Windows 3 em postos de gasolina ao redor do Brasil.\n",
    "\n",
    "### Microsoft Windows 95\n",
    "\n",
    "Dois dos itens mais famosos da história das GUI são a **Barra de Tarefas** e o **Menu Iniciar**. Esses recursos surgiram com o Windows 95, e desde então fazem parte de quase todos os SO Windows lançados até hoje. Foi também no Windows 95 que a Internet passou a ser conhecida, mesmo que o acesso na época, feito através da tecnologia **Dial-Up** deixasse muitíssimo a desejar.\n",
    "\n",
    "### Palm, Nokia, Blackberry, e os Smartphones\n",
    "\n",
    "No início dos anos 2000, surgiram os primeiros celulares com telas coloridas, câmera integrada e com acesso à Internet através da então novíssima tecnologia **3G**, cujo acesso era feito através do tipo de rede conhecida como **WAP**, que era exclusiva para aparelhos móveis.\n",
    "\n",
    "Foi nesse cenário que surgiram os **PDAs** (**Personal Digital Assistant**) e os **Smartphones**. Na verdade, os Smartphones são muito mais antigos do que muita gente pensa, os primeiros surgiram em 1989, e eram, de fato, os telefones mais avançados do mundo, ao unirem o melhor do celular convencional com os recursos do PDA, que aqui no Brasil eram mais conhecidos como **Agênda Eletrônica**. Porém, os novos recursos saíndo para os celulares da época beneficiaram, e muito, os smartphones, principalmente depois que a Palm lançou no mercado o famoso **Palmtop**, que na época era chamado de \"**computador de bolso**\" por muitos.\n",
    "\n",
    "De fato, o Palmtop pode ser considerado um dos primeiros, se não for o primeiro dispositivo móvel com uma interface gráfica. Surfando na mesma onda, a **Research In Motion**, também conhecida como **RIM**, lançou seu aparelho mais famoso até hoje: o **Blackberry** (Blackberry era o nome da família de smartphones, e não da marca), um smartphone que conseguia ter bem mais a cara de um computador de bolso, já que uma de suas principais características era o teclado QWERTY embutido no aparelho. Além da Palm, sua principal concorrente na época era a Nokia, famosa não só por seus celulares, como pela qualidade dos seus smartphones, que eram equiparáveis às duas marcas.\n",
    "\n",
    "Todas as três marcas possuíam Sistemas Operacionais com interface gráfica, embora não fosse possível utilizar, é claro, o mouse.\n",
    "\n",
    "### Apple iPhone\n",
    "\n",
    "Com a popularização dos smartphones, a Apple resolveu lançar um para chamar de seu. O **iPhone** era um smartphone que conseguia usar mais ainda os mesmos recursos de um computador pessoal, como acesso à Wi-Fi e conseguia acessar às mesmas páginas de Internet que eram acessadas por um computador de mesa, além da tecnologia **Multi-touch**, que era superior ao Touch-Screen da época. Equipado com o Sistema Operacional **iOS**, ele provocou uma revolução no mercado de smartphones, e foi o responsável por tornar os telefones celulares obsoletos, assim como os smartphones das outras marcas, fazendo com que as três principais marcas de smartphones - Palm, RIM, e Nokia - desaparecessem do mercado.\n",
    "\n",
    "Não só isso. Graças à ele, surgiram uma nova geração de smartphones, e agora eles são responsáveis pela maioria dos acessos à Internet no mundo.\n",
    "\n",
    "### Android\n",
    "\n",
    "Mesmo assim, ele não é o principal SO móvel do mundo. Graças à popularização dos smartphones, o Sistema Operacional mais usado no mundo deixou de ser o Windows e passou a ser o Android, já que não só os dispositivos móveis supearam em número os computadores desktops, como também o Android equipa várias marcas de smartphones diferentes, como a Motrola, a Samsung e a Xiaomi."
   ]
  }
 ],
 "metadata": {
  "language_info": {
   "name": "python"
  }
 },
 "nbformat": 4,
 "nbformat_minor": 2
}
