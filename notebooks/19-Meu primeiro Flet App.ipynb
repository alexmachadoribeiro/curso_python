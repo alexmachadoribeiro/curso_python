{
 "cells": [
  {
   "cell_type": "markdown",
   "metadata": {},
   "source": [
    "# **Primeiro App com Flet**\n",
    "---\n",
    "\n",
    "## Pré-requisitos da aula\n",
    "\n",
    "- Funções\n",
    "- Import\n",
    "- Orientação a Objetos\n",
    "- Interface Gráfica\n",
    "- Introdução ao Flet\n",
    "\n",
    "---"
   ]
  },
  {
   "cell_type": "markdown",
   "metadata": {},
   "source": [
    "Agora que já conhecemos o Flet, vamos começara a criar nossos apps com ele.\n",
    "\n",
    "**Obs:** Antes de criar seu primeiro aplicativo Flet, você precisa configurar seu ambiente de desenvolvimento que requer Python 3.8 ou superior e pacote flet instalado (`pip install flet`).\n",
    "**Obs 2:** no momento da criação dessa apostila, o Flet ainda não era compatível com o Python 3.13.0, que era a versão mais recente da linguagem."
   ]
  },
  {
   "cell_type": "markdown",
   "metadata": {},
   "source": [
    "## Começando\n",
    "---\n",
    "\n",
    "### Passo 1: Criar pasta do projeto\n",
    "\n",
    "Aqui vamos aprender sobre os primeiros passos da criação de qualquer Flet App. E a primeira coisa a se fazer é justamente criar uma pasta para o seu projeto. Vamos criar uma pasta chamada **meu_primeiro_flet_app**. Em seguida, entre dentro da pasta, de preferência pelo sua IDE favorita (no meu caso, irei usar o VSCode).\n",
    "\n",
    "O próximo passo agora é criar um ambiente virtual."
   ]
  },
  {
   "cell_type": "markdown",
   "metadata": {},
   "source": [
    "\n",
    "### Passo 2: Criar Ambiente virtual\n",
    "\n",
    "Já vimos esse capítulo antes, lá no início do curso, mas como nossos programas agora vão ficar mais sérios, não custa nada recapitular, até porque aqui agora teremos mais algumas novidades."
   ]
  },
  {
   "cell_type": "markdown",
   "metadata": {},
   "source": [
    "#### Python venv\n",
    "\n",
    "Como bem sabemos, há várias formas de se criar um ambiente virtual Python, sendo que vimos 3 delas:\n",
    "\n",
    "- Abrindo o terminal com `Ctrl+J` e executando o comando `python -m venv .venv`.\n",
    "- Pelo VSCode, aperte a tecla de função **F1**, digite `python` e procure pela opção **Criar Ambiente...** (**Create Environment...** no inglês). Essa forma permite você escolher a versão do Python que deseja usar, caso tenha mais de uma versão instalada.\n",
    "- Pela extensão **Python Environment Manager**."
   ]
  },
  {
   "cell_type": "markdown",
   "metadata": {},
   "source": [
    "### Passo 3: instalar pacote\n",
    "\n",
    "Há três formas de se criar um novo projeto Flet:\n",
    "\n",
    "\n",
    "#### Forma 1\n",
    "\n",
    "1. Instale o Flet no ambiente virtual recém-criado através do comando do terminal `pip install flet` na pasta do projeto.\n",
    "2. Execute o comando no terminal `flet --version` para ter certeza de que o Flet foi corretamente instalado, e também para verificar a versão do projeto.\n",
    "3. Uma vez com o Flet instalado, crie dentro da pasta do projeto um arquivo `.py`, exemplo: `app.py`.\n",
    "4. Digite na mão a estrutura do código Flet, conforme visto na aula anterior.\n",
    "\n",
    "#### Forma 2\n",
    "\n",
    "1. Siga normalmente os passos **1** e **2** da forma 1, ou seja, `pip install flet` e depois `flet --version` no terminal dentro da pasta do projeto.\n",
    "2. Ainda com o terminal aberto dentro da pasta do projeto, execute o comando `flet create .` (com o ponto separado da palavra `create` por espaço).\n",
    "\n",
    "**Obs:** esse método é melhor que a forma 1 porque cria automaticamente uma estrutura mínima para o seu projeto, tanto no código-fonte quanto na estrutura de pastas. Essa estrutura fará bastante diferença nas aulas finais de Flet, quando estivermos prontos para fazer o deploy dos nossos projetos.\n",
    "\n",
    "#### Forma 3: Poetry\n",
    "\n",
    "**Obs:** De todas as formas, essa aqui é a melhor, pois cria uma estrutura ainda mais completa que a da forma 2, incluíndo uma pasta de testes. Porém, como você irá observar, tem a desvantagem de ser a forma mais burocrática de todas as 3, e por esse motivo, tende a afastar parte dos desenvolvedores iniciantes.\n",
    "\n",
    "**Obs 2:** para essa seção, consulte pela seção **Poetry** na página **Getting started** da documentação oficial do Flet, no site https://flet.dev/docs/getting-started/."
   ]
  },
  {
   "cell_type": "markdown",
   "metadata": {},
   "source": [
    "## Desenvolvendo o projeto\n",
    "---"
   ]
  }
 ],
 "metadata": {
  "language_info": {
   "name": "python"
  }
 },
 "nbformat": 4,
 "nbformat_minor": 2
}
