{
 "cells": [
  {
   "cell_type": "markdown",
   "metadata": {},
   "source": [
    "# **Dataclasses**\n",
    "---"
   ]
  },
  {
   "cell_type": "markdown",
   "metadata": {},
   "source": [
    "## Pré-requisitos da aula\n",
    "\n",
    "- Import\n",
    "- Os 4 Pilares da Orientação a Objetos\n",
    "---"
   ]
  },
  {
   "cell_type": "markdown",
   "metadata": {},
   "source": [
    "Vocês já devem ter reparado que os classes que estamos criando nas últimas aulas estão ficando grandes demais, não é verdade? Nessa aula vamos aprender como deixá-las mais simplificadas sem perder nenhuma de suas características. Vamos falar de **Dataclasses**.\n",
    "\n",
    "As dataclasses são uma funcionalidade introduzida na versão 3.7 da linguagem, e são uma forma simplificada de criar classes que armazenam dados, proporcionando uma maneira fácil e rápida de implementar classes com atributos e métodos específicos para manipulação de dados.\n",
    "\n",
    "## Por quê utilizar dataclasses?\n",
    "\n",
    "É comum em Python utilizarmos classes para representar estruturas de dados, como por exemplo, um usuário com nome, idade e email. Para criar essa classe, precisamos definir os atributos, o método construtor, métodos e outras funcionalidades específicas.\n",
    "\n",
    "Isso pode ser um pouco trabalhoso e propenso a erros.\n",
    "\n",
    "As dataclasses surgem como uma solução para tornar esse processo de criação de classes para armazenamento de dados mais simples, reduzindo a quantidade de código necessário. Com as dataclasses, podemos criar essas classes de forma mais declarativa e legível, concentrando apenas na definição dos atributos e deixando o Python gerar o código necessário automaticamente.\n",
    "\n",
    "Observe, por exemplo, a classe `Pessoa`no código abaixo, escrito da mesma forma que vínhamos fazendo nas aulas anteriores:"
   ]
  },
  {
   "cell_type": "code",
   "execution_count": 5,
   "metadata": {},
   "outputs": [],
   "source": [
    "# classe Pessoa\n",
    "class Pessoa:\n",
    "    # construtor\n",
    "    def __init(self, nome, idade, cargo, peso, altura):\n",
    "        self.__nome = nome\n",
    "        self.__idade = idade\n",
    "        self.__cargo = cargo\n",
    "        self.__peso = peso\n",
    "        self.__altura = altura\n",
    "\n",
    "    # getters e setters\n",
    "    @property\n",
    "    def nome(self):\n",
    "        return self.__nome\n",
    "\n",
    "    @nome.setter\n",
    "    def nome(self, nome):\n",
    "        self.__nome = nome\n",
    "\n",
    "    @property\n",
    "    def idade(self):\n",
    "        return self.__idade\n",
    "\n",
    "    @idade.setter\n",
    "    def idade(self, idade):\n",
    "        self.__idade = idade\n",
    "\n",
    "    @property\n",
    "    def cargo(self):\n",
    "        return self.__cargo\n",
    "\n",
    "    @cargo.setter\n",
    "    def cargo(self, cargo):\n",
    "        self.__cargo = cargo\n",
    "\n",
    "    @property\n",
    "    def peso(self):\n",
    "        return self.__peso\n",
    "\n",
    "    @peso.setter\n",
    "    def peso(self, peso):\n",
    "        self.__peso = peso\n",
    "\n",
    "    @property\n",
    "    def altura(self):\n",
    "        return self.__altura\n",
    "\n",
    "    @altura.setter\n",
    "    def altura(self, altura):\n",
    "        self.__altura = altura"
   ]
  },
  {
   "cell_type": "markdown",
   "metadata": {},
   "source": [
    "Criamos normalmente o construtor da classe, definimos nossos atributos como **private**, conforme manda o **encapsulamento**, e geramos os ***getters*** e ***setters*** normalmente. Até aqui, nenhuma novidade.\n",
    "\n",
    "Mas observe como a classe já está com um tamanho considerável. Criar uma classe assim costuma demorar um tempo e dar um certo trabalho, por mais que não seja tão difícil assim. E tempo é um luxo que desenvolvedor não costuma ter.\n",
    "\n",
    "Portanto, vamos tratar de simplificar essa classe para deixá-la mais limpa.\n",
    "\n",
    "O primeiro passo é importar a anotação `dataclass` da biblioteca `dataclasses`. Essa biblioteca já se encontra no Python, e não há nenhuma necessidade de instalação do pacote:"
   ]
  },
  {
   "cell_type": "code",
   "execution_count": 6,
   "metadata": {},
   "outputs": [],
   "source": [
    "# importando o dataclass\n",
    "from dataclasses import dataclass"
   ]
  },
  {
   "cell_type": "markdown",
   "metadata": {},
   "source": [
    "Nosso próximo passo é recriar a nossa classe. Vamos recriar a classe `Pessoa`, mas desta vez usando o conceito de **dataclasse**. Usamos a anotação `@dataclass` antes da classe, e declaramos os nossos atributos em seguida, **sem precisar chamar o método especial `__init__`**, da mesma forma como fizemos na primeira aula de Orientação a Objetos. Mais do que isso: iremos declarar as variáveis e definir os tipos de cada um. **Exatamente**: vamos tipar os atributos. Veja:"
   ]
  },
  {
   "cell_type": "code",
   "execution_count": 7,
   "metadata": {},
   "outputs": [],
   "source": [
    "# classe Pessoa\n",
    "@dataclass\n",
    "class Pessoa:\n",
    "    # atributos\n",
    "    nome: str\n",
    "    idade: int\n",
    "    cargo: str\n",
    "    peso: float\n",
    "    altura: float"
   ]
  },
  {
   "cell_type": "markdown",
   "metadata": {},
   "source": [
    "E pronto! Exatamente isso! Essa é a classe pessoa com o **dataclass**. Ela já vem com o construtor os getters e setters, e com mais uma coisa que a classe tradicional não tem: tipagem. E é isso! Vamos então para o nosso algoritmo principal.\n",
    "\n",
    "Primeiro vamos instanciar nossa classe. Repare que ainda precisaremos definir os valores no construtor, como se tivéssemos criado o método `__init__` normalemnte. Veja:"
   ]
  },
  {
   "cell_type": "code",
   "execution_count": 8,
   "metadata": {},
   "outputs": [
    {
     "name": "stdout",
     "output_type": "stream",
     "text": [
      "Alex Machado\n",
      "39\n",
      "Programador\n",
      "95\n",
      "1.72\n"
     ]
    }
   ],
   "source": [
    "# algoritmo principal\n",
    "if __name__ == \"__main__\":\n",
    "    # isntancia da classe\n",
    "    usuario = Pessoa(\"\", 0, \"\", 0.0, 0.0)\n",
    "\n",
    "    # setando os valores\n",
    "    usuario.nome = \"Alex Machado\"\n",
    "    usuario.idade = 39\n",
    "    usuario.cargo = \"Programador\"\n",
    "    usuario.peso = 95\n",
    "    usuario.altura = 1.72\n",
    "\n",
    "    # saída de dados\n",
    "    print(usuario.nome)\n",
    "    print(usuario.idade)\n",
    "    print(usuario.cargo)\n",
    "    print(usuario.peso)\n",
    "    print(usuario.altura)"
   ]
  },
  {
   "cell_type": "markdown",
   "metadata": {},
   "source": [
    "Observe na saída de daods que os valores foram perfeitamente setados. E sim, a classe está obedecendo o pilar do **encapsulamento**, o que torna os atributos privados.\n",
    "\n",
    "Agora, que tal usarmos aqueles métodos especiais que aprendemos? Vamos usar alguns métodos especiais no algoritmo principal:"
   ]
  },
  {
   "cell_type": "code",
   "execution_count": 20,
   "metadata": {},
   "outputs": [
    {
     "name": "stdout",
     "output_type": "stream",
     "text": [
      "Eu sou Alex Machado, Programador de 39 anos, com 1.72 de altura e pesando 95 kg.\n",
      "Fim do objeto Alex Machado.\n"
     ]
    }
   ],
   "source": [
    "@dataclass\n",
    "class Pessoa:\n",
    "    # atributos\n",
    "    nome: str\n",
    "    idade: int\n",
    "    cargo: str\n",
    "    peso: float\n",
    "    altura: float\n",
    "\n",
    "    def __str__(self):\n",
    "        return f\"Eu sou {self.nome}, {self.cargo} de {len(self)} anos, com {self.altura} de altura e pesando {self.peso} kg.\"\n",
    "\n",
    "    def __len__(self):\n",
    "        return self.idade\n",
    "\n",
    "    def __del__(self):\n",
    "        print(f\"Fim do objeto {self.nome}.\")\n",
    "\n",
    "# algoritmo principal\n",
    "if __name__ == \"__main__\":\n",
    "    # isntancia da classe\n",
    "    usuario = Pessoa(\"\", 0, \"\", 0.0, 0.0)\n",
    "\n",
    "    # setando os valores\n",
    "    usuario.nome = \"Alex Machado\"\n",
    "    usuario.idade = 39\n",
    "    usuario.cargo = \"Programador\"\n",
    "    usuario.peso = 95\n",
    "    usuario.altura = 1.72\n",
    "\n",
    "    # saída de dados\n",
    "    print(usuario)\n",
    "\n",
    "    # fim do objeto\n",
    "    del(usuario)"
   ]
  },
  {
   "cell_type": "markdown",
   "metadata": {},
   "source": [
    "## **Código-fonte final**\n",
    "---"
   ]
  },
  {
   "cell_type": "code",
   "execution_count": 21,
   "metadata": {},
   "outputs": [
    {
     "name": "stdout",
     "output_type": "stream",
     "text": [
      "Eu sou Alex Machado, Programador de 39 anos, com 1.72 de altura e pesando 95 kg.\n",
      "Fim do objeto Alex Machado.\n"
     ]
    }
   ],
   "source": [
    "from dataclasses import dataclass\n",
    "\n",
    "@dataclass\n",
    "class Pessoa:\n",
    "    nome: str\n",
    "    idade: int\n",
    "    cargo: str\n",
    "    peso: float\n",
    "    altura: float\n",
    "\n",
    "    def __str__(self):\n",
    "        return f\"Eu sou {self.nome}, {self.cargo} de {len(self)} anos, com {self.altura} de altura e pesando {self.peso} kg.\"\n",
    "\n",
    "    def __len__(self):\n",
    "        return self.idade\n",
    "\n",
    "    def __del__(self):\n",
    "        print(f\"Fim do objeto {self.nome}.\")\n",
    "\n",
    "if __name__ == \"__main__\":\n",
    "    usuario = Pessoa(\"\", 0, \"\", 0.0, 0.0)\n",
    "\n",
    "    usuario.nome = \"Alex Machado\"\n",
    "    usuario.idade = 39\n",
    "    usuario.cargo = \"Programador\"\n",
    "    usuario.peso = 95\n",
    "    usuario.altura = 1.72\n",
    "\n",
    "    print(usuario)\n",
    "\n",
    "    del(usuario)"
   ]
  }
 ],
 "metadata": {
  "kernelspec": {
   "display_name": ".venv",
   "language": "python",
   "name": "python3"
  },
  "language_info": {
   "codemirror_mode": {
    "name": "ipython",
    "version": 3
   },
   "file_extension": ".py",
   "mimetype": "text/x-python",
   "name": "python",
   "nbconvert_exporter": "python",
   "pygments_lexer": "ipython3",
   "version": "3.12.7"
  }
 },
 "nbformat": 4,
 "nbformat_minor": 2
}
