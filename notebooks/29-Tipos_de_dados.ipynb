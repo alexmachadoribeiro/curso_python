{
 "cells": [
  {
   "cell_type": "markdown",
   "metadata": {},
   "source": [
    "# **Tipos de Dados**\n",
    "---"
   ]
  },
  {
   "cell_type": "markdown",
   "metadata": {},
   "source": [
    "## Requisitos da Aula\n",
    "\n",
    "- Modelo Lógico\n",
    "\n",
    "---"
   ]
  },
  {
   "cell_type": "markdown",
   "metadata": {},
   "source": [
    "Na aula anterior, vimos sobre como criar tabelas e seus campos no modelo lógico. Nesta aula, iremos aprender sobre os tipos de dados mais comuns dos campos."
   ]
  },
  {
   "cell_type": "markdown",
   "metadata": {},
   "source": [
    "<div style=\"display: flex; justify-content: center\">\n",
    "    <img src=\"../assets/workbench-10.png\" alt=\"MySQL Workbench\" />\n",
    "</div>"
   ]
  },
  {
   "cell_type": "markdown",
   "metadata": {},
   "source": [
    "Quando você cria um novo campo no modelo lógico, você precisa definir em **Datatype** o tipo de dado que aquele campo irá receber."
   ]
  },
  {
   "cell_type": "markdown",
   "metadata": {},
   "source": [
    "<div style=\"display: flex; justify-content: center\">\n",
    "    <img src=\"../assets/10_01.png\" alt=\"MySQL Workbench\" />\n",
    "</div>"
   ]
  },
  {
   "cell_type": "markdown",
   "metadata": {},
   "source": [
    "Cada tipo de dado indica o valor que, de fato, deve ser inserido naquele campo. Caso o usuário final insira um valor que não seja correspondente ao que foi configurado no respectivo campo, o banco de dados pode retornar um erro, e o registro pode não ser inserido.\n",
    "\n",
    "Como pode abservar na imagem acima, são realmente muitos tipos de dados, sendo que alguns realmente são pouco ou nunca usados. Por esse motivo, serão listados apenas os mais comuns:"
   ]
  },
  {
   "cell_type": "markdown",
   "metadata": {},
   "source": [
    "### INT\n",
    "\n",
    "É usado para inserir números do tipo inteiro. Nesse caso, são válidos quaisquer números do zero ao infinito, desde que não possuam casas decimais. São válidos tanto números positivos quanto números negativos.\n",
    "\n",
    "Até o MySQL 5, havia a necessidade de informar o ***range*** do campo, o useja, o tamanho do campo. Exemplo: um campo do tipo `INT(4)` podia guardar valores de até 4 digitos, no qual era possível armazenar qualquer número de 0 até 9999, mas nas versões mais atuais (8.0 ou maior) não há a necessidade de informar o tamanho do campo, bastando digitar apenas `INT`."
   ]
  },
  {
   "cell_type": "markdown",
   "metadata": {},
   "source": [
    "### VARCHAR\n",
    "\n",
    "São os campos do tipo texto, que nas linguagens de programação são mais conhecidos como *Strings*. O campo varchar aceita qualquer tipo de caractere, sejam símbolos, pontuações, acentuação e caracteres alfa-numéricos, entre outros. Nesse tipo, o MySQL armazena apenas os caracteres inseridos, mais um byte extra para armazenar o comprimento da string (ou dois bytes se o comprimento máximo for maior que 255). Use VARCHAR quando o comprimento dos dados pode variar. É mais eficiente em termos de armazenamento para dados de comprimento variável, pois o MySQL armazena apenas os caracteres inseridos.\n",
    "\n",
    "Até o MySQL 5, o campo VARCHAR comportava um range até o máximo de 255 caracteres, ou bytes. Já nas versões mais recenetes (8.0 ou maior) é possível fazer esse campo ocupar um tamanho maior. Porém, isso é contra-indicado por vários motivos: um deles é justamente o fato de que um campo `VARCHAR(255)` pode não ser compatível com o MySQL 5, versão essa que ainda é muito utilizada no mercado de trabalho por vários motivos. Outro motivo é que um campo que ultrapasse o tamanho de 255 do `VARCHAR` pode impactar negativamente no desempenho do banco como um todo, e também no armazenamento do servidor. Portanto, caso precise de um campo de texto maior que 255, melhor trocar o `VARCHAR` por `TEXT` ou `LONGTEXT`, por exemplo.\n",
    "\n",
    "O mais comum é utilizar o `VARCHAR(255)` por compatibilidade com sistemas legados, e por ser suficiente para muitos casos."
   ]
  },
  {
   "cell_type": "markdown",
   "metadata": {},
   "source": [
    "### CHAR\n",
    "\n",
    "Assim como o `VARCHAR`, o `CHAR` é usado para armazenar strings ou textos, porém o ipo CHAR armazena strings de comprimento fixo. Se a string armazenada for menor que o comprimento definido, o MySQL preenche o restante com espaços em branco. Ideal para armazenar dados de comprimento fixo, como códigos de país, códigos de estado, ou outros identificadores que sempre têm o mesmo tamanho. Use CHAR quando o comprimento dos dados é fixo e conhecido. É mais eficiente em termos de desempenho para dados de comprimento fixo, pois o MySQL não precisa calcular o comprimento da string."
   ]
  },
  {
   "cell_type": "markdown",
   "metadata": {},
   "source": [
    "### TEXT\n",
    "\n",
    "Assim como o `VARCHAR()`, o campo do tipo `TEXT` também é utilizado para armazenar strings, ou seja, textos. A diferença está no tamanho que pode comportar: enquanto o `VARCHAR` comporta 255 bytes, o `TEXT` pode comportar **65.535 bytes**, ou aproximadamente 64 KB. Ele é mais recomendado quando você precisa armazenar textos de tamanho moderado, como descrições, comentários ou artigos curtos."
   ]
  },
  {
   "cell_type": "markdown",
   "metadata": {},
   "source": [
    "### LONGTEXT\n",
    "\n",
    "Da mesma forma que os campos do tipo `VARCHAR()` e `TEXT`, esse também armazena textos, mas desta vez ele é utilizado para textos realmente grandes, como textos de livros, por exemplo. Ele comporta até **4.294.967.295 bytes**, ou aproximadamente 4 GB.\n",
    "\n",
    "Por conta de sua capacidade de armazenamento, utilize esse tipo de dado apenas para textos que podem exceder o tamanho de 64 KB, já que esse tipo de campo pode impactar no desemepenho do banco e armazenamento do servidor. Caso o texto tenha um tamanho menor que 64 KB, dê preferência para o tipo `TEXT`."
   ]
  },
  {
   "cell_type": "markdown",
   "metadata": {},
   "source": [
    "### FLOAT\n",
    "\n",
    "Esse é outro tipo de dado utilizado para campos numéricos. A diferença entre esse e o `INT` é que esse aceita números decimais. O nome float vem de **ponto flutuante**. Nesse tipo de dado, os valroes decimais podem ser arredondados, e costumam ser utilizados em cálculos científicos ou gráficos, onde o intervalo de valores é maior."
   ]
  },
  {
   "cell_type": "markdown",
   "metadata": {},
   "source": [
    "### DOUBLE\n",
    "\n",
    "O tipo de dado DOUBLE é usado para armazenar números de ponto flutuante com dupla precisão. Ele é semelhante ao tipo FLOAT, mas oferece maior precisão e um intervalo maior de valores, já que usa o dobro de bits para armazenar o valor. Ele é recomendado quando se precisa de maior precisão do que FLOAT pode oferecer, mas não requer a precisão exata de DECIMAL. Ideal para cálculos científicos, gráficos, e outras aplicações onde a precisão é importante, mas não crítica."
   ]
  },
  {
   "cell_type": "markdown",
   "metadata": {},
   "source": [
    "### DECIMAL\n",
    "\n",
    "Os valores do tipo `DECIMAL()` também aceitam números com casas decimais. A diferença entre ele e o `FLOAT` é que no `DECIMAL()` os valores são muito mais precisos. Os números são armazenados como strings de caracteres, evitando erros de arredondamentos, como os que acontecem no `FLOAT`. Esse tipo de dado é utilizado em campos que serão utilizados em cálculos em que os valores devem ser exatos, e não podem ser arredondados, como cálculos financeiros, por exemplo.\n",
    "\n",
    "Tanto em `DECIMAL`quanto em `FLOAT`, o range é informado repassando dois valores dentro do parênteses. Exemplo: `DECIMAL(5, 2)` indica um valor com 5 dígitos, onde os dois últimos são os valores decimais. Um exemplo de valor que poderia ser armazenado no campo `DECIMAL(5, 2)` é 100,25."
   ]
  },
  {
   "cell_type": "markdown",
   "metadata": {},
   "source": [
    "### DATE\n",
    "\n",
    "O campo do tipo `DATE` é utilizado para receber dados do tipo data. Por padrão, o formato de data recebido é AAAA-MM-DD (4 dígitos para ano, 2 para mês e 2 para dia, nesta ordem), mas esse formato pode ser modificado no próprio MySQL. Por exemplo: em um campo chamado \"Data de Nascimento\", se precisássemos cadastrar uma pessoa que nsceu no dia 05 de Março de 1985, teríamos que informar `\"1985-03-05\"` no campo, mas o usuário não sabe, nem tem como saber, e nem precisa, já que o valor pode ser inserido com o código `STR_TO_DATE(\"05/03/1985\")` no MySQL."
   ]
  },
  {
   "cell_type": "markdown",
   "metadata": {},
   "source": [
    "### DATETIME\n",
    "\n",
    "O campo do tipo `DATETIME` é usado para receber do usuário tanto uma data qualquer quanto a hora, no seguinte formato: AAAA-MM-DD HH:MM:SS (4 dígitos para ano, 2 para mês, 2 para dia, espaço, 2 para hora, 2 para minuto e 2 para segundo)."
   ]
  },
  {
   "cell_type": "markdown",
   "metadata": {},
   "source": [
    "### CURTIME ou CURRENT_TIME\n",
    "\n",
    "`CURTIME`, ou ainda `CURRENT_TIME` é o tipo de dado utilizado para o campo que irá capturar a **hora atual** do servidor. O formato da hora é HH:MM:SS (2 dígitos para hora, seguido de 2 dígitos para minuto e 2 dígitos para segundo, nessa ordem, separadas por dois pontos)."
   ]
  },
  {
   "cell_type": "markdown",
   "metadata": {},
   "source": [
    "### CURRENT_TIMESTAMP\n",
    "\n",
    "`CURRENT_TIMESTAMP()` é o tipo de dado utilizado para o campo que irá capturar tanto a **data atual** como a **hora atual**. É muito utilizado, por exemplo, para registrar a data e hora de uma compra ou de um atendimento. Ambas as informações são capturadas em um único valor."
   ]
  },
  {
   "cell_type": "markdown",
   "metadata": {},
   "source": [
    "### TIME\n",
    "\n",
    "O tipo de dado `TIME()` É utilizado para receber do usuário um valor como um horário qualquer, no formato HH:MM:SS. Também é utilizado para extrair a hora de um valor que possua data e hora, como o `CURRENT_TIMESTAMP`, por exemplo. Pode ser utilizado para definir um campo onde se deve armazenar, por exemplo, um horário de um agendamento."
   ]
  },
  {
   "cell_type": "markdown",
   "metadata": {},
   "source": [
    "### HOUR, MINUTE e SECOUND\n",
    "\n",
    "São tipos de dados que assim como a `TIME`, recebem como valor a hora no formato HH:MM:SS. Entretanto, suas funcionalidades mudam:\n",
    "\n",
    "- `HOUR`: usada para extrair como informação apenas a hora.\n",
    "- `MINUTE`: usada para extrair como informação apenas os minutos do horário informado.\n",
    "- `SECOUND`: usada para extrair como informação apenas os segundos do horário informado.\n",
    "\n"
   ]
  },
  {
   "cell_type": "markdown",
   "metadata": {},
   "source": [
    "### SEC_TO_TIME\n",
    "\n",
    "Essa função recebe um valor inteiro que representariam os segundos, e retorna como valor o equivalente em horas."
   ]
  },
  {
   "cell_type": "markdown",
   "metadata": {},
   "source": [
    "### TIME_TO_SEC\n",
    "\n",
    "Essa faz o contrário de `SEC_TO_TIME`: não armazena data e hora, mas pega uma hora informada e converte para segundos."
   ]
  },
  {
   "cell_type": "markdown",
   "metadata": {},
   "source": [
    "### DATEDIFF\n",
    "\n",
    "Serve para verificar a diferença entre duas datas."
   ]
  },
  {
   "cell_type": "markdown",
   "metadata": {},
   "source": [
    "### TIMEDIFF\n",
    "\n",
    "Serve para verificar a diferença entre dois horários distintos."
   ]
  },
  {
   "cell_type": "markdown",
   "metadata": {},
   "source": [
    "### Informação importante sobre o campo do tipo `BLOB`\n",
    "\n",
    "**Obs:** em MySQL, existe o formato `BLOB` usado para armazenar imagens. Porém, ele não é utilizado, devido ao impacto negativo que esse campo costuma fazer ao desempenho e armazenamento do banco. Caso haja a necessidade de se armazenar imagens, costuma-se armazenar as imagens em um diretório do sistema, e guardar o caminho dessa imagem em um campo do tipo `VARCHAR`."
   ]
  },
  {
   "cell_type": "markdown",
   "metadata": {},
   "source": [
    "<!-- REVIEW: verificar se a informação sobre o tamanho do armazenamento do VARCHAR procede -->\n",
    "## Range\n",
    "---\n",
    "\n",
    "O **range** de um campo é nada mais do que o tamanho que ele irá ocupar no banco. Esse tamanho é configurado dentro do parênteses dos tipos de campo. O grande problema é que é preciso esse tamanho não corresponde ao tamanho de um dado que foi registrado, mas sim ao tamanho que ele foi configurado para ocupar.\n",
    "\n",
    "Por exemplo: suponha que criamos um campo chamado `nome`, do tipo `VARCHAR(64)`, e o usuário precisa cadastrar alguém de nome **Alex**. O número 64 informa a quantidade de bytes que o campo pode comportar de um dado. Acontece que o nome **Alex** possui apenas 4 bytes. A pergunta é: quantos bytes esse dado irá ocupar?\n",
    "\n",
    "**a)** 4 bytes. <br />\n",
    "**b)** 64 bytes. <br />\n",
    "**c)** 255 bytes. <br />\n",
    "\n",
    "A resposta certa é letra **b)**. Apesar do nome possuir realmente apenas 4 bytes, o campo foi configurado para possuir 64 bytes, independente do tamanho do dado que ele irá registrar. Com isso, teremos um impacto de 60 bytes perdidos no armazenamento do servidor por conta apenas desse registro.\n",
    "\n",
    "Só que também não podemos configurar o campo para `VARCHAR(4)`, pois assim esse campo só será capaz de armazenar valores de até 4 bytes no máximo. Em outras palavras: em um campo do tipo `VARCHAR(4)` eu consigo salvar o nome **Alex**, mas não conseguiria registrar o nome **Alexandre**, pois ele passa o range pelo qual o campo foi configurado.\n",
    "\n",
    "Por esse motivo, é importante pensar com cautela e estratégia na hora de definir o range de um campo, pois um tamanho pequeno demais pode impedir o registro de certos dados, mas um range grande demais vai impactar negativametne no desempenho e armazenamento do banco como um todo."
   ]
  },
  {
   "cell_type": "markdown",
   "metadata": {},
   "source": [
    "## Propriedades dos campos\n",
    "---\n",
    "\n",
    "No MySQL Workbench, ao editar uma tabela do modelo lógico, do lado de Datatype, você deve ter percebido algumas siglas:"
   ]
  },
  {
   "cell_type": "markdown",
   "metadata": {},
   "source": [
    "<div style=\"display: flex; justify-content: center\">\n",
    "    <img src=\"../assets/10_02.png\" alt=\"MySQL Workbench\" />\n",
    "</div>"
   ]
  },
  {
   "cell_type": "markdown",
   "metadata": {},
   "source": [
    "Cada uma dessas siglas representam algumas propriedades que alguns campos devem ter. Vamos analisar cada um deles:\n",
    "\n",
    "### PK - Primary Key\n",
    "\n",
    "**PK** define o campo que deve fazer o papel de **Chave Primária** da tabela. Esse campo serve para indexar os registros da tabela. Cada tabela só pode ter uma única chave primária, embora exista a possibilidade de juntar dois campos em uma chave primária, que chamamosde **chave composta**. Geralmente esses campos começam com **id**, **codigo** ou **matricula**."
   ]
  },
  {
   "cell_type": "markdown",
   "metadata": {},
   "source": [
    "### NN - Not Null\n",
    "\n",
    "**Not Null** significa **Não Nulos**, ou seja, são campos configurados para não aceitarem valores nulos. Em outras palavras: são campos que devem ser preenchidos obrigatoriamente. Podem ser campos como: **nome**, **cpf**, **email**, **telefone_contato**, etc..."
   ]
  },
  {
   "cell_type": "markdown",
   "metadata": {},
   "source": [
    "### UQ - Unique\n",
    "\n",
    "**Unique** são campos **únicos**, ou seja, cujos valores não podem se repetir naquela tabela. Esses campos possuem a mesma característica das chaves primárias, porém não o são. Por esse motivo podem ser chamados de **chaves candidatas**. Exemplos: **email** e **cpf**. Nesses campos, se algum usuário tentar cadastrar um valor idêntico a outro já cadastrado, o banco irá dar erro, e não irá adicionar o novo registro.\n",
    "\n",
    "**Obs:** não há a obrigatoriedade de marcar UNIQUE nos campos chave primária, já que somente o fato de ser chave primária já indica que o campo não pode se repetir."
   ]
  },
  {
   "cell_type": "markdown",
   "metadata": {},
   "source": [
    "### B - Binary\n",
    "\n",
    "Indica se o campo é do tipo binário. Utilizado para armazenar dados binários, como arquivos, imagens ou outros tipos de dados que não são texto."
   ]
  },
  {
   "cell_type": "markdown",
   "metadata": {},
   "source": [
    "### UN - Unsigned\n",
    "\n",
    "Indica se o campo é sem sinal. Utilizado para campos numéricos que não podem ter valores negativos. Isso permite um intervalo maior de valores positivos."
   ]
  },
  {
   "cell_type": "markdown",
   "metadata": {},
   "source": [
    "### ZF - Zero Fill\n",
    "\n",
    "Indica se o campo deve ser preenchido com zeros à esquerda. Utilizado para garantir que os valores numéricos tenham um comprimento fixo, preenchendo com zeros à esquerda se necessário."
   ]
  },
  {
   "cell_type": "markdown",
   "metadata": {},
   "source": [
    "### G - Generated\n",
    "\n",
    "Indica se o campo é gerado automaticamente. Utilizado para campos que são gerados automaticamente pelo banco de dados, como colunas calculadas ou colunas com valores padrão gerados por expressões."
   ]
  },
  {
   "cell_type": "markdown",
   "metadata": {},
   "source": [
    "---\n",
    "\n",
    "Agora que já sabemos como criar e cofnigurar uma tabela no modelo lógico, podemos partir para os relacionamentos, que será o tema da próxima aula."
   ]
  }
 ],
 "metadata": {
  "language_info": {
   "name": "python"
  }
 },
 "nbformat": 4,
 "nbformat_minor": 2
}
