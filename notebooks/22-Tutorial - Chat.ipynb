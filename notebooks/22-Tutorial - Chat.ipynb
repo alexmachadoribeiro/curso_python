{
 "cells": [
  {
   "cell_type": "markdown",
   "metadata": {},
   "source": [
    "# **Tutorial de Criação de App: Chat**\n",
    "---"
   ]
  },
  {
   "cell_type": "markdown",
   "metadata": {},
   "source": [
    "Pré-requisitos da aula\n",
    "\n",
    "- Funções\n",
    "- Import\n",
    "- Orientação a Objetos\n",
    "- Interface Gráfica\n",
    "- Introdução ao Flet\n",
    "- Meu primeiro Flet App\n",
    "- Eventos\n",
    "- Light e Dark Mode\n",
    "\n",
    "---"
   ]
  },
  {
   "cell_type": "markdown",
   "metadata": {},
   "source": [
    "Finalmente chegamos à fase em que iremos desenvolver nossos apps completos para você poder publicar à vontade e mostrar para os amigos com um aplicativo para chamar de seu. Nosso primeiro app do curso será um **Chat Online**, para você mesmo poder fazer concorrência ao WhatsApp e ao Telegram...rsrs.\n",
    "\n",
    "Exageros à parte, vamos começar:"
   ]
  },
  {
   "cell_type": "markdown",
   "metadata": {},
   "source": [
    "### Começando a criar o app\n",
    "\n",
    "1. Nosso app será construído com Flet. Portanto vamos começar criando o nosso projeto. Capriche no nome. Para o projeto desse tutorial, vamos simplesmente chamá-lo de **chat**. Não se esqueça do procedimento padrão de criar um ambiente virtual `.venv`, instalar o flet com `pip install flet` e criar um projeto flet com `flet create .` na pasta do seu projeto.\n",
    "2. Confira o código-fonte padrão do projeto dentro do arquivo `main.py`:"
   ]
  },
  {
   "cell_type": "code",
   "execution_count": null,
   "metadata": {},
   "outputs": [],
   "source": [
    "import flet as ft\n",
    "\n",
    "\n",
    "def main(page: ft.Page):\n",
    "    page.add(ft.SafeArea(ft.Text(\"Hello, Flet!\")))\n",
    "\n",
    "\n",
    "ft.app(main)"
   ]
  },
  {
   "cell_type": "markdown",
   "metadata": {},
   "source": [
    "3. Acrescente as propriedades que desejar antes de começarmos a desenvolver, de fato, o nosso programa:"
   ]
  },
  {
   "cell_type": "code",
   "execution_count": null,
   "metadata": {},
   "outputs": [],
   "source": [
    "import flet as ft\n",
    "\n",
    "\n",
    "def main(page: ft.Page):\n",
    "    # propriedades da página\n",
    "    page.title = \"Meu Flet Chat\"\n",
    "    page.theme_mode = ft.ThemeMode.LIGHT\n",
    "    page.bgcolor = ft.colors.WHITE\n",
    "\n",
    "    page.add(ft.SafeArea(ft.Text(\"Hello, Flet!\")))\n",
    "\n",
    "\n",
    "ft.app(main)"
   ]
  },
  {
   "cell_type": "markdown",
   "metadata": {},
   "source": [
    "### AppBar\n",
    "\n",
    "4. Vamos começar com o **AppBar**. O AppBar é uma barra superior da nossa aplicação que será inserida antes de `page.add()`:"
   ]
  },
  {
   "cell_type": "code",
   "execution_count": null,
   "metadata": {},
   "outputs": [],
   "source": [
    "import flet as ft\n",
    "\n",
    "\n",
    "def main(page: ft.Page):\n",
    "    page.title = \"Meu Flet Chat\"\n",
    "    page.theme_mode = ft.ThemeMode.LIGHT\n",
    "    page.bgcolor = ft.colors.WHITE\n",
    "\n",
    "    # AppBar\n",
    "    page.appbar = ft.AppBar()\n",
    "\n",
    "    page.add(ft.SafeArea(ft.Text(\"Hello, Flet!\")))\n",
    "\n",
    "\n",
    "ft.app(main)"
   ]
  },
  {
   "cell_type": "markdown",
   "metadata": {},
   "source": [
    "5. Isso já é o suficiente para gerar um AppBar, embora sem conteúdo. Veja:"
   ]
  },
  {
   "attachments": {
    "image.png": {
     "image/png": "[encoded data removed]"
    }
   },
   "cell_type": "markdown",
   "metadata": {},
   "source": [
    "![image.png](attachment:image.png)"
   ]
  },
  {
   "cell_type": "markdown",
   "metadata": {},
   "source": [
    "6. Vamos começar colocando um título para o nosso AppBar:"
   ]
  },
  {
   "cell_type": "code",
   "execution_count": null,
   "metadata": {},
   "outputs": [],
   "source": [
    "import flet as ft\n",
    "\n",
    "\n",
    "def main(page: ft.Page):\n",
    "    page.title = \"Meu Flet Chat\"\n",
    "    page.theme_mode = ft.ThemeMode.LIGHT\n",
    "    page.bgcolor = ft.colors.WHITE\n",
    "\n",
    "    # AppBar\n",
    "    page.appbar = ft.AppBar(title=ft.Text(\"Meu Chat\", size=16))\n",
    "\n",
    "    page.add(ft.SafeArea(ft.Text(\"Hello, Flet!\")))\n",
    "\n",
    "\n",
    "ft.app(main)"
   ]
  },
  {
   "cell_type": "markdown",
   "metadata": {},
   "source": [
    "7. Aproveitaremos que criamos na aula passada um algoritmo para alternar os temas Light e Dark. Vamos implementar esse código dentro do AppBar, com uma alteração: iremos trocar o texto \"**Light theme**\" e \"**Dark theme**\" do app da aula anterior por ícones representando os temas. Para isso, iremos criar uma variável representando o ícone do tema padrão da aplicação (que é o tema claro).\n",
    "8. Depois, iremos programar uma condicional para essa variável para que o ícone mude quando o *switch button* for acionado.\n",
    "9. Enfim, chamaremos essa variável desta vez dentro do **AppBar** ao invés do SafeBar, acrescentando ao final de `ft.AppBar()` o parâmetro `actions=[tema, interruptor]`, onde `tema` representa o ícone do tema, e `interruptor` representa o *switch button*:"
   ]
  },
  {
   "cell_type": "code",
   "execution_count": null,
   "metadata": {},
   "outputs": [],
   "source": [
    "import flet as ft\n",
    "\n",
    "\n",
    "def main(page: ft.Page):\n",
    "    # função do tema\n",
    "    def mudar_tema(e):\n",
    "        page.theme_mode = (\n",
    "            ft.ThemeMode.DARK\n",
    "            if page.theme_mode == ft.ThemeMode.LIGHT\n",
    "            else ft.ThemeMode.LIGHT\n",
    "        )\n",
    "        page.bgcolor = (\n",
    "            ft.colors.WHITE\n",
    "            if page.theme_mode == ft.ThemeMode.LIGHT\n",
    "            else ft.colors.GREY_900\n",
    "        )\n",
    "        # altera o ícone do tema\n",
    "        tema.name = (\n",
    "            ft.icons.SUNNY\n",
    "            if page.theme_mode == ft.ThemeMode.LIGHT\n",
    "            else ft.icons.MODE_NIGHT\n",
    "        )\n",
    "        page.update()\n",
    "\n",
    "    page.title = \"Meu Flet Chat\"\n",
    "    page.theme_mode = ft.ThemeMode.LIGHT\n",
    "    page.bgcolor = ft.colors.WHITE\n",
    "\n",
    "    # ícone e botão do tema\n",
    "    tema = ft.Icon(name=ft.icons.SUNNY)\n",
    "    interruptor = ft.Switch(on_change=mudar_tema)\n",
    "\n",
    "    # AppBar\n",
    "    page.appbar = ft.AppBar(title=ft.Text(\"Meu Chat\", size=16), actions=[tema, interruptor])\n",
    "\n",
    "    page.add(ft.SafeArea(ft.Text(\"Hello, Flet!\")))\n",
    "\n",
    "\n",
    "ft.app(main)"
   ]
  }
 ],
 "metadata": {
  "kernelspec": {
   "display_name": ".venv",
   "language": "python",
   "name": "python3"
  },
  "language_info": {
   "name": "python",
   "version": "3.12.7"
  }
 },
 "nbformat": 4,
 "nbformat_minor": 2
}
