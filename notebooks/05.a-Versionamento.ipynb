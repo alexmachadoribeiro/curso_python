{
 "cells": [
  {
   "cell_type": "markdown",
   "metadata": {},
   "source": [
    "# **Versionamento**\n",
    "---\n",
    "\n",
    "## Pré-requisitos da aula\n",
    "\n",
    "- Configurando o ambiente de desenvolvimento Python\n",
    "- Rodando o primeiro Projeto Python\n",
    "\n",
    "---"
   ]
  },
  {
   "cell_type": "markdown",
   "metadata": {},
   "source": [
    "Todo sistema possui versões. Antes dele ser implementado, passa por uma série de testes. Nesse momento, ele é chamado de **versão 0.1, 0.2**, etc... Ao finalmente ser lançado, ele passa a receber a alcunha de **versão 1.0**. A partir daí, a cada correção de segurança, cada novo recurso acrescentado, ele passa a receber uma nova versão: **1.1, 1.2, 1.3....2.0, 2.1**, e assim por diante.\n",
    "\n",
    "Sao as versões do sistema. Cada versão substitui a versão anterior, que conforme vai ficando mais antiga e conforme novas atualizações vão chegando, eventualmente deixará de receber suporte por parte da equipe de desenvolvimento em detrimento das versões mais recentes. O problema é que, pelos mais variados motivos, as versões anteriores mais recentes continuam disponíveis e recebendo suporte. Esses motivos podem ser:\n",
    "\n",
    "- Instabilidade da versão mais recente.\n",
    "- Incompatibilidade da versão mais recente com alguns sistemas dos usuários.\n",
    "- Dificuldade de adaptação da versão mais recente por parte do usuário.\n",
    "- Dificuldade ou resistência para atualizar para uma versão mais nova."
   ]
  },
  {
   "cell_type": "markdown",
   "metadata": {},
   "source": [
    "## Git\n",
    "---"
   ]
  },
  {
   "cell_type": "markdown",
   "metadata": {},
   "source": [
    "Por esses motivos, é importante um bom gerenciamento dessas versões, e é por isso que um software de versionamento é tão importante, e é aí que entra o **Git**.\n",
    "\n",
    "O **Git** é um programa que controla as versões do seu projeto, protegendo versões anteriores, caso necessite delas. Funciona assim: o **git** cria o que chamamos de repositório, e a partir daí, você passsa a traballhar em cima da primeira versão do seu projeto. Quando terminar a primeira versão do seu projeto, você prepara os seus arquivos para adicioná-los à primeira versão a ser salva, e depois salva o estado do seu projeto, no processo que chamamos de ***commit***. A partir daquele momento, aquela versão _commitada_ fica salva e poderá ser resgatada posteriormente, caso seja necessário.\n",
    "\n",
    "A partir desse momento, qualquer alteração que você fizer no seu projeto vai para uma segunda versão, que deverá ser salva em um novo _commit_. Caso as coisas dêem errado, é possível voltar para o estado inicial desse novo _commit_, ou seja, para onde o _commit_ anterior foi salvo.\n",
    "\n",
    "O **Git** foi instalado no passo a passo mostrado na **Aula 03**. Portanto, se você fez o procecdimento corretamente, o Git já está instalado na sua máquina, e com integração total ao VSCode.\n",
    "\n",
    "### Como funciona?\n",
    "\n",
    "Com a pasta do projeto aberta no VSCode, você pode abrir tanto o **terminal** quanto o **git bash** no VSCode. Em ambos você pode digitar os códigos git. Para acessar, basta usar a tecla de atalho `Ctrl + Shift + '`:"
   ]
  },
  {
   "cell_type": "markdown",
   "metadata": {},
   "source": [
    "<div style=\"display: flex; justify-content: center\">\n",
    "    <img src=\"../assets/terminal.png\" alt=\"Terminal\" />\n",
    "</div>"
   ]
  },
  {
   "cell_type": "markdown",
   "metadata": {},
   "source": [
    "Se a instalação do Git tiver sido feita corretamente, ele tem total integração com o **powershell**, que é o terminal que abre por padrão no VSCode, mas se preferir, você pode alterar esse terminal para o **git bash**:"
   ]
  },
  {
   "cell_type": "markdown",
   "metadata": {},
   "source": [
    "<div style=\"display: flex; justify-content: center\">\n",
    "    <img src=\"../assets/git-bash.png\" alt=\"Git Bash\" />\n",
    "</div>"
   ]
  },
  {
   "cell_type": "markdown",
   "metadata": {},
   "source": [
    "<div style=\"display: flex; justify-content: center\">\n",
    "    <img src=\"../assets/git-bash-terminal-aberto.png\" alt=\"Terminal do Git Bash aberto\" />\n",
    "</div>"
   ]
  },
  {
   "cell_type": "markdown",
   "metadata": {},
   "source": [
    "#### Criando novo repositório local\n",
    "\n",
    "Com o terminal aberto (tanto faz se for powershell ou git bash), digite o comando `git init`, e aperte **Enter**. Isso irá criar uma pasta oculta na raiz do seu projeto chamada **.git**.\n",
    "\n",
    "#### Inserindo as credenciais\n",
    "\n",
    "Inserindo suas credenciais, seus repositórios terão a identificação de quem está fazendo os _commits_.\n",
    "\n",
    "- Para inserir suas credenciais no git, execute o comando `git config --global user.name \"nome_de_usuario\"` e aperte **Enter**, e depois execute o comando `git config --global user.email \"usuario@servidor.com\"` e finalize com **Enter**.\n",
    "- Para conferir se as credenciais foram inseridas corretamente, execute o comando `git config --list` e aperte **Enter**, e depois procure na lista pelo seu nome de usuário e e-mail.\n",
    "- Caso queira retirar as suas credenciais do computador, execute o comando `git config --global --unset user.name`, aperte **Enter**, e depois execute o comando `git config --global --unset user.email`, e termine com **Enter**.\n",
    "\n",
    "#### Preparando os arquivos\n",
    "\n",
    "- Para indicar quais arquivos deseja incluir no próximo _commit_, basta executar o comando `git add [nome do arquivo]`. Chamamos isso de **\"adicionar ao _stage_\"**.\n",
    "- Caso deseje adicionar **todos os arquivos** do seu projeto, execute o comando `git add .` (o ponto final separado da palavra add).\n",
    "\n",
    "#### Commit\n",
    "\n",
    "O ***commit*** é basicamente gerar uma versão do seu código-fonte, ou seja, \"congelar\" o estado atual do seu código-fonte para, caso precise, ser recuperado posteriormente.\n",
    "\n",
    "- Para gerar um novo ***commit***, execute o comando `git commit -m \"Mensagem do commit\"`.\n",
    "\n",
    "#### Reset\n",
    "\n",
    "- **Se arrependeu de adicionar os arquivos ao _stage_?** Execute o comando `git reset HEAD` para voltar ao estado do último _commit_, ou para o estágio anterior a do comando _add_.\n",
    "- **Fez o _commit_ e se arrependeu?** Execute o comando `git reset HEAD~1` para voltar ao _commit_ anterior, onde `1` corresponde ao número de _commits_ que deseja voltar. Exemplo: precisa voltar 3 _commits_ anteriores? `git reset HEAD~3`.\n",
    "\n",
    "#### Gitignore\n",
    "\n",
    "O ***gitignore*** é um arquivo de texto criado para listar os arquivos que o desenvolvedor deseja não incluir nos _commits_. Portanto, caso deseje incluir o máximo de arquivos possíveis em um _commit_, mas deseja deixar um ou outro de fora, ou até mesmo uma pasta de fora, é mais produtivo criar um _gitignore_ e colocar o nome do arquivo dentro dele. Assim, você poderá executar o comando `git add .` normalmente que os arquivos listados dentro do gitignore não irão para o _stage_, e consequentemente não irão para o _commit_.\n",
    "\n",
    "- Para criar o _gitignore_, crie um novo arquivo na raiz do projeto com o nome `.gitignore` (exatamente esse nome, sem escrver nada antes do ponto), e digite dentro dele o nome do arquivo/pasta que deseja deixar de fora do _commit_. Salve e é só fazer o _commit_."
   ]
  },
  {
   "cell_type": "markdown",
   "metadata": {},
   "source": [
    "## GitHub\n",
    "---"
   ]
  },
  {
   "cell_type": "markdown",
   "metadata": {},
   "source": [
    "O **GitHub** é uma plataforma online adiquirida pela **Microsoft** onde os desenvolvedores podem armazenar seus repositórios _git_ de forma remota. Dessa forma, o desenvolvedor que posta seus códigos-fonte lá pode optar por deixar seu projeto público ou não, sendo que, ao deixá-lo público, outros desenvolvedores podem consultar o seu código-fonte e optar por contruibuir para o seu projeto. Sendo assim, o GitHub funciona tanto como uma rede social para desenvolvedores como uma plataforma de _backups_ de seus projetos, já que, caso perca seus repositórios locais, ele ainda tem a opção de resgatá-lo através do GitHub, e também pode, transferí-lo para outro ambiente de desenvolvimento, caso necessite. Além disso, ao postar o repositório no GitHub, há a possibilidade de que outros devs de sua equipe de desenvolvimento possam contribuir diretamente no código-fonte do seu projeto, funcionando como uma plataforma colaborativa.\n",
    "\n",
    "O ***GitHub*** em conjunto com o ***Git*** se tornaram ferramentas indispensáveis para qualquer desenvolvedor. Muitas empresas cobram, inclusive, o link do perfil do desenvolvedor na plataforma do GitHub informado no currículo, funcionando como uma forma de avaliação de entrevistas de emprego.\n",
    "\n",
    "### Criando uma conta no GitHub\n",
    "\n",
    "Para conseguir postar seus repositórios de forma remota, é necessário criar uma conta no GitHub. Para isso:\n",
    "\n",
    "1. Abra o site do GitHub: (https://github.com)."
   ]
  },
  {
   "cell_type": "markdown",
   "metadata": {},
   "source": [
    "<div style=\"display: flex; justify-content: center\">\n",
    "    <img src=\"../assets/github.png\" alt=\"Página do GitHub\" />\n",
    "</div>"
   ]
  },
  {
   "cell_type": "markdown",
   "metadata": {},
   "source": [
    "2. Caso não tenha uma conta lá, clique no botão ***Sign Up*** no canto superior da página:"
   ]
  },
  {
   "cell_type": "markdown",
   "metadata": {},
   "source": [
    "<div style=\"display: flex; justify-content: center\">\n",
    "    <img src=\"../assets/github-sign-up.png\" alt=\"Sign Up\" />\n",
    "</div>"
   ]
  },
  {
   "cell_type": "markdown",
   "metadata": {},
   "source": [
    "3. Crie sua conta utilizando seu e-mail que você mais usa. Não se esqueça de acessar seu e-mail para confirmar seu cadastro."
   ]
  },
  {
   "cell_type": "markdown",
   "metadata": {},
   "source": [
    "<div style=\"display: flex; justify-content: center\">\n",
    "    <img src=\"../assets/criando-conta-github.png\" alt=\"Criando conta no GitHub\" />\n",
    "</div>"
   ]
  },
  {
   "cell_type": "markdown",
   "metadata": {},
   "source": [
    "4. Preencha todas as informações que o caadastro pedir, e ao final, abra o mesmo e-mail que você cadastrou no GitHub e confirme o cadastro."
   ]
  },
  {
   "cell_type": "markdown",
   "metadata": {},
   "source": [
    "\n",
    "### Acessando sua conta\n",
    "\n",
    "Ao acessar sua conta no GitHub, você terá algo como um mural, onde irão aparecer as atualizações dos seus contatos na plataforma (quando tiver algum). Da mesma forma que uma rede social, no GitHub você tem um perfil seu, que os outros desenvolvedores podem seguir, assim como você também pode seguir os perfis deles também."
   ]
  },
  {
   "cell_type": "markdown",
   "metadata": {},
   "source": [
    "<div style=\"display: flex; justify-content: center\">\n",
    "    <img src=\"../assets/github-home.png\" alt=\"Home Page do GitHub\" />\n",
    "</div>"
   ]
  },
  {
   "cell_type": "markdown",
   "metadata": {},
   "source": [
    "No canto superior direito da página, você encontra o acesso ao seu perfil. Você poderá adicionar uma foto e alterar os dados do seu perfil mais tarde. Por hora, o foco será nos seus repositórios.\n",
    "\n",
    "Clique na imagem que representa o seu perfil, e depois clique em **Your repositories**."
   ]
  },
  {
   "cell_type": "markdown",
   "metadata": {},
   "source": [
    "<div style=\"display: flex; justify-content: center\">\n",
    "    <img src=\"../assets/github-botao-perfil.png\" alt=\"BOtão de perfil do GitHub\" />\n",
    "</div>"
   ]
  },
  {
   "cell_type": "markdown",
   "metadata": {},
   "source": [
    "<div style=\"display: flex; justify-content: center\">\n",
    "    <img src=\"../assets/github-opcao-your-repositories.png\" alt=\"Your Repositories\" />\n",
    "</div>"
   ]
  },
  {
   "cell_type": "markdown",
   "metadata": {},
   "source": [
    "### Repositórios do GitHub\n",
    "\n",
    "Vamos criar um repositório no GitHub, para salvar remotamente seus códigos. Assim, você sempre poderá contar com um ***backup*** online do seu projeto.\n",
    "\n",
    "Ao acessar a página de repositórios, você encontrará uma tela com uma lista com seus repositórios. Caso seja a primeira vez que você esteja acessando essa tela, ela estará vazia."
   ]
  },
  {
   "cell_type": "markdown",
   "metadata": {},
   "source": [
    "<div style=\"display: flex; justify-content: center\">\n",
    "    <img src=\"../assets/github-lista-de-repositorios.png\" alt=\"Lista de repositórios\" />\n",
    "</div>"
   ]
  },
  {
   "cell_type": "markdown",
   "metadata": {},
   "source": [
    "Para criar um novo repositório, clique no botão ***New***:"
   ]
  },
  {
   "cell_type": "markdown",
   "metadata": {},
   "source": [
    "<div style=\"display: flex; justify-content: center\">\n",
    "    <img src=\"../assets/github-botao-novo-repositorio.png\" alt=\"Botão novo repositório\" />\n",
    "</div>"
   ]
  },
  {
   "cell_type": "markdown",
   "metadata": {},
   "source": [
    "Ao clicar no botão ***New***, você será redirecionado para a página de criação de um novo repositório remoto do GitHub:"
   ]
  },
  {
   "cell_type": "markdown",
   "metadata": {},
   "source": [
    "<div style=\"display: flex; justify-content: center\">\n",
    "    <img src=\"../assets/github-criando-repositorio-hello-world.png\" alt=\"Criando novo repositório\" />\n",
    "</div>"
   ]
  },
  {
   "cell_type": "markdown",
   "metadata": {},
   "source": [
    "Começe digitando o nome do repositório no campo ***Repository name***. **Obs:** não pode ter **barra de espaço**, nem **acento**, **ç**, e não pode ter repositório com nomes igual ao de outro repositório."
   ]
  },
  {
   "cell_type": "markdown",
   "metadata": {},
   "source": [
    "<div style=\"display: flex; justify-content: center\">\n",
    "    <img src=\"../assets/github-nome-do-repositorio.png\" alt=\"Nome do repositório\" />\n",
    "</div>"
   ]
  },
  {
   "cell_type": "markdown",
   "metadata": {},
   "source": [
    "Se aparecer a mensagem escrito em verde dizendo que o projeto **is available**, então pode prosseguir.\n",
    "\n",
    "Escreva a **descrição** do repositório e escolha se deseja que seu repositório seja **Público** (visivel para todos os usuários, inclusive aqueles que não estão cadastrados na plataforma), ou **Privado**, visível apenas para você ou para usuários selecionados."
   ]
  },
  {
   "cell_type": "markdown",
   "metadata": {},
   "source": [
    "<div style=\"display: flex; justify-content: center\">\n",
    "    <img src=\"../assets/github-descricao-e-visibilidade-repositorio.png\" alt=\"Descrição e visibilidade do novo repositório\" />\n",
    "</div>"
   ]
  },
  {
   "cell_type": "markdown",
   "metadata": {},
   "source": [
    "Deixe o restante das opções como na figura abaixo, e clique no botão ***Create Repository***."
   ]
  },
  {
   "cell_type": "markdown",
   "metadata": {},
   "source": [
    "<div style=\"display: flex; justify-content: center\">\n",
    "    <img src=\"../assets/github-create-repository.png\" alt=\"Botão Create Repository\" />\n",
    "</div>"
   ]
  },
  {
   "cell_type": "markdown",
   "metadata": {},
   "source": [
    "## Subindo repositório local para o remoto\n",
    "---"
   ]
  },
  {
   "cell_type": "markdown",
   "metadata": {},
   "source": [
    "Uma vez criados os repositórios local através do git, e o remoto através do github, é hora de subir o seu repositório para o github.\n",
    "\n",
    "1. Se o _commit_ local já tiver sido feito, o próximo passo é criar uma ***branch** (diretório do repositório) no repositório remoto. Você pode criar quantas _branchs_ quiser, mas obrigatoriamente uma delas deve se chamar **main**, que será o diretório principal do repositório remoto. Abra um **terminal** na pasta do seu repositório local e digite o comando `git branch -M main`.\n",
    "2. Depois, ainda no mesmo terminal, digite `git remote add origin https://github.com/alexmachadoribeiro/projeto_python.git`, onde **\"projeto_python\"** é o nome do seu projeto informado no GitHub no passo do ***Repository name***.\n",
    "3. O próximo passo é enviar o seu repositório local para o repotitório remoto utilizando o terminal através do comando `git push -u origin main`.\n",
    "\n",
    "**Dica:** assim que você cria o repositório, se não tiver pedido para gerar o arquivo `README.md` durante sua criação, o GitHub irá mostrar a seguinte página:"
   ]
  },
  {
   "cell_type": "markdown",
   "metadata": {},
   "source": [
    "<div style=\"display: flex; justify-content: center\">\n",
    "    <img src=\"../assets/github-repositorio-vazio.png\" alt=\"Repositório recém-criado\" />\n",
    "</div>"
   ]
  },
  {
   "cell_type": "markdown",
   "metadata": {},
   "source": [
    "Mantenha nessa página sem sair dela, e enquanto isso, abra o seu projeto no VSCode. Ele deverá estar com o terminal do **Git Bash** aberto, conforme imagem abaixo:"
   ]
  },
  {
   "cell_type": "markdown",
   "metadata": {},
   "source": [
    "<div style=\"display: flex; justify-content: center\">\n",
    "    <img src=\"../assets/git-bash-terminal-aberto.png\" alt=\"Terminal do Git Bash aberto\" />\n",
    "</div>"
   ]
  },
  {
   "cell_type": "markdown",
   "metadata": {},
   "source": [
    "Caso ainda não tenha criado o repositório local, a hora é agora, e a página do seu repositório remoto te dá os comandos. É só seguir: "
   ]
  },
  {
   "cell_type": "markdown",
   "metadata": {},
   "source": [
    "<div style=\"display: flex; justify-content: center\">\n",
    "    <img src=\"../assets/github-repositorio-vazio-instrucoes-novo-repositorio.png\" alt=\"Instruções para criar um repositório local e subir para o remoto\" />\n",
    "</div>"
   ]
  },
  {
   "cell_type": "markdown",
   "metadata": {},
   "source": [
    "Mas caso já tenha criado seu repositório local, basta seguir as instruções para subir para o repositório remoto:"
   ]
  },
  {
   "cell_type": "markdown",
   "metadata": {},
   "source": [
    "<div style=\"display: flex; justify-content: center\">\n",
    "    <img src=\"../assets/github-repositorio-vazio-instrucoes-subir-repositorio-local.png\" alt=\"Subir repositório local já criado para o remoto\" />\n",
    "</div>"
   ]
  },
  {
   "cell_type": "markdown",
   "metadata": {},
   "source": [
    "\n",
    "Se tudo tiver dado certo, seu repositório local será enviado para o repositório remoto do GitHub, e estará disponível na plataforma:"
   ]
  },
  {
   "cell_type": "markdown",
   "metadata": {},
   "source": [
    "<div style=\"display: flex; justify-content: center\">\n",
    "    <img src=\"../assets/comandos-git-repositorio-local.png\" alt=\"Comandos Git no repositório local\" />\n",
    "</div>"
   ]
  },
  {
   "cell_type": "markdown",
   "metadata": {},
   "source": [
    "E após digitar os comandos, atualize a página do repositório no GitHub:"
   ]
  },
  {
   "cell_type": "markdown",
   "metadata": {},
   "source": [
    "<div style=\"display: flex; justify-content: center\">\n",
    "    <img src=\"../assets/repositorio-remoto-hello-world.png\" alt=\"Repositório remoto\" />\n",
    "</div>"
   ]
  },
  {
   "cell_type": "markdown",
   "metadata": {},
   "source": [
    "**Dica:** nunca suba a pasta do ambiente virtual para o GitHub. A plataforma aceita um limite de até 200 MB de arquivos para subir, e a pasta `.venv` possui arquivos que passam esse valor."
   ]
  },
  {
   "cell_type": "markdown",
   "metadata": {},
   "source": [
    "## Atualizando um repositório remoto\n",
    "---"
   ]
  },
  {
   "cell_type": "markdown",
   "metadata": {},
   "source": [
    "Caso faça novas alterações no seu repositório local, deverá enviar as alterações para o repositório remoto:\n",
    "\n",
    "1. Após terminar as alterações no repositório local, abra o terminal na pasta do projeto, e digite `git add .` para preparar os arquivos para o _stage_.\n",
    "2. No mesmo terminal, digite `git commit -M \"Notas da alteração\"`, onde \"notas da alteração\" é um texto que você irá digitar para o _commit_.\n",
    "3. Para finalizar, digite `git push` para enviar as alterações do repositório local para o remoto."
   ]
  },
  {
   "cell_type": "markdown",
   "metadata": {},
   "source": [
    "## Atualizando um repositório local\n",
    "---"
   ]
  },
  {
   "cell_type": "markdown",
   "metadata": {},
   "source": [
    "O GitHub possui ferramentas que possibilitam a alteração do projeto diretamente no repositório remoto. Caso isso aconteça, é interessante aplicar as alterações no repositório local:\n",
    "\n",
    "1. Abra o terminal na pasta do repositório local, e digite `git pull`. Isso fará com que o repositório local seja atualizado com a versão mais recente do repositório remoto."
   ]
  },
  {
   "cell_type": "markdown",
   "metadata": {},
   "source": [
    "## Clonando um repositório remoto\n",
    "---"
   ]
  },
  {
   "cell_type": "markdown",
   "metadata": {},
   "source": [
    "Caso queira prosseguir com o desenvolvimento do seu projeto em outra máquina diferente de onde está o seu repositório local, há a possibilidade de fazer um **\"clone\"**, ou seja, criar um repositório local com a versão mais nova do repositório remoto:\n",
    "\n",
    "1. Vá na máquina onde deseja continuar desenvolvendo o seu projeto e que não possua o repositório local.\n",
    "2. Abra o terminal na pasta onde deseja salvar o repositório remoto, e digite o comando `git clone https://github.com/alexmachadoribeiro/projeto_python.git`, onde \"projeto_python\" corresponde ao nome do repositório que deseja clonar.\n",
    "\n",
    "E pronto!. Prossiga com o desenvolvimento do projeto no repositório local, e quando terminar, faça a atualização do projeto seguindo os passos da atualização do repositório remoto."
   ]
  },
  {
   "cell_type": "markdown",
   "metadata": {},
   "source": [
    "## Deletando um repositório remoto\n",
    "---"
   ]
  },
  {
   "cell_type": "markdown",
   "metadata": {},
   "source": [
    "Caso queira deletar um repositório no GitHub, faça o seguinte procedimento:\n",
    "\n",
    "1. Acesse a página do seu repositório remoto no GitHub.\n",
    "2. Acesse o menu ***Settings***."
   ]
  },
  {
   "cell_type": "markdown",
   "metadata": {},
   "source": [
    "<div style=\"display: flex; justify-content: center\">\n",
    "    <img src=\"../assets/repositorio-remoto-menu-settings.png\" alt=\"Settings\" />\n",
    "</div>"
   ]
  },
  {
   "cell_type": "markdown",
   "metadata": {},
   "source": [
    "3. Desca a barra de rolagem até chegar na chamada ***Danger Zone***, e clique no botão ***Delete this repository***."
   ]
  },
  {
   "cell_type": "markdown",
   "metadata": {},
   "source": [
    "<div style=\"display: flex; justify-content: center\">\n",
    "    <img src=\"../assets/danger-zone.png\" alt=\"Danger Zone\" />\n",
    "</div>"
   ]
  },
  {
   "cell_type": "markdown",
   "metadata": {},
   "source": [
    "4. Na janela que aparecer, clique em **I want to delete this repository**."
   ]
  },
  {
   "cell_type": "markdown",
   "metadata": {},
   "source": [
    "<div style=\"display: flex; justify-content: center\">\n",
    "    <img src=\"../assets/i-want-to-delete-this-repository.png\" alt=\"I want to delete this repository\" />\n",
    "</div>"
   ]
  },
  {
   "cell_type": "markdown",
   "metadata": {},
   "source": [
    "5. Confirme clicando em **I have read and understand thesse effects**."
   ]
  },
  {
   "cell_type": "markdown",
   "metadata": {},
   "source": [
    "<div style=\"display: flex; justify-content: center\">\n",
    "    <img src=\"../assets/i-have-read.png\" alt=\"Confirmação de exclusão do repositório\" />\n",
    "</div>"
   ]
  },
  {
   "cell_type": "markdown",
   "metadata": {},
   "source": [
    "6. Digite o nome completo do repositório na caixa e clique em **Delete this repository** (ele pode pedir por uma autenticação de 2 fatores, caso tenha habilitado)."
   ]
  },
  {
   "cell_type": "markdown",
   "metadata": {},
   "source": [
    "<div style=\"display: flex; justify-content: center\">\n",
    "    <img src=\"../assets/delete-this-repository.png\" alt=\"Digite o nome para deletar o repositório\" />\n",
    "</div>"
   ]
  },
  {
   "cell_type": "markdown",
   "metadata": {},
   "source": [
    "7. Confirme o acesso através da autenticação de 2 fatores no celular cadastrado."
   ]
  },
  {
   "cell_type": "markdown",
   "metadata": {},
   "source": [
    "<div style=\"display: flex; justify-content: center\">\n",
    "    <img src=\"../assets/git-hub-confirmacao-2-fatores.png\" alt=\"Confirmação de 2 fatores\" />\n",
    "</div>"
   ]
  },
  {
   "cell_type": "markdown",
   "metadata": {},
   "source": [
    "8. Siga as instruções e o seu repositório remoto irá desaparecer para sempre."
   ]
  }
 ],
 "metadata": {
  "kernelspec": {
   "display_name": ".venv",
   "language": "python",
   "name": "python3"
  },
  "language_info": {
   "name": "python",
   "version": "3.12.7"
  }
 },
 "nbformat": 4,
 "nbformat_minor": 2
}
