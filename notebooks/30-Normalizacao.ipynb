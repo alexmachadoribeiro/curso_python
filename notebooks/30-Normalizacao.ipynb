{
 "cells": [
  {
   "cell_type": "markdown",
   "metadata": {},
   "source": [
    "# **Normalização**\n",
    "---"
   ]
  },
  {
   "cell_type": "markdown",
   "metadata": {},
   "source": [
    "## Requisitos da Aula\n",
    "\n",
    "- Banco de Dados Relacional\n",
    "- DER\n",
    "- Entidade e Atributos\n",
    "- Relações\n",
    "- Entidade Associativa\n",
    "- Modelo Lógico\n",
    "- Relacionamento Modelo Lógico\n",
    "\n",
    "---"
   ]
  },
  {
   "cell_type": "markdown",
   "metadata": {},
   "source": [
    "Imagine que você precise cadastrar um usuário. Um dos campos é Telefone, onde você irá informar UM telefone desse usuário. Mas e se por acaso o usuário tiver mais de um telefone, e pior: e se ele precisar cadastrar mais de um telefone? Esse é um exemplo de problema que muitos Administradores de Banco de Dados acabam encontrando na hora de criar seus bancos. A aula de hoje vai ensinar como evitar esse tipo de problema, e muitos outros, na construção do seu banco."
   ]
  },
  {
   "cell_type": "markdown",
   "metadata": {},
   "source": [
    "## Conceito de Normalização\n",
    "---\n",
    "\n",
    "Normalização de dados é o processo de organizar informações em uma base de dados, de modo a torná-la mais flexível e evitar redundância. A normalização é indispensável desde o momento em que a base de dados for desenhada. Ela torna-se ainda mais crítica à medida que os dados se acumulam."
   ]
  },
  {
   "cell_type": "markdown",
   "metadata": {},
   "source": [
    "## As formas normais\n",
    "---\n",
    "\n",
    "Todo banco de dados relacional precisa ser normalizado a fim de evitar problemas de redundância, de cadastro e de performance. Atualmente, existem 5 formas normais, das quais chamamos de **FN**. Embora as duas últimas sejam importantes e ajudam na manutenção e performance do banco, somente as 3 primeiras são realmente obrigatórias, e serão elas o objeto de estudo dessa aula."
   ]
  },
  {
   "cell_type": "markdown",
   "metadata": {},
   "source": [
    "### 1FN - Primeira Forma Normal\n",
    "\n",
    "A principal característica da 1FN é que cada coluna em uma tabela deve conter apenas valores atômicos, ou seja, indivisíveis. Isso significa que não podemos ter listas de valores ou estruturas complexas dentro de uma única célula. Além disso, cada linha deve ser única e deve haver uma chave primária para identificar cada registro.\n",
    "\n",
    "Vamos, por exemplo, criar essa tabela no modelo lógico:"
   ]
  },
  {
   "cell_type": "markdown",
   "metadata": {},
   "source": [
    "<div style=\"display: flex; justify-content: center\">\n",
    "    <img src=\"../assets/12-02.png\" alt=\"1FM\" />\n",
    "</div>"
   ]
  },
  {
   "cell_type": "markdown",
   "metadata": {},
   "source": [
    "Pois bem. De acordo com a Primeira Forma Normal, essa tabela está errada, visto que o usuário não conseguiria cadastrar mais de um telefone, caso precisasse, nem conseguiria preencher de forma legível o endereço, cujo campo é complexo demais e possui uma lista de valores, o que vai exatamente contra a 1FN. Portanto, precisamos corrigir isso."
   ]
  },
  {
   "cell_type": "markdown",
   "metadata": {},
   "source": [
    "#### Corrigindo a tabela para se adequar à 1FN\n",
    "\n",
    "Vamos começar pelo mais simples: uma tabela não pode ter um campo que possa possuir mais de um valor, como o campo **telefone**, por exemplo. Portanto, precisaremos separar esse campo. A grande pergunta é: como?\n",
    "\n",
    "Bastante simples: vamos criar uma segunda tabela somente para o campo telefone, deletá-la da tabela Usuario e associá-la à tabela **Usuario**. Veja como fica na imagem abaixo:"
   ]
  },
  {
   "cell_type": "markdown",
   "metadata": {},
   "source": [
    "<div style=\"display: flex; justify-content: center\">\n",
    "    <img src=\"../assets/12-03.png\" alt=\"1FN\" />\n",
    "</div>"
   ]
  },
  {
   "cell_type": "markdown",
   "metadata": {},
   "source": [
    "Observe que a chave primária da tabela **Telefone** organiza os telefones cadastrados, enquanto que a chave estrangeira dessa mesma tabela faz a relação com a tabela Usuario.\n",
    "\n",
    "**Obs:** apesar de ser um número, o campo telefone é um `VARCHAR`, pois ele possui outros caracteres, como parênteses e traços, que impossibilitam o seu cadastro como `INT`. Mesmo assim, esse número não é \"calculável\". Lembre-se da regra: se não vai fazer parte de um cálculo, não precisa ser `INT`."
   ]
  },
  {
   "cell_type": "markdown",
   "metadata": {},
   "source": [
    "### 2FN - Segunda Forma Normal\n",
    "\n",
    "Para aplicar a 2FN, há alguns requisitos a serem atendidos:\n",
    "\n",
    "1. Estar na primeira forma normal.\n",
    "2. Não ter dependências parciais.\n",
    "3. Cada atributo que não seja chave depender unicamente da chave primária da tabela."
   ]
  },
  {
   "cell_type": "markdown",
   "metadata": {},
   "source": [
    "Uma tabela está na Segunda Forma Normal (2FN) se e somente se ela estiver na 1FN e todos os atributos não chave primária puderem ser obtidos da combinação de todos os atributos que formam a chave primária. Para aplicar a 2FN, devemos:\n",
    "\n",
    "1. Identificar os dados não dependentes da chave primária.\n",
    "2. Remover os dados não dependentes da chave primária.\n",
    "3. Construir uma nova tabela com os dados não dependentes da chave primária.\n",
    "4. Relacione as tabelas com uma chave estrangeira.\n",
    "\n",
    "A nossa tabela ainda não está normalizada, pois o campo `endereco` não está na 2FN, já que ele possui subcampos demais para se colocar em uma única coluna. Portanto, faremos o mesmo que fizemos com o telefone: separamos o endereço em outra tabela e a relacionamos com a tabela Usuario:"
   ]
  },
  {
   "cell_type": "markdown",
   "metadata": {},
   "source": [
    "<div style=\"display: flex; justify-content: center\">\n",
    "    <img src=\"../assets/12-04.png\" alt=\"2FN\" />\n",
    "</div>"
   ]
  },
  {
   "cell_type": "markdown",
   "metadata": {},
   "source": [
    "Agora sim! A tabela **Usuario** está dentro da 2FN. Agora só precisaremos verificar se ela se encontra dentro da 3FN também."
   ]
  },
  {
   "cell_type": "markdown",
   "metadata": {},
   "source": [
    "### 3FN - Terceira Forma Normal\n",
    "\n",
    "Já para aplicar a terceira forma normal, é necessário:\n",
    "\n",
    "1. Que o banco esteja nas 1FN e 2FN.\n",
    "2. Que todos os atributos não chave primária puderem ser obtidos somente através da chave primária.\n",
    "\n",
    "A 3 FN remove dependências transitivas, ou seja, quando atributos que não são chaves dependem indiretamente da chave primária, criando tabelas adicionais para separar campos que não dependem da chave primária. Isso ajuda a minimizar a redundância e a evitar anomalias ao inserir, atualizar ou excluir dados.\n",
    "\n",
    "Vamos voltar para o nosso exemplo:\n",
    "\n",
    "As tabelas **Usuario** e **Telefone** já estão completamente normalizadas, seguindo corretamente as 1FN, 2FN e 3FN. Já a tabela **Endereco** não, pois o campo **logradouro** depende de forma indireta da chave primária da tabela **Endereco**. Portanto, vamos removê-la dessa tabela, e criar outra específica para o **Logradouro**. Em seguida, vamos relacionar o **Logradouro** com o **Endereco** usando a cardinalidade 1:N, onde um logradouro possui muitos endereços. Veja:"
   ]
  },
  {
   "cell_type": "markdown",
   "metadata": {},
   "source": [
    "<div style=\"display: flex; justify-content: center\">\n",
    "    <img src=\"../assets/12-05.png\" alt=\"3FN\" />\n",
    "</div>"
   ]
  },
  {
   "cell_type": "markdown",
   "metadata": {},
   "source": [
    "Essas 3 formas normais são obrigatórias para qualquer banco que você vá construir. Além delas, existem a 4FN e a 5FN, mas não são obrigatórias e não serão objeto de estudo dessa aula.\n",
    "\n",
    "Pronto! A partir de agora, você pode construir qualquer modelo lógico de qualquer banco de dados. Na próxima aula iremos começar a ver sobre a linguagem SQL, responsável por criar o modelo físico. Abraços!"
   ]
  }
 ],
 "metadata": {
  "language_info": {
   "name": "python"
  }
 },
 "nbformat": 4,
 "nbformat_minor": 2
}
