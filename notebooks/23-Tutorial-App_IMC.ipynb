{
 "cells": [
  {
   "cell_type": "markdown",
   "metadata": {},
   "source": [
    "# **Tutorial - App IMC**\n",
    "---"
   ]
  },
  {
   "cell_type": "markdown",
   "metadata": {},
   "source": [
    "## Pré-requisitos da aula\n",
    "\n",
    "- Funções\n",
    "- Import\n",
    "- Orientação a Objetos\n",
    "- Interface Gráfica\n",
    "- Introdução ao Flet\n",
    "- Meu primeiro Flet App\n",
    "- Eventos\n",
    "- Light e Dark Mode\n",
    "- Tutorial - App Combustível\n",
    "\n",
    "---"
   ]
  },
  {
   "cell_type": "markdown",
   "metadata": {},
   "source": [
    "Conhece o **IMC**? Não? É a sigla para **Índice de Massa Corporal**. Esse cálculo é utilizado para verificar se uma pessoa está dentro do peso ideal. Pois adivinha? Nosso próximo App será para fazer esse cálculo para você. Portanto, mãos à obra."
   ]
  },
  {
   "cell_type": "markdown",
   "metadata": {},
   "source": [
    "## Situação-problema\n",
    "---\n",
    "\n",
    "Nosso cliente da vez deseja acompanhar seu peso ideal, seja pelo celular, pelo seu computador, ou por um site da Internet. Como o Flet rompe a barreira das plataformas, vamos criar nosso app para todas elas, para que o usuário possa ter esse acompanhamento onde ele estiver."
   ]
  },
  {
   "cell_type": "markdown",
   "metadata": {},
   "source": [
    "## Solução\n",
    "---\n",
    "\n",
    "### Começando a criar o app\n",
    "\n",
    "Nosso cliente quer nosso app praticamente onipresente. Portanto, temos que ter certeza de que nosso app rodará em tudo quanto é lugar: qualquer SO de qualquer computador ou celular e em qualquer navegador.\n",
    "\n",
    "1. Começe criando o projeto. Faça o nosso ritual padrão de criar a pasta do projeto (nome usado nesse tutorial: \"**imc_flet_app**\") usando o comando (`flet create imc_flet_app`).\n",
    "2. Nosso app também terá um **AppBar** com direito a um botão para alternar os temas claro e escuro. Como fizemos isso no app anterior, vamos repetir o tutorial do **App Combustível** até o **passo 13**. Segue o código-fonte até esse ponto."
   ]
  },
  {
   "cell_type": "code",
   "execution_count": null,
   "metadata": {},
   "outputs": [],
   "source": [
    "import flet as ft\n",
    "\n",
    "def main(page: ft.Page):\n",
    "    def mudar_tema(e):\n",
    "        page.theme_mode = (\n",
    "            ft.ThemeMode.DARK\n",
    "            if page.theme_mode == ft.ThemeMode.LIGHT\n",
    "            else ft.ThemeMode.LIGHT\n",
    "        )\n",
    "        page.bgcolor = (\n",
    "            ft.Colors.WHITE\n",
    "            if page.theme_mode == ft.ThemeMode.LIGHT\n",
    "            else ft.Colors.GREY_900\n",
    "        )\n",
    "        tema.name = (\n",
    "            ft.Icons.SUNNY\n",
    "            if page.theme_mode == ft.ThemeMode.LIGHT\n",
    "            else ft.Icons.MODE_NIGHT\n",
    "        )\n",
    "        page.update()\n",
    "\n",
    "    page.title = \"IMC\"\n",
    "    page.scroll = \"adaptive\"\n",
    "    page.theme_mode = ft.ThemeMode.LIGHT\n",
    "    page.bgcolor = ft.Colors.WHITE\n",
    "\n",
    "    tema = ft.Icon(name=ft.Icons.SUNNY)\n",
    "    interruptor = ft.Switch(on_change=mudar_tema)\n",
    "\n",
    "    page.appbar = ft.AppBar(title=ft.Text(\"IMC\", size=16), actions=[tema, interruptor])\n",
    "\n",
    "    page.add(\n",
    "        ft.SafeArea(\n",
    "            ft.Row(\n",
    "                [ft.Text(\"\\nÍndice de Massa Corporal\", size=25, weight=\"bold\")],\n",
    "                alignment=ft.MainAxisAlignment.CENTER\n",
    "            )\n",
    "        )\n",
    "    )\n",
    "\n",
    "ft.app(main)"
   ]
  },
  {
   "cell_type": "markdown",
   "metadata": {},
   "source": [
    "3. O resultado, por hora, no app desktop é esse logo abaixo:"
   ]
  },
  {
   "cell_type": "markdown",
   "metadata": {},
   "source": [
    "<div style=\"display: flex; justify-content: center\">\n",
    "    <img src=\"../assets/app-imc-01.png\" alt=\"App IMC\" />\n",
    "</div>"
   ]
  },
  {
   "cell_type": "markdown",
   "metadata": {},
   "source": [
    "4. Teste nas outras plataformas também, e aproveite para mudar também o tema."
   ]
  },
  {
   "cell_type": "markdown",
   "metadata": {},
   "source": [
    "### Adicionando controles de página e manipulando eventos\n",
    "\n",
    "5. Esse app é bem parecido com o anterior: dois controles do tipo `ft.TextField()` e um botão que ativa uma função que irá calcular o IMC e exibir na tela. Portanto, não vamos perder tempo e criar as variáveis `peso` e `altura`, e adicioná-las na página:"
   ]
  },
  {
   "cell_type": "code",
   "execution_count": null,
   "metadata": {},
   "outputs": [],
   "source": [
    "import flet as ft\n",
    "\n",
    "def main(page: ft.Page):\n",
    "    def mudar_tema(e):\n",
    "        page.theme_mode = (\n",
    "            ft.ThemeMode.DARK\n",
    "            if page.theme_mode == ft.ThemeMode.LIGHT\n",
    "            else ft.ThemeMode.LIGHT\n",
    "        )\n",
    "        page.bgcolor = (\n",
    "            ft.Colors.WHITE\n",
    "            if page.theme_mode == ft.ThemeMode.LIGHT\n",
    "            else ft.Colors.GREY_900\n",
    "        )\n",
    "        tema.name = (\n",
    "            ft.Icons.SUNNY\n",
    "            if page.theme_mode == ft.ThemeMode.LIGHT\n",
    "            else ft.Icons.MODE_NIGHT\n",
    "        )\n",
    "        page.update()\n",
    "\n",
    "    page.title = \"IMC\"\n",
    "    page.scroll = \"adaptive\"\n",
    "    page.theme_mode = ft.ThemeMode.LIGHT\n",
    "    page.bgcolor = ft.Colors.WHITE\n",
    "\n",
    "    tema = ft.Icon(name=ft.Icons.SUNNY)\n",
    "    interruptor = ft.Switch(on_change=mudar_tema)\n",
    "\n",
    "    # variáveis do imc\n",
    "    peso = ft.TextField(\n",
    "        label=\"Peso\",\n",
    "        suffix_text=\"kg\",\n",
    "        keyboard_type=ft.KeyboardType.NUMBER\n",
    "    )\n",
    "    altura = ft.TextField(\n",
    "        label=\"Altura\",\n",
    "        suffix_text=\"m\",\n",
    "        keyboard_type=ft.KeyboardType.NUMBER\n",
    "    )\n",
    "\n",
    "    page.appbar = ft.AppBar(title=ft.Text(\"IMC\", size=16), actions=[tema, interruptor])\n",
    "\n",
    "    page.add(\n",
    "        ft.SafeArea(\n",
    "            ft.Row(\n",
    "                [ft.Text(\"\\nÍndice de Massa Corporal\", size=25, weight=\"bold\")],\n",
    "                alignment=ft.MainAxisAlignment.CENTER\n",
    "            )\n",
    "        ),\n",
    "        # elementos da tela\n",
    "        ft.ResponsiveRow(\n",
    "            [\n",
    "                ft.Container(peso, col={\"sm\": 6, \"md\": 4, \"xl\": 2}),\n",
    "                ft.Container(altura, col={\"sm\": 6, \"md\": 4, \"xl\": 2})\n",
    "            ],\n",
    "            alignment=ft.MainAxisAlignment.CENTER\n",
    "        )\n",
    "    )\n",
    "\n",
    "ft.app(main)"
   ]
  },
  {
   "cell_type": "markdown",
   "metadata": {},
   "source": [
    "6. Por hora, o resultado será parecido com esse:"
   ]
  },
  {
   "cell_type": "markdown",
   "metadata": {},
   "source": [
    "<div style=\"display: flex; justify-content: center\">\n",
    "    <img src=\"../assets/app-imc-02.png\" alt=\"App IMC\" />\n",
    "</div>"
   ]
  },
  {
   "cell_type": "markdown",
   "metadata": {},
   "source": [
    "<div style=\"display: flex; justify-content: center\">\n",
    "    <img src=\"../assets/app-imc-02a.png\" alt=\"App IMC peso\" />\n",
    "</div>"
   ]
  },
  {
   "cell_type": "markdown",
   "metadata": {},
   "source": [
    "<div style=\"display: flex; justify-content: center\">\n",
    "    <img src=\"../assets/app-imc-02b.png\" alt=\"App IMC altura\" />\n",
    "</div>"
   ]
  },
  {
   "cell_type": "markdown",
   "metadata": {},
   "source": [
    "7. Mais uma vez, esses resultados são para a versão desktop em modo claro. Vá testando em outras plataformas para ver como seu aplicativo está ficando.\n",
    "8. O nosso próximo passo é informar ao usuário o seu diagnóstico com base no valor calculado do seu IMC. Mas para isso, precisaremos da tabela do IMC. Vamos pegar a tabela abaixo como exemplo:"
   ]
  },
  {
   "cell_type": "markdown",
   "metadata": {},
   "source": [
    "<div style=\"display: flex; justify-content: center\">\n",
    "    <img src=\"../assets/tabela-imc-1024x379.webp\" alt=\"Tabela IMC\" />\n",
    "</div>"
   ]
  },
  {
   "cell_type": "markdown",
   "metadata": {},
   "source": [
    "9. Assim como o nosso app anterior, queremos que o resultado apareça em uma caixa de diálogo estilo **modal**. Portanto, nosso próximo passo é criar esse modal. Desenvolva-o logo após as variáveis e antes de `page.appbar`:"
   ]
  },
  {
   "cell_type": "code",
   "execution_count": null,
   "metadata": {},
   "outputs": [],
   "source": [
    "dlg_modal = ft.AlertDialog(\n",
    "    modal=True,\n",
    "    title=ft.Text(),\n",
    "    content=ft.Text(size=20, weight=\"bold\"),\n",
    "    actions=[ft.TextButton(\"OK\", on_click=lambda e: page.close(dlg_modal))],\n",
    "    actions_alignment=ft.MainAxisAlignment.END\n",
    ")"
   ]
  },
  {
   "cell_type": "markdown",
   "metadata": {},
   "source": [
    "10. Agora que temos as informações da tabela e o modal para mostrar o resultado na tela, vamos criar a função que irá calcular o IMC e informar o diagnóstico para o usuário:"
   ]
  },
  {
   "cell_type": "code",
   "execution_count": null,
   "metadata": {},
   "outputs": [],
   "source": [
    "def calcular_imc(e):\n",
    "    if not peso.value:\n",
    "        peso.error_text = \"Peso não pode ficar vazio\"\n",
    "        page.update()\n",
    "    else:\n",
    "        peso.error_text = \"\"\n",
    "        page.update()\n",
    "\n",
    "    if not altura.value:\n",
    "        altura.error_text = \"Altura não pode ficar vazio\"\n",
    "        page.update()\n",
    "    else:\n",
    "        altura.error_text = \"\"\n",
    "\n",
    "        peso.value = float(peso.value.replace(\",\", \".\"))\n",
    "        altura.value = float(altura.value.replace(\",\", \".\"))\n",
    "\n",
    "        imc = peso.value / (altura.value**2)\n",
    "\n",
    "        dlg_modal.title.value = f\"Seu IMC: {imc:.2f}.\"\n",
    "\n",
    "        if imc < 17:\n",
    "            dlg_modal.content.value = \"Você está muito abaixo do peso. Procure um médico.\"\n",
    "        elif imc < 18.5:\n",
    "            dlg_modal.content.value = \"Você está abaixo do peso.\"\n",
    "        elif imc < 25:\n",
    "            dlg_modal.content.value = \"Você está no seu peso ideal. Parabéns!\"\n",
    "        elif imc < 30:\n",
    "            dlg_modal.content.value = \"Você está acima do seu peso ideal.\"\n",
    "        elif imc < 35:\n",
    "            dlg_modal.content.value = \"Você está com Obesidade I.\"\n",
    "        elif imc < 40:\n",
    "            dlg_modal.content.value = \"Você está com Obesidade II.\"\n",
    "        else:\n",
    "            dlg_modal.content.value = \"Você está com Obesidade mórbida. Procure um médico.\"\n",
    "\n",
    "        page.open(dlg_modal)\n",
    "\n",
    "        peso.value = \"\"\n",
    "        altura.value = \"\"\n",
    "\n",
    "        page.update()"
   ]
  },
  {
   "cell_type": "markdown",
   "metadata": {},
   "source": [
    "11. Com a função `informar_diagnostico` criada, agora podemos criar o botão dentro da `page.add()` que irá chamá-la:"
   ]
  },
  {
   "cell_type": "code",
   "execution_count": null,
   "metadata": {},
   "outputs": [],
   "source": [
    "page.add(\n",
    "    ft.SafeArea(\n",
    "        ft.Row(\n",
    "            [ft.Text(\"\\nÍndice de Massa Corporal\", size=25, weight=\"bold\")],\n",
    "            alignment=ft.MainAxisAlignment.CENTER\n",
    "        )\n",
    "    ),\n",
    "    ft.ResponsiveRow(\n",
    "        [\n",
    "            ft.Container(peso, col={\"sm\": 6, \"md\": 4, \"xl\": 2}),\n",
    "            ft.Container(altura, col={\"sm\": 6, \"md\": 4, \"xl\": 2})\n",
    "        ],\n",
    "        alignment=ft.MainAxisAlignment.CENTER\n",
    "    ),\n",
    "    # botão\n",
    "    ft.Row(\n",
    "        [\n",
    "            ft.Container(\n",
    "                ft.ElevatedButton(\"Verificar\", on_click=calcular_imc),\n",
    "                padding=30\n",
    "            )\n",
    "        ],\n",
    "        alignment=ft.MainAxisAlignment.CENTER\n",
    "    )\n",
    ")"
   ]
  },
  {
   "cell_type": "markdown",
   "metadata": {},
   "source": [
    "12. Aproveite e acrescente o evento `on_submit` na variável `altura`:"
   ]
  },
  {
   "cell_type": "code",
   "execution_count": null,
   "metadata": {},
   "outputs": [],
   "source": [
    "altura = ft.TextField(\n",
    "    label=\"Altura\",\n",
    "    suffix_text=\"m\",\n",
    "    keyboard_type=ft.KeyboardType.NUMBER,\n",
    "    on_submit=calcular_imc\n",
    ")"
   ]
  },
  {
   "cell_type": "markdown",
   "metadata": {},
   "source": [
    "13. Antes de finalizarmos o app, precisamos de um **ícone**. Vamos fazer como no exemplo anterior e copiar o endereço de um da Internet e colar no código:"
   ]
  },
  {
   "cell_type": "code",
   "execution_count": null,
   "metadata": {},
   "outputs": [],
   "source": [
    "page.appbar = ft.AppBar(\n",
    "    leading=ft.Image(src=f\"https://img.icons8.com/color/48/bmi.png\", fit=ft.ImageFit.CONTAIN),\n",
    "    leading_width=48,\n",
    "    title=ft.Text(\"IMC\", size=16),\n",
    "    actions=[tema, interruptor]\n",
    ")"
   ]
  },
  {
   "cell_type": "markdown",
   "metadata": {},
   "source": [
    "14. O algoritmo completo segue logo abaixo:"
   ]
  },
  {
   "cell_type": "code",
   "execution_count": null,
   "metadata": {},
   "outputs": [],
   "source": [
    "import flet as ft\n",
    "\n",
    "def main(page: ft.Page):\n",
    "    def mudar_tema(e):\n",
    "        page.theme_mode = (\n",
    "            ft.ThemeMode.DARK\n",
    "            if page.theme_mode == ft.ThemeMode.LIGHT\n",
    "            else ft.ThemeMode.LIGHT\n",
    "        )\n",
    "        page.bgcolor = (\n",
    "            ft.Colors.WHITE\n",
    "            if page.theme_mode == ft.ThemeMode.LIGHT\n",
    "            else ft.Colors.GREY_900\n",
    "        )\n",
    "        tema.name = (\n",
    "            ft.Icons.SUNNY\n",
    "            if page.theme_mode == ft.ThemeMode.LIGHT\n",
    "            else ft.Icons.MODE_NIGHT\n",
    "        )\n",
    "        page.update()\n",
    "\n",
    "    def calcular_imc(e):\n",
    "        if not peso.value:\n",
    "            peso.error_text = \"Peso não pode ficar vazio\"\n",
    "            page.update()\n",
    "        else:\n",
    "            peso.error_text = \"\"\n",
    "            page.update()\n",
    "\n",
    "        if not altura.value:\n",
    "            altura.error_text = \"Altura não pode ficar vazio\"\n",
    "            page.update()\n",
    "        else:\n",
    "            altura.error_text = \"\"\n",
    "\n",
    "            peso.value = float(peso.value.replace(\",\", \".\"))\n",
    "            altura.value = float(altura.value.replace(\",\", \".\"))\n",
    "\n",
    "            imc = peso.value / (altura.value**2)\n",
    "\n",
    "            dlg_modal.title.value = f\"Seu IMC: {imc:.2f}.\"\n",
    "\n",
    "            if imc < 17:\n",
    "                dlg_modal.content.value = \"Você está muito abaixo do peso. Procure um médico.\"\n",
    "            elif imc < 18.5:\n",
    "                dlg_modal.content.value = \"Você está abaixo do peso.\"\n",
    "            elif imc < 25:\n",
    "                dlg_modal.content.value = \"Você está no seu peso ideal. Parabéns!\"\n",
    "            elif imc < 30:\n",
    "                dlg_modal.content.value = \"Você está acima do seu peso ideal.\"\n",
    "            elif imc < 35:\n",
    "                dlg_modal.content.value = \"Você está com Obesidade I.\"\n",
    "            elif imc < 40:\n",
    "                dlg_modal.content.value = \"Você está com Obesidade II.\"\n",
    "            else:\n",
    "                dlg_modal.content.value = \"Você está com Obesidade mórbida. Procure um médico.\"\n",
    "\n",
    "            page.open(dlg_modal)\n",
    "\n",
    "            peso.value = \"\"\n",
    "            altura.value = \"\"\n",
    "\n",
    "            page.update()\n",
    "\n",
    "    page.title = \"IMC\"\n",
    "    page.scroll = \"adaptive\"\n",
    "    page.theme_mode = ft.ThemeMode.LIGHT\n",
    "    page.bgcolor = ft.Colors.WHITE\n",
    "\n",
    "    tema = ft.Icon(name=ft.Icons.SUNNY)\n",
    "    interruptor = ft.Switch(on_change=mudar_tema)\n",
    "\n",
    "    peso = ft.TextField(\n",
    "        label=\"Peso\",\n",
    "        suffix_text=\"kg\",\n",
    "        keyboard_type=ft.KeyboardType.NUMBER\n",
    "    )\n",
    "    altura = ft.TextField(\n",
    "        label=\"Altura\",\n",
    "        suffix_text=\"m\",\n",
    "        keyboard_type=ft.KeyboardType.NUMBER,\n",
    "        on_submit=calcular_imc\n",
    "    )\n",
    "    dlg_modal = ft.AlertDialog(\n",
    "        modal=True,\n",
    "        title=ft.Text(),\n",
    "        content=ft.Text(size=20, weight=\"bold\"),\n",
    "        actions=[ft.TextButton(\"OK\", on_click=lambda e: page.close(dlg_modal))],\n",
    "        actions_alignment=ft.MainAxisAlignment.END\n",
    "    )\n",
    "\n",
    "    page.appbar = ft.AppBar(\n",
    "        leading=ft.Image(src=f\"https://img.icons8.com/color/48/bmi.png\", fit=ft.ImageFit.CONTAIN),\n",
    "        leading_width=48,\n",
    "        title=ft.Text(\"IMC\", size=16),\n",
    "        actions=[tema, interruptor]\n",
    "    )\n",
    "\n",
    "    page.add(\n",
    "        ft.SafeArea(\n",
    "            ft.Row(\n",
    "                [ft.Text(\"\\nÍndice de Massa Corporal\", size=25, weight=\"bold\")],\n",
    "                alignment=ft.MainAxisAlignment.CENTER\n",
    "            )\n",
    "        ),\n",
    "        ft.ResponsiveRow(\n",
    "            [\n",
    "                ft.Container(peso, col={\"sm\": 6, \"md\": 4, \"xl\": 2}),\n",
    "                ft.Container(altura, col={\"sm\": 6, \"md\": 4, \"xl\": 2})\n",
    "            ],\n",
    "            alignment=ft.MainAxisAlignment.CENTER\n",
    "        ),\n",
    "        ft.Row(\n",
    "            [\n",
    "                ft.Container(\n",
    "                    ft.ElevatedButton(\"Verificar\", on_click=calcular_imc),\n",
    "                    padding=30\n",
    "                )\n",
    "            ],\n",
    "            alignment=ft.MainAxisAlignment.CENTER\n",
    "        )\n",
    "    )\n",
    "\n",
    "ft.app(main)"
   ]
  },
  {
   "cell_type": "markdown",
   "metadata": {},
   "source": [
    "15. Resultado:\n",
    "\n",
    "#### Desktop"
   ]
  },
  {
   "cell_type": "markdown",
   "metadata": {},
   "source": [
    "<div style=\"display: flex; justify-content: center\">\n",
    "    <img src=\"../assets/app-imc-desktop-final.png\" alt=\"App IMC\" />\n",
    "</div>"
   ]
  },
  {
   "cell_type": "markdown",
   "metadata": {},
   "source": [
    "#### Web"
   ]
  },
  {
   "cell_type": "markdown",
   "metadata": {},
   "source": [
    "<div style=\"display: flex; justify-content: center\">\n",
    "    <img src=\"../assets/app-imc-web-final.png\" alt=\"App IMC\" />\n",
    "</div>"
   ]
  },
  {
   "cell_type": "markdown",
   "metadata": {},
   "source": [
    "#### Android"
   ]
  },
  {
   "cell_type": "markdown",
   "metadata": {},
   "source": [
    "<div style=\"display: flex; justify-content: center\">\n",
    "    <img src=\"../assets/app-imc-android-final.png\" alt=\"App IMC\" />\n",
    "</div>"
   ]
  }
 ],
 "metadata": {
  "kernelspec": {
   "display_name": ".venv",
   "language": "python",
   "name": "python3"
  },
  "language_info": {
   "name": "python",
   "version": "3.12.7"
  }
 },
 "nbformat": 4,
 "nbformat_minor": 2
}
