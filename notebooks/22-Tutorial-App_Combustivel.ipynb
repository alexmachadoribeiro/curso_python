{
 "cells": [
  {
   "cell_type": "markdown",
   "metadata": {},
   "source": [
    "# **Tutorial - App Combustível**\n",
    "---"
   ]
  },
  {
   "cell_type": "markdown",
   "metadata": {},
   "source": [
    "## Pré-requisitos da aula\n",
    "\n",
    "- Funções\n",
    "- Import\n",
    "- Orientação a Objetos\n",
    "- Interface Gráfica\n",
    "- Introdução ao Flet\n",
    "- Meu primeiro Flet App\n",
    "- Eventos\n",
    "- Light e Dark Mode\n",
    "\n",
    "---"
   ]
  },
  {
   "cell_type": "markdown",
   "metadata": {},
   "source": [
    "Nas aulas anteriores, criamos alguns apps com a finalidade de apenas testar alguns recursos. A partir de agora, todos os apps que iremos criar podem ser perfeitamente aplicáveis no dia-a-dia do usuário. Finalmente chegamos à fase em que iremos desenvolver nossos apps completos para você poder publicar à vontade e mostrar para os amigos com um aplicativo para chamar de seu.\n",
    "\n",
    "Nosso primeiro app completo será um app de combustível."
   ]
  },
  {
   "cell_type": "markdown",
   "metadata": {},
   "source": [
    "## Situação-problema\n",
    "---"
   ]
  },
  {
   "cell_type": "markdown",
   "metadata": {},
   "source": [
    "Imagine que o nosso cliente possua um carro flex, ou seja, aceita como combustível tanto **gasolina** como **etanol**. Não é segredo que o etanol é bem mais barato do que a gasolina. O que muitos podem não saber é que o consumo do etanol também é muito maior. O cliente sabe disso, e gostaria de ter no seu celular um app, ou pelo menos uma aplicação online que pudesse retornar qual combustível tem o melhor custo-benefício com base no preço dos dois."
   ]
  },
  {
   "cell_type": "markdown",
   "metadata": {},
   "source": [
    "## Solução\n",
    "---\n",
    "\n",
    "### Começando a criar o app\n",
    "\n",
    "Nosso cliente não exigiu que o nosso aplicativo fosse especificamente web ou app para celular. Pediu apenas que fosse um dos dois, mas como o Flet permite que desenvolvamos para qualquer plataforma usando o mesmo código-fonte, não há trabalho algum desenvolver simultâneamente para os dois. É o que faremos:"
   ]
  },
  {
   "cell_type": "markdown",
   "metadata": {},
   "source": [
    "1. Começe criando o projeto. Faça o nosso ritual padrão de criar a pasta do projeto (nome usado nesse tutorial: \"**combustivel**\") usando o comando (`flet create combustivel`).\n",
    "2. Altere o código-fonte e acresccente as prorpiedades que desejar.\n",
    "3. Nosso código-fonte se parecerá com esse:"
   ]
  },
  {
   "cell_type": "code",
   "execution_count": null,
   "metadata": {},
   "outputs": [],
   "source": [
    "import flet as ft\n",
    "\n",
    "def main(page: ft.Page):\n",
    "    # propriedades da página\n",
    "    page.title = \"Combustível\"\n",
    "    page.scroll = \"adaptive\"\n",
    "    page.theme_mode = ft.ThemeMode.LIGHT\n",
    "    page.bgcolor = ft.Colors.WHITE\n",
    "\n",
    "    page.add(ft.SafeArea(ft.Text(\"Hello, Flet!\")))\n",
    "\n",
    "ft.app(main)"
   ]
  },
  {
   "cell_type": "markdown",
   "metadata": {},
   "source": [
    "### AppBar\n",
    "\n",
    "4. Vamos começar com o **AppBar**. O AppBar é uma barra superior da nossa aplicação que será inserida antes de `page.add()`:"
   ]
  },
  {
   "cell_type": "code",
   "execution_count": null,
   "metadata": {},
   "outputs": [],
   "source": [
    "import flet as ft\n",
    "\n",
    "def main(page: ft.Page):\n",
    "    page.title = \"Combustível\"\n",
    "    page.scroll = \"adaptive\"\n",
    "    page.theme_mode = ft.ThemeMode.LIGHT\n",
    "    page.bgcolor = ft.Colors.WHITE\n",
    "\n",
    "    # AppBar\n",
    "    page.appbar = ft.AppBar()\n",
    "\n",
    "    page.add(ft.SafeArea(ft.Text(\"Hello, Flet!\")))\n",
    "\n",
    "ft.app(main)"
   ]
  },
  {
   "cell_type": "markdown",
   "metadata": {},
   "source": [
    "5. Isso já é o suficiente para gerar um AppBar, embora sem conteúdo. Veja o resultado na versão desktop, mas procure executar também na versão web e mobile:"
   ]
  },
  {
   "cell_type": "markdown",
   "metadata": {},
   "source": [
    "<div style=\"display: flex; justify-content: center\">\n",
    "    <img src=\"../assets/app-combustivel-01.png\" alt=\"App Combustivel\" />\n",
    "</div>"
   ]
  },
  {
   "cell_type": "markdown",
   "metadata": {},
   "source": [
    "6. Vamos começar colocando um título para o nosso AppBar:"
   ]
  },
  {
   "cell_type": "code",
   "execution_count": null,
   "metadata": {},
   "outputs": [],
   "source": [
    "import flet as ft\n",
    "\n",
    "def main(page: ft.Page):\n",
    "    page.title = \"Combustível\"\n",
    "    page.scroll = \"adaptive\"\n",
    "    page.theme_mode = ft.ThemeMode.LIGHT\n",
    "    page.bgcolor = ft.Colors.WHITE\n",
    "\n",
    "    # AppBar\n",
    "    page.appbar = ft.AppBar(title=ft.Text(\"Combustível\", size=16))\n",
    "\n",
    "    page.add(ft.SafeArea(ft.Text(\"Hello, Flet!\")))\n",
    "\n",
    "ft.app(main)"
   ]
  },
  {
   "cell_type": "markdown",
   "metadata": {},
   "source": [
    "### Botão para alterar o tema\n",
    "\n",
    "7. Aproveitaremos que criamos na aula passada um algoritmo para alternar os temas Light e Dark. Vamos implementar esse código dentro do AppBar, com uma alteração: iremos trocar o texto \"**Light theme**\" e \"**Dark theme**\" do app da aula anterior por ícones representando os temas. Para isso, iremos criar uma variável representando o ícone do tema padrão da aplicação (que é o tema claro).\n",
    "8. Depois, iremos programar uma condicional para essa variável para que o ícone mude quando o *switch button* for acionado.\n",
    "9. Enfim, chamaremos essa variável desta vez dentro do **AppBar** ao invés do SafeBar, acrescentando ao final de `ft.AppBar()` o parâmetro `actions=[tema, interruptor]`, onde `tema` representa o ícone do tema, e `interruptor` representa o *switch button*:"
   ]
  },
  {
   "cell_type": "code",
   "execution_count": null,
   "metadata": {},
   "outputs": [],
   "source": [
    "import flet as ft\n",
    "\n",
    "def main(page: ft.Page):\n",
    "    # função do tema\n",
    "    def mudar_tema(e):\n",
    "        page.theme_mode = (\n",
    "            ft.ThemeMode.DARK\n",
    "            if page.theme_mode == ft.ThemeMode.LIGHT\n",
    "            else ft.ThemeMode.LIGHT\n",
    "        )\n",
    "        page.bgcolor = (\n",
    "            ft.Colors.WHITE\n",
    "            if page.theme_mode == ft.ThemeMode.LIGHT\n",
    "            else ft.Colors.GREY_900\n",
    "        )\n",
    "        # altera o ícone do tema\n",
    "        tema.name = (\n",
    "            ft.Icons.SUNNY\n",
    "            if page.theme_mode == ft.ThemeMode.LIGHT\n",
    "            else ft.Icons.MODE_NIGHT\n",
    "        )\n",
    "        page.update()\n",
    "\n",
    "    page.title = \"Combustível\"\n",
    "    page.scroll = \"adaptive\"\n",
    "    page.theme_mode = ft.ThemeMode.LIGHT\n",
    "    page.bgcolor = ft.Colors.WHITE\n",
    "\n",
    "    # ícone e botão do tema\n",
    "    tema = ft.Icon(name=ft.Icons.SUNNY)\n",
    "    interruptor = ft.Switch(on_change=mudar_tema)\n",
    "\n",
    "    # AppBar\n",
    "    page.appbar = ft.AppBar(title=ft.Text(\"Combustível\", size=16), actions=[tema, interruptor])\n",
    "\n",
    "    page.add(ft.SafeArea(ft.Text(\"Hello, Flet!\")))\n",
    "\n",
    "ft.app(main)"
   ]
  },
  {
   "cell_type": "markdown",
   "metadata": {},
   "source": [
    "10. Vamos ver como o nosso app está ficando. Para fins práticos, será mostrado abaixo apenas a tela do app no Desktop, mas procure executar também o seu app nas versões Web e Mobile:"
   ]
  },
  {
   "cell_type": "markdown",
   "metadata": {},
   "source": [
    "#### Light Mode:"
   ]
  },
  {
   "cell_type": "markdown",
   "metadata": {},
   "source": [
    "<div style=\"display: flex; justify-content: center\">\n",
    "    <img src=\"../assets/app-combustivel-02.png\" alt=\"App Combustivel\" />\n",
    "</div>"
   ]
  },
  {
   "cell_type": "markdown",
   "metadata": {},
   "source": [
    "#### Dark Mode:"
   ]
  },
  {
   "cell_type": "markdown",
   "metadata": {},
   "source": [
    "<div style=\"display: flex; justify-content: center\">\n",
    "    <img src=\"../assets/app-combustivel-03.png\" alt=\"App Combustivel\" />\n",
    "</div>"
   ]
  },
  {
   "cell_type": "markdown",
   "metadata": {},
   "source": [
    "11. Legal! Agora, vamos começar a construção do app em si."
   ]
  },
  {
   "cell_type": "markdown",
   "metadata": {},
   "source": [
    "### Adicionando controles de página e manipulando eventos\n",
    "\n",
    "12. Para o nosso app, precisaremos desses controles:\n",
    "\n",
    "- `Text`: exibe o resultado na tela.\n",
    "- `TextField`: controle de entrada usado para receber os valores dos combustíveis.\n",
    "- `ElevatedButton`: Botão \"Calcular\" enviará os valores para a função, que retornará o resultado.\n",
    "- `Row`: um container para exibir TextField e ElevatedButton horizontalmente.\n",
    "\n",
    "13. Vamos substituir o conteúdo do `ft.Text()`dentro de `ft.SafeArea()` por um texto que funcionará como um título na página do App:"
   ]
  },
  {
   "cell_type": "code",
   "execution_count": null,
   "metadata": {},
   "outputs": [],
   "source": [
    "import flet as ft\n",
    "\n",
    "def main(page: ft.Page):\n",
    "    def mudar_tema(e):\n",
    "        page.theme_mode = (\n",
    "            ft.ThemeMode.DARK\n",
    "            if page.theme_mode == ft.ThemeMode.LIGHT\n",
    "            else ft.ThemeMode.LIGHT\n",
    "        )\n",
    "        page.bgcolor = (\n",
    "            ft.Colors.WHITE\n",
    "            if page.theme_mode == ft.ThemeMode.LIGHT\n",
    "            else ft.Colors.GREY_900\n",
    "        )\n",
    "        tema.name = (\n",
    "            ft.Icons.SUNNY\n",
    "            if page.theme_mode == ft.ThemeMode.LIGHT\n",
    "            else ft.Icons.MODE_NIGHT\n",
    "        )\n",
    "        page.update()\n",
    "\n",
    "    page.title = \"Combustível\"\n",
    "    page.scroll = \"adaptive\"\n",
    "    page.theme_mode = ft.ThemeMode.LIGHT\n",
    "    page.bgcolor = ft.Colors.WHITE\n",
    "\n",
    "    tema = ft.Icon(name=ft.Icons.SUNNY)\n",
    "    interruptor = ft.Switch(on_change=mudar_tema)\n",
    "\n",
    "    page.appbar = ft.AppBar(title=ft.Text(\"Combustível\", size=16), actions=[tema, interruptor])\n",
    "\n",
    "    page.add(\n",
    "        ft.SafeArea(\n",
    "            ft.Row(\n",
    "                [ft.Text(\"\\nCusto-benefício combustível\", size=25, weight=\"bold\")],\n",
    "                alignment=ft.MainAxisAlignment.CENTER\n",
    "            )\n",
    "        )\n",
    "    )\n",
    "\n",
    "ft.app(main)"
   ]
  },
  {
   "cell_type": "markdown",
   "metadata": {},
   "source": [
    "14. Como estamos desenvolvendo para web e mobile, vamos executar nessas duas plataformas. Primeiro, vamos testar o modo claro e modo escuro na versão web, e depois vamos testar a versão web também em dispositivos móveis, para ver se a nossa página web está responsiva:"
   ]
  },
  {
   "cell_type": "markdown",
   "metadata": {},
   "source": [
    "#### Web Desktop Light Mode:"
   ]
  },
  {
   "cell_type": "markdown",
   "metadata": {},
   "source": [
    "<div style=\"display: flex; justify-content: center\">\n",
    "    <img src=\"../assets/app-combustivel-web-01.png\" alt=\"App Combustivel Web\" />\n",
    "</div>"
   ]
  },
  {
   "cell_type": "markdown",
   "metadata": {},
   "source": [
    "#### Web Desktop Dark Mode:"
   ]
  },
  {
   "cell_type": "markdown",
   "metadata": {},
   "source": [
    "<div style=\"display: flex; justify-content: center\">\n",
    "    <img src=\"../assets/app-combustivel-web-dark-01.png\" alt=\"App Combustivel\" />\n",
    "</div>"
   ]
  },
  {
   "cell_type": "markdown",
   "metadata": {},
   "source": [
    "#### Web Mobile Portrait Light Mode:"
   ]
  },
  {
   "cell_type": "markdown",
   "metadata": {},
   "source": [
    "<div style=\"display: flex; justify-content: center\">\n",
    "    <img src=\"../assets/app-combustivel-web-smartphone-01.png\" alt=\"App Combustivel\" />\n",
    "</div>"
   ]
  },
  {
   "cell_type": "markdown",
   "metadata": {},
   "source": [
    "#### Web Mobile Portrait Dark Mode:"
   ]
  },
  {
   "cell_type": "markdown",
   "metadata": {},
   "source": [
    "<div style=\"display: flex; justify-content: center\">\n",
    "    <img src=\"../assets/app-combustivel-web-smartphone-dark-01.png\" alt=\"App Combustivel\" />\n",
    "</div>"
   ]
  },
  {
   "cell_type": "markdown",
   "metadata": {},
   "source": [
    "#### Web Mobile Landscape Light Mode:"
   ]
  },
  {
   "cell_type": "markdown",
   "metadata": {},
   "source": [
    "<div style=\"display: flex; justify-content: center\">\n",
    "    <img src=\"../assets/app-combustivel-web-smartphone-landscape-01.png\" alt=\"App Combustivel\" />\n",
    "</div>"
   ]
  },
  {
   "cell_type": "markdown",
   "metadata": {},
   "source": [
    "#### Web Mobile Landscape Dark Mode:"
   ]
  },
  {
   "cell_type": "markdown",
   "metadata": {},
   "source": [
    "<div style=\"display: flex; justify-content: center\">\n",
    "    <img src=\"../assets/app-combustivel-web-smartphone-dark-landscape-01.png\" alt=\"App Combustivel\" />\n",
    "</div>"
   ]
  },
  {
   "cell_type": "markdown",
   "metadata": {},
   "source": [
    "15. Agora, vamos testar o app mobile:\n",
    "\n",
    "#### Portrait Light Mode:"
   ]
  },
  {
   "cell_type": "markdown",
   "metadata": {},
   "source": [
    "<div style=\"display: flex; justify-content: center\">\n",
    "    <img src=\"../assets/app-combustivel-android-01.png\" alt=\"App Combustivel\" />\n",
    "</div>"
   ]
  },
  {
   "cell_type": "markdown",
   "metadata": {},
   "source": [
    "#### Portrait Dark Mode:"
   ]
  },
  {
   "cell_type": "markdown",
   "metadata": {},
   "source": [
    "<div style=\"display: flex; justify-content: center\">\n",
    "    <img src=\"../assets/app-combustivel-android-dark-01.png\" alt=\"App Combustivel\" />\n",
    "</div>"
   ]
  },
  {
   "cell_type": "markdown",
   "metadata": {},
   "source": [
    "#### Landscape Light Mode:"
   ]
  },
  {
   "cell_type": "markdown",
   "metadata": {},
   "source": [
    "<div style=\"display: flex; justify-content: center\">\n",
    "    <img src=\"../assets/app-combustivel-android-landscape-01.png\" alt=\"App Combustivel\" />\n",
    "</div>"
   ]
  },
  {
   "cell_type": "markdown",
   "metadata": {},
   "source": [
    "#### Landscape Dark Mode:"
   ]
  },
  {
   "cell_type": "markdown",
   "metadata": {},
   "source": [
    "<div style=\"display: flex; justify-content: center\">\n",
    "    <img src=\"../assets/app-combustivel-android-dark-landscape-01.png\" alt=\"App Combustivel\" />\n",
    "</div>"
   ]
  },
  {
   "cell_type": "markdown",
   "metadata": {},
   "source": [
    "16. Agora vamos acrescentar os inputs do usuário. Criaremos duas variáveis que receberão um `ft.TextField()` cada: um para gasolina e outro para etanol. Como os dois campos são exclusivamente para valores do tipo numéricos (*float*), vamos aplicar a prorpiedade `keyboard_type` e alterar o tipo para `NUMBER` para que o campo na versão para celulares ative o teclado numérico ao invés do teclado de textos:"
   ]
  },
  {
   "cell_type": "code",
   "execution_count": null,
   "metadata": {},
   "outputs": [],
   "source": [
    "# variáveis do app\n",
    "gasolina = ft.TextField(\n",
    "    label=\"Valor da gasolina\",\n",
    "    prefix=\"R$\",\n",
    "    keyboard_type=ft.KeyboardType.NUMBER\n",
    ")\n",
    "etanol = ft.TextField(\n",
    "    label=\"Valor da etanol\",\n",
    "    prefix=\"R$\",\n",
    "    keyboard_type=ft.KeyboardType.NUMBER\n",
    ")"
   ]
  },
  {
   "cell_type": "markdown",
   "metadata": {},
   "source": [
    "### Grid de 12 colunas\n",
    "\n",
    "17. Agora vamos colocar esses elementos dentro da página. Para uma melhor usabilidade, queremos eles centralizados e responsivos. Para isso, iremos usar dois elementos: `ft.ResponsiveRow()`, e dentro dele iremos colocar um `ft.Container()` para cada controle que adicionarmos. Também garantiremos que o layout da página mude de acordo com a largura da tela, e para isso utilizaremos o sistema de **Grid de 12 colunas** para diagramar a página, de forma similar à grid do Front-End.\n",
    "18. Funciona assim: imaginando a tela dividida em 12 colunas, iremos colocar cada `ft.TextField()` ocupando 6 colunas em dispositivos como tablets ou smartphones na posição paisagem, dessa forma ocupando metade da tela cada um. Em dispositivos maiores, os inputs irão ocupar 4 colunas, e em telas gigantes, como as de uma SmarTV, 2 colunas. Em smartphones em posição retrato, cada input irá ocupar todas as 12 colunas. Segue o código do `page.add()`:"
   ]
  },
  {
   "cell_type": "code",
   "execution_count": null,
   "metadata": {},
   "outputs": [],
   "source": [
    "page.add(\n",
    "    ft.SafeArea(\n",
    "        ft.Row(\n",
    "            [ft.Text(\"\\nCusto-benefício combustível\\n\", size=25, weight=\"bold\")],\n",
    "            alignment=ft.MainAxisAlignment.CENTER\n",
    "        )\n",
    "    ),\n",
    "    ft.ResponsiveRow(\n",
    "        [\n",
    "            ft.Container(gasolina, col={\"sm\": 6, \"md\": 4, \"xl\": 2}),\n",
    "            ft.Container(etanol, col={\"sm\": 6, \"md\": 4, \"xl\": 2})\n",
    "        ],\n",
    "        alignment=ft.MainAxisAlignment.CENTER\n",
    "    )\n",
    ")"
   ]
  },
  {
   "cell_type": "markdown",
   "metadata": {},
   "source": [
    "19. O código-fonte total até esse momento da nossa aula deverá ficar assim:"
   ]
  },
  {
   "cell_type": "code",
   "execution_count": null,
   "metadata": {},
   "outputs": [],
   "source": [
    "import flet as ft\n",
    "\n",
    "def main(page: ft.Page):\n",
    "    def mudar_tema(e):\n",
    "        page.theme_mode = (\n",
    "            ft.ThemeMode.DARK\n",
    "            if page.theme_mode == ft.ThemeMode.LIGHT\n",
    "            else ft.ThemeMode.LIGHT\n",
    "        )\n",
    "        page.bgcolor = (\n",
    "            ft.Colors.WHITE\n",
    "            if page.theme_mode == ft.ThemeMode.LIGHT\n",
    "            else ft.Colors.GREY_900\n",
    "        )\n",
    "        tema.name = (\n",
    "            ft.Icons.SUNNY\n",
    "            if page.theme_mode == ft.ThemeMode.LIGHT\n",
    "            else ft.Icons.MODE_NIGHT\n",
    "        )\n",
    "        page.update()\n",
    "\n",
    "    page.title = \"Combustível\"\n",
    "    page.scroll = \"adaptive\"\n",
    "    page.theme_mode = ft.ThemeMode.LIGHT\n",
    "    page.bgcolor = ft.Colors.WHITE\n",
    "\n",
    "    tema = ft.Icon(name=ft.Icons.SUNNY)\n",
    "    interruptor = ft.Switch(on_change=mudar_tema)\n",
    "\n",
    "    gasolina = ft.TextField(\n",
    "        label=\"Valor da gasolina\",\n",
    "        prefix=\"R$\",\n",
    "        keyboard_type=ft.KeyboardType.NUMBER\n",
    "    )\n",
    "    etanol = ft.TextField(\n",
    "        label=\"Valor da etanol\",\n",
    "        prefix=\"R$\",\n",
    "        keyboard_type=ft.KeyboardType.NUMBER\n",
    "    )\n",
    "\n",
    "    page.appbar = ft.AppBar(title=ft.Text(\"Combustível\", size=16), actions=[tema, interruptor])\n",
    "\n",
    "    page.add(\n",
    "        ft.SafeArea(\n",
    "            ft.Row(\n",
    "                [ft.Text(\"\\nCusto-benefício combustível\\n\", size=25, weight=\"bold\")],\n",
    "                alignment=ft.MainAxisAlignment.CENTER\n",
    "            )\n",
    "        ),\n",
    "        ft.ResponsiveRow(\n",
    "            [\n",
    "                ft.Container(gasolina, col={\"sm\": 6, \"md\": 4, \"xl\": 2}),\n",
    "                ft.Container(etanol, col={\"sm\": 6, \"md\": 4, \"xl\": 2})\n",
    "            ],\n",
    "            alignment=ft.MainAxisAlignment.CENTER\n",
    "        )\n",
    "    )\n",
    "\n",
    "ft.app(main)"
   ]
  },
  {
   "cell_type": "markdown",
   "metadata": {},
   "source": [
    "20. O resultado até o momento deverá ser esse:\n",
    "\n",
    "#### Web"
   ]
  },
  {
   "cell_type": "markdown",
   "metadata": {},
   "source": [
    "<div style=\"display: flex; justify-content: center\">\n",
    "    <img src=\"../assets/app-combustivel-web-02.png\" alt=\"App Combustivel\" />\n",
    "</div>"
   ]
  },
  {
   "cell_type": "markdown",
   "metadata": {},
   "source": [
    "#### Mobile Portrait"
   ]
  },
  {
   "cell_type": "markdown",
   "metadata": {},
   "source": [
    "<div style=\"display: flex; justify-content: center\">\n",
    "    <img src=\"../assets/app-combustivel-android-02.png\" alt=\"App Combustivel\" />\n",
    "</div>"
   ]
  },
  {
   "cell_type": "markdown",
   "metadata": {},
   "source": [
    "#### Mobile Landscape"
   ]
  },
  {
   "cell_type": "markdown",
   "metadata": {},
   "source": [
    "<div style=\"display: flex; justify-content: center\">\n",
    "    <img src=\"../assets/app-combustivel-android-landscape-02.png\" alt=\"App Combustivel\" />\n",
    "</div>"
   ]
  },
  {
   "cell_type": "markdown",
   "metadata": {},
   "source": [
    "#### Inserindo valores nos inputs"
   ]
  },
  {
   "cell_type": "markdown",
   "metadata": {},
   "source": [
    "<div style=\"display: flex; justify-content: center\">\n",
    "    <img src=\"../assets/app-combustivel-android-03.png\" alt=\"App Combustivel\" />\n",
    "</div>"
   ]
  },
  {
   "cell_type": "markdown",
   "metadata": {},
   "source": [
    "<div style=\"display: flex; justify-content: center\">\n",
    "    <img src=\"../assets/app-combustivel-android-dark-landscape-02.png\" alt=\"App Combustivel\" />\n",
    "</div>"
   ]
  },
  {
   "cell_type": "markdown",
   "metadata": {},
   "source": [
    "21. Repare que o `R$` é inserido automaticamente, graças à propriedade `sufix_text` que colocamos no `ft.TextField()`.\n",
    "22. Vamos acrescentar agora a função responsável por fazer a verificação do combustível. Para isso, temos que saber como verificar qual combustível possui o melhor custo-benefício. O cálculo é o seguinte: para o etanol ser mais vantajoso, o preço dele precisa ser até 70% do valor da gasolina, no máximo. Acima disso, a gasolina é mais vantajosa.\n",
    "23. O resutado deverá ser mostrado em uma caixa de diálogo, que terá um botão para fechá-la. O código-fonte da caixa de diálogo segue abaixo. Só acrescentar logo após as variáveis:"
   ]
  },
  {
   "cell_type": "code",
   "execution_count": null,
   "metadata": {},
   "outputs": [],
   "source": [
    "dlg_modal = ft.AlertDialog(\n",
    "    modal=True,\n",
    "    title=ft.Text(\"Melhor combustível:\"),\n",
    "    content=ft.Text(size=20, weight=\"bold\"),\n",
    "    actions=[ft.TextButton(\"OK\")],\n",
    "    actions_alignment=ft.MainAxisAlignment.END\n",
    ")"
   ]
  },
  {
   "cell_type": "markdown",
   "metadata": {},
   "source": [
    "24. Não se preocupe com o evento do botão. Iremos adicioná-lo mais tarde.\n",
    "25. Agora vamos criar a função que será executada quando pedirmos para fazer o cálculo. Nele, iremos trabalhar com a propriedade `error_text` para indicar que o campo não deve ficar vazio, e impedir que o programa faça o cálculo sem que todos os campos estejam preenchidos:"
   ]
  },
  {
   "cell_type": "code",
   "execution_count": null,
   "metadata": {},
   "outputs": [],
   "source": [
    "def calcular_combustivel(e):\n",
    "    if not gasolina.value:\n",
    "        gasolina.error_text = \"Gasolina não pode ficar vazio\"\n",
    "        page.update()\n",
    "    else:\n",
    "        gasolina.error_text = \"\"\n",
    "        page.update()\n",
    "    if not etanol.value:\n",
    "        etanol.error_text = \"Etanol não pode ficar vazio\"\n",
    "        page.update()\n",
    "    else:\n",
    "        etanol.error_text = \"\"\n",
    "\n",
    "        gasolina.value = float(gasolina.value.replace(\",\", \".\"))\n",
    "        etanol.value = float(etanol.value.replace(\",\", \".\"))\n",
    "\n",
    "        resultado = \"Gasolina\" if etanol.value >= gasolina.value*0.7 else \"Etanol\"\n",
    "\n",
    "        dlg_modal.content.value = resultado\n",
    "        gasolina.value = \"\"\n",
    "        etanol.value = \"\"\n",
    "\n",
    "        page.open(dlg_modal)\n",
    "\n",
    "        page.update()"
   ]
  },
  {
   "cell_type": "markdown",
   "metadata": {},
   "source": [
    "26. Agora, acrescentaremos dentro de `page.add()`o botão que fará a mágica acontecer. Acrescente antes do `result`:"
   ]
  },
  {
   "cell_type": "code",
   "execution_count": null,
   "metadata": {},
   "outputs": [],
   "source": [
    "page.add(\n",
    "    ft.SafeArea(\n",
    "        ft.Row(\n",
    "            [ft.Text(\"\\nCusto-benefício combustível\\n\", size=25, weight=\"bold\")],\n",
    "            alignment=ft.MainAxisAlignment.CENTER\n",
    "        )\n",
    "    ),\n",
    "    ft.ResponsiveRow(\n",
    "        [\n",
    "            ft.Container(gasolina, col={\"sm\": 6, \"md\": 4, \"xl\": 2}),\n",
    "            ft.Container(etanol, col={\"sm\": 6, \"md\": 4, \"xl\": 2})\n",
    "        ],\n",
    "        alignment=ft.MainAxisAlignment.CENTER\n",
    "    ),\n",
    "    # botão que mostra o resultado\n",
    "    ft.Row(\n",
    "        [\n",
    "            ft.Container(\n",
    "                ft.ElevatedButton(\"Verificar\", on_click=calcular_combustivel),\n",
    "                padding=30\n",
    "            )\n",
    "        ],\n",
    "        alignment=ft.MainAxisAlignment.CENTER\n",
    "    )\n",
    ")"
   ]
  },
  {
   "cell_type": "markdown",
   "metadata": {},
   "source": [
    "27. Acrescente também o evento `on_submit` em `etanol` para que a função seja executada quando o usuário apertar **Enter** ao terminar o formulário:"
   ]
  },
  {
   "cell_type": "code",
   "execution_count": null,
   "metadata": {},
   "outputs": [],
   "source": [
    "etanol = ft.TextField(\n",
    "    label=\"Valor da etanol\",\n",
    "    prefix_text=\"R$ \",\n",
    "    keyboard_type=ft.KeyboardType.NUMBER,\n",
    "    on_submit=calcular_combustivel\n",
    ")"
   ]
  },
  {
   "cell_type": "markdown",
   "metadata": {},
   "source": [
    "28. A aplicação está quase pronta! Falta apenas mais um detalhe: o ícone que irá enfeitar a nossa aplicação no **AppBar**.\n",
    "29. Você pode salvar a imagem na pasta `assets` ou pode pegar o endereço da imagem na Internet e colar no código-fonte. Vamos utilizar essa segunda opção.\n",
    "30. Depois, vamos alterar o código do `ft.AppBar()` para o código abaixo. Observe o nome do arquivo da imagem, pois deverá ser digitado exatamente como foi salvo:"
   ]
  },
  {
   "cell_type": "code",
   "execution_count": null,
   "metadata": {},
   "outputs": [],
   "source": [
    "page.appbar = ft.AppBar(\n",
    "    leading=ft.Image(src=f\"https://img.icons8.com/fluency/48/gas-station.png\", fit=ft.ImageFit.CONTAIN),\n",
    "    leading_width=48,\n",
    "    title=ft.Text(\"Combustível\", size=16),\n",
    "    actions=[tema, interruptor]\n",
    ")"
   ]
  },
  {
   "cell_type": "markdown",
   "metadata": {},
   "source": [
    "31. E prontinho! Terminamos! O Código-fonte final deverá ser esse:"
   ]
  },
  {
   "cell_type": "code",
   "execution_count": null,
   "metadata": {},
   "outputs": [],
   "source": [
    "import flet as ft\n",
    "\n",
    "def main(page: ft.Page):\n",
    "    def mudar_tema(e):\n",
    "        page.theme_mode = (\n",
    "            ft.ThemeMode.DARK\n",
    "            if page.theme_mode == ft.ThemeMode.LIGHT\n",
    "            else ft.ThemeMode.LIGHT\n",
    "        )\n",
    "        page.bgcolor = (\n",
    "            ft.Colors.WHITE\n",
    "            if page.theme_mode == ft.ThemeMode.LIGHT\n",
    "            else ft.Colors.GREY_900\n",
    "        )\n",
    "        tema.name = (\n",
    "            ft.Icons.SUNNY\n",
    "            if page.theme_mode == ft.ThemeMode.LIGHT\n",
    "            else ft.Icons.MODE_NIGHT\n",
    "        )\n",
    "        page.update()\n",
    "\n",
    "    def calcular_combustivel(e):\n",
    "        if not gasolina.value:\n",
    "            gasolina.error_text = \"Gasolina não pode ficar vazio\"\n",
    "            page.update()\n",
    "        else:\n",
    "            gasolina.error_text = \"\"\n",
    "            page.update()\n",
    "\n",
    "        if not etanol.value:\n",
    "            etanol.error_text = \"Etanol não pode ficar vazio\"\n",
    "            page.update()\n",
    "        else:\n",
    "            etanol.error_text = \"\"\n",
    "\n",
    "            gasolina.value = float(gasolina.value.replace(\",\", \".\"))\n",
    "            etanol.value = float(etanol.value.replace(\",\", \".\"))\n",
    "\n",
    "            resultado = \"Gasolina\" if etanol.value >= gasolina.value*0.7 else \"Etanol\"\n",
    "\n",
    "            dlg_modal.content.value = resultado\n",
    "            gasolina.value = \"\"\n",
    "            etanol.value = \"\"\n",
    "\n",
    "            page.open(dlg_modal)\n",
    "\n",
    "            page.update()\n",
    "\n",
    "    page.title = \"Combustível\"\n",
    "    page.scroll = \"adaptive\"\n",
    "    page.theme_mode = ft.ThemeMode.LIGHT\n",
    "    page.bgcolor = ft.Colors.WHITE\n",
    "\n",
    "    tema = ft.Icon(name=ft.icons.SUNNY)\n",
    "    interruptor = ft.Switch(on_change=mudar_tema)\n",
    "\n",
    "    gasolina = ft.TextField(\n",
    "        label=\"Valor da gasolina\",\n",
    "        prefix_text=\"R$ \",\n",
    "        keyboard_type=ft.KeyboardType.NUMBER\n",
    "    )\n",
    "    etanol = ft.TextField(\n",
    "        label=\"Valor da etanol\",\n",
    "        prefix_text=\"R$ \",\n",
    "        keyboard_type=ft.KeyboardType.NUMBER,\n",
    "        on_submit=calcular_combustivel\n",
    "    )\n",
    "    dlg_modal = ft.AlertDialog(\n",
    "        modal=True,\n",
    "        title=ft.Text(\"Melhor combustível:\"),\n",
    "        content=ft.Text(size=20, weight=\"bold\"),\n",
    "        actions=[ft.TextButton(\"OK\", on_click=lambda e: page.close(dlg_modal))],\n",
    "        actions_alignment=ft.MainAxisAlignment.END\n",
    "    )\n",
    "\n",
    "    page.appbar = ft.AppBar(\n",
    "        leading=ft.Image(src=f\"https://img.icons8.com/fluency/48/gas-station.png\", fit=ft.ImageFit.CONTAIN),\n",
    "        leading_width=48,\n",
    "        title=ft.Text(\"Combustível\", size=16),\n",
    "        actions=[tema, interruptor]\n",
    "    )\n",
    "\n",
    "    page.add(\n",
    "        ft.SafeArea(\n",
    "            ft.Row(\n",
    "                [ft.Text(\"\\nCusto-benefício combustível\\n\", size=25, weight=\"bold\")],\n",
    "                alignment=ft.MainAxisAlignment.CENTER\n",
    "            )\n",
    "        ),\n",
    "        ft.ResponsiveRow(\n",
    "            [\n",
    "                ft.Container(gasolina, col={\"sm\": 6, \"md\": 4, \"xl\": 2}),\n",
    "                ft.Container(etanol, col={\"sm\": 6, \"md\": 4, \"xl\": 2})\n",
    "            ],\n",
    "            alignment=ft.MainAxisAlignment.CENTER\n",
    "        ),\n",
    "        ft.Row(\n",
    "            [\n",
    "                ft.Container(\n",
    "                    ft.ElevatedButton(\"Verificar\", on_click=calcular_combustivel),\n",
    "                    padding=30\n",
    "                )\n",
    "            ],\n",
    "            alignment=ft.MainAxisAlignment.CENTER\n",
    "        )\n",
    "    )\n",
    "\n",
    "ft.app(main)"
   ]
  },
  {
   "cell_type": "markdown",
   "metadata": {},
   "source": [
    "32. Para terminarmos, verifique o resultado final:\n",
    "\n",
    "#### Web"
   ]
  },
  {
   "cell_type": "markdown",
   "metadata": {},
   "source": [
    "<div style=\"display: flex; justify-content: center\">\n",
    "    <img src=\"../assets/app-combustivel-web-final-01.png\" alt=\"App Combustivel\" />\n",
    "</div>"
   ]
  },
  {
   "cell_type": "markdown",
   "metadata": {},
   "source": [
    "<div style=\"display: flex; justify-content: center\">\n",
    "    <img src=\"../assets/app-combustivel-web-final-02.png\" alt=\"App Combustivel\" />\n",
    "</div>"
   ]
  },
  {
   "cell_type": "markdown",
   "metadata": {},
   "source": [
    "#### Mobile"
   ]
  },
  {
   "cell_type": "markdown",
   "metadata": {},
   "source": [
    "<div style=\"display: flex; justify-content: center\">\n",
    "    <img src=\"../assets/app-combustivel-android-final-01.png\" alt=\"App Combustivel\" />\n",
    "</div>"
   ]
  },
  {
   "cell_type": "markdown",
   "metadata": {},
   "source": [
    "<div style=\"display: flex; justify-content: center\">\n",
    "    <img src=\"../assets/app-combustivel-android-final-02.png\" alt=\"App Combustivel\" />\n",
    "</div>"
   ]
  },
  {
   "cell_type": "markdown",
   "metadata": {},
   "source": [
    "#### Mensagens de erro"
   ]
  },
  {
   "cell_type": "markdown",
   "metadata": {},
   "source": [
    "<div style=\"display: flex; justify-content: center\">\n",
    "    <img src=\"../assets/app-combustivel-erro-01.png\" alt=\"App Combustivel\" />\n",
    "</div>"
   ]
  },
  {
   "cell_type": "markdown",
   "metadata": {},
   "source": [
    "<div style=\"display: flex; justify-content: center\">\n",
    "    <img src=\"../assets/app-combustivel-erro-02.png\" alt=\"App Combustivel\" />\n",
    "</div>"
   ]
  }
 ],
 "metadata": {
  "kernelspec": {
   "display_name": ".venv",
   "language": "python",
   "name": "python3"
  },
  "language_info": {
   "name": "python",
   "version": "3.12.7"
  }
 },
 "nbformat": 4,
 "nbformat_minor": 2
}
