{
 "cells": [
  {
   "cell_type": "markdown",
   "metadata": {},
   "source": [
    "# **Orientação a Objetos**\n",
    "---"
   ]
  },
  {
   "cell_type": "markdown",
   "metadata": {},
   "source": [
    "## Pré-requisitos da aula\n",
    "\n",
    "- Funções\n",
    "\n",
    "---"
   ]
  },
  {
   "cell_type": "markdown",
   "metadata": {},
   "source": [
    "### Introdução ao Paradigma da Orientação a Objetos\n",
    "\n",
    "Uma das grandes vantagens de se programar em Python é o fato dele ser multi-paradigma, ou seja, aceita várias formas diferentes de se programar. Até o momento, o paradigma que estávamos usando em Python era o da programação estruturada, que conforme vimos nas primeiras aulas do curso (mais precisamente em Lógica de Programação), consiste em uma lógica baseada em \"receitas de bolo\", em que o algoritmo é executado linha por linha, de cima para baixo, ordenando à CPU o que deve ser feito com as variáveis declaradas.\n",
    "\n",
    "Na Orientação a Objetos, as coisas funcionam de uma forma um pouco diferente: a ideia é que você programe baseando sua linha de raciocínio nos elementos do dia a dia encontrados ao seu redor. Pense que cada objeto que existe ao seu redor é possui uma classificação. É nessa ideia de classificação que é baseada a programação orientada a objetos.\n",
    "\n",
    "## Como funciona a Orientação a Objetos?\n",
    "---\n",
    "\n",
    "Observe a imagem a seguir:"
   ]
  },
  {
   "cell_type": "markdown",
   "metadata": {},
   "source": [
    "<div style=\"display: flex; justify-content: center\">\n",
    "    <img src=\"../assets/fusca.webp\" alt=\"Fusca\" />\n",
    "</div>"
   ]
  },
  {
   "cell_type": "markdown",
   "metadata": {},
   "source": [
    "Você consegue identificar o objeto em questão? Provavelmente você dirá que é um Fusca, certo? Sim, está certo! É um Fusca mesmo.\n",
    "\n",
    "Agora, observe essa outra imagem a seguir:"
   ]
  },
  {
   "cell_type": "markdown",
   "metadata": {},
   "source": [
    "<div style=\"display: flex; justify-content: center\">\n",
    "    <img src=\"../assets/lamborghini.png\" alt=\"Lamborghini\" width=400 />\n",
    "</div>"
   ]
  },
  {
   "cell_type": "markdown",
   "metadata": {},
   "source": [
    "Caso não saiba que carro é esse, trata-se de uma Lamborghini. Um carro que supera um Fusca em todos os sentidos: preço, velocidade, aceleração, desempenho, etc...\n",
    "\n",
    "Os dois objetos são iguais? Definitivamente não. São completamente diferentes em tudo. Mesmo assim, os dois compartilham as mesmas características e servem exatamente para o mesmo fim. Por exemplo: ambos possuem portas, pneus, motor, volante, faróis, bancos, tanque de combustível, chassi. Da mesma forma, ambos podem ser dirigidos, ambos aceleram, fream, fazem curva, consomem combustível.\n",
    "\n",
    "Isso acontece porque os dois objetos pertencem à mesma classe: **Carro**.\n",
    "\n",
    "Os objetos do mundo real (sejam eles seres vivos ou não) são classificados com base em suas características e ações. Quando dois ou mais objetos compartilham as mesmas características e realizam as mesmas ações, mesmo sendo objetos completamente diferentes, são reunidos dentro da mesma classificação.\n",
    "\n",
    "O mesmo pode ser dito de um humano e de um cachorro: são animais completamente diferentes, mas compartilham características e ações similares que os classificam como Mamíferos.\n",
    "\n",
    "A Programação Orientada a Objetos funciona da mesma forma: ao invés de criarmos um único código lido de cima para baixo, dividimos em blocos de programação menores e separados, chamados de **Classes**. As classes reunem basicamente dois elementos:\n",
    "- **Atributos**: são características dos objetos das classes. Os atributos armazenam valores para serem utilizados no programa principal, de forma similar às variáveis.\n",
    "- **Métodos**: são ações a serem executadas pelos objetos das classes. Funcionam de forma similares às funções.\n",
    "\n",
    "Após a criação das classes, um outro bloco de programação contém o código que deve ser executado pelo programa. É nesse bloco onde são \"criados\" os objetos que irão armazenar os valores do algoritmo, e irão executar as funcionalidades do programa, tal como aconteceria no mundo real.\n",
    "\n",
    "Esse tipo de programação é muito utilizado para criação de sistemas que usam bancos de dados, pois algumas classes podem representar as chamadas entidades do banco.\n",
    "\n",
    "Outro exemplo onde a POO (sigla para Programação Orientada a Objetos) é usada é na programação de jogos eletrônicos. Inclusive um excelente exemplo são os jogos de RPG (**Role-Playing Game**), onde o jogador constrói o seu personagem baseado em sistemas de classes. Exemplo: em um RPG de fantasia medieval, o jogador começa escolhendo uma classe para o seu personagem (Guerreiro, Mago, Bárbaro, Druida, Paladino, Necromante, Clérigo, etc...), onde cada uma das classes possui seus próprios atributos, e seus próprios métodos (habilidades)."
   ]
  },
  {
   "cell_type": "markdown",
   "metadata": {},
   "source": [
    "<div style=\"display: flex; justify-content: center\">\n",
    "    <img src=\"../assets/classes-de-rpg-1024x576.webp\" alt=\"Sistema de Classes de um RPG\" />\n",
    "</div>\n",
    "<div style=\"display: flex; justify-content: center\">\n",
    "    <span>Fonte: <a href=\"https://elking.com.br/blog/classes-rpg/\">https://elking.com.br/blog/classes-rpg/</a></span>\n",
    "</div>"
   ]
  },
  {
   "cell_type": "markdown",
   "metadata": {},
   "source": [
    "\n",
    "### Vantagens\n",
    "\n",
    "Há muitas vantagens em se utilizar o Paradigma da Orientação a Objetos:\n",
    "\n",
    "- Reutilização de código, evitando desperdícios e redundância no algoritmo.\n",
    "- Facilitação na manutenção do código. Com os atributos e métodos centralizados em uma classe você consegue resolver muitos problemas de uma só vez alterando apenas uma linha de código, o que na programação estruturada você precisaria alterar várias linhas, uma de cada vez.\n",
    "- Melhora a lógica. Como ela passa a ser baseada em elementos do mundo real, o código fica mais simples de entender, uma vez que o conceito de orientação a objetos fica claro.\n",
    "- Código organizado. Com o código dividido em blocos menores, o código-fonte fica mais legível e organizado.\n",
    "- Melhora a segurança do seu código. A orientação a objetos possui muitos recursos de segurança para garantir a integridade tanto do seu código quanto dos dados que ele gere.\n",
    "- Melhora a escalabilidade do projeto. Você consegue escalar o seu projeto sem que o mesmo vire um monstro de 7 cabeças, já que a orientação a objetos permite que seu projeto fique maior do que foi pensado inicialmente.\n",
    "\n",
    "### Desvantagens\n",
    "\n",
    "É claro que a orientação a objetos não é perfeita. Há algumas desvantagens em se adotar o paradigma:\n",
    "\n",
    "- Curva de aprendizado maior do que a programação estruturada, visto que a orientação a objetos possui muitos detalhes para se dominar, acaba se tornando mais complexo e demorado de se aprender.\n",
    "- Código-fonte total mais complexo. Com o código-fonte dividido, o código-fonte ao todo acaba ficando maior.\n",
    "- Exige maior capacidade de processamento. Como há muitas divisões, e o código ficando maior, ele consome mais da CPU.\n",
    "- Inviável para projetos pequenos, muito por conta da complexidade do paradigma.\n",
    "\n",
    "## Classe Python\n",
    "---\n",
    "\n",
    "Para trabalhar com orientação a objetos, é sempre preciso pensar nos elementos que seu programa precisa ter. Por exemplo: se o seu programa for exigir um cadastro do usuário, então o usuário é um objeto. E se o usuário é uma pessoa, eu preciso de uma classe chamada **Pessoa**. É o que faremos a seguir.\n",
    "\n",
    "**Obs: para nomear as classes, de acordo com a convenção PEP8, os nomes das classes precisam seguir a nomenclatura ***Pascal Case***. Ou seja, inicial maiúscula, e caso seja nome composto, os nomes não podem ser separados, com as iniciais de qualquer palavra em maiúscula. Exemplo: classe Pessoa, classe PessoaFisica, etc...**\n",
    "\n",
    "Crie um novo projeto chamado **objetos**. Não se esqueça de criar o ambiente virtual e também o arquivo .py. Dentro do arquivo, iremos desenvolver uma classe chamada **Pessoa**. A classe funciona tanto se você criá-la dentro do arquivo principal quanto separá-la em outro arquivo .py que funcionará como **módulo** (**vide aula de Funções**). Funciona em ambos os casos. No caso da classe estar em um arquivo separado, a forma de se importar o módulo para o arquivo principal segue a mesma exata regra vista na aula de **Funções**.\n",
    "\n",
    "Seja qual for a forma escolhida, o código da classe está na célula abaixo:"
   ]
  },
  {
   "cell_type": "code",
   "execution_count": 14,
   "metadata": {},
   "outputs": [],
   "source": [
    "# criando classe Pessoa\n",
    "class Pessoa:\n",
    "    # atributos\n",
    "    nome = \"Alex Machado\"\n",
    "    idade = 39\n",
    "    cargo = \"Programador\"\n",
    "    email = \"alex@gmail.com\""
   ]
  },
  {
   "cell_type": "markdown",
   "metadata": {},
   "source": [
    "No momento, nossa classe terá apenas os atributos. A questão é que no código principal, ao invés de criarmos variáveis para armazenar os valores do usuário, iremos **instanciar a classe*.\n",
    "\n",
    "**Instanciar uma classe, na programação, é o mesmo que criar um objeto dentro do programa.**\n",
    "\n",
    "Vamos criar o algoritmo principal. Ao invéss de criar variáveis para armazenar os dados do usuário, criamos apenas um, que será o nosso objeto, do qual chamaremos de `usuario`, que irá receber a instância da classe, que é nada mais do que um método que toda classe tem, chamado de **construtor** (veremos mais para frente). O comando de criação do objeto é `usuario = Pessoa()`. Como os valores já foram inseridos diretamente na classe, basta chamarmos cada atributo chamando o `objeto.atributo`, exemplo: `usuario.nome`.\n",
    "\n",
    "Isso será possível caso a classe tenha sido criada no mesmo arquivo do algoritmo principal, marcado pelo comando já visto em aulas anteriores `if __name__ == \"__main__:`. Segue o código na célula abaixo. Caso tenha criado a classe em outro arquivo .py, basta adicionar no início do código abaixo antes de `if __name__ == \"__main__:` o import do arqvuio: `from nome_do_arquivo_da_classe import Pessoa`:"
   ]
  },
  {
   "cell_type": "code",
   "execution_count": 15,
   "metadata": {},
   "outputs": [
    {
     "name": "stdout",
     "output_type": "stream",
     "text": [
      "Nome: Alex Machado.\n",
      "Idade: 39.\n",
      "Cargo: Programador.\n",
      "E-mail: alex@gmail.com.\n"
     ]
    }
   ],
   "source": [
    "if __name__ == \"__main__\":\n",
    "    # instancia (cria) um objeto da classe pessoa\n",
    "    usuario = Pessoa()\n",
    "\n",
    "    # exibe os dados do objeto Pessoa\n",
    "    print(f\"Nome: {usuario.nome}.\")\n",
    "    print(f\"Idade: {usuario.idade}.\")\n",
    "    print(f\"Cargo: {usuario.cargo}.\")\n",
    "    print(f\"E-mail: {usuario.email}.\")"
   ]
  },
  {
   "cell_type": "markdown",
   "metadata": {},
   "source": [
    "### Método\n",
    "\n",
    "Como disse anteriormente, o método é basicamente uma ação a ser executada por um objeto de uma classe. Vamos por exemplo adicionar um método à classe **Pessoa** chamado `apresentar()`. Um método é quase a mesma coisa que uma função, e como tal, é usado também o comando `def`. A diferença é que, caso um método não receba parâmetros, ela deve vir **obrigatoriamente** com a palavra reservada `self` dentro do parênteses. Para quem já programa em outra linguagem de programação, o comando `self` funciona quase que da mesma forma que o `this` nas outras linguagens. Para que é programador de primeira viagem, o `self` funciona como uma referência aos atributos dentro da própria classe, já que não é possível instanciar objetos da classe dentro dela mesma. Dessa forma, para chamar um atributo dentro de um método, basta usar o `this` junto ao nome de um atributo. Exemplo: `this.nome`.\n",
    "\n",
    "Vamos adicionar o método `apresentar()` à classe `Pessoa`, conforme código abaixo:"
   ]
  },
  {
   "cell_type": "code",
   "execution_count": null,
   "metadata": {},
   "outputs": [],
   "source": [
    "class Pessoa:\n",
    "    # atributos\n",
    "    nome = \"Alex Machado\"\n",
    "    idade = 39\n",
    "    cargo = \"Programador\"\n",
    "    email = \"alex@gmail.com\"\n",
    "\n",
    "    # método apresentar\n",
    "    def apresentar(self):\n",
    "        print(\n",
    "            f\"Olá,\n",
    "            meu nome é {self.nome},\n",
    "            tenho {self.idade} anos,\n",
    "            trabalho como {self.cargo},\n",
    "            e meu e-mail {self.email}.\"\n",
    "        )"
   ]
  },
  {
   "cell_type": "markdown",
   "metadata": {},
   "source": [
    "Já no algoritmo principal, iremos retirar a exibição dos atributos e trocar pela execução do método:"
   ]
  },
  {
   "cell_type": "code",
   "execution_count": 17,
   "metadata": {},
   "outputs": [
    {
     "name": "stdout",
     "output_type": "stream",
     "text": [
      "Olá, meu nome é Alex Machado, tenho 39 anos, trabalho como Programador, e meu e-mail alex@gmail.com.\n"
     ]
    }
   ],
   "source": [
    "if __name__ == \"__main__\":\n",
    "    # instancia (cria) um objeto da classe pessoa\n",
    "    usuario = Pessoa()\n",
    "\n",
    "    # executa o método do objeto\n",
    "    usuario.apresentar()"
   ]
  },
  {
   "cell_type": "markdown",
   "metadata": {},
   "source": [
    "Assim como as funções, os métodos possuem as mesmas regras de parâmetros e retorno. A única diferença é que na declaração dos métodos a palavra `self` é obrigatória, enquanto que nas funções não é."
   ]
  },
  {
   "cell_type": "markdown",
   "metadata": {},
   "source": [
    "## Construtor\n",
    "---\n",
    "\n",
    "O **construtor** é um método especial da classe cuja função é justamente criar um novo objeto da classe, e por esse motivo, é um método obrigatório. Ao instanciar um objeto de uma classe no Python, por exemplo: `usuario = Pessoa()`, o objeto é basicamente uma \"variável\" que recebe uma ação que \"constrói\" o objeto. Ou seja, o `Pesssoa()` é o método construtor.\n",
    "\n",
    "**Diferentemente de algumas linguagens orientadas a objeto, cada classe Python só aceita um único método construtor**.\n",
    "\n",
    "Normalmente, utilizamos o método construtor justamente para poder definir os valores dos atributos do objeto. Para criar um método construtor, utilizamos o comando `__init__`. Vamos recriar a classe Pessoa, desta vez com o método construtor:"
   ]
  },
  {
   "cell_type": "code",
   "execution_count": null,
   "metadata": {},
   "outputs": [],
   "source": [
    "class Pessoa:\n",
    "    # construtor\n",
    "    def __init__(self, nome, idade, cargo, email):\n",
    "        self.nome = nome\n",
    "        self.idade = idade\n",
    "        self.cargo = cargo\n",
    "        self.email = email\n",
    "\n",
    "    # método apresentar\n",
    "    def apresentar(self):\n",
    "        print(\n",
    "            f\"Olá,\n",
    "            meu nome é {self.nome},\n",
    "            tenho {self.idade} anos,\n",
    "            trabalho como {self.cargo},\n",
    "            e meu e-mail {self.email}.\"\n",
    "        )"
   ]
  },
  {
   "cell_type": "markdown",
   "metadata": {},
   "source": [
    "Agora vamos ver como isso funciona no algoritmo principal do nosso programa:"
   ]
  },
  {
   "cell_type": "code",
   "execution_count": 19,
   "metadata": {},
   "outputs": [
    {
     "name": "stdout",
     "output_type": "stream",
     "text": [
      "Olá, meu nome é Fulano, tenho 18 anos, trabalho como Faxineiro, e meu e-mail fulano@gmail.com.\n"
     ]
    }
   ],
   "source": [
    "if __name__ == \"__main__\":\n",
    "    # instancia (cria) um objeto da classe pessoa\n",
    "    usuario = Pessoa(\"Fulano\", 18, \"Faxineiro\", \"fulano@gmail.com\")\n",
    "\n",
    "    # executa o método do objeto\n",
    "    usuario.apresentar()"
   ]
  },
  {
   "cell_type": "markdown",
   "metadata": {},
   "source": [
    "Agora vamos pedir para o usuário **setar** os valores do objeto.\n",
    "\n",
    "**Setar valores é o mesmo que atribuir valores aos atributos.**\n",
    "\n",
    "Reescreva o código principal com o algoritmo abaixo:"
   ]
  },
  {
   "cell_type": "code",
   "execution_count": 20,
   "metadata": {},
   "outputs": [
    {
     "name": "stdout",
     "output_type": "stream",
     "text": [
      "Olá, meu nome é Cicrano, tenho 18 anos, trabalho como DBA, e meu e-mail cicrano@gmail.com.\n"
     ]
    }
   ],
   "source": [
    "if __name__ == \"__main__\":\n",
    "    # instancia (cria) um objeto da classe pessoa\n",
    "    usuario = Pessoa(\"\", 0, \"\", \"\")\n",
    "\n",
    "    # entrada de dados\n",
    "    usuario.nome = input(\"Informe o nome do usuário: \")\n",
    "    usuario.idade = int(input(\"Informe a idade do usuário: \"))\n",
    "    usuario.cargo = input(\"Informe o cargo do usuário: \")\n",
    "    usuario.email = input(\"Informe o e-mail do usuário: \")\n",
    "\n",
    "    # executa o método do objeto\n",
    "    usuario.apresentar()"
   ]
  },
  {
   "cell_type": "markdown",
   "metadata": {},
   "source": [
    "Veja como o código fica bem mais organizado com a orientação a objetos.\n",
    "\n",
    "## **Código-fonte final**\n",
    "---"
   ]
  },
  {
   "cell_type": "code",
   "execution_count": null,
   "metadata": {},
   "outputs": [
    {
     "name": "stdout",
     "output_type": "stream",
     "text": [
      "Olá, meu nome é Beltrano, tenho 25 anos, trabalho como Técnico, e meu e-mail beltrano@gmail.com.\n"
     ]
    }
   ],
   "source": [
    "class Pessoa:\n",
    "    def __init__(self, nome, idade, cargo, email):\n",
    "        self.nome = nome\n",
    "        self.idade = idade\n",
    "        self.cargo = cargo\n",
    "        self.email = email\n",
    "\n",
    "    def apresentar(self):\n",
    "        print(\n",
    "            f\"Olá,\n",
    "            meu nome é {self.nome},\n",
    "            tenho {self.idade} anos,\n",
    "            trabalho como {self.cargo},\n",
    "            e meu e-mail {self.email}.\"\n",
    "        )\n",
    "\n",
    "if __name__ == \"__main__\":\n",
    "    usuario = Pessoa(\"\", 0, \"\", \"\")\n",
    "\n",
    "    usuario.nome = input(\"Informe o nome do usuário: \")\n",
    "    usuario.idade = int(input(\"Informe a idade do usuário: \"))\n",
    "    usuario.cargo = input(\"Informe o cargo do usuário: \")\n",
    "    usuario.email = input(\"Informe o e-mail do usuário: \")\n",
    "\n",
    "    usuario.apresentar()"
   ]
  }
 ],
 "metadata": {
  "kernelspec": {
   "display_name": ".venv",
   "language": "python",
   "name": "python3"
  },
  "language_info": {
   "codemirror_mode": {
    "name": "ipython",
    "version": 3
   },
   "file_extension": ".py",
   "mimetype": "text/x-python",
   "name": "python",
   "nbconvert_exporter": "python",
   "pygments_lexer": "ipython3",
   "version": "3.12.7"
  }
 },
 "nbformat": 4,
 "nbformat_minor": 2
}
