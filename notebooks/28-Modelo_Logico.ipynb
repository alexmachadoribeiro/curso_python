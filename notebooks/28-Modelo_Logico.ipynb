{
 "cells": [
  {
   "cell_type": "markdown",
   "metadata": {},
   "source": [
    "# **Modelo Lógico**\n",
    "---"
   ]
  },
  {
   "cell_type": "markdown",
   "metadata": {},
   "source": [
    "## Requisitos da Aula\n",
    "\n",
    "- Banco de Dados Relacional\n",
    "\n",
    "---"
   ]
  },
  {
   "cell_type": "markdown",
   "metadata": {},
   "source": [
    "Uma vez que o **Modelo Conceitual** foi gerado, chegou a hora de montar o **Modelo Lógico**. Esse modelo é nada mais do que um diagrama mais detalhado do Banco de Dados, que mostra as entidades já como tabelas, e seus atributos como campos já bem definidos, normalizados e com a descrição exata do *range* de cada campo, além de seus respectivos **tipos de dados**. Voltando para a analogia da construção de uma casa feita em aulas anteriores, a montagem do modelo lógico seria o equivalente à planta do projeto, com suas medidas já bem definidas.\n",
    "\n",
    "Existem vários softwares que trabalham com a construção do modelo lógico, incluindo aí o próprio brModelo, visto nas aulas anteriores. Entretanto, o próprio MySQL possui um software chamado **Workbench**, que serve tanto para a montagem do modelo físico, que iremos ver em aulas futuras, quanto para a construção do modelo lógico, que iremos começar a ver agora. Logo, nada melhor do que usar um software oficial, não é mesmo?!"
   ]
  },
  {
   "cell_type": "markdown",
   "metadata": {},
   "source": [
    "## Usando o Workbench para montar o Modelo Lógico do Banco de Dados\n",
    "---\n",
    "\n",
    "**Obs:** não há a necessidade de inicializar um servidor de banco de dados para a construção do modelo lógico. Apenas para o modelo físico.\n",
    "\n",
    "1. A primeira coisa a se fazer é, obviamente, abrir o programa **MySQL Workbench** instalado no seu computador:"
   ]
  },
  {
   "cell_type": "markdown",
   "metadata": {},
   "source": [
    "<div style=\"display: flex; justify-content: center\">\n",
    "    <img src=\"../assets/abrindo-workbench.png\" alt=\"Abrindo o Workbench\" />\n",
    "</div>"
   ]
  },
  {
   "cell_type": "markdown",
   "metadata": {},
   "source": [
    "2. Ao abrir o **MySQL Workbench**, a janela abaixo irá aparecer na sua Área de Trabalho:"
   ]
  },
  {
   "cell_type": "markdown",
   "metadata": {},
   "source": [
    "<div style=\"display: flex; justify-content: center\">\n",
    "    <img src=\"../assets/workbench-01.png\" alt=\"MySQL Workbench\" />\n",
    "</div>"
   ]
  },
  {
   "cell_type": "markdown",
   "metadata": {},
   "source": [
    "3. Na parte à esquerda da janela, logo abaixo do símbolo de um golfinho, existe uma gravura de três quadrados ligados entre si. Clique nele, conforme indicado abaixo:"
   ]
  },
  {
   "cell_type": "markdown",
   "metadata": {},
   "source": [
    "<div style=\"display: flex; justify-content: center\">\n",
    "    <img src=\"../assets/workbench-02.png\" alt=\"MySQL Workbench\" />\n",
    "</div>"
   ]
  },
  {
   "cell_type": "markdown",
   "metadata": {},
   "source": [
    "4. Na tela que se abrir, irão ser exibidos os modelos lógicos criados por você (que nesse caso será nenhum). **Clique no botão de + do lado da palavra Models**, conforme imagem abaixo:"
   ]
  },
  {
   "cell_type": "markdown",
   "metadata": {},
   "source": [
    "<div style=\"display: flex; justify-content: center\">\n",
    "    <img src=\"../assets/workbench-03.png\" alt=\"MySQL Workbench\" />\n",
    "</div>"
   ]
  },
  {
   "cell_type": "markdown",
   "metadata": {},
   "source": [
    "5. Ele irá abrir uma nova guia de trabalho na janela do seu Workbench. Nessa nova guia, você irá dar um **duplo clique** em **Add Diagram**, conforme imagem abaixo:"
   ]
  },
  {
   "cell_type": "markdown",
   "metadata": {},
   "source": [
    "<div style=\"display: flex; justify-content: center\">\n",
    "    <img src=\"../assets/workbench-04.png\" alt=\"MySQL Workbench\" />\n",
    "</div>"
   ]
  },
  {
   "cell_type": "markdown",
   "metadata": {},
   "source": [
    "## Criando um Modelo Lógico\n",
    "---\n",
    "\n",
    "Não importa muito se você usa ou não o Workbench para montar o modelo lógico, o procedimento não muda muito de um software para outro, e o que veremos a seguir é meio que comum para todos eles, já que o modelo lógico segue um padrão. Para fins didáticos, iremos utilizar o Workbench para esse tutorial, mas sinta-se livre para usar outro software.\n",
    "\n",
    "6. Quando você deu um duplo clique em **Add Diagram**, o Workbench abriu uma segunda guia. Nela, você pode observar uma espécie de tela de desenho, similar ao que você viu no brModelo quando estava criando o modelo conceitual. À esquerda dessa tela de desenho, você tem uma barra contendo todos os elementos necessários para criarmos o nosso modelo:"
   ]
  },
  {
   "cell_type": "markdown",
   "metadata": {},
   "source": [
    "<div style=\"display: flex; justify-content: center\">\n",
    "    <img src=\"../assets/workbench-05.png\" alt=\"MySQL Workbench\" />\n",
    "</div>"
   ]
  },
  {
   "cell_type": "markdown",
   "metadata": {},
   "source": [
    "7. Nessa barra, você encontra um elemento chamado **Table**, ou **Tabela**. É ele que irá representar cada entidade que criamos no nosso modelo conceitual. Clique nele e depois clique na área de desenho:"
   ]
  },
  {
   "cell_type": "markdown",
   "metadata": {},
   "source": [
    "<div style=\"display: flex; justify-content: center\">\n",
    "    <img src=\"../assets/workbench-06.png\" alt=\"MySQL Workbench\" />\n",
    "</div>"
   ]
  },
  {
   "cell_type": "markdown",
   "metadata": {},
   "source": [
    "8. Nas primeiras aulas de modelo conceitual, criamos uma entidade chamada **Usuario**. Para fins didáticos, iremos pegar essa mesma entidade e criá-la aqui no modelo lógico, conforme ela foi planejada lá no modelo conceitual inicialmente. Para isso, vamos dar um clique duplo em cima da tabela criada aqui no Workbench para que possamos abrir o **painel de propriedades da tabela**:"
   ]
  },
  {
   "cell_type": "markdown",
   "metadata": {},
   "source": [
    "<div style=\"display: flex; justify-content: center\">\n",
    "    <img src=\"../assets/workbench-07.png\" alt=\"MySQL Workbench\" />\n",
    "</div>"
   ]
  },
  {
   "cell_type": "markdown",
   "metadata": {},
   "source": [
    "9. Nesse painel, podemos modificar o nome da nossa entidade, adicionar os atributos, e o que é novidade aqui no modelo lógico: alterar o tipo (type) e tamanho (range) dos dados que o nosso banco irá receber.\n",
    "10. Inicialmente, vamos apenas renomear o nome da nossa tabela para o nome da nossa entidade:"
   ]
  },
  {
   "cell_type": "markdown",
   "metadata": {},
   "source": [
    "<div style=\"display: flex; justify-content: center\">\n",
    "    <img src=\"../assets/workbench-08.png\" alt=\"MySQL Workbench\" />\n",
    "</div>"
   ]
  },
  {
   "cell_type": "markdown",
   "metadata": {},
   "source": [
    "11. Em **Column Name**, podemos adicionar, alterar o nome e excluir os campos/colunas da tabela. Vamos iniciar com o campo **id_usuario**. Dê um clique duplo na linha abaixo de **Column Name** e digite **id_usuario**:"
   ]
  },
  {
   "cell_type": "markdown",
   "metadata": {},
   "source": [
    "<div style=\"display: flex; justify-content: center\">\n",
    "    <img src=\"../assets/workbench-09.png\" alt=\"MySQL Workbench\" />\n",
    "</div>"
   ]
  },
  {
   "cell_type": "markdown",
   "metadata": {},
   "source": [
    "**Obs:** em Banco de Dados, para os nomes dos atributos, usamos o tipo de nomenclatura **Snake Case**, usando letras minúsculas e separando as palavras com **underscore (_)**.\n",
    "\n",
    "12. Repare que do lado de **Column Name**, existe o **Datatype**. Ele nada mais é do que o tipo de dados que será inserido naquele campo quando formos criar o modelo físico. Iremos tratar sobre os tipos de dados com mais calma mais para frente, por hora o nosso foco será o de construir uma tabela que represente uma entidade. Tudo o que você precisa saber agora é que o tipo de dado que precisa ser inserido no campo **id_usuario** é do tipo **INT**, que significa números inteiros:"
   ]
  },
  {
   "cell_type": "markdown",
   "metadata": {},
   "source": [
    "<div style=\"display: flex; justify-content: center\">\n",
    "    <img src=\"../assets/workbench-10.png\" alt=\"MySQL Workbench\" />\n",
    "</div>"
   ]
  },
  {
   "cell_type": "markdown",
   "metadata": {},
   "source": [
    "### Chave Primária\n",
    "\n",
    "13. Observe que do lado do campo **id_usuario** existe o desenho de uma chave dourada. Lembra que no modelo conceitual definimos esse atributo como um atributo identificador? Esse atributo identificador marca o campo que chamamos de **Chave Primária**, também conhecida como **Primary Key** ou ainda **PK**."
   ]
  },
  {
   "cell_type": "markdown",
   "metadata": {},
   "source": [
    "<div style=\"display: flex; justify-content: center\">\n",
    "    <img src=\"../assets/workbench-11.png\" alt=\"MySQL Workbench\" />\n",
    "</div>"
   ]
  },
  {
   "cell_type": "markdown",
   "metadata": {},
   "source": [
    "A **Chave Primária** é de extrema importância para o Banco de Dados. Ele serve para indexar os registros da tabela, diferenciando cada uma das tuplas. Dessa forma, o campo que representar uma chave primária deverá ser preenchido no banco por um valor que **não pode ser repetido de forma alguma por nenhuma das tuplas**.\n",
    "\n",
    "**A presença da chave primária em uma tabela é obrigatória**. Nenhuma tabela criada no banco pode ficar sem a chave primária, da mesma forma que só pode existir uma única chave primária por tabela. Falaremos mais sobre a chave primária e outros tipos de chaves mais para frente. Por hora, prosseguiremos.\n",
    "\n",
    "14. Criamos o campo **id_usuario** com o objetivo de servir como **chave primária** da tabela. Para definirmos isso, a caixinha de seleção na coluna que está escrito **PK** deverá estar marcada, do lado de Datatype.\n",
    "15. Do lado de PK, existe a coluna com as letras **NN**, que significam **Not Null**. UM campo Not Null significa que o preenchimento desse campo no banco de dados físico **é obrigatório**. É o caso da chave primária, que não pode ficar vazio nunca. Portanto, marque essa caixinha também.\n",
    "16. Além disso, uma coisa interessante a se fazer é colocar esse campo para ser preenchido automaticamente. Dessa forma, quando uma tupla for registrada no banco, não haverá necessidade de preenchimento por parte do usuário, já que o próprio sistema se encarregará disso. Para deixar esse campo com preenchimento automático, marque a caixinha da coluna com as iniciais **AI**, que significam **Auto Increment**.\n",
    "17. Não se preocupe nesse momento em saber de cor todas essas caixinhas. Elas serão explicadas com mais detalhes em aulas futuras. O gabarito para o preenchimento das caixinhas no campo **id_usuario** se encontra na imagem abaixo. Confira:"
   ]
  },
  {
   "cell_type": "markdown",
   "metadata": {},
   "source": [
    "<div style=\"display: flex; justify-content: center\">\n",
    "    <img src=\"../assets/workbench-12.png\" alt=\"MySQL Workbench\" />\n",
    "</div>"
   ]
  },
  {
   "cell_type": "markdown",
   "metadata": {},
   "source": [
    "18. Agora que terminamos de configurar o campo id_usuario, vamos para o próximo campo, que será **Nome**. Dê um clique duplo na linha abaixo de id_usuario e digite \"**nome**\".\n",
    "19. Em **Datatype**, iremos alterar o tipo de dados para **VARCHAR(255)**. O tipo **Varchar** representa dados do tipo textos pequenos, como nomes de pessoas e endereços, por exemplo. O **(255)** é aquilo que chamamos de **range**, ou tamanho do campo. Significa a quantidade de caracteres que esse campo irá receber. Exemplo: se um campo é um VARCHAR(255), significa que ele poderá receber dados do tipo texto de até no máximo 255 caracteres.\n",
    "\n",
    "**Obs:** o tamanho do range não é flexível após a criação do modelo físico. Embora seja possível alterar esse número, fazê-lo após a inserção de registros pode resultar na perda de dados do banco. Por outro lado, não é bom definir um tamanho muito alto para os valores de um campo, pois os valores inseridos no banco ocupam em armazenamento o equivalente ao que foi definido no range, e não pelo seu tamanho original, o que fará com que um campo mal planejado ocupe muito mais espaço do que deveria no banco.\n",
    "\n",
    "Exemplo: se eu crio um campo chamado **primeiro_nome** com o tipo **VARCHAR(255)**, e cadastro um nome chamado **Alex**, fora do banco esse nome irá ocupar 4 bytes, porém, dentro do banco, serão reservados para ele 255 bytes, o que fará com que esse curto nome ocupe 255 bytes no banco de dados, desperdiçando assim espaço disponível no servidor.\n",
    "\n",
    "20. No nosso exemplo desse tutorial, podemos usar **VARCHAR(255)** no campo **nome**, pois ele se refere ao nome completo de uma pessoa, e não somente o primeiro nome.\n",
    "21. Nas marcações das caixinhas, não iremos marcar o PK, pois uma tabela só pode ter uma única chave primária, e portanto não marcaremos essa caixinha.\n",
    "22. Na coluna **NN**, que é **Not Null**, marcaremos a caixinha, pois o campo nome não pode ficar em branco durante o preenchimento.\n",
    "23. As outras caixinhas deverão ficar desmarcadas.\n",
    "24. Segue a configuração do campo na imagem abaixo:"
   ]
  },
  {
   "cell_type": "markdown",
   "metadata": {},
   "source": [
    "<div style=\"display: flex; justify-content: center\">\n",
    "    <img src=\"../assets/workbench-13.png\" alt=\"MySQL Workbench\" />\n",
    "</div>"
   ]
  },
  {
   "cell_type": "markdown",
   "metadata": {},
   "source": [
    "25. Feche o **Painel de Propriedades da Tabela** e veja como ficou a nossa tabela:"
   ]
  },
  {
   "cell_type": "markdown",
   "metadata": {},
   "source": [
    "<div style=\"display: flex; justify-content: center\">\n",
    "    <img src=\"../assets/tb_usuario.png\" alt=\"Tabela Usuario\" />\n",
    "</div>"
   ]
  },
  {
   "cell_type": "markdown",
   "metadata": {},
   "source": [
    "26. Para salvarmos o nosso trabalho até o momento, vá no menu **File -> Save model as...**, e escolha a pasta onde deseja salvar o modelo. A extensão de arquivo é **.mwb**. Você também pode usar a tecla de atalho **Ctrl+S**."
   ]
  },
  {
   "cell_type": "markdown",
   "metadata": {},
   "source": [
    "<div style=\"display: flex; justify-content: center\">\n",
    "    <img src=\"../assets/workbench-14.png\" alt=\"MySQL Workbench\" />\n",
    "</div>"
   ]
  },
  {
   "cell_type": "markdown",
   "metadata": {},
   "source": [
    "<div style=\"display: flex; justify-content: center\">\n",
    "    <img src=\"../assets/workbench-15.png\" alt=\"MySQL Workbench\" />\n",
    "</div>"
   ]
  },
  {
   "cell_type": "markdown",
   "metadata": {},
   "source": [
    "Por hora é só, nas próximas aulas iremos aprender um pouco mais sobre os novos elementos que vimos nessa aula."
   ]
  }
 ],
 "metadata": {
  "language_info": {
   "name": "python"
  }
 },
 "nbformat": 4,
 "nbformat_minor": 2
}
