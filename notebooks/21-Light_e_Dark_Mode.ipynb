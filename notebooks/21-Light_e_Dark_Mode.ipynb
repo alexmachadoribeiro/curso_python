{
 "cells": [
  {
   "cell_type": "markdown",
   "metadata": {},
   "source": [
    "# **Light Theme e Dark Theme**\n",
    "---\n",
    "\n",
    "## Pré-requisitos da aula\n",
    "\n",
    "- Funções\n",
    "- Import\n",
    "- Orientação a Objetos\n",
    "- Interface Gráfica\n",
    "- Introdução ao Flet\n",
    "- Meu primeiro Flet App\n",
    "- Eventos\n",
    "\n",
    "---"
   ]
  },
  {
   "cell_type": "markdown",
   "metadata": {},
   "source": [
    "## Modos ou Temas\n",
    "---\n",
    "\n",
    "A essa altura do campeonato, você já deve conhecer os temas visuais disponíveis para os aplicativos, conhecidos como **Modo Claro** ou **Light Mode**, e **Modo Escuro** ou **Dark Mode**. Os **temas** ou **modos**, como preferir chamar, são modalidades visuais que ajudam o usuário a ter mais conforto e facilitam a visualização da tela.\n",
    "\n",
    "A escolha do tema por parte do usuário varia de acordo com a preferência de cada um: nem todos gostam do tema claro e nem todos se adaptam ao tema escuro. Há vantagens e desvantagens em cada um dos temas, e ter um botão que altere esse tema na sua aplicação é de extrema importância hoje em dia por vários motivos, incluindo usabilidade."
   ]
  },
  {
   "cell_type": "markdown",
   "metadata": {},
   "source": [
    "### Tema Claro ou Light Theme\n",
    "\n",
    "O Tema Claro é o padrão para a maioria das aplicações. Consiste em cores claras no fundo, como o branco, por exemplo, e cores escuras para textos e imagens monocromáticas, como o preto, por exemplo.\n",
    "\n",
    "#### Vantagens do Light Theme\n",
    "\n",
    "- A cor branca com texto preto é melhor para ler, independentemente do ambiente, porque a íris se contrai para permitir menos luz.\n",
    "- Em ambientes iluminados, esse tema funciona melhor, pois diminui o reflexo do ambiente na tela.\n",
    "- Melhor para pessoas que não pretendem passar muito tempo na frente da tela.\n",
    "- Melhor de enxergar em ambientes com luz natural.\n",
    "\n",
    "#### Desvantagens do Light Theme\n",
    "\n",
    "- As telas em light mode emitem muito brilho, o que pode causar tensão ocular.\n",
    "- O fundo claro pode causar ofuscamento, o que também prejudica a leitura.\n",
    "- O tema claro pode atrapalhar a dormir e diminuir a qualidade do sono.\n",
    "- As cores claras, pelo incrível que pareça, consomem mais energia dos dispositivos, aumentando o consumo de energia do equipamento.\n",
    "- Também diminui o tempo de vida útil da bateria dos dispositivos móveis.\n",
    "- A longa exposição ao modo claro pode causar fadiga e prejudicar a saúde dos seus olhos.\n",
    "\n",
    "#### Light Theme é mais indicado para:\n",
    "\n",
    "- Ambientes bem iluminados.\n",
    "- Pessoas com hábitos de leitura, principalmente em dispositivos eletrônicos.\n",
    "- Usuários mais leigos em informática.\n",
    "- Usuários que não trabalham tanto com computadores, ou passam pouco tempo na frente de uma tela."
   ]
  },
  {
   "cell_type": "markdown",
   "metadata": {},
   "source": [
    "### Tema Escuro ou Dark Theme\n",
    "\n",
    "O Tema Escuro ultimamente está virando o queridinho na TI. Consiste em cores escuras no fundo (não necessariamente o preto) e cores claras, como o branco, para textos e imagens monocromáticas. É importante frisar que o fato de a cor de fundo ser escura não implica que ela seja preta (quase nunca é). Pode ser cinza escuro, azul escuro, azul-marinho, roxo ou eigengrau (ver seção sobre eigengrau ou eigenlicht mais para frente nessa mesma apostila), por exemplo.\n",
    "\n",
    "#### Vantagens do Dark Theme\n",
    "\n",
    "- Menor consumo de energia do computador.\n",
    "- Aumenta a vida útil da bateria dos dispositivos móveis.\n",
    "- O modo dark diminui a quantidade de brilho emitida pela tela, o que pode ajudar a reduzir o cansaço visual e a melhorar o sono.\n",
    "- O modo dark também pode ser indicado para pessoas com fotofobia ou outros problemas de visão.\n",
    "- Ajuda a manter o foco.\n",
    "- Aumenta a acessibilidade.\n",
    "- Melhor para ambientes com pouca iluminação.\n",
    "- Diminui o brilho da tela.\n",
    "- Melhor para pessoas com longa exposição ao computador.\n",
    "\n",
    "#### Desvantagens do Dark Theme\n",
    "\n",
    "- Mais difícil para se acostumar para quem não possui o hábito de telas mais escuras.\n",
    "- Em ambientes iluminados, o modo escuro aumenta o reflexo do ambiente na tela, dificultando a visualização.\n",
    "- Não indicado para ambientes com luz natural, como debaixo do Sol, por exemplo, pois diminui a visibilidade e força mais a visão.\n",
    "\n",
    "#### Dark Theme é mais indicado para:\n",
    "\n",
    "- Ambientes noturnos, fechados ou pouco iluminados.\n",
    "- Pessoas com longa exposição à telas de celulares, tablets ou computadores.\n",
    "- Programadores ou usuários avançados em TI.\n",
    "- Pessoas com problemas de visão.\n",
    "- Usuários que consomem conteúdos multimídia, como áudios e vídeos, por exemplo."
   ]
  },
  {
   "cell_type": "markdown",
   "metadata": {},
   "source": [
    "### Eigengrau ou Eigenlicht\n",
    "\n",
    "Responda rápido: qual a cor que você enxerga quando fecha os olhos, ou quando está em um ambiente totalmente escuro?\n",
    "\n",
    "Se respondeu preto, ERROU! A resposta certa é: a cor que você enxerga quando fecha os olhos chama-se **Eigengrau**, também conhecida como **Eigenlicht** (do germânico **Eigen**: intrínseco, **Grau**: cinza, **Licht**: luz, que em português significa algo como **cinza intrínseco** ou **cinza cerebral** no primeiro nome, e **luz intrínseca** ou **luz cerebral** no segundo nome). É a cor de fundo cinza escuro uniforme que muitas pessoas relatam ter visto em a ausência de luz. O termo Eigenlicht remonta ao século XIX, e raramente tem sido usado em publicações científicas recentes. Os termos científicos comuns para o fenômeno incluem “ruído visual” ou “adaptação ao fundo”. Esses termos surgem devido à percepção de um campo em constante mudança de pequenos pontos pretos e brancos vistos no fenômeno.\n",
    "\n",
    "Eigengrau é percebido como mais claro que um objeto preto em condições normais de iluminação, porque o contraste é mais importante para o sistema visual do que o brilho absoluto. Por exemplo, o céu noturno parece mais escuro do que Eigengrau devido ao contraste fornecido pelas estrelas.\n",
    "\n",
    "Em programação, os códigos para se chegar à cor Eigengrau são:\n",
    "\n",
    "- Hexadecimal: `#16161d`\n",
    "- RGB: `rgb(22, 22, 29)`\n",
    "- RGBA: `rgba(22, 22, 29, 1)`\n",
    "- CMYK: `(0.24, 0.24, 0.00, 0.89)`\n",
    "\n",
    "#### Resultado:"
   ]
  },
  {
   "cell_type": "markdown",
   "metadata": {},
   "source": [
    "<div style=\"width: 50px; height: 50px; background-color: #16161d; border: 1px solid #000\"></div>"
   ]
  },
  {
   "cell_type": "markdown",
   "metadata": {},
   "source": [
    "#### Diferença para a cor preta (HEX: `#000000`, RGB: `rgb(0, 0, 0)`, RGBA: `rgba(0, 0, 0, 1)`, CMYK: `(0.00, 0.00, 0.00, 1.00)`)\n",
    "\n",
    "Eigengrau em cima / Preto embaixo:"
   ]
  },
  {
   "cell_type": "markdown",
   "metadata": {},
   "source": [
    "<div style=\"width: 50px; height: 50px; background-color: #16161d; border: 1px solid #000\"></div>\n",
    "<div style=\"width: 50px; height: 50px; background-color: #000000; border: 1px solid #000\"></div>"
   ]
  },
  {
   "cell_type": "markdown",
   "metadata": {},
   "source": [
    "A cor oposta para Eigengrau é `#1d1d16`:"
   ]
  },
  {
   "cell_type": "markdown",
   "metadata": {},
   "source": [
    "<div style=\"width: 50px; height: 50px; background-color: #1d1d16; border: 1px solid #000\"></div>"
   ]
  },
  {
   "cell_type": "markdown",
   "metadata": {},
   "source": [
    "As cores alternativas de Eigengrau são:\n",
    "\n",
    "- Absence of LIght: `#15151c` <div style=\"width: 50px; height: 50px; background-color: #15151c; border: 1px solid #000\"></div>\n",
    "- Abandon Black: `#231f20` <div style=\"width: 50px; height: 50px; background-color: #231f20; border: 1px solid #000\"></div>\n",
    "- Dark Grey 9: `#171717` <div style=\"width: 50px; height: 50px; background-color: #171717; border: 1px solid #000\"></div>\n",
    "- Dark Grey 8: `#141414` <div style=\"width: 50px; height: 50px; background-color: #141414; border: 1px solid #000\"></div>\n",
    "- Dark Grey 7: `#121212` <div style=\"width: 50px; height: 50px; background-color: #121212; border: 1px solid #000\"></div>\n",
    "- Dark Grey 6: `#0f0f0f` <div style=\"width: 50px; height: 50px; background-color: #0f0f0f; border: 1px solid #000\"></div>\n",
    "- Dark Grey: `#232323` <div style=\"width: 50px; height: 50px; background-color: #232323; border: 1px solid #000\"></div>"
   ]
  },
  {
   "cell_type": "markdown",
   "metadata": {},
   "source": [
    "É preferível utilizar essas cores no lugar do preto absoluto, pois o preto irá aumentar o contraste com a cor mais clara do texto, podendo, dependendo dos casos, forçar ainda mais os olhos."
   ]
  },
  {
   "cell_type": "markdown",
   "metadata": {},
   "source": [
    "### Alto Contraste ou High Contrast"
   ]
  },
  {
   "cell_type": "markdown",
   "metadata": {},
   "source": [
    "É basicamente o mesmo modo escuro, porém, com o fundo totalmente preto (HEX: `#000000`, RGB: `rgb(0, 0, 0)`, RGBA: `rgba(0, 0, 0, 1)`, CMYK: `(0.00, 0.00, 0.00, 1.00)`). Essa modalidade de tema faz com que as cores do texto pareçam muito mais claras do que o normal. O tema pode ser o mais adequado para algumas pessoas com problemas de visão, mas pode incomodar bastante justamente pelas cores do texto e das bordas."
   ]
  },
  {
   "cell_type": "markdown",
   "metadata": {},
   "source": [
    "### Outras alternativas de cores de fundo para Tema Escuro\n",
    "\n",
    "- Ford Graphite: `#2e2e2e` <div style=\"width: 50px; height: 50px; background-color: #2e2e2e; border: 1px solid #000\"></div>\n",
    "- Coral Fibra de Carbono: `#454443` <div style=\"width: 50px; height: 50px; background-color: #454443; border: 1px solid #000\"></div>\n",
    "- Chrysler Carbon Black: `#293542` <div style=\"width: 50px; height: 50px; background-color: #293542; border: 1px solid #000\"></div>"
   ]
  },
  {
   "cell_type": "markdown",
   "metadata": {},
   "source": [
    "## Aplicando alteração de tema no seu app\n",
    "---\n",
    "\n",
    "Agora que conhecemos um pouco sobre os temas claro e escuro, vamos aprender sobre como programar um botão para aplicar a mudança de tema claro para escuro e vice-versa.\n",
    "\n",
    "1. Começe criando sua aplicação normalmente, com o comando `flet create tema` para criar um novo projeto com o nome **tema**.\n",
    "2. Modifique o código-fonte e acrescente dentro de `main` as propriedades da página que desejar:"
   ]
  },
  {
   "cell_type": "code",
   "execution_count": null,
   "metadata": {},
   "outputs": [],
   "source": [
    "import flet as ft\n",
    "\n",
    "\n",
    "def main(page: ft.Page):\n",
    "    # propriedades da página\n",
    "    page.title = \"Alteração de tema\"\n",
    "\n",
    "    page.add(ft.SafeArea(ft.Text(\"Hello, Flet!\")))\n",
    "\n",
    "\n",
    "ft.app(main)\n"
   ]
  },
  {
   "cell_type": "markdown",
   "metadata": {},
   "source": [
    "3. Agora começam as novidades. Vamos acrescentar uma nova propriedade relacionada ao tema da aplicação. Você deve ter reparado que o tema padrão da aplicação Flet é o tema do sistema. Vamos fazer com que nossa aplicação abra obrigatoriamente no modo claro. Para isso, precisaremos adicionar a propriedade da página `page.theme_mode = ft.ThemeMode.LIGHT`. Veja no código abaixo:"
   ]
  },
  {
   "cell_type": "code",
   "execution_count": null,
   "metadata": {},
   "outputs": [],
   "source": [
    "import flet as ft\n",
    "\n",
    "\n",
    "def main(page: ft.Page):\n",
    "    page.title = \"Alteração de tema\"\n",
    "    # força o tema para claro\n",
    "    page.theme_mode = ft.ThemeMode.LIGHT\n",
    "\n",
    "    page.add(ft.SafeArea(ft.Text(\"Hello, Flet!\")))\n",
    "\n",
    "\n",
    "ft.app(main)\n"
   ]
  },
  {
   "cell_type": "markdown",
   "metadata": {},
   "source": [
    "4. O resultado deverá ser parecido com o da imagem abaixo:"
   ]
  },
  {
   "cell_type": "markdown",
   "metadata": {},
   "source": [
    "<div style=\"display: flex; justify-content: center\">\n",
    "    <img src=\"../assets/app-tema-01.png\" alt=\"App Tema\" />\n",
    "</div>"
   ]
  },
  {
   "cell_type": "markdown",
   "metadata": {},
   "source": [
    "5. Ótimo! Agora vamos começar a programar o botão que irá alternar esse tema no nosso aplicativo. Vamos começar criando a função a ser acionada com o evento do botão primeiramente. Dessa forma, podemos criar nosso botão já com o evento sem ter que esperar a função ser programada para isso. Vamos chamar nossa função de `mudar_tema`, e ela deverá estar dentro da função `main`, antes das propriedades da página que acabamos de adicionar:"
   ]
  },
  {
   "cell_type": "code",
   "execution_count": null,
   "metadata": {},
   "outputs": [],
   "source": [
    "import flet as ft\n",
    "\n",
    "\n",
    "def main(page: ft.Page):\n",
    "    # função do evento\n",
    "    def mudar_tema(e):\n",
    "        page.theme_mode = (\n",
    "            ft.ThemeMode.DARK\n",
    "            if page.theme_mode == ft.ThemeMode.LIGHT\n",
    "            else ft.ThemeMode.LIGHT\n",
    "        )\n",
    "        page.update()\n",
    "\n",
    "    # propriedades da página\n",
    "    page.title = \"Alteração de tema\"\n",
    "    page.theme_mode = ft.ThemeMode.LIGHT\n",
    "\n",
    "    page.add(ft.SafeArea(ft.Text(\"Hello, Flet!\")))\n",
    "\n",
    "\n",
    "ft.app(main)"
   ]
  },
  {
   "cell_type": "markdown",
   "metadata": {},
   "source": [
    "6. A função aplica uma condicional que altera a propriedade `ThemeMode` de `LIGHT` para `DARK`, e é finalizada com o comando `page.update()`. Para que funcione, é preciso do evento que a ative. Para o nosso caso, vamos criar um botão do tipo **Switch**, que funcione como um interruptor. Iremos associar esse interruptor a uma variável e adicioná-la dentro da `ft.SafeArea()` em `page.add()`:"
   ]
  },
  {
   "cell_type": "code",
   "execution_count": null,
   "metadata": {},
   "outputs": [],
   "source": [
    "import flet as ft\n",
    "\n",
    "\n",
    "def main(page: ft.Page):\n",
    "    def mudar_tema(e):\n",
    "        page.theme_mode = (\n",
    "            ft.ThemeMode.DARK\n",
    "            if page.theme_mode == ft.ThemeMode.LIGHT\n",
    "            else ft.ThemeMode.LIGHT\n",
    "        )\n",
    "        page.update()\n",
    "\n",
    "    page.title = \"Alteração de tema\"\n",
    "    page.theme_mode = ft.ThemeMode.LIGHT\n",
    "\n",
    "    # botão para alterar o tema\n",
    "    interruptor = ft.Switch(label=\"Light theme\", on_change=mudar_tema)\n",
    "\n",
    "    # interruptor adicionado dentro da SafeArea\n",
    "    page.add(ft.SafeArea(interruptor))\n",
    "\n",
    "\n",
    "ft.app(main)"
   ]
  },
  {
   "cell_type": "markdown",
   "metadata": {},
   "source": [
    "7. Execute o programa e verifique o resultado.\n",
    "\n",
    "#### LIGHT THEME:"
   ]
  },
  {
   "cell_type": "markdown",
   "metadata": {},
   "source": [
    "<div style=\"display: flex; justify-content: center\">\n",
    "    <img src=\"../assets/app-tema-light-01.png\" alt=\"App Tema Light\" />\n",
    "</div>"
   ]
  },
  {
   "cell_type": "markdown",
   "metadata": {},
   "source": [
    "#### DARK THEME:"
   ]
  },
  {
   "cell_type": "markdown",
   "metadata": {},
   "source": [
    "<div style=\"display: flex; justify-content: center\">\n",
    "    <img src=\"../assets/app-tema-dark-01.png\" alt=\"App Tema Dark\" />\n",
    "</div>"
   ]
  },
  {
   "cell_type": "markdown",
   "metadata": {},
   "source": [
    "8. Veja como o tema da aplicação mudou. Apesar disso, o `label` do botão não alterou: continuou escrito `Light theme` quando mudou para o modo escuro. Portanto nosso próximo passo é resolver isso. Ainda dentro da função `mudar_tema`, após `page.theme_mode()` e antes de `page.update()` vamos acrescentar outra condicional relacionada ao `label` do `interruptor`:"
   ]
  },
  {
   "cell_type": "code",
   "execution_count": null,
   "metadata": {},
   "outputs": [],
   "source": [
    "import flet as ft\n",
    "\n",
    "\n",
    "def main(page: ft.Page):\n",
    "    def mudar_tema(e):\n",
    "        page.theme_mode = (\n",
    "            ft.ThemeMode.DARK\n",
    "            if page.theme_mode == ft.ThemeMode.LIGHT\n",
    "            else ft.ThemeMode.LIGHT\n",
    "        )\n",
    "        # altera o label do interruptor\n",
    "        interruptor.label = (\n",
    "            \"Light theme\" if page.theme_mode == ft.ThemeMode.LIGHT else \"Dark theme\"\n",
    "        )\n",
    "        page.update()\n",
    "\n",
    "    page.title = \"Alteração de tema\"\n",
    "    page.theme_mode = ft.ThemeMode.LIGHT\n",
    "\n",
    "    interruptor = ft.Switch(label=\"Light theme\", on_change=mudar_tema)\n",
    "\n",
    "    page.add(ft.SafeArea(interruptor))\n",
    "\n",
    "\n",
    "ft.app(main)"
   ]
  },
  {
   "cell_type": "markdown",
   "metadata": {},
   "source": [
    "9. Veja que agora o `label` do *switch button* muda de acordo com o tema:\n",
    "\n",
    "#### LIGHT MODE"
   ]
  },
  {
   "cell_type": "markdown",
   "metadata": {},
   "source": [
    "<div style=\"display: flex; justify-content: center\">\n",
    "    <img src=\"../assets/app-tema-light-01.png\" alt=\"App Tema Light\" />\n",
    "</div>"
   ]
  },
  {
   "cell_type": "markdown",
   "metadata": {},
   "source": [
    "#### DARK MODE"
   ]
  },
  {
   "cell_type": "markdown",
   "metadata": {},
   "source": [
    "<div style=\"display: flex; justify-content: center\">\n",
    "    <img src=\"../assets/app-tema-dark-02.png\" alt=\"App Tema Dark\" />\n",
    "</div>"
   ]
  },
  {
   "cell_type": "markdown",
   "metadata": {},
   "source": [
    "10. Poderíamos terminar por aqui, já que o nosso app já está fazendo o que foi prometido, mas caso execute o app nas diferentes plataformas, em alguns dispositivos pode ou não acontecer algo como a imagem abaixo:\n",
    "\n",
    "#### LIGHT MODE:"
   ]
  },
  {
   "cell_type": "markdown",
   "metadata": {},
   "source": [
    "<div style=\"display: flex; justify-content: center\">\n",
    "    <img src=\"../assets/smartphone-app-tema-light-01.png\" alt=\"App Tema Light Smartphone\" />\n",
    "</div>"
   ]
  },
  {
   "cell_type": "markdown",
   "metadata": {},
   "source": [
    "#### DARK MODE:"
   ]
  },
  {
   "cell_type": "markdown",
   "metadata": {},
   "source": [
    "<div style=\"display: flex; justify-content: center\">\n",
    "    <img src=\"../assets/smartphone_app-tema-dark-01.png\" alt=\"App Tema Dark Smartphone\" />\n",
    "</div>"
   ]
  },
  {
   "cell_type": "markdown",
   "metadata": {},
   "source": [
    "11. Repare que nesse celular em que executamos nosso aplicativo o tema não mudou, apenas o `label` do *switch button*. Além disso, mal dá para enxergar o texto `Light theme`. Isso acontece porque o flet pode estar reconhecendo e aplicando o tema do celular ao invés do tema que programamos. Caso isso aconteça, a solução é a seguinte: vamos forçar um *background* branco no tema claro, e mudar esse mesmo *background* quando o modo escuro for ativado. Isso é feito na proprieadade `page.bgcolor`:"
   ]
  },
  {
   "cell_type": "code",
   "execution_count": null,
   "metadata": {},
   "outputs": [],
   "source": [
    "import flet as ft\n",
    "\n",
    "\n",
    "def main(page: ft.Page):\n",
    "    def mudar_tema(e):\n",
    "        page.theme_mode = (\n",
    "            ft.ThemeMode.DARK\n",
    "            if page.theme_mode == ft.ThemeMode.LIGHT\n",
    "            else ft.ThemeMode.LIGHT\n",
    "        )\n",
    "        interruptor.label = (\n",
    "            \"Light theme\" if page.theme_mode == ft.ThemeMode.LIGHT else \"Dark theme\"\n",
    "        )\n",
    "        page.update()\n",
    "\n",
    "    page.title = \"Alteração de tema\"\n",
    "    page.theme_mode = ft.ThemeMode.LIGHT\n",
    "    # altera o background da página\n",
    "    page.bgcolor = ft.colors.WHITE\n",
    "\n",
    "    interruptor = ft.Switch(label=\"Light theme\", on_change=mudar_tema)\n",
    "\n",
    "    page.add(ft.SafeArea(interruptor))\n",
    "\n",
    "\n",
    "ft.app(main)"
   ]
  },
  {
   "cell_type": "markdown",
   "metadata": {},
   "source": [
    "12. Isso irá forçar a página a ter o fundo branco, mas há um problema:\n",
    "\n",
    "#### LIGHT MODE:"
   ]
  },
  {
   "cell_type": "markdown",
   "metadata": {},
   "source": [
    "<div style=\"display: flex; justify-content: center\">\n",
    "    <img src=\"../assets/smartphone-app-tema-light-02.png\" alt=\"App Tema Light Smartphone\" />\n",
    "</div>"
   ]
  },
  {
   "cell_type": "markdown",
   "metadata": {},
   "source": [
    "#### DARK MODE:"
   ]
  },
  {
   "cell_type": "markdown",
   "metadata": {},
   "source": [
    "<div style=\"display: flex; justify-content: center\">\n",
    "    <img src=\"../assets/smartphone-app-tema-dark-02.png\" alt=\"App Tema Dark Smartphone\" />\n",
    "</div>"
   ]
  },
  {
   "cell_type": "markdown",
   "metadata": {},
   "source": [
    "13. Agora é o `Dark theme` que não consegue mais ficar em modo escuro, e pior: o `label` do *switch button* está quase invisível no `Dark theme`. Para resolver isso, precisaremos inserir outra condicional dentro da função `mudar_tema` para o `page.bgcolor`. Vamos aproveitar a chance e mudar a cor padrão do modo escuro também, caso deseje:"
   ]
  },
  {
   "cell_type": "code",
   "execution_count": null,
   "metadata": {},
   "outputs": [],
   "source": [
    "import flet as ft\n",
    "\n",
    "def main(page: ft.Page):\n",
    "    def mudar_tema(e):\n",
    "        page.theme_mode = (\n",
    "            ft.ThemeMode.DARK\n",
    "            if page.theme_mode == ft.ThemeMode.LIGHT\n",
    "            else ft.ThemeMode.LIGHT\n",
    "        )\n",
    "        # alterna entre o background da aplicação\n",
    "        page.bgcolor = (\n",
    "            ft.colors.WHITE\n",
    "            if page.theme_mode == ft.ThemeMode.LIGHT\n",
    "            else ft.colors.GREY_900\n",
    "        )\n",
    "        interruptor.label = (\n",
    "            \"Light theme\" if page.theme_mode == ft.ThemeMode.LIGHT else \"Dark theme\"\n",
    "        )\n",
    "        page.update()\n",
    "\n",
    "    page.title = \"Temas\"\n",
    "    page.theme_mode = ft.ThemeMode.LIGHT\n",
    "    page.bgcolor = ft.colors.WHITE\n",
    "\n",
    "    interruptor = ft.Switch(label=\"Light theme\", on_change=mudar_tema)\n",
    "\n",
    "    page.add(ft.SafeArea(interruptor))\n",
    "\n",
    "ft.app(main)"
   ]
  },
  {
   "cell_type": "markdown",
   "metadata": {},
   "source": [
    "14. Prontinho! Agora é só testar:\n",
    "\n",
    "#### LIGHT MODE:"
   ]
  },
  {
   "cell_type": "markdown",
   "metadata": {},
   "source": [
    "<div style=\"display: flex; justify-content: center\">\n",
    "    <img src=\"../assets/smartphone-app-tema-light-02.png\" alt=\"App Tema Light Smartphone\" />\n",
    "</div>"
   ]
  },
  {
   "cell_type": "markdown",
   "metadata": {},
   "source": [
    "#### DARK MODE:"
   ]
  },
  {
   "cell_type": "markdown",
   "metadata": {},
   "source": [
    "<div style=\"display: flex; justify-content: center\">\n",
    "    <img src=\"../assets/smartphone_app-tema-dark-01.png\" alt=\"App Tema Dark Smartphone\" />\n",
    "</div>"
   ]
  }
 ],
 "metadata": {
  "kernelspec": {
   "display_name": ".venv",
   "language": "python",
   "name": "python3"
  },
  "language_info": {
   "name": "python",
   "version": "3.12.7"
  }
 },
 "nbformat": 4,
 "nbformat_minor": 2
}
