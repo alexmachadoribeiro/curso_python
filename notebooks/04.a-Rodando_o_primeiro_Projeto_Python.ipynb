{
 "cells": [
  {
   "cell_type": "markdown",
   "metadata": {},
   "source": [
    "# **Rodando o primeiro Projeto Python**\n",
    "---\n",
    "\n",
    "## Pré-requisitos da aula\n",
    "\n",
    "- Introdução à Lógica de Programação\n",
    "- Configurando o ambiente de desenvolvimento Python\n",
    "\n",
    "---"
   ]
  },
  {
   "cell_type": "markdown",
   "metadata": {},
   "source": [
    "#### **Chegou a hora!!!**\n",
    "\n",
    "1. Após personalizar o VSCode à gosto, abra-o, e vá no menu **Arquivo -> Abrir pasta**. Ou ainda usar a tecla de atalho **Ctrl+K Ctrl+O**."
   ]
  },
  {
   "cell_type": "markdown",
   "metadata": {},
   "source": [
    "<div style=\"display: flex; justify-content: center\">\n",
    "    <img src=\"../assets/janela-vscode-abrir_pasta.png\" alt=\"Abrir pasta no VSCode\" />\n",
    "</div>"
   ]
  },
  {
   "cell_type": "markdown",
   "metadata": {},
   "source": [
    "2. Crie uma pasta para guardar todos os seus projetos em Python. Exemplo: **Curso_Python**. Escolha um lugar fácil para guardar essa pasta, como a Área de Trabalho, por exemplo. Abra a pasta, e crie outra pasta com o nome do seu projeto, por exemplo: **hello_world**. Após criar essa pasta, abra e clique no botão **Selecionar pasta**."
   ]
  },
  {
   "cell_type": "markdown",
   "metadata": {},
   "source": [
    "<div style=\"display: flex; justify-content: center\">\n",
    "    <img src=\"../assets/abrir-pasta.png\" alt=\"Abrir pasta\" />\n",
    "</div>"
   ]
  },
  {
   "cell_type": "markdown",
   "metadata": {},
   "source": [
    "3. Essa pasta será definida como a pasta do seu projeto. À esquerda, irá abrir um painel, que funcionará como um explorador de pastas e arquivos dentro do seu VSCode. Clique com o botão direito dentro da área vazia desse painel e escolha a opção **Novo Arquivo**."
   ]
  },
  {
   "cell_type": "markdown",
   "metadata": {},
   "source": [
    "<div style=\"display: flex; justify-content: center\">\n",
    "    <img src=\"../assets/janela-vscode-novo-arquivo.png\" alt=\"Novo arquivo\" />\n",
    "</div>"
   ]
  },
  {
   "cell_type": "markdown",
   "metadata": {},
   "source": [
    "4. Isso fará abrir uma caixa de texto dentro do explorador do VSCode. Sua tarefa aí é digitar um nome de um arquivo, que nesse caso deve ser um arquivo de código-fonte Python. Os arquivos Python são aqueles que terminam com a extensão **.py**. Portanto, salve o arquivo com **.py** no final, como por exemplo: **hello_world.py**, e finalize com **Enter**."
   ]
  },
  {
   "cell_type": "markdown",
   "metadata": {},
   "source": [
    "<div style=\"display: flex; justify-content: center\">\n",
    "    <img src=\"../assets/janela-vscode-renomear-hello-world.png\" alt=\"Nomenado novo arquivo com 'hello_world'\" />\n",
    "</div>"
   ]
  },
  {
   "cell_type": "markdown",
   "metadata": {},
   "source": [
    "5. Ele irá abrir uma guia no VSCode com o arquivo recém-criado:"
   ]
  },
  {
   "cell_type": "markdown",
   "metadata": {},
   "source": [
    "<div style=\"display: flex; justify-content: center\">\n",
    "    <img src=\"../assets/janela-vscode-arquivo-hello_world.png\" alt=\"Arquivo 'hello_world'\" />\n",
    "</div>"
   ]
  },
  {
   "cell_type": "markdown",
   "metadata": {},
   "source": [
    "6. Vamos usar ele para testar a nossa configuração Python. E a melhor forma de fazer isso é rodando o programa conhecido como **Hello World**, que tem como objetivo testar as configurações da linguagem, e também experimentar a linguagem, para ver como funciona. Para isso, precisamos executar o comando de **saída de dados** da linguagem, que irá exibir na tela a famosa frase **Alô, mundo!**. No arquivo que está aberto, escreva o código abaixo:"
   ]
  },
  {
   "cell_type": "code",
   "execution_count": 1,
   "metadata": {},
   "outputs": [
    {
     "name": "stdout",
     "output_type": "stream",
     "text": [
      "Alô, mundo\n"
     ]
    }
   ],
   "source": [
    "print('Alô, mundo')"
   ]
  },
  {
   "cell_type": "markdown",
   "metadata": {},
   "source": [
    "7. Para executar o programa, podemos clicar no botão de **Play** no canto superior direito da tela, conforme imagem abaixo:"
   ]
  },
  {
   "cell_type": "markdown",
   "metadata": {},
   "source": [
    "<div style=\"display: flex; justify-content: center\">\n",
    "    <img src=\"../assets/janela-vscode-executar-arquivo-do-python.png\" alt=\"Executando um programa Python\" />\n",
    "</div>"
   ]
  },
  {
   "cell_type": "markdown",
   "metadata": {},
   "source": [
    "8. Você pode tanto clicar no símbolo do play quanto clicar na setinha e escolher a opção **Executar Arquivo do Python** quanto **Executar Arquivo Python no Terminal Dedicado**, que costuma executar o programa mais rápido. Tem também a opção **Depurador do Python: Depurar Arquivo Python**. Há ainda uma outra opção: executar a tecla de atalho **Ctrl+F5**. Essa última opção traz botões de controle da sua aplicação, como um botão de reiniciar a execução da aplicação, e também de pausar o programa. Basta escolher a opção **Python Debugger** quando executar."
   ]
  },
  {
   "cell_type": "markdown",
   "metadata": {},
   "source": [
    "<div style=\"display: flex; justify-content: center\">\n",
    "    <img src=\"../assets/janela-vscode-python-debugger.png\" alt=\"Python Debugger\" />\n",
    "</div>"
   ]
  },
  {
   "cell_type": "markdown",
   "metadata": {},
   "source": [
    "9. Veja o programa sendo executado no console abaixo. Por um breve momento, antes do programa se encerrar por completo, uma barra de controle do programa aparece, conforme imagem abaixo:"
   ]
  },
  {
   "cell_type": "markdown",
   "metadata": {},
   "source": [
    "<div style=\"display: flex; justify-content: center\">\n",
    "    <img src=\"../assets/janela-vscode-controles.png\" alt=\"Controles\" />\n",
    "</div>"
   ]
  },
  {
   "cell_type": "markdown",
   "metadata": {},
   "source": [
    "10. A execução do programa irá acontecer no **terminal** do VSCode, conforme imagem abaixo:"
   ]
  },
  {
   "cell_type": "markdown",
   "metadata": {},
   "source": [
    "<div style=\"display: flex; justify-content: center\">\n",
    "    <img src=\"../assets/janela-vscode-hello-world-resultado.png\" alt=\"Saída do programa\" />\n",
    "</div>"
   ]
  },
  {
   "cell_type": "markdown",
   "metadata": {},
   "source": [
    "11. O programa irá rodar normalmente, já que ele conseguiu identificar o Python instalado na sua máquina através da extensão Python instalada na aula anterior. Entretanto, isso não será suficiente para alguns programas que iremos criar em aulas futuras. Isso porque em alguns deles serão necessárias a instalação de pacotes externos, e para que isso seja possível, é obrigatório a configuração do **Ambiente virtual Python**. Portanto, a partir de agora, faremos essa configuração para cada novo projeto Python.\n",
    "\n",
    "12. Na tela do VSCode, aperte a tecla **F1**. A caixa de diálogo que irá abrir na parte de cima da tela do VSCode serve para a execução de alguns comandos de configuração do próprio VSCode. Digite **Python**, e procure pela opção **Criar Ambiente**, ou **Create Environment** no inglês, conforme imagem abaixo, e escolha essa opção:"
   ]
  },
  {
   "cell_type": "markdown",
   "metadata": {},
   "source": [
    "<div style=\"display: flex; justify-content: center\">\n",
    "    <img src=\"../assets/janela-vscode-create-environment.png\" alt=\"Create Environment\" />\n",
    "</div>"
   ]
  },
  {
   "cell_type": "markdown",
   "metadata": {},
   "source": [
    "13. Ele irá solicitar para que escolha como deseja criar o ambiente Python: através do **Venv** ou do **Conda** (essa última opção só irá aparecer caso tenha instalado o Anaconda na sua máquina). Iremos escolher o **Venv**, mas sinta-se livre para escolher o que desejar."
   ]
  },
  {
   "cell_type": "markdown",
   "metadata": {},
   "source": [
    "<div style=\"display: flex; justify-content: center\">\n",
    "    <img src=\"../assets/janela-vscode-criando-venv.png\" alt=\"Criando uma venv\" />\n",
    "</div>"
   ]
  },
  {
   "cell_type": "markdown",
   "metadata": {},
   "source": [
    "14. Você será soliicitado a escolher a versão do Python que desejar. Caso tenha mais de uma versão instalada na máquina, você poderá escolher à vontade. Caso não tenha, ele irá mostrar apenas a versão instalada, que você deverá selecionar."
   ]
  },
  {
   "cell_type": "markdown",
   "metadata": {},
   "source": [
    "<div style=\"display: flex; justify-content: center\">\n",
    "    <img src=\"../assets/janela-vscode-selecionar-interpretador.png\" alt=\"Selecionar interpretador\" />\n",
    "</div>"
   ]
  },
  {
   "cell_type": "markdown",
   "metadata": {},
   "source": [
    "15. Se der certo, irá ser criada uma pasta chamada **.venv** na raiz do seu projeto. Este é o ambiente virtual Python configurado no seu projeto."
   ]
  },
  {
   "cell_type": "markdown",
   "metadata": {},
   "source": [
    "<div style=\"display: flex; justify-content: center\">\n",
    "    <img src=\"../assets/venv-criada.png\" alt=\".venv criada\" />\n",
    "</div>"
   ]
  },
  {
   "cell_type": "markdown",
   "metadata": {},
   "source": [
    "16. Caso tenha instalado a extensão **Python Environment Manager**, há ainda outra forma de criar o mesmo ambiente virtual. Clique no botão com o símbolo do Python na barra de ferramentas à esquerda."
   ]
  },
  {
   "cell_type": "markdown",
   "metadata": {},
   "source": [
    "<div style=\"display: flex; justify-content: center\">\n",
    "    <img src=\"../assets/janela-vscode-python-environment-extensao.png\" alt=\"Abrir pasta\" />\n",
    "</div>"
   ]
  },
  {
   "cell_type": "markdown",
   "metadata": {},
   "source": [
    "17. Irá abrir um novo Painel."
   ]
  },
  {
   "cell_type": "markdown",
   "metadata": {},
   "source": [
    "<div style=\"display: flex; justify-content: center\">\n",
    "    <img src=\"../assets/janela-vscode-python-environment-extensao-painel.png\" alt=\"Python Environment Painel\" />\n",
    "</div>"
   ]
  },
  {
   "cell_type": "markdown",
   "metadata": {},
   "source": [
    "18. Nesse novo painel é possível criar um novo ambiente vritual, clicando no sinal de **+** sinalizado na imagem abaixo."
   ]
  },
  {
   "cell_type": "markdown",
   "metadata": {},
   "source": [
    "<div style=\"display: flex; justify-content: center\">\n",
    "    <img src=\"../assets/janela-vscode-python-environment-extensao-painel-add.png\" alt=\"Adicionar novo ambiente virtual a partir do painel da extensão Python Environment\" />\n",
    "</div>"
   ]
  },
  {
   "cell_type": "markdown",
   "metadata": {},
   "source": [
    "19. Há ainda uma outra forma, via CLI. Você pode abrir um terminal dentro do VSCode, clicando no menu **Terminal -> Novo Terminal**, ou clicando com o botão direito e escolhendo a opção **Abrir no Terminal Integrado**, ou usando a tecla de atalho **Ctrl+J**.\n",
    "\n",
    "20. Depois, é só digitar o comando `python -m venv .venv`.\n",
    "\n",
    "21. Uma outra opção com CLI: você pode instalar um pacote para criação de ambientes virtuais usando o gerenciador de pacotes pip, através  do comando `pip install virtualenv`.\n",
    "\n",
    "22. Em seguida, é só usar o comando `virtualenv .venv` para criar o ambiente virtual.\n",
    "\n",
    "23. Em qualquer um dos casos usando CLI, será necessário a ativação do ambiente virtual, também via CLI. Para isso, é só inserir o comando `.venv/Scripts/Activate`."
   ]
  },
  {
   "cell_type": "markdown",
   "metadata": {},
   "source": [
    "#### **Meus parabéns!!! Você executou o seu primeiro código em Python!!! Na próxima aula iremos aprender mais sobre a sintaxe da linguagem.**\n",
    "\n",
    "## **Código-fonte final**\n",
    "---\n",
    "\n",
    "### Hello World"
   ]
  },
  {
   "cell_type": "code",
   "execution_count": 2,
   "metadata": {},
   "outputs": [
    {
     "name": "stdout",
     "output_type": "stream",
     "text": [
      "Alô, mundo\n"
     ]
    }
   ],
   "source": [
    "print(\"Alô, mundo\")"
   ]
  }
 ],
 "metadata": {
  "kernelspec": {
   "display_name": ".venv",
   "language": "python",
   "name": "python3"
  },
  "language_info": {
   "codemirror_mode": {
    "name": "ipython",
    "version": 3
   },
   "file_extension": ".py",
   "mimetype": "text/x-python",
   "name": "python",
   "nbconvert_exporter": "python",
   "pygments_lexer": "ipython3",
   "version": "3.12.7"
  }
 },
 "nbformat": 4,
 "nbformat_minor": 2
}
