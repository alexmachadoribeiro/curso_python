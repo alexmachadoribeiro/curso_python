{
 "cells": [
  {
   "cell_type": "markdown",
   "metadata": {},
   "source": [
    "# **Os 4 Pilares da Orientação a Objetos**\n",
    "---"
   ]
  },
  {
   "cell_type": "markdown",
   "metadata": {},
   "source": [
    "## Pré-requisitos da aula\n",
    "\n",
    "- Orientação a Objetos\n",
    "\n",
    "---"
   ]
  },
  {
   "cell_type": "markdown",
   "metadata": {},
   "source": [
    "Para uma melhor utilização e compreensão da Orientação a Objetos, seus conceitos são baseados no que chamamos de **Os 4 Pilares da Orientação a Objetos**.\n",
    "\n",
    "São 4 conceitos extremamente importantes que devem ser necessariamente aplicados nos códigos que utilizam o Paradigma da Orientação a Objetos. São eles: **Herança**, **Polimorfismo**, **Abstração** e **Encapsulamento**.\n",
    "\n",
    "## Herança ou Generalização\n",
    "---\n",
    "\n",
    "Em programas grandes, com certeza você irá criar várias classes. É natural que algumas dessas classes possuam atributos em comum. Para evitar que o desenvolvedor crie várias classes com atributos idênticos, existe na orientação a objetos o conceito de **Herança** ou **Generalização**.\n",
    "\n",
    "Nesse conceito, uma classe reúne atributos que duas ou mais classes possam ter em comum, e a partir dela, são geradas outras classes, onde são acrescentadas apenas os atributos e métodos **exclusivos** da classe que está recebendo a herança. Sobre a ideia de herança, dividimos as classes em dois tipos:\n",
    "\n",
    "- **Superclasse** ou **classe-pai:** são as classes que possuem os atributos e/ou métodos a serem herdados.\n",
    "- **Subclasse** ou **classe-filha:** são as classes que irão receber os atributos e/ou métodos das superclasses.\n",
    "\n",
    "Vamos seguir com o nosso exemplo da classe **Pessoa**. No nosso programa, instanciamos um objeto do tipo pessoa. O problema é que não pudemos especificar que tipo de pessoa esse objeto é, já que ele pode ser tanto pessoa física quanto pessoa jurídica, sendo que cada uma dessas pessoas possuem atributos e métodos específicos para cada um.\n",
    "\n",
    "Dito isso, vamos fazer da classe **Pessoa** uma **superclasse**, e a partir dela, criar duas novas classes: a classe **Pessoa Física** e a classe **Pessoa Jurídica**. Vamos retirar temporariamente o método `apresentar()` da classe pessoa, deixando apenas com o **constutor**.\n",
    "\n",
    "Para isso, as classes Pessoa Física e Pessoa Jurídica precisam receber dentro de parênteses o nome da superclasse. Para exemplificar, vamos voltar a setar os valores diretamente no código, sem o método construtor. Veja no exemplo abaixo:"
   ]
  },
  {
   "cell_type": "code",
   "execution_count": 1,
   "metadata": {},
   "outputs": [],
   "source": [
    "# criando a superclasse Pessoa\n",
    "class Pessoa:\n",
    "    local = \"Brasília\"\n",
    "\n",
    "# criando a subclasse Pessoa Física\n",
    "class PessoaFisica(Pessoa):\n",
    "    nome = \"Alex Machado\"\n",
    "    cpf = \"123.456.789-12\"\n",
    "    cargo = \"Programador\"\n",
    "\n",
    "# criando a subclasse Pessoa Jurídica\n",
    "class PessoaJuridica(Pessoa):\n",
    "    razao_social = \"Alex S.A.\"\n",
    "    nome_fantasia = \"Cyberdyne Systems\"\n",
    "    cnpj = \"56.165.887/0001-22\""
   ]
  },
  {
   "cell_type": "markdown",
   "metadata": {},
   "source": [
    "Agora, no algoritmo principal, iremos criar dois objetos: um da classe **Pessoa Física**, e outro da classe **Pessoa Jurídica**:"
   ]
  },
  {
   "cell_type": "code",
   "execution_count": 2,
   "metadata": {},
   "outputs": [
    {
     "name": "stdout",
     "output_type": "stream",
     "text": [
      "Dados do usuário:\n",
      "\n",
      "Nome do usuário: Alex Machado.\n",
      "CPF do usuário: 123.456.789-12.\n",
      "Cargo do usuário: Programador.\n",
      "Local de residência do usuário: Brasília.\n",
      "\n",
      "Dados da empresa:\n",
      "\n",
      "Razão Social da empresa: Alex S.A..\n",
      "Nome Fantasia da empresa: Cyberdyne Systems.\n",
      "CNPJ da empresa: 56.165.887/0001-22.\n",
      "Local da sede da empresa: Brasília.\n"
     ]
    }
   ],
   "source": [
    "if __name__ == \"__main__\":\n",
    "    # instancia (cria) um objeto das classes\n",
    "    usuario = PessoaFisica()\n",
    "    empresa = PessoaJuridica()\n",
    "\n",
    "    # exibição dos dados do usuário\n",
    "    print(\"Dados do usuário:\\n\")\n",
    "    print(f\"Nome do usuário: {usuario.nome}.\")\n",
    "    print(f\"CPF do usuário: {usuario.cpf}.\")\n",
    "    print(f\"Cargo do usuário: {usuario.cargo}.\")\n",
    "    print(f\"Local de residência do usuário: {usuario.local}.\")\n",
    "\n",
    "    # exibição dos dados da empresa\n",
    "    print(\"\\nDados da empresa:\\n\")\n",
    "    print(f\"Razão Social da empresa: {empresa.razao_social}.\")\n",
    "    print(f\"Nome Fantasia da empresa: {empresa.nome_fantasia}.\")\n",
    "    print(f\"CNPJ da empresa: {empresa.cnpj}.\")\n",
    "    print(f\"Local da sede da empresa: {empresa.local}.\")"
   ]
  },
  {
   "cell_type": "markdown",
   "metadata": {},
   "source": [
    "Agora, vamos repetir o algoritmo, desta vez com um construtor:"
   ]
  },
  {
   "cell_type": "code",
   "execution_count": 3,
   "metadata": {},
   "outputs": [],
   "source": [
    "class Pessoa:\n",
    "    # construtor\n",
    "    def __init__(self, local):\n",
    "        self.local = local\n",
    "\n",
    "class PessoaFisica(Pessoa):\n",
    "    # construtor\n",
    "    def __init__(self, nome, cpf, cargo):\n",
    "        self.nome = nome\n",
    "        self.cpf = cpf\n",
    "        self.cargo = cargo\n",
    "\n",
    "class PessoaJuridica(Pessoa):\n",
    "    # construtor\n",
    "    def __init__(self, razao_social, nome_fantasia, cnpj):\n",
    "        self.razao_social = razao_social\n",
    "        self.nome_fantasia = nome_fantasia\n",
    "        self.cnpj = cnpj"
   ]
  },
  {
   "cell_type": "markdown",
   "metadata": {},
   "source": [
    "Aqui temos um problema: as classes \"PessoaFisica\" e \"PessoaJuridica\" não estão herdando o atributo \"local\" da superclasse, pois esse atributo está sendo retirando das subclasses pelo construtor. Para resolvermos este problema, precisaremos antes aprender sobre **Polimorfismo**.\n",
    "\n",
    "## Polimorfismo\n",
    "---\n",
    "\n",
    "Polimorfismo é o nome que se dá quando um mesmo método assume um comportamento diferente em classes diferentes. Podemos usar o construtor como exemplo no nosso caso de agora. Veja por exemplo a classe Pessoa:"
   ]
  },
  {
   "cell_type": "code",
   "execution_count": 4,
   "metadata": {},
   "outputs": [],
   "source": [
    "class Pessoa:\n",
    "    # construtor\n",
    "    def __init__(self, local):\n",
    "        self.local = local"
   ]
  },
  {
   "cell_type": "markdown",
   "metadata": {},
   "source": [
    "A classe **Pessoa** é uma superclasse, o que significa que nela só poderão existir os atributos que são comuns às suas subclasses, que são **PessoaFisica** e **PessoaJuridica**. Nesse caso, o único atributo da classe é \"local\". Já qualquer outro atributo de suas subclasses são exclusivos delas mesmas, e por esse motivo, não pdoeremos inciá-los no construtor da superclasse.\n",
    "\n",
    "Agora, vamos dar uma olhada na subclasse **PessoaFisica**:"
   ]
  },
  {
   "cell_type": "code",
   "execution_count": 5,
   "metadata": {},
   "outputs": [],
   "source": [
    "class PessoaFisica(Pessoa):\n",
    "    # construtor\n",
    "    def __init__(self, nome, cpf, cargo):\n",
    "        self.nome = nome\n",
    "        self.cpf = cpf\n",
    "        self.cargo = cargo"
   ]
  },
  {
   "cell_type": "markdown",
   "metadata": {},
   "source": [
    "Embora a subclasse, em teoria, herde os atributos e métodos da superclasse \"Pessoa\", aqui neste caso ele não está fazendo isso, pois o construtor da subclasse está inicializando apenas os atributos que são exclusivos dela. Isso automaticamente retira da classe o atributo da superclasse. Como resolver esse problema? Precisaremos puxar o construtor da subclasse, e acrescentar os atributos da subclasse no construtor dela. Para isso, precisaremos da função `super()`. Essa função é responsável por pegar as ações do método da superclasse e mantê-los no mesmo método da subclasse. Veja no exemplo da classe **PessoaFisica** abaixo, onde acrescentamos nos parâmetros o atributo da superclasse, e o repassamos para a função `super()`:"
   ]
  },
  {
   "cell_type": "code",
   "execution_count": 6,
   "metadata": {},
   "outputs": [],
   "source": [
    "class PessoaFisica(Pessoa):\n",
    "    # construtor\n",
    "    def __init__(self, nome, cpf, cargo, local):\n",
    "        self.nome = nome\n",
    "        self.cpf = cpf\n",
    "        self.cargo = cargo\n",
    "        super().__init__(local=local) # pega a ação da superclasse"
   ]
  },
  {
   "cell_type": "markdown",
   "metadata": {},
   "source": [
    "O mesmo pode ser feito com a subclasse **PessoaJuridica**:"
   ]
  },
  {
   "cell_type": "code",
   "execution_count": 7,
   "metadata": {},
   "outputs": [],
   "source": [
    "class PessoaJuridica(Pessoa):\n",
    "    # construtor\n",
    "    def __init__(self, razao_social, nome_fantasia, cnpj, local):\n",
    "        self.razao_social = razao_social\n",
    "        self.nome_fantasia = nome_fantasia\n",
    "        self.cnpj = cnpj\n",
    "        super().__init__(local=local)"
   ]
  },
  {
   "cell_type": "markdown",
   "metadata": {},
   "source": [
    "Agora sim, podemos trabalhar em cima do algoritmo principal com as nossas novas classes, setando os valores preenchidos pelo usuário para os objetos das subclasses:"
   ]
  },
  {
   "cell_type": "code",
   "execution_count": 9,
   "metadata": {},
   "outputs": [
    {
     "name": "stdout",
     "output_type": "stream",
     "text": [
      "Dados do usuário:\n",
      "\n",
      "Nome do usuário: João.\n",
      "CPF do usuário: 222.222.222-22.\n",
      "Cargo do usuário: Tester.\n",
      "Local de residência do usuário: Brasília.\n",
      "\n",
      "Dados da empresa:\n",
      "\n",
      "Razão Social da empresa: João S.A..\n",
      "Nome da empresa: Cyberdyne Systems.\n",
      "CNPJ da empresa: 60.704.577/0001-06.\n",
      "Local da sede da empresa: Brasília.\n"
     ]
    }
   ],
   "source": [
    "if __name__ == \"__main__\":\n",
    "    # instancia as subclasses\n",
    "    usuario = PessoaFisica(\"\", \"\", \"\", \"\")\n",
    "    empresa = PessoaJuridica(\"\", \"\", \"\", \"\")\n",
    "\n",
    "    usuario.nome = input(\"Informe o nome do usuário: \")\n",
    "    usuario.cpf = input(\"Informe o CPF do usuário: \")\n",
    "    usuario.cargo = input(\"Informe o cargo do usuário: \")\n",
    "    usuario.local = input(\"Informe o local de residência do usuário: \")\n",
    "\n",
    "    empresa.razao_social = input(\"Informe a razão social da empresa: \")\n",
    "    empresa.nome_fantasia = input(\"Informe o nome fantasia da empresa: \")\n",
    "    empresa.cnpj = input(\"Informe o CNPJ da empresa: \")\n",
    "    empresa.local = input(\"Informe o local da sede da empresa: \")\n",
    "\n",
    "    # saída de dados\n",
    "    print(\"Dados do usuário:\\n\")\n",
    "    print(f\"Nome do usuário: {usuario.nome}.\")\n",
    "    print(f\"CPF do usuário: {usuario.cpf}.\")\n",
    "    print(f\"Cargo do usuário: {usuario.cargo}.\")\n",
    "    print(f\"Local de residência do usuário: {usuario.local}.\")\n",
    "\n",
    "    print(\"\\nDados da empresa:\\n\")\n",
    "    print(f\"Razão Social da empresa: {empresa.razao_social}.\")\n",
    "    print(f\"Nome da empresa: {empresa.nome_fantasia}.\")\n",
    "    print(f\"CNPJ da empresa: {empresa.cnpj}.\")\n",
    "    print(f\"Local da sede da empresa: {empresa.local}.\")"
   ]
  },
  {
   "cell_type": "markdown",
   "metadata": {},
   "source": [
    "Repare que não precisamos instanciar a classe \"Pessoa\", visto que ela serve apenas para reunir o único atributo que é comum para as outras classes.\n",
    "\n",
    "O polimorfismo não serve apenas para o construtor. Vamos voltar a trabalhar com métodos normais e retornar no código o método `apresentar()` na classe Pessoa. Porém, desta vez iremos alterar seu comportamento em suas subclasses. Veja:"
   ]
  },
  {
   "cell_type": "code",
   "execution_count": 10,
   "metadata": {},
   "outputs": [],
   "source": [
    "class Pessoa:\n",
    "    def __init__(self, local):\n",
    "        self.local = local\n",
    "\n",
    "    # método apresentar\n",
    "    def apresentar(self):\n",
    "        ...\n",
    "\n",
    "class PessoaFisica(Pessoa):\n",
    "    def __init__(self, nome, cpf, cargo, local):\n",
    "        self.nome = nome\n",
    "        self.cpf = cpf\n",
    "        self.cargo = cargo\n",
    "        super().__init__(local=local)\n",
    "\n",
    "    def apresentar(self):\n",
    "        return f\"Olá, meu nome é {self.nome}, meu CPF é {self.cpf}, trabalho como {self.cargo} e moro em {self.local}.\"\n",
    "\n",
    "class PessoaJuridica(Pessoa):\n",
    "    # construtor\n",
    "    def __init__(self, razao_social, nome_fantasia, cnpj, local):\n",
    "        self.razao_social = razao_social\n",
    "        self.nome_fantasia = nome_fantasia\n",
    "        self.cnpj = cnpj\n",
    "        super().__init__(local=local)\n",
    "\n",
    "    def apresentar(self):\n",
    "        return f\"Prazer, somos da empresa {self.nome_fantasia}, nossa Razão Social é {self.razao_social}, nosso CNPJ é {self.cnpj} e nossa sede fica em {self.local}.\""
   ]
  },
  {
   "cell_type": "markdown",
   "metadata": {},
   "source": [
    "Veja como o método `apresentar()` mostra comportamentos diferentes em suas respectivas classes. Vamos alterar o código principal e chamar esse mesmo exato método em seus respectivos objetos:"
   ]
  },
  {
   "cell_type": "code",
   "execution_count": 12,
   "metadata": {},
   "outputs": [
    {
     "name": "stdout",
     "output_type": "stream",
     "text": [
      "Olá, meu nome é Maria, meu CPF é 333.333.333-33, trabalho como Administradora de Empresas e moro em Brasília.\n",
      "Prazer, somos da empresa Umbrella Corporation, nossa Razão Social é Maria LTDA, nosso CNPJ é 48.828.866/0001-11 e nossa sede fica em Brasília.\n"
     ]
    }
   ],
   "source": [
    "if __name__ == \"__main__\":\n",
    "    # instancia as subclasses\n",
    "    usuario = PessoaFisica(\"\", \"\", \"\", \"\")\n",
    "    empresa = PessoaJuridica(\"\", \"\", \"\", \"\")\n",
    "\n",
    "    usuario.nome = input(\"Informe o nome do usuário: \")\n",
    "    usuario.cpf = input(\"Informe o CPF do usuário: \")\n",
    "    usuario.cargo = input(\"Informe o cargo do usuário: \")\n",
    "    usuario.local = input(\"Informe o local de residência do usuário: \")\n",
    "\n",
    "    empresa.razao_social = input(\"Informe a razão social da empresa: \")\n",
    "    empresa.nome_fantasia = input(\"Informe o nome fantasia da empresa: \")\n",
    "    empresa.cnpj = input(\"Informe o CNPJ da empresa: \")\n",
    "    empresa.local = input(\"Informe o local da sede da empresa: \")\n",
    "\n",
    "    # saída de dados\n",
    "    print(usuario.apresentar())\n",
    "    print(empresa.apresentar())"
   ]
  }
 ],
 "metadata": {
  "kernelspec": {
   "display_name": ".venv",
   "language": "python",
   "name": "python3"
  },
  "language_info": {
   "codemirror_mode": {
    "name": "ipython",
    "version": 3
   },
   "file_extension": ".py",
   "mimetype": "text/x-python",
   "name": "python",
   "nbconvert_exporter": "python",
   "pygments_lexer": "ipython3",
   "version": "3.12.7"
  }
 },
 "nbformat": 4,
 "nbformat_minor": 2
}
