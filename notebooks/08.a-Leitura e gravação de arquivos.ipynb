{
 "cells": [
  {
   "cell_type": "markdown",
   "metadata": {},
   "source": [
    "# **Leitura e gravação de arquivos**\n",
    "---\n",
    "## Pré-requisitos da aula\n",
    "\n",
    "- Laços de repetição\n",
    "- Import\n",
    "\n",
    "---"
   ]
  },
  {
   "attachments": {
    "image.png": {
     "image/png": "[encoded data removed]"
    }
   },
   "cell_type": "markdown",
   "metadata": {},
   "source": [
    "\n",
    "\n",
    "Como em qualquer linguagem de programação, o Python também é capaz de criar e manipular arquivos. Isso é muito útil para criar aplicações onde é necessário armazenar dados nos dispositivos de armazenamentos, como em um HD ou SSD, por exemplo.\n",
    "\n",
    "Afinal, a essa altura do campeonato, você já sabe que os valores armazenados nas variáveis ficam gravados na memória RAM do computador, que por sua vez é uma memória volátil, ou seja, os dados ali gravados são temporários, e são alterados constantemente. E você já deve ter percebido que os dados nas variáveis são apagados assim que o programa se encerra, se perdendo permanentemente, e você com certeza já deve ter sentido a necessidade de guardar esses valores para serem consultados em uma nova execução. A gravação desses dados em um arquivo resolve esse problema, já que o programa pode consultar os dados armazenados neste arquivo, e os dados das variáveis podem ser gravados nesse mesmo arquivo, evitando a perda das informações por parte do fechamento do programa.\n",
    "\n",
    "## Ler arquivo\n",
    "---\n",
    "\n",
    "Vamos começar lendo um arquivo que já existe. Para isso, precisaremos assumir que tal arquivo já existe. Portanto, vamos criar manualmente um arquivo TXT com alguns dados. Abra o programa Bloco de Notas e digite um texto qualquer, por exemplo: **\"Este texto está sendo lido por um programa Python criado por mim.\"**\n",
    "\n",
    "Ao terminar, salve este arquivo com o nome desejado, por exemplo, **dados.txt**, dentro da pasta do seu projeto. Ele deverá estar, de preferência, dentro do mesmo diretório do seu arquivo .py.\n",
    "\n",
    "![image.png](attachment:image.png)\n",
    "\n",
    "Agora, abra o seu arquivo .py e digite o código abaixo:"
   ]
  },
  {
   "cell_type": "code",
   "execution_count": 9,
   "metadata": {},
   "outputs": [
    {
     "name": "stdout",
     "output_type": "stream",
     "text": [
      "Este texto está sendo lido por um programa Python criado por mim.\n"
     ]
    }
   ],
   "source": [
    "# lê o arquivo\n",
    "with open(\"dados.txt\", \"r\", encoding=\"utf-8\") as f:\n",
    "    dados = f.read()\n",
    "\n",
    "# exibe os dados que estavam dentro do arquivo\n",
    "print(dados)"
   ]
  },
  {
   "cell_type": "markdown",
   "metadata": {},
   "source": [
    "Veja que a saída do programa é exatamente o texto escrito dentro do arquivo, provando assim que o nosso programa consegue ler arquivos. O código não funciona só com TXT, obtendo o mesmo resultado com outros tipos de arquivos também. Porém, dependendo do tipo de arquivo, pode ser necessário importar uma biblioteca adicional, como veremos nas próximas aulas. Mas por hora, vamos focar apenas no TXT.\n",
    "\n",
    "## Gravar arquivo\n",
    "---\n",
    "\n",
    "Nosso próximo passo agora é gravar os dados dentro do nosso TXT. Um aviso bem importante nesse caso aqui: como estamos trabalhando com arquivo do tipo TXT especificamente para esse caso, **os dados que serão gravados no arquivo irão substituir os dados que estavam gravados originalmente dentro do TXT.**\n",
    "\n",
    "É óbvio que tem como resolver isso, mas primeiro vamos nos concentrar em aprender como gravar os dados dentro do arquivo.\n",
    "\n",
    "Adicione o código abaixo ao arquivo .py:"
   ]
  },
  {
   "cell_type": "code",
   "execution_count": 10,
   "metadata": {},
   "outputs": [],
   "source": [
    "# recebe o novo texto\n",
    "novo_texto = \"Este é o meu novo texto gravado por cima do anterior.\"\n",
    "\n",
    "# recebe o novo texto e grava sobre os dados que estvam no arquivo\n",
    "with open(\"dados.txt\", \"w\", encoding=\"utf-8\") as f:\n",
    "    f.write(novo_texto)"
   ]
  },
  {
   "cell_type": "markdown",
   "metadata": {},
   "source": [
    "Este código irá gravar um novo texto no arquivo TXT. Após executar este código, abra o arquivo TXT e verá exatamente o texto da variável `novo_texto` no lugar do texto que estava escrito anteriormente. Entretanto, no nosso código, a variável `dados` ainda está guardando o texto anterior, pelo menos enquanto o programa não for fechado. Obviamente, vamos fazer uma nova alteração no nosso código, o que o obrigará a fechar o programa, e consequentemente perder o texto original.\n",
    "\n",
    "Vamos alterar novamente o arquivo TXT, mas desta vez, vamos pedir para o usuário informar o novo texto, e armazenar o anterior dentro de uma variável, e exibir na tela os dois textos. Assim, o texto anterior não será perdido imediatamente, e o usuário poderá retorná-lo antes de fechar o programa.\n",
    "\n",
    "Altere o código da célula anterior para o código logo abaixo:"
   ]
  },
  {
   "cell_type": "code",
   "execution_count": 11,
   "metadata": {},
   "outputs": [
    {
     "name": "stdout",
     "output_type": "stream",
     "text": [
      "Texto original: Este texto está sendo lido por um programa Python criado por mim.\n",
      "Novo texto: Este é o novo texto informado pelo usuário.\n"
     ]
    }
   ],
   "source": [
    "# recebe o novo texto informado pelo usuário\n",
    "novo_texto = input(\"Informe o novo texto a ser gravado: \")\n",
    "\n",
    "# armazena o texto anterior\n",
    "texto_original = dados\n",
    "\n",
    "# grava o texto do usuário no arquivo TXT\n",
    "with open(\"dados.txt\", \"w\", encoding=\"utf-8\") as f:\n",
    "    f.write(novo_texto)\n",
    "\n",
    "# exibe o texto anterior na tela\n",
    "print(f\"Texto original: {texto_original}\")\n",
    "\n",
    "# faz uma nova leitura do arquivo\n",
    "with open(\"dados.txt\", \"r\", encoding=\"utf-8\") as f:\n",
    "    dados = f.read()\n",
    "\n",
    "# exibe na tela o texto gravado\n",
    "print(f\"Novo texto: {dados}\")"
   ]
  },
  {
   "cell_type": "markdown",
   "metadata": {},
   "source": [
    "## Adicionando novos dados\n",
    "---\n",
    "\n",
    "Até agora, apenas sobrescrevemos os dados que estavam gravados anteriormente. Mas e se eu quiser adicionar ao invés de apagar o anterior e escrever um novo por cima? Em caso de um TXT, na verdade, não tem como: ele sempre vai sobrescrever os dados. Mas podemos gravar os dados anteriores, e juntar com os novos dados em uma outra variável. Assim, na prática, estaríamos apenas adicionando novos dados aos já existentes no arquivo. Para isso, precisaremos usar o operador de atribuição de adição `+=`, visto na aula de operadores.\n",
    "\n",
    "Vamos trocar o código da célula acima pelo código da célula abaixo, e executar para vermos o novo resultado:"
   ]
  },
  {
   "cell_type": "code",
   "execution_count": 12,
   "metadata": {},
   "outputs": [
    {
     "name": "stdout",
     "output_type": "stream",
     "text": [
      "Este é o novo texto informado pelo usuário.\n",
      "Texto informado pelo usuário adicionado ao anterior.\n"
     ]
    }
   ],
   "source": [
    "novo_texto = input(\"Informe o texto a ser adicionado no arquivo: \")\n",
    "\n",
    "# adiciona o texto já gravado ao novo em uma única variável\n",
    "nova_gravacao = f\"{dados}\\n{novo_texto}\"\n",
    "\n",
    "# grava a variável dentro do arquivo por cima do anterior\n",
    "with open(\"dados.txt\", \"w\", encoding=\"utf-8\") as f:\n",
    "    f.write(nova_gravacao)\n",
    "\n",
    "# faz uma nova leitura do arquivo\n",
    "with open(\"dados.txt\", \"r\", encoding=\"utf-8\") as f:\n",
    "    dados = f.read()\n",
    "\n",
    "# exibe na tela a nova gravação\n",
    "print(dados)"
   ]
  },
  {
   "cell_type": "markdown",
   "metadata": {},
   "source": [
    "**E pronto!!! Aí está!**"
   ]
  },
  {
   "cell_type": "markdown",
   "metadata": {},
   "source": [
    "## **Código-fonte final**\n",
    "---"
   ]
  },
  {
   "cell_type": "code",
   "execution_count": 15,
   "metadata": {},
   "outputs": [
    {
     "name": "stdout",
     "output_type": "stream",
     "text": [
      "Texto antes da gravação:\n",
      "\n",
      "Este é o novo texto informado pelo usuário.\n",
      "Texto informado pelo usuário adicionado ao anterior.\n",
      "\n",
      "Texto depois da gravação:\n",
      "\n",
      "Este é o novo texto informado pelo usuário.\n",
      "Texto informado pelo usuário adicionado ao anterior.\n",
      "Texto final informado ao encerrar este código-fonte.\n"
     ]
    }
   ],
   "source": [
    "with open(\"dados.txt\", \"r\", encoding=\"utf-8\") as f:\n",
    "    dados = f.read()\n",
    "\n",
    "print(\"Texto antes da gravação:\\n\")\n",
    "print(dados)\n",
    "\n",
    "novo_texto = input(\"Informe o texto a ser adicionado no arquivo: \")\n",
    "nova_gravacao = f\"{dados}\\n{novo_texto}\"\n",
    "\n",
    "with open(\"dados.txt\", \"w\", encoding=\"utf-8\") as f:\n",
    "    f.write(nova_gravacao)\n",
    "\n",
    "with open(\"dados.txt\", \"r\", encoding=\"utf-8\") as f:\n",
    "    dados = f.read()\n",
    "\n",
    "print(\"\\nTexto depois da gravação:\\n\")\n",
    "print(dados)"
   ]
  }
 ],
 "metadata": {
  "kernelspec": {
   "display_name": ".venv",
   "language": "python",
   "name": "python3"
  },
  "language_info": {
   "codemirror_mode": {
    "name": "ipython",
    "version": 3
   },
   "file_extension": ".py",
   "mimetype": "text/x-python",
   "name": "python",
   "nbconvert_exporter": "python",
   "pygments_lexer": "ipython3",
   "version": "3.12.7"
  }
 },
 "nbformat": 4,
 "nbformat_minor": 2
}
