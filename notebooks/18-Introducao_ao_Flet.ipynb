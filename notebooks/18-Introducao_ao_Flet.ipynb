{
 "cells": [
  {
   "cell_type": "markdown",
   "metadata": {},
   "source": [
    "# **Introdução ao Flet**\n",
    "---"
   ]
  },
  {
   "cell_type": "markdown",
   "metadata": {},
   "source": [
    "## Pré-requisitos da aula\n",
    "\n",
    "- Funções\n",
    "- Import\n",
    "- Orientação a Objetos\n",
    "- Interface Gráfica\n",
    "\n",
    "---"
   ]
  },
  {
   "cell_type": "markdown",
   "metadata": {},
   "source": [
    "Na aula anterior, vamos que o Python possui uma gigantesca variedade de bibliotecas para GUI. É claro que não dá tempo de vermos todas elas, e é por esse motivo que iremos focar apenas em uma delas. No caso, a biblioteca de interface gráfica escolhida foi o **Flet**. Mas antes de começarmos a usar a biblioteca nos nossos códigos, vamos aprender primeiro o que é o Flet.\n",
    "\n",
    "**Obs:** todas as informações sobre o flet daqui para frente são encontradas diretamente na documentação da biblioteca, no site https://flet.dev/.\n",
    "\n",
    "### O que é Flet?\n",
    "\n",
    "Flet é um framework que permite construir aplicações web, desktop e mobile em Python sem experiência prévia em desenvolvimento frontend.\n",
    "\n",
    "Você pode construir uma UI para o seu programa com controles Flet baseados no Flutter do Google. Flet vai além de apenas agrupar widgets Flutter. Ele adiciona seu próprio toque combinando widgets menores,\n",
    "simplificando complexidades, implementando práticas recomendadas de UI e aplicando padrões sensatos. Isso garante que seus aplicativos tenham uma aparência elegante e sofisticada, sem exigir esforços adicionais de design de sua parte.\n",
    "\n",
    "Como a biblioteca não é nativa do Python, há a necessidade de instalação via pip: `pip install flet`."
   ]
  },
  {
   "cell_type": "markdown",
   "metadata": {},
   "source": [
    "### Versão do Flet\n",
    "\n",
    "Para verificar a versão do Flet, após a instalação do mesmo, basta executar no terminal o comando `flet --version`. No momento da concepção dessa apostila, a versão mais recente se encontrava na **0.24.1**, o que significa que o Flet atualmente não se encontra em sua primeira versão estável. Apesar disso, o Flet já ganhou bastante destaque sendo considerado uma das melhores alternativas para desenvolvimento de GUI e aplicações Web e Mobile."
   ]
  },
  {
   "cell_type": "markdown",
   "metadata": {},
   "source": [
    "Segue abaixo um exemplo de um programa contador feito em Flet:\n",
    "\n",
    "#### main.py"
   ]
  },
  {
   "cell_type": "code",
   "execution_count": null,
   "metadata": {},
   "outputs": [],
   "source": [
    "import flet as ft\n",
    "\n",
    "def main(page: ft.Page):\n",
    "    page.title = \"Flet counter example\"\n",
    "    page.vertical_alignment = ft.MainAxisAlignment.CENTER\n",
    "\n",
    "    txt_number = ft.TextField(value=\"0\", text_align=ft.TextAlign.RIGHT, width=100)\n",
    "\n",
    "    def minus_click(e):\n",
    "        txt_number.value = str(int(txt_number.value) - 1)\n",
    "        page.update()\n",
    "\n",
    "    def plus_click(e):\n",
    "        txt_number.value = str(int(txt_number.value) + 1)\n",
    "        page.update()\n",
    "\n",
    "    page.add(\n",
    "        ft.Row(\n",
    "            [\n",
    "                ft.IconButton(ft.icons.REMOVE, on_click=minus_click),\n",
    "                txt_number,\n",
    "                ft.IconButton(ft.icons.ADD, on_click=plus_click),\n",
    "            ],\n",
    "            alignment=ft.MainAxisAlignment.CENTER,\n",
    "        )\n",
    "    )\n",
    "\n",
    "ft.app(main)"
   ]
  },
  {
   "cell_type": "markdown",
   "metadata": {},
   "source": [
    "**Obs:** Esse código-fonte inclusive pertence a um **template** incluso dentro do próprio flet. Para gerar esse código automaticamente, crie a pasta do projeto e, em seguida, crie o ambiente virtual `.venv`. Logo após, instale a biblioteca flet digitando `pip install flet` no terminal. Após a instalação do flet, ainda no terminal, digite `flet create --template counter .` para gerar um projeto com o código-fonte da célula acima. Para o exemplo dessa aula, vamos utilizá-lo."
   ]
  },
  {
   "cell_type": "markdown",
   "metadata": {},
   "source": [
    "### Execução desktop\n",
    "\n",
    "Para executar um código em flet, você pode fazer da forma tradicional como qualquer outro código Python como estávamos fazendo antes, ou abra o terminal e executar o seguinte comando no terminal: `flet run main.py`.\n",
    "\n",
    "Ao fazer isso, o programa irá abrir uma janela com o seu programa no Sistema Operacional da máquina onde o programa foi desenvolvido. O Flet é compatível com os principais SOs do mercado: Windows, Linux e MacOSX. Não há a necessidade de criar um novo código-fonte para cada SO: o mesmo exato código-fonte roda para qualquer Sistema. Essa é uma das principais vantagens de criar interfaces gráficas com o Flet. \n",
    "\n",
    "Como os arquivos Jupyter Notebooks não conseguem executar um código Flet, vamos exibir em forma de imagem o resultado:"
   ]
  },
  {
   "cell_type": "markdown",
   "metadata": {},
   "source": [
    "<div style=\"display: flex; justify-content: center\">\n",
    "    <img src=\"../assets/flet-counter-windows.png\" alt=\"Exemplo de uma janela do Flet\" width=600 />\n",
    "</div>"
   ]
  },
  {
   "cell_type": "markdown",
   "metadata": {},
   "source": [
    "### Execução Web\n",
    "\n",
    "Uma outra vantagem muito grande do Flet em relação à maioria das bibliotecas GUI do Python é que, também com o mesmo código-fonte, você também consegue criar uma aplicação web, sem precisar fazer qualquer tipo de adaptação. Basta apenas executar o comando `flet run --web main.py` no terminal.\n",
    "\n",
    "Ao fazer isso, o programa irá criar um servidor local para sua aplicação, e o programa irá rodar diretamente do navegador padrão da máquina."
   ]
  },
  {
   "cell_type": "markdown",
   "metadata": {},
   "source": [
    "<div style=\"display: flex; justify-content: center\">\n",
    "    <img src=\"../assets/flet-web-exemplo.png\" alt=\"Exemplo de um aplicativo flet rodando no navegador\" />\n",
    "</div>"
   ]
  },
  {
   "cell_type": "markdown",
   "metadata": {},
   "source": [
    "Veja só: mesmo em linguagens em que é possível criar tanto programas desktop como web, havia a necessidade de adaptação do código-fonte para cada plataforma. Mesmo no Java, cuja linguagem sempre prezou pela filosofia de rodar em qualquer SO com o mesmo exato código-fonte havia a necessidade de adaptar o programa pelo menos para a Web, pois era obrigatória a inserção de linguagens como o HTML, o CSS e o JavaScript. O Flet elimina essa necessidade."
   ]
  },
  {
   "cell_type": "markdown",
   "metadata": {},
   "source": [
    "### Execução mobile\n",
    "\n",
    "Mas o Flet pode fazer ainda melhor: executar seu código-fonte em um dispositivo móvel. Isso mesmo: o mesmo programa que você criou para qualquer SO do mercado, e que também pode rodar em qualquer navegador, também pode rodar em Smarpthones e tablets, sejam eles Android ou iOS, embora o procedimento para isso seja mais burocrático.\n",
    "\n",
    "1. Para isso, primeiramenteo você terá que baixar o aplicativo **Flet** para o seu dispositivo móvel (lojas Google Play ou Apple Store). É grátis:"
   ]
  },
  {
   "cell_type": "markdown",
   "metadata": {},
   "source": [
    "<div style=\"display: flex; justify-content: center\">\n",
    "    <img src=\"../assets/smartphone-google-play.png\" alt=\"Google Play\" />\n",
    "</div>"
   ]
  },
  {
   "cell_type": "markdown",
   "metadata": {},
   "source": [
    "2. Após a instalação do app, volte para a máquina de desenvolvimento da sua aplicação Flet.\n",
    "3. Abra o terminal na pasta do seu projeto, ou `Ctrl+J` caso esteja utilizando o VSCode para abrir o terminal dentro dele.\n",
    "4. Atualize a versão do flet no seu projeto para a versão mais recente, através do comando `pip install flet --upgrade` no seu terminal.\n",
    "5. Verifique se a versão mais recente foi realmente instalada, executando no terminal o comando `flet --version`.\n",
    "6. Execute o comando no terminal: `flet run --android main.py` caso o seu dispositivo móvel seja Android, ou `flet run --ios main.py` caso o seu dispositivo móvel seja iOS.\n",
    "7. Ao rodar o comando, o terminal irá gerar um **QRCode**, junto com um endereço da aplicação na máquina de desenvolvimento, como na tela abaixo:"
   ]
  },
  {
   "cell_type": "markdown",
   "metadata": {},
   "source": [
    "<div style=\"display: flex; justify-content: center\">\n",
    "    <img src=\"../assets/qr-code-flet-run-android-exemplo.png\" alt=\"QR Code gerado pelo comando flet run --android\" />\n",
    "</div>"
   ]
  },
  {
   "cell_type": "markdown",
   "metadata": {},
   "source": [
    "8. **Certifíque-se de que o seu dispositivo móvel esteja na mesma exata rede do computador onde você está desenvolvendo a aplicação. De preferência que essa rede seja wi-fi.** Caso não estejam, o software não irá rodar o programa. Lembre-se de que além disso, o dispositivo móvel precisa ter o programa Flet já instalado.\n",
    "9. Abra o leitor de QRCode que você usa no seu aparelho móvel, e leia o QRCode do terminal. Veja na tela abaixo:"
   ]
  },
  {
   "cell_type": "markdown",
   "metadata": {},
   "source": [
    "<div style=\"display: flex; justify-content: center\">\n",
    "    <img src=\"../assets/smartphone-leitor-qrcode.png\" alt=\"Leitor de QR Code\" />\n",
    "</div>"
   ]
  },
  {
   "cell_type": "markdown",
   "metadata": {},
   "source": [
    "\n",
    "10. Após ler o QRCode, ele irá gerar um link no seu dispositivo.\n",
    "11. Clique em **Abrir no Navegador**, conforme imagem abaixo:"
   ]
  },
  {
   "cell_type": "markdown",
   "metadata": {},
   "source": [
    "<div style=\"display: flex; justify-content: center\">\n",
    "    <img src=\"../assets/smartphone-resultado-leitura-qrcode.png\" alt=\"Resultado da leitura do QRCode\" />\n",
    "</div>"
   ]
  },
  {
   "cell_type": "markdown",
   "metadata": {},
   "source": [
    "12. Apesar dele abrir o navegador padrão do dispositivo móvel, ele irá abrir logo em seguida o aplicativo do **Flet** instalado no celular:"
   ]
  },
  {
   "cell_type": "markdown",
   "metadata": {},
   "source": [
    "<div style=\"display: flex; justify-content: center\">\n",
    "    <img src=\"../assets/smartphone-novo-app-flet.png\" alt=\"Novo App Flet\" />\n",
    "</div>"
   ]
  },
  {
   "cell_type": "markdown",
   "metadata": {},
   "source": [
    "13. Toque na parte destacada na imagem para abrir a sua aplicação.\n",
    "14. Caso não apareça nada na tela do Flet recém aberta ou peça para criar um novo projeto, clique no botão de **+** no canto inferior direito da tela, conforme sinalizado na tela abaixo:"
   ]
  },
  {
   "cell_type": "markdown",
   "metadata": {},
   "source": [
    "<div style=\"display: flex; justify-content: center\">\n",
    "    <img src=\"../assets/smartphone-sem-projetos-flet.png\" alt=\"Tela do Flet sem projetos\" />\n",
    "</div>"
   ]
  },
  {
   "cell_type": "markdown",
   "metadata": {},
   "source": [
    "15. Irá aparecer a tela pedindo para que você digite a URL do seu projeto:"
   ]
  },
  {
   "cell_type": "markdown",
   "metadata": {},
   "source": [
    "<div style=\"display: flex; justify-content: center\">\n",
    "    <img src=\"../assets/smartphone-adicionando-url-novo-projeto.png\" alt=\"Adicionando novo projeto no aplicativo do Flet\" />\n",
    "</div>"
   ]
  },
  {
   "cell_type": "markdown",
   "metadata": {},
   "source": [
    "16. No terminal do VSCode, lgoo acima do QRCode aparece a URL do servidor da aplicação. Digite esse endereço no campo Project URL:"
   ]
  },
  {
   "cell_type": "markdown",
   "metadata": {},
   "source": [
    "<div style=\"display: flex; justify-content: center\">\n",
    "    <img src=\"../assets/qr-code-flet-run-android-url.png\" alt=\"Endereço do app Flet\" />\n",
    "</div>\n"
   ]
  },
  {
   "cell_type": "markdown",
   "metadata": {},
   "source": [
    "<div style=\"display: flex; justify-content: center\">\n",
    "    <img src=\"../assets/smartphone-adicionando-novo-projeto-flet.png\" alt=\"Adicionando novo projeto flet\" />\n",
    "</div>"
   ]
  },
  {
   "cell_type": "markdown",
   "metadata": {},
   "source": [
    "17. Após isso, sua aplicação irá abrir diretamente no seu celular:\n",
    "\n",
    "#### Modo retrato (portrait):"
   ]
  },
  {
   "cell_type": "markdown",
   "metadata": {},
   "source": [
    "<div style=\"display: flex; justify-content: center\">\n",
    "    <img src=\"../assets/smartphone-app-contador-portrait.png\" alt=\"App Contador no modo retrato\" />\n",
    "</div>"
   ]
  },
  {
   "cell_type": "markdown",
   "metadata": {},
   "source": [
    "#### Modo paisagem (landscape):"
   ]
  },
  {
   "cell_type": "markdown",
   "metadata": {},
   "source": [
    "<div style=\"display: flex; justify-content: center\">\n",
    "    <img src=\"../assets/smartphone_contador_landscape.png\" alt=\"App Contador no modo paisagem\" />\n",
    "</div>"
   ]
  },
  {
   "cell_type": "markdown",
   "metadata": {},
   "source": [
    "Não se esqueça: os comandos para abrir a aplicação são apenas para fins de teste, já que eles não são o último passo para o desenvolvimento do software."
   ]
  }
 ],
 "metadata": {
  "kernelspec": {
   "display_name": ".venv",
   "language": "python",
   "name": "python3"
  },
  "language_info": {
   "codemirror_mode": {
    "name": "ipython",
    "version": 3
   },
   "file_extension": ".py",
   "mimetype": "text/x-python",
   "name": "python",
   "nbconvert_exporter": "python",
   "pygments_lexer": "ipython3",
   "version": "3.12.7"
  }
 },
 "nbformat": 4,
 "nbformat_minor": 2
}
