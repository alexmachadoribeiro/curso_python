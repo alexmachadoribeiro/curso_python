{
 "cells": [
  {
   "cell_type": "markdown",
   "metadata": {},
   "source": [
    "# **Primeiro App com Flet**\n",
    "---\n",
    "\n",
    "## Pré-requisitos da aula\n",
    "\n",
    "- Funções\n",
    "- Import\n",
    "- Orientação a Objetos\n",
    "- Interface Gráfica\n",
    "- Introdução ao Flet\n",
    "\n",
    "---"
   ]
  },
  {
   "cell_type": "markdown",
   "metadata": {},
   "source": [
    "Agora que já conhecemos o Flet, vamos começara a criar nossos apps com ele.\n",
    "\n",
    "**Obs:** Antes de criar seu primeiro aplicativo Flet, você precisa configurar seu ambiente de desenvolvimento que requer Python 3.8 ou superior e pacote flet instalado (`pip install flet`).\n",
    "**Obs 2:** no momento da criação dessa apostila, o Flet ainda não era compatível com o Python 3.13.0, que era a versão mais recente da linguagem."
   ]
  },
  {
   "cell_type": "markdown",
   "metadata": {},
   "source": [
    "## Começando\n",
    "---\n",
    "\n",
    "### Passo 1: Criar pasta do projeto\n",
    "\n",
    "Aqui vamos aprender sobre os primeiros passos da criação de qualquer Flet App. E a primeira coisa a se fazer é justamente criar uma pasta para o seu projeto. Vamos criar uma pasta chamada **meu_primeiro_flet_app**. Em seguida, entre dentro da pasta, de preferência pelo sua IDE favorita (no meu caso, irei usar o VSCode).\n",
    "\n",
    "O próximo passo agora é criar um ambiente virtual."
   ]
  },
  {
   "cell_type": "markdown",
   "metadata": {},
   "source": [
    "\n",
    "### Passo 2: Criar Ambiente virtual\n",
    "\n",
    "Já vimos esse capítulo antes, lá no início do curso, mas como nossos programas agora vão ficar mais sérios, não custa nada recapitular, até porque aqui agora teremos mais algumas novidades."
   ]
  },
  {
   "cell_type": "markdown",
   "metadata": {},
   "source": [
    "#### Python venv\n",
    "\n",
    "Como bem sabemos, há várias formas de se criar um ambiente virtual Python, sendo que vimos 3 delas:\n",
    "\n",
    "- Abrindo o terminal com `Ctrl+J` e executando o comando `python -m venv .venv`.\n",
    "- Pelo VSCode, aperte a tecla de função **F1**, digite `python` e procure pela opção **Criar Ambiente...** (**Create Environment...** no inglês). Essa forma permite você escolher a versão do Python que deseja usar, caso tenha mais de uma versão instalada.\n",
    "- Pela extensão **Python Environment Manager**."
   ]
  },
  {
   "cell_type": "markdown",
   "metadata": {},
   "source": [
    "### Passo 3: instalar pacote\n",
    "\n",
    "Há três formas de se criar um novo projeto Flet:\n",
    "\n",
    "\n",
    "#### Forma 1\n",
    "\n",
    "1. Instale o Flet no ambiente virtual recém-criado através do comando do terminal `pip install flet` na pasta do projeto.\n",
    "2. Execute o comando no terminal `flet --version` para ter certeza de que o Flet foi corretamente instalado, e também para verificar a versão do projeto.\n",
    "3. Uma vez com o Flet instalado, crie dentro da pasta do projeto um arquivo `.py`, exemplo: `app.py`.\n",
    "4. Digite na mão a estrutura do código Flet, conforme visto na aula anterior.\n",
    "\n",
    "#### Forma 2\n",
    "\n",
    "1. Siga normalmente os passos **1** e **2** da forma 1, ou seja, `pip install flet` e depois `flet --version` no terminal dentro da pasta do projeto.\n",
    "2. Ainda com o terminal aberto dentro da pasta do projeto, execute o comando `flet create .` (com o ponto separado da palavra `create` por espaço).\n",
    "\n",
    "**Obs:** esse método é melhor que a forma 1 porque cria automaticamente uma estrutura mínima para o seu projeto, tanto no código-fonte quanto na estrutura de pastas. Essa estrutura fará bastante diferença nas aulas finais de Flet, quando estivermos prontos para fazer o deploy dos nossos projetos.\n",
    "\n",
    "#### Forma 3: Poetry\n",
    "\n",
    "**Obs:** De todas as formas, essa aqui é a melhor, pois cria uma estrutura ainda mais completa que a da forma 2, incluíndo uma pasta de testes. Porém, como você irá observar, tem a desvantagem de ser a forma mais burocrática de todas as 3, e por esse motivo, tende a afastar parte dos desenvolvedores iniciantes.\n",
    "\n",
    "**Obs 2:** para essa seção, consulte pela seção **Poetry** na página **Getting started** da documentação oficial do Flet, no site https://flet.dev/docs/getting-started/."
   ]
  },
  {
   "cell_type": "markdown",
   "metadata": {},
   "source": [
    "## Executando o projeto\n",
    "---"
   ]
  },
  {
   "cell_type": "markdown",
   "metadata": {},
   "source": [
    "1. Para o projeto desse tutorial, vamos usar a **forma 2**, ou seja, iremos instalar o pacote flet (`pip install flet`) e depois gerar a base do projeto com `flet create .` no terminal:"
   ]
  },
  {
   "cell_type": "markdown",
   "metadata": {},
   "source": [
    "<div style=\"display: flex; justify-content: center\">\n",
    "    <img src=\"../assets/meu-primeiro-flet-1.png\" alt=\"Meu primeiro Flet App parte 1\" />\n",
    "</div>"
   ]
  },
  {
   "cell_type": "markdown",
   "metadata": {},
   "source": [
    "2. O código gerado no arquivo `main.py` será esse:"
   ]
  },
  {
   "cell_type": "code",
   "execution_count": null,
   "metadata": {},
   "outputs": [],
   "source": [
    "import flet as ft\n",
    "\n",
    "\n",
    "def main(page: ft.Page):\n",
    "    page.add(ft.SafeArea(ft.Text(\"Hello, Flet!\")))\n",
    "\n",
    "\n",
    "ft.app(main)"
   ]
  },
  {
   "cell_type": "markdown",
   "metadata": {},
   "source": [
    "3. Inicialmente, vamos apenas executar o nosso projeto nas 3 plataformas à nossa disposição, que são **desktop**, **web** e **mobile**:\n",
    "\n",
    "### Desktop: `flet run main.py`"
   ]
  },
  {
   "cell_type": "markdown",
   "metadata": {},
   "source": [
    "<div style=\"display: flex; justify-content: center\">\n",
    "    <img src=\"../assets/flet-run-main-comando.png\" alt=\"flet run main.py\" />\n",
    "</div>"
   ]
  },
  {
   "cell_type": "markdown",
   "metadata": {},
   "source": [
    "<div style=\"display: flex; justify-content: center\">\n",
    "    <img src=\"../assets/flet-run-main-desktop.png\" alt=\"Janela desktop meu primeiro flet app\" />\n",
    "</div>"
   ]
  },
  {
   "cell_type": "markdown",
   "metadata": {},
   "source": [
    "### Web: `flet run --web main.py`"
   ]
  },
  {
   "cell_type": "markdown",
   "metadata": {},
   "source": [
    "<div style=\"display: flex; justify-content: center\">\n",
    "    <img src=\"../assets/flet-run-web-comando.png\" alt=\"flet run --web main.py\" />\n",
    "</div>"
   ]
  },
  {
   "cell_type": "markdown",
   "metadata": {},
   "source": [
    "<div style=\"display: flex; justify-content: center\">\n",
    "    <img src=\"../assets/flet-run-janela-web.png\" alt=\"flet run --web main.py\" />\n",
    "</div>"
   ]
  },
  {
   "cell_type": "markdown",
   "metadata": {},
   "source": [
    "### Mobile (Android): `flet run --android main.py`"
   ]
  },
  {
   "cell_type": "markdown",
   "metadata": {},
   "source": [
    "<div style=\"display: flex; justify-content: center\">\n",
    "    <img src=\"../assets/flet-run-android-comando.png\" alt=\"flet run --android comando\" />\n",
    "</div>"
   ]
  },
  {
   "cell_type": "markdown",
   "metadata": {},
   "source": [
    "<div style=\"display: flex; justify-content: center\">\n",
    "    <img src=\"../assets/smartphone-flet-run-meu-primeiro-flet.png\" alt=\"flet run --android main.py\" />\n",
    "</div>"
   ]
  },
  {
   "cell_type": "markdown",
   "metadata": {},
   "source": [
    "## Alterando o código-fonte\n",
    "---"
   ]
  },
  {
   "cell_type": "markdown",
   "metadata": {},
   "source": [
    "4. Agora que temos a base do nosso projeto, vamos alterar o nosso código-fonte e testar o resultado nas 3 plataformas:"
   ]
  },
  {
   "cell_type": "markdown",
   "metadata": {},
   "source": [
    "### Desktop\n",
    "\n",
    "5. Inicialmente, vamos executar o nosso programa. Abra o terminal do VSCode e digite `flet run main.py`. Ao executar o comando, ele irá abrir a janela da aplicação no seu Desktop.\n",
    "6. Ao fechar a janela, a aplicação se encerra. Faça isso e faça qualquer alteração no seu código-fonte. Exemplo: troque o texto \"Hello, flet!\" por \"Alô, mundo! Esta é minha primeira aplicação Flet, e estou amando!\". Depois, execute `flet run main.py` de novo no terminal:"
   ]
  },
  {
   "cell_type": "code",
   "execution_count": null,
   "metadata": {},
   "outputs": [],
   "source": [
    "import flet as ft\n",
    "\n",
    "\n",
    "def main(page: ft.Page):\n",
    "    page.add(ft.SafeArea(ft.Text(\"Alô, mundo! Esta é minha primeira aplicação Flet, e estou amando!\")))\n",
    "\n",
    "\n",
    "ft.app(main)\n"
   ]
  },
  {
   "cell_type": "markdown",
   "metadata": {},
   "source": [
    "#### Resultado:"
   ]
  },
  {
   "cell_type": "markdown",
   "metadata": {},
   "source": [
    "<div style=\"display: flex; justify-content: center\">\n",
    "    <img src=\"../assets/alteracao-meu-primeiro-flet-desktop.png\" alt=\"Alterando código-fonte desktop\" />\n",
    "</div>"
   ]
  },
  {
   "cell_type": "markdown",
   "metadata": {},
   "source": [
    "### Web\n",
    "\n",
    "7. Partindo do código-fonte inicial, vamos executar o nosso código para web agora, através do comando no terminal `flet run --web main.py`.\n",
    "8. Executando nosso código na web, não há a necessidae de encerrar o nosso programa. Altere o código fonte, por exemplo, troque o texto para \"Alô, mundo! Testando minha primeira aplicação web!\", e depois veja como a página ficou:"
   ]
  },
  {
   "cell_type": "markdown",
   "metadata": {},
   "source": [
    "<div style=\"display: flex; justify-content: center\">\n",
    "    <img src=\"../assets/alteracao-meu-primeiro-flet-web.png\" alt=\"Alterando código-fonte web\" />\n",
    "</div>"
   ]
  },
  {
   "cell_type": "markdown",
   "metadata": {},
   "source": [
    "9. Veja que desta vez, a página atualizou o conteúdo automaticamente, em tempo real. Essa é uma das vantagens de se trabalhar com o Flet: você pode alterar o código-fonte à vontade enquanto o projeto estiver executando que ele irá altearr automaticamente o seu conteúdo, o que facilita (e muito) o desenvolvimento do sistema.\n",
    "10. Por outro lado, o servidor criado para aplicação não se encerra ao fechar o navegador ou a página. É preciso voltar ao terminal do VSCode e usar a tecla de atalho `Ctrl+C` para encerrar o servidor. Deixe para fazer isso ao final do expediente, antes de encerrar todas as tarefas e desligar o computador definitivamente.\n",
    "\n",
    "**Dica:** se possível, trabalhe em um computador que possua 2 monitores. Assim, você pode trabalhar com o código-fonte em um monitor, e ver o resultado em tempo real no outro."
   ]
  },
  {
   "cell_type": "markdown",
   "metadata": {},
   "source": [
    "### Mobile\n",
    "\n",
    "11. O mesmo acontece na plataforma mobile. Execute no terminal `flet run --android main.py`, caso seu dispositivo seja android, ou `flet run --ios main.py` caso o seu dispositivo seja um iPhone. Em seguida, abra o leitor de QRCode do seu celular para escanear o QRCode.\n",
    "12. Após sua aplicação abrir no seu celular, mude o código-fonte sem fechar a aplicação no seu smartphone, exemplo, troque o texto para \"Alô, mundo! Executando meu app no celular!\", e veja que o app muda em tempo real o conteúdo da aplicação."
   ]
  },
  {
   "cell_type": "markdown",
   "metadata": {},
   "source": [
    "<div style=\"display: flex; justify-content: center\">\n",
    "    <img src=\"../assets/smartphone-alteracao-meu-primeiro-flet-portrait.png\" alt=\"Alteração meu primeiro flet android retrato\" />\n",
    "</div>"
   ]
  },
  {
   "cell_type": "markdown",
   "metadata": {},
   "source": [
    "<div style=\"display: flex; justify-content: center\">\n",
    "    <img src=\"../assets/smartphone-alteracao-meu-primeiro-flet-paisagem.png\" alt=\"Alterando meu primeiro flet android paisagem\" />\n",
    "</div>"
   ]
  },
  {
   "cell_type": "markdown",
   "metadata": {},
   "source": [
    "13. Assim como a execução web, mantenha a aplicação no celular rodando enquanto desenvolver no VSCode para ver as alterações em tempo real. Quando terminar, volte ao terminal do VSCode e digite `Ctrl+C` para encerrar o servidor da aplicação.\n",
    "14. Agora que sabemos que podemos alterar a aplicação e ver o resultado em tempo real, vamos para o desenvolvimento de uma aplicação muito simples."
   ]
  },
  {
   "cell_type": "markdown",
   "metadata": {},
   "source": [
    "## Desenvolvendo o app\n",
    "---\n",
    "\n",
    "15. O nosso app vai ser um muito simples: um título no alto e uma imagem logo abaixo, e só. A ideia é apenas conhecer a estrutura do Flet dentro do nosso código-fonte. Nas próximas aulas é que iremos conhecer os controles e o layout.\n",
    "\n",
    "### `def main(page: ft.Page):`\n",
    "\n",
    "É a função principal do Flet. Todo o código da sua aplicação (exceto as classes), incluíndo futuras funções, deverão estar dentro de seu escopo.\n",
    "\n",
    "### `page.add()`\n",
    "\n",
    "Esse método executa os widgets do flet app. Todos os elementos que você desejar colocar dentro da janela do felt app deverão estar dentro desse método.\n",
    "\n",
    "### `ft.safeArea()`\n",
    "\n",
    "Um controle que insere seu conteúdo com preenchimento suficiente para evitar invasões do sistema operacional. Por exemplo, isso recuará o conteúdo o suficiente para evitar a barra de status na parte superior da tela. Também recuará o conteúdo na quantidade necessária para evitar o The Notch no iPhone X, ou outras características físicas criativas semelhantes do display. Quando um mínimo_padding é especificado, o maior preenchimento mínimo ou o preenchimento da área segura será aplicado.\n",
    "\n",
    "### `ft.Text()`\n",
    "\n",
    "Controle que adiciona um label na tela do seu flet app.\n",
    "\n",
    "### `ft.app(main)`\n",
    "\n",
    "É o responsável pela execução do app.\n",
    "\n",
    "### Agora que conhecemos os principais comandos do atual código-fonte...\n",
    "\n",
    "16. Vamos adicionar algumas propriedades para o nosso app. Elas deverão ser acrescentadas dentro da função `main` e antes de `page.add()`. São elas:\n",
    "\n",
    "- `page.title`, onde acrescentaremos o título do aplicativo (localizado na barra de títulos da janela no app desktop e na guia do navegador no app web).\n",
    "- `page.scroll`, para indicar como irá se comportar a barra de rolagem da página.\n",
    "\n",
    "Ficará assim:"
   ]
  },
  {
   "cell_type": "code",
   "execution_count": null,
   "metadata": {},
   "outputs": [],
   "source": [
    "import flet as ft\n",
    "\n",
    "\n",
    "def main(page: ft.Page):\n",
    "    # propriedades do app\n",
    "    page.title = \"Meu primeiro App\"\n",
    "    page.scroll = \"adaptive\"\n",
    "\n",
    "    page.add(ft.SafeArea(ft.Text(\"Hello, Flet!\")))\n",
    "\n",
    "\n",
    "ft.app(main)"
   ]
  },
  {
   "cell_type": "markdown",
   "metadata": {},
   "source": [
    "17. Agora vamos mudar o texto dentro de `ft.Text()` para `\"Meu Primeiro Flet App\"` e adicionar um parâmetro para aumentar o tamanho desse texto em específico na tela. Veja:"
   ]
  },
  {
   "cell_type": "code",
   "execution_count": null,
   "metadata": {},
   "outputs": [],
   "source": [
    "import flet as ft\n",
    "\n",
    "\n",
    "def main(page: ft.Page):\n",
    "    # propriedades do app\n",
    "    page.title = \"Meu primeiro App\"\n",
    "    page.scroll = \"adaptive\"\n",
    "\n",
    "    page.add(ft.SafeArea(ft.Text(\"Meu Primeiro Flet App\", size=30, weight=\"bold\")))\n",
    "\n",
    "\n",
    "ft.app(main)"
   ]
  },
  {
   "cell_type": "markdown",
   "metadata": {},
   "source": [
    "18. Veja como fica a execução em Desktop:"
   ]
  },
  {
   "cell_type": "markdown",
   "metadata": {},
   "source": [
    "<div style=\"display: flex; justify-content: center\">\n",
    "    <img src=\"../assets/meu-primeiro-flet-app-3.png\" alt=\"Meu Primeiro Flet App 3\" />\n",
    "</div>"
   ]
  },
  {
   "cell_type": "markdown",
   "metadata": {},
   "source": [
    "19. Agora vamos adicionar uma imagem logo abaixo desse texto, mas antes disso, vamos aprender um pouco mais sobre a estrutura de pastas e arquivos do Flet.\n",
    "\n",
    "### Estruturas de pastas e arquivos do Flet\n",
    "\n",
    "20. Lá no início do desenvolvimento, quanto você digitou o comando `flet create .` no terminal, foi gerada na pasta do projeto a seguinte estrutura:"
   ]
  },
  {
   "cell_type": "markdown",
   "metadata": {},
   "source": [
    "<div style=\"display: flex; justify-content: center\">\n",
    "    <img src=\"../assets/estrutura-flet-app.png\" alt=\"Estrutura de um Flet App\" />\n",
    "</div>"
   ]
  },
  {
   "cell_type": "markdown",
   "metadata": {},
   "source": [
    "21. Já conhecemos esses arquivos. A principal novidade aqui é a pasta `assets`. É dentro dela que você irá salvar qualquer imagem que deseje utilizar no seu projeto. Portanto, pegue qualquer imagem que deseje utilizar no seu projeto e salve dentro da pasta **assets**."
   ]
  },
  {
   "cell_type": "markdown",
   "metadata": {},
   "source": [
    "<div style=\"display: flex; justify-content: center\">\n",
    "    <img src=\"../assets/estrutura-flet-app-2.png\" alt=\"Estrutura de pastas e arquivos do Flet parte 2\" />\n",
    "</div>"
   ]
  },
  {
   "cell_type": "markdown",
   "metadata": {},
   "source": [
    "22. No código-fonte, vamoss acrecentar dentro de `page.add()` o comando `ft.Image()`, para acrescentar a nossa imagem na página do app. Ele deverá vir obrigatoriamente com o comando `src=\"/caminho_da_imagem.extensão\"` para indicar a imagem. Também vamos adicionar a propriedade `fit`, para enquadrar melhor a imagem, e a propriedade `error_content` para indicar um erro caso a imagem não seja carregada por algum motivo. Observe no código abaixo:"
   ]
  },
  {
   "cell_type": "code",
   "execution_count": null,
   "metadata": {},
   "outputs": [],
   "source": [
    "import flet as ft\n",
    "\n",
    "\n",
    "def main(page: ft.Page):\n",
    "    # propriedades do app\n",
    "    page.title = \"Meu primeiro App\"\n",
    "    page.scroll = \"adaptive\"\n",
    "\n",
    "    page.add(\n",
    "        ft.SafeArea(ft.Text(\"Meu Primeiro Flet App\", size=30, weight=\"bold\")),\n",
    "        ft.Image(\n",
    "            src=\"/minha_imagem.png\",\n",
    "            fit=ft.ImageFit.CONTAIN,\n",
    "            error_content=ft.Text(\"Não foi possível carregar a imagem.\")\n",
    "        )\n",
    "    )\n",
    "\n",
    "\n",
    "ft.app(main)"
   ]
  },
  {
   "cell_type": "markdown",
   "metadata": {},
   "source": [
    "23. Abra a aplicação no ambiente desktop com `flet run main.py`:"
   ]
  },
  {
   "cell_type": "markdown",
   "metadata": {},
   "source": [
    "#### Resultado:"
   ]
  },
  {
   "cell_type": "markdown",
   "metadata": {},
   "source": [
    "<div style=\"display: flex; justify-content: center\">\n",
    "    <img src=\"../assets/meu-primeiro-flet-desktop-final.png\" alt=\"Meu primeiro flet app desktop final\" />\n",
    "</div>"
   ]
  },
  {
   "cell_type": "markdown",
   "metadata": {},
   "source": [
    "24. Caso a imagem por algum motivo não seja carregada, a tela que irá abrir será a de baixo:"
   ]
  },
  {
   "cell_type": "markdown",
   "metadata": {},
   "source": [
    "<div style=\"display: flex; justify-content: center\">\n",
    "    <img src=\"../assets/meu-primeiro-flet-erro-imagem.png\" alt=\"Erro na imagem\" />\n",
    "</div>"
   ]
  },
  {
   "cell_type": "markdown",
   "metadata": {},
   "source": [
    "25. Vamos ver a execução da aplicação no ambiente web com `flet run --web main.py`:"
   ]
  },
  {
   "cell_type": "markdown",
   "metadata": {},
   "source": [
    "<div style=\"display: flex; justify-content: center\">\n",
    "    <img src=\"../assets/meu-primeiro-flet-web-final.png\" alt=\"Meu primeiro flet web final\" />\n",
    "</div>"
   ]
  },
  {
   "cell_type": "markdown",
   "metadata": {},
   "source": [
    "26. Perfeito! Tudo certo até aqui. Agora, vamos executar nossa aplicação no ambiente mobile. Neste caso, iremos rodar em um android com `flet run --android main.py`:"
   ]
  },
  {
   "cell_type": "markdown",
   "metadata": {},
   "source": [
    "<div style=\"display: flex; justify-content: center\">\n",
    "    <img src=\"../assets/smartphone-meu-primeiro-flet-erro-imagem.png\" alt=\"Meu Primeiro Flet erro na imagem no Android\" />\n",
    "</div>"
   ]
  },
  {
   "cell_type": "markdown",
   "metadata": {},
   "source": [
    "27. Pode ser que aconteça o caso da imagem acima. Se for o caso, provavelmente seja porque a imagem esteja na máquina local de desenvolvimento, dentro da pasta **assets**. O arquivo provavelmente estará disponível no dispositivo móvel depois do *deploy*, mas há uma outra alternativa: podemos pegar essa imagem *online*. Nesse caso, na propriedade `src`, troque o endereço da imagem local pela URL da imagem da Internet:"
   ]
  },
  {
   "cell_type": "code",
   "execution_count": null,
   "metadata": {},
   "outputs": [],
   "source": [
    "page.add(\n",
    "    ft.SafeArea(ft.Text(\"Meu Primeiro Flet App\", size=30, weight=\"bold\")),\n",
    "    ft.Image(\n",
    "        src=\"https://upload.wikimedia.org/wikipedia/en/thumb/6/61/Vault_Boy_artwork.png/220px-Vault_Boy_artwork.png\",\n",
    "        fit=ft.ImageFit.CONTAIN,\n",
    "        error_content=ft.Text(\"Não foi possível carregar a imagem.\")\n",
    "    )\n",
    ")"
   ]
  },
  {
   "cell_type": "markdown",
   "metadata": {},
   "source": [
    "28. O código-fonte final da aplicação deverá ser esse:"
   ]
  },
  {
   "cell_type": "code",
   "execution_count": null,
   "metadata": {},
   "outputs": [],
   "source": [
    "import flet as ft\n",
    "\n",
    "def main(page: ft.Page):\n",
    "    # propriedades do app\n",
    "    page.title = \"Meu primeiro App\"\n",
    "    page.scroll = \"adaptive\"\n",
    "\n",
    "    page.add(\n",
    "        ft.SafeArea(ft.Text(\"Meu Primeiro Flet App\", size=30, weight=\"bold\")),\n",
    "        ft.Image(\n",
    "            src=\"https://upload.wikimedia.org/wikipedia/en/thumb/6/61/Vault_Boy_artwork.png/220px-Vault_Boy_artwork.png\",\n",
    "            fit=ft.ImageFit.CONTAIN,\n",
    "            error_content=ft.Text(\"Não foi possível carregar a imagem.\")\n",
    "        )\n",
    "    )\n",
    "\n",
    "ft.app(target=main, assets_dir=\"assets\")"
   ]
  },
  {
   "cell_type": "markdown",
   "metadata": {},
   "source": [
    "29. Resultado no android:"
   ]
  },
  {
   "cell_type": "markdown",
   "metadata": {},
   "source": [
    "<div style=\"display: flex; justify-content: center\">\n",
    "    <img src=\"../assets/smartphone-meu-primeiro-flet-final-retrato.png\" alt=\"App final retrato\" />\n",
    "</div>"
   ]
  },
  {
   "cell_type": "markdown",
   "metadata": {},
   "source": [
    "<div style=\"display: flex; justify-content: center\">\n",
    "    <img src=\"../assets/smartphone_meu-primeiro-flet-landscape.png\" alt=\"App final paisagem\" />\n",
    "</div>"
   ]
  }
 ],
 "metadata": {
  "kernelspec": {
   "display_name": ".venv",
   "language": "python",
   "name": "python3"
  },
  "language_info": {
   "name": "python",
   "version": "3.12.7"
  }
 },
 "nbformat": 4,
 "nbformat_minor": 2
}
