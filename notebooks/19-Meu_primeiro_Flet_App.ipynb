{
 "cells": [
  {
   "cell_type": "markdown",
   "metadata": {},
   "source": [
    "# **Primeiro App com Flet**\n",
    "---\n",
    "\n",
    "## Pré-requisitos da aula\n",
    "\n",
    "- Funções\n",
    "- Import\n",
    "- Orientação a Objetos\n",
    "- Interface Gráfica\n",
    "- Introdução ao Flet\n",
    "\n",
    "---"
   ]
  },
  {
   "cell_type": "markdown",
   "metadata": {},
   "source": [
    "Agora que já conhecemos o Flet, vamos começara a criar nossos apps com ele.\n",
    "\n",
    "**Obs:** Antes de criar seu primeiro aplicativo Flet, você precisa configurar seu ambiente de desenvolvimento que requer Python 3.8 ou superior e pacote flet instalado (`pip install flet`)."
   ]
  },
  {
   "cell_type": "markdown",
   "metadata": {},
   "source": [
    "## Começando\n",
    "---"
   ]
  },
  {
   "cell_type": "markdown",
   "metadata": {},
   "source": [
    "### Criando a pasta para todos os projetos Flet\n",
    "\n",
    "1. Inicialmente iremos criar uma pasta separada daquelas que criamos no início do curso: uma só para os projetos que envolvem o Flet:"
   ]
  },
  {
   "cell_type": "markdown",
   "metadata": {},
   "source": [
    "<div style=\"display: flex; justify-content: center\">\n",
    "    <img src=\"../assets/criando-pasta-flet.png\" alt=\"Criando pasta flet\" />\n",
    "</div>"
   ]
  },
  {
   "cell_type": "markdown",
   "metadata": {},
   "source": [
    "<div style=\"display: flex; justify-content: center\">\n",
    "    <img src=\"../assets/selecionando-pasta-flet.png\" alt=\"Selecionando pasta flet\" />\n",
    "</div>"
   ]
  },
  {
   "cell_type": "markdown",
   "metadata": {},
   "source": [
    "2. Ao abrir essa pasta dentro do VSCode, iremos criar uma `.venv` só para os projetos que envolvem o Flet. Utilize o método que preferir para criar o ambiente virtual:"
   ]
  },
  {
   "cell_type": "markdown",
   "metadata": {},
   "source": [
    "<div style=\"display: flex; justify-content: center\">\n",
    "    <img src=\"../assets/venv-no-flet.png\" alt=\"Criando uma venv na pasta dos projetos flet\" />\n",
    "</div>"
   ]
  },
  {
   "cell_type": "markdown",
   "metadata": {},
   "source": [
    "3. Abra o terminal e digite o comando de instalação do flet: `pip install flet`, e execute:"
   ]
  },
  {
   "cell_type": "markdown",
   "metadata": {},
   "source": [
    "<div style=\"display: flex; justify-content: center\">\n",
    "    <img src=\"../assets/instalando-flet-na-pasta-de-projetos-flet.png\" alt=\"Preparando o ambiente para os próximos projetos Flet\" />\n",
    "</div>"
   ]
  },
  {
   "cell_type": "markdown",
   "metadata": {},
   "source": [
    "4. Após o término da instalação do Flet no nosso ambiente virtual, vamos utilizar o terminal para ele gerar o nosso projeto Flet com toda a estrutura de diretórios necessários para que o nosso projeto funcione adequadamente. Digite no terminal o comando `flet create meu_primeiro_flet_app`:"
   ]
  },
  {
   "cell_type": "markdown",
   "metadata": {},
   "source": [
    "<div style=\"display: flex; justify-content: center\">\n",
    "    <img src=\"../assets/criando_meu_primeiro_flet_app.png\" alt=\"Criando meu_primeiro_flet_app\" />\n",
    "</div>"
   ]
  },
  {
   "cell_type": "markdown",
   "metadata": {},
   "source": [
    "5. Caso a pasta já tenha sido criada antes de executar o comando, você pode entrar dentro dela e executar no termianl o comando `flet create .` para gerar o projeto na pasta raíz. Em ambos os casos, o projeto irá demorar um pouco para ser gerado.\n",
    "6. Após terminar, a estrutura de pastas do seu projeto deverá se parecer com a da imagem abaixo:"
   ]
  },
  {
   "cell_type": "markdown",
   "metadata": {},
   "source": [
    "<div style=\"display: flex; justify-content: center\">\n",
    "    <img src=\"../assets/projeto-flet-criado.png\" alt=\"Projeto Flet criado\" />\n",
    "</div>"
   ]
  },
  {
   "cell_type": "markdown",
   "metadata": {},
   "source": [
    "7. Veja que o arquivo do código-fonte se chama `main.py`, se encontra dentro da pasta `src`, que por sua vez está dentro da pasta do projeto. É nesse arquivo que iremos trabalhar o código-fonte."
   ]
  },
  {
   "cell_type": "markdown",
   "metadata": {},
   "source": [
    "## Executando o projeto\n",
    "---"
   ]
  },
  {
   "cell_type": "markdown",
   "metadata": {},
   "source": [
    "8. O código gerado no arquivo `main.py` será esse:"
   ]
  },
  {
   "cell_type": "code",
   "execution_count": null,
   "metadata": {},
   "outputs": [],
   "source": [
    "import flet as ft\n",
    "\n",
    "def main(page: ft.Page):\n",
    "    counter = ft.Text(\"0\", size=50, data=0)\n",
    "\n",
    "    def increment_click(e):\n",
    "        counter.data += 1\n",
    "        counter.value = str(counter.data)\n",
    "        counter.update()\n",
    "\n",
    "    page.floating_action_button = ft.FloatingActionButton(\n",
    "        icon=ft.Icons.ADD, on_click=increment_click\n",
    "    )\n",
    "    page.add(\n",
    "        ft.SafeArea(\n",
    "            ft.Container(\n",
    "                counter,\n",
    "                alignment=ft.alignment.center,\n",
    "            ),\n",
    "            expand=True,\n",
    "        )\n",
    "    )\n",
    "\n",
    "ft.app(main)\n"
   ]
  },
  {
   "cell_type": "markdown",
   "metadata": {},
   "source": [
    "9. Para rodar esse código, basta abrir a pasta do projeto no terminal e executar o comando `flet run main.py` no terminal. O comando pode mudar dependendo da plataforma que deseja executar o programa:\n",
    "- **Desktop:** `flet run main.py`\n",
    "- **Web:** `flet run --web main.py`\n",
    "- **Android:** `flet run --android main.py`\n",
    "- **iOS:** `flet run --ios main.py`"
   ]
  },
  {
   "cell_type": "markdown",
   "metadata": {},
   "source": [
    "<div style=\"display: flex; justify-content: center\">\n",
    "    <img src=\"../assets/abrir_pasta_flet_no_terminal.png\" alt=\"Abrir terminal\" />\n",
    "</div>"
   ]
  },
  {
   "cell_type": "markdown",
   "metadata": {},
   "source": [
    "<div style=\"display: flex; justify-content: center\">\n",
    "    <img src=\"../assets/executando-flet.png\" alt=\"Executando Flet\" />\n",
    "</div>"
   ]
  },
  {
   "cell_type": "markdown",
   "metadata": {},
   "source": [
    "\n",
    "10. Inicialmente, vamos apenas executar o nosso projeto nas 3 plataformas à nossa disposição, que são **desktop**, **web** e **mobile**:\n",
    "\n",
    "### Desktop: `flet run main.py`"
   ]
  },
  {
   "cell_type": "markdown",
   "metadata": {},
   "source": [
    "<div style=\"display: flex; justify-content: center\">\n",
    "    <img src=\"../assets/flet-app-executando.png\" alt=\"Executando flet desktop\" />\n",
    "</div>"
   ]
  },
  {
   "cell_type": "markdown",
   "metadata": {},
   "source": [
    "### Web: `flet run --web main.py`"
   ]
  },
  {
   "cell_type": "markdown",
   "metadata": {},
   "source": [
    "<div style=\"display: flex; justify-content: center\">\n",
    "    <img src=\"../assets/executando-flet-web.png\" alt=\"flet run --web main.py\" />\n",
    "</div>"
   ]
  },
  {
   "cell_type": "markdown",
   "metadata": {},
   "source": [
    "### Mobile (Android): `flet run --android main.py`"
   ]
  },
  {
   "cell_type": "markdown",
   "metadata": {},
   "source": [
    "<div style=\"display: flex; justify-content: center\">\n",
    "    <img src=\"../assets/smartphone-meu-primeiro-flet-app-retrato.png\" alt=\"flet run --android main.py\" />\n",
    "</div>"
   ]
  },
  {
   "cell_type": "markdown",
   "metadata": {},
   "source": [
    "<div style=\"display: flex; justify-content: center\">\n",
    "    <img src=\"../assets/smartphone_lmeu_primeiro_flet_app_andscape.png\" alt=\"App modo paisagem\" />\n",
    "</div>"
   ]
  },
  {
   "cell_type": "markdown",
   "metadata": {},
   "source": [
    "## Alterando o código-fonte\n",
    "---"
   ]
  },
  {
   "cell_type": "markdown",
   "metadata": {},
   "source": [
    "4. Agora que temos a base do nosso projeto, vamos alterar o nosso código-fonte e testar o resultado nas 3 plataformas:"
   ]
  },
  {
   "cell_type": "markdown",
   "metadata": {},
   "source": [
    "### Desktop\n",
    "\n",
    "5. Inicialmente, vamos executar o nosso programa. Abra o terminal do VSCode e digite `flet run main.py`. Ao executar o comando, ele irá abrir a janela da aplicação no seu Desktop.\n",
    "6. Ao fechar a janela, a aplicação se encerra. Faça isso e faça qualquer alteração no seu código-fonte. Exemplo: troque o código-fonte original pelo que está abaixo. Depois, execute `flet run main.py` de novo no terminal:"
   ]
  },
  {
   "cell_type": "code",
   "execution_count": null,
   "metadata": {},
   "outputs": [],
   "source": [
    "import flet as ft\n",
    "\n",
    "\n",
    "def main(page: ft.Page):\n",
    "    page.add(ft.SafeArea(ft.Text(\"Alô, mundo! Esta é minha primeira aplicação Flet, e estou amando!\")))\n",
    "\n",
    "\n",
    "ft.app(main)\n"
   ]
  },
  {
   "cell_type": "markdown",
   "metadata": {},
   "source": [
    "#### Resultado:"
   ]
  },
  {
   "cell_type": "markdown",
   "metadata": {},
   "source": [
    "<div style=\"display: flex; justify-content: center\">\n",
    "    <img src=\"../assets/alteracao-meu-primeiro-flet-desktop.png\" alt=\"Alterando código-fonte desktop\" />\n",
    "</div>"
   ]
  },
  {
   "cell_type": "markdown",
   "metadata": {},
   "source": [
    "### Web\n",
    "\n",
    "7. Partindo do código-fonte inicial, vamos executar o nosso código para web agora, através do comando no terminal `flet run --web main.py`.\n",
    "8. Executando nosso código na web, não há a necessidae de encerrar o nosso programa. Altere o código fonte, por exemplo, troque o texto para \"Alô, mundo! Testando minha primeira aplicação web!\", e depois veja como a página ficou:"
   ]
  },
  {
   "cell_type": "markdown",
   "metadata": {},
   "source": [
    "<div style=\"display: flex; justify-content: center\">\n",
    "    <img src=\"../assets/alteracao-meu-primeiro-flet-web.png\" alt=\"Alterando código-fonte web\" />\n",
    "</div>"
   ]
  },
  {
   "cell_type": "markdown",
   "metadata": {},
   "source": [
    "9. Veja que desta vez, a página atualizou o conteúdo automaticamente, em tempo real. Essa é uma das vantagens de se trabalhar com o Flet: você pode alterar o código-fonte à vontade enquanto o projeto estiver executando que ele irá altearr automaticamente o seu conteúdo, o que facilita (e muito) o desenvolvimento do sistema.\n",
    "10. Por outro lado, o servidor criado para aplicação não se encerra ao fechar o navegador ou a página. É preciso voltar ao terminal do VSCode e usar a tecla de atalho `Ctrl+C` para encerrar o servidor. Deixe para fazer isso ao final do expediente, antes de encerrar todas as tarefas e desligar o computador definitivamente.\n",
    "\n",
    "**Dica:** se possível, trabalhe em um computador que possua 2 monitores. Assim, você pode trabalhar com o código-fonte em um monitor, e ver o resultado em tempo real no outro."
   ]
  },
  {
   "cell_type": "markdown",
   "metadata": {},
   "source": [
    "### Mobile\n",
    "\n",
    "11. O mesmo acontece na plataforma mobile. Execute no terminal `flet run --android main.py`, caso seu dispositivo seja android, ou `flet run --ios main.py` caso o seu dispositivo seja um iPhone. Em seguida, abra o leitor de QRCode do seu celular para escanear o QRCode.\n",
    "12. Após sua aplicação abrir no seu celular, mude o código-fonte sem fechar a aplicação no seu smartphone, exemplo, troque o texto para \"Alô, mundo! Executando meu app no celular!\", e veja que o app muda em tempo real o conteúdo da aplicação."
   ]
  },
  {
   "cell_type": "markdown",
   "metadata": {},
   "source": [
    "<div style=\"display: flex; justify-content: center\">\n",
    "    <img src=\"../assets/smartphone-alteracao-meu-primeiro-flet-portrait.png\" alt=\"Alteração meu primeiro flet android retrato\" />\n",
    "</div>"
   ]
  },
  {
   "cell_type": "markdown",
   "metadata": {},
   "source": [
    "<div style=\"display: flex; justify-content: center\">\n",
    "    <img src=\"../assets/smartphone-alteracao-meu-primeiro-flet-paisagem.png\" alt=\"Alterando meu primeiro flet android paisagem\" />\n",
    "</div>"
   ]
  },
  {
   "cell_type": "markdown",
   "metadata": {},
   "source": [
    "13. Assim como a execução web, mantenha a aplicação no celular rodando enquanto desenvolver no VSCode para ver as alterações em tempo real. Quando terminar, volte ao terminal do VSCode e digite `Ctrl+C` para encerrar o servidor da aplicação.\n",
    "14. Agora que sabemos que podemos alterar a aplicação e ver o resultado em tempo real, vamos para o desenvolvimento de uma aplicação muito simples."
   ]
  },
  {
   "cell_type": "markdown",
   "metadata": {},
   "source": [
    "## Desenvolvendo o app\n",
    "---\n",
    "\n",
    "15. O nosso app vai ser um muito simples: um título no alto e uma imagem logo abaixo, e só. A ideia é apenas conhecer a estrutura do Flet dentro do nosso código-fonte. Nas próximas aulas é que iremos conhecer os controles e o layout.\n",
    "\n",
    "### `def main(page: ft.Page):`\n",
    "\n",
    "É a função principal do Flet. Todo o código da sua aplicação (exceto as classes), incluíndo futuras funções, deverão estar dentro de seu escopo.\n",
    "\n",
    "### `page.add()`\n",
    "\n",
    "Esse método executa os widgets do flet app. Todos os elementos que você desejar colocar dentro da janela do felt app deverão estar dentro desse método.\n",
    "\n",
    "### `ft.safeArea()`\n",
    "\n",
    "Um controle que insere seu conteúdo com preenchimento suficiente para evitar invasões do sistema operacional. Por exemplo, isso recuará o conteúdo o suficiente para evitar a barra de status na parte superior da tela. Também recuará o conteúdo na quantidade necessária para evitar o The Notch no iPhone X, ou outras características físicas criativas semelhantes do display. Quando um mínimo_padding é especificado, o maior preenchimento mínimo ou o preenchimento da área segura será aplicado.\n",
    "\n",
    "### `ft.Text()`\n",
    "\n",
    "Controle que adiciona um label na tela do seu flet app.\n",
    "\n",
    "### `ft.app(main)`\n",
    "\n",
    "É o responsável pela execução do app.\n",
    "\n",
    "### Agora que conhecemos os principais comandos do atual código-fonte...\n",
    "\n",
    "16. Vamos adicionar algumas propriedades para o nosso app. Elas deverão ser acrescentadas dentro da função `main` e antes de `page.add()`. São elas:\n",
    "\n",
    "- `page.title`, onde acrescentaremos o título do aplicativo (localizado na barra de títulos da janela no app desktop e na guia do navegador no app web).\n",
    "- `page.scroll`, para indicar como irá se comportar a barra de rolagem da página.\n",
    "\n",
    "Ficará assim:"
   ]
  },
  {
   "cell_type": "code",
   "execution_count": null,
   "metadata": {},
   "outputs": [],
   "source": [
    "import flet as ft\n",
    "\n",
    "\n",
    "def main(page: ft.Page):\n",
    "    # propriedades do app\n",
    "    page.title = \"Meu primeiro App\"\n",
    "    page.scroll = \"adaptive\"\n",
    "\n",
    "    page.add(ft.SafeArea(ft.Text(\"Hello, Flet!\")))\n",
    "\n",
    "\n",
    "ft.app(main)"
   ]
  },
  {
   "cell_type": "markdown",
   "metadata": {},
   "source": [
    "17. Agora vamos mudar o texto dentro de `ft.Text()` para `\"Meu Primeiro Flet App\"` e adicionar um parâmetro para aumentar o tamanho desse texto em específico na tela. Veja:"
   ]
  },
  {
   "cell_type": "code",
   "execution_count": null,
   "metadata": {},
   "outputs": [],
   "source": [
    "import flet as ft\n",
    "\n",
    "\n",
    "def main(page: ft.Page):\n",
    "    # propriedades do app\n",
    "    page.title = \"Meu primeiro App\"\n",
    "    page.scroll = \"adaptive\"\n",
    "\n",
    "    page.add(ft.SafeArea(ft.Text(\"Meu Primeiro Flet App\", size=30, weight=\"bold\")))\n",
    "\n",
    "\n",
    "ft.app(main)"
   ]
  },
  {
   "cell_type": "markdown",
   "metadata": {},
   "source": [
    "18. Veja como fica a execução em Desktop:"
   ]
  },
  {
   "cell_type": "markdown",
   "metadata": {},
   "source": [
    "<div style=\"display: flex; justify-content: center\">\n",
    "    <img src=\"../assets/meu-primeiro-flet-app-3.png\" alt=\"Meu Primeiro Flet App 3\" />\n",
    "</div>"
   ]
  },
  {
   "cell_type": "markdown",
   "metadata": {},
   "source": [
    "19. Agora vamos adicionar uma imagem logo abaixo desse texto, mas antes disso, vamos aprender um pouco mais sobre a estrutura de pastas e arquivos do Flet.\n",
    "\n",
    "### Estruturas de pastas e arquivos do Flet\n",
    "\n",
    "20. Lá no início do desenvolvimento, quanto você digitou o comando `flet create .` no terminal, foi gerada na pasta do projeto a seguinte estrutura:"
   ]
  },
  {
   "cell_type": "markdown",
   "metadata": {},
   "source": [
    "<div style=\"display: flex; justify-content: center\">\n",
    "    <img src=\"../assets/estrutura-flet-1.png\" alt=\"Estrutura de um Flet App\" />\n",
    "</div>"
   ]
  },
  {
   "cell_type": "markdown",
   "metadata": {},
   "source": [
    "21. O arquivo `.py`, que nesse caso se chama `main.py` se encontra dentro da pasta `src`, conforme imagem abaixo:"
   ]
  },
  {
   "cell_type": "markdown",
   "metadata": {},
   "source": [
    "<div style=\"display: flex; justify-content: center\">\n",
    "    <img src=\"../assets/estrutura-flet-2.png\" alt=\"Estrutura Flet 2\" />\n",
    "</div>"
   ]
  },
  {
   "cell_type": "markdown",
   "metadata": {},
   "source": [
    "22. Dentro da pasta `src`, existe a pasta `assets`. É dentro dela que você irá salvar qualquer imagem que deseje utilizar no seu projeto. Portanto, pegue qualquer imagem que deseje utilizar no seu projeto e salve dentro da pasta **assets**."
   ]
  },
  {
   "cell_type": "markdown",
   "metadata": {},
   "source": [
    "<div style=\"display: flex; justify-content: center\">\n",
    "    <img src=\"../assets/imagem-no-flet.png\" alt=\"Estrutura de pastas e arquivos do Flet parte 2\" />\n",
    "</div>"
   ]
  },
  {
   "cell_type": "markdown",
   "metadata": {},
   "source": [
    "22. No código-fonte, vamoss acrecentar dentro de `page.add()` o comando `ft.Image()`, para acrescentar a nossa imagem na página do app. Ele deverá vir obrigatoriamente com o comando `src=\"/caminho_da_imagem.extensão\"` para indicar a imagem. Também vamos adicionar a propriedade `fit`, para enquadrar melhor a imagem, e a propriedade `error_content` para indicar um erro caso a imagem não seja carregada por algum motivo. Observe no código abaixo:"
   ]
  },
  {
   "cell_type": "code",
   "execution_count": null,
   "metadata": {},
   "outputs": [],
   "source": [
    "import flet as ft\n",
    "\n",
    "def main(page: ft.Page):\n",
    "    # propriedades do app\n",
    "    page.title = \"Meu primeiro App\"\n",
    "    page.scroll = \"adaptive\"\n",
    "\n",
    "    page.add(\n",
    "        ft.SafeArea(ft.Text(\"Meu Primeiro Flet App\", size=30, weight=\"bold\")),\n",
    "        ft.Image(\n",
    "            src=\"/minha_imagem.png\",\n",
    "            fit=ft.ImageFit.CONTAIN,\n",
    "            error_content=ft.Text(\"Não foi possível carregar a imagem.\")\n",
    "        )\n",
    "    )\n",
    "\n",
    "ft.app(main)"
   ]
  },
  {
   "cell_type": "markdown",
   "metadata": {},
   "source": [
    "23. Abra a aplicação no ambiente desktop com `flet run main.py`:"
   ]
  },
  {
   "cell_type": "markdown",
   "metadata": {},
   "source": [
    "#### Resultado:"
   ]
  },
  {
   "cell_type": "markdown",
   "metadata": {},
   "source": [
    "<div style=\"display: flex; justify-content: center\">\n",
    "    <img src=\"../assets/meu-primeiro-flet-desktop-final.png\" alt=\"Meu primeiro flet app desktop final\" />\n",
    "</div>"
   ]
  },
  {
   "cell_type": "markdown",
   "metadata": {},
   "source": [
    "24. Caso a imagem por algum motivo não seja carregada, a tela que irá abrir será a de baixo:"
   ]
  },
  {
   "cell_type": "markdown",
   "metadata": {},
   "source": [
    "<div style=\"display: flex; justify-content: center\">\n",
    "    <img src=\"../assets/meu-primeiro-flet-erro-imagem.png\" alt=\"Erro na imagem\" />\n",
    "</div>"
   ]
  },
  {
   "cell_type": "markdown",
   "metadata": {},
   "source": [
    "25. Vamos ver a execução da aplicação no ambiente web com `flet run --web main.py`:"
   ]
  },
  {
   "cell_type": "markdown",
   "metadata": {},
   "source": [
    "<div style=\"display: flex; justify-content: center\">\n",
    "    <img src=\"../assets/meu-primeiro-flet-web-final.png\" alt=\"Meu primeiro flet web final\" />\n",
    "</div>"
   ]
  },
  {
   "cell_type": "markdown",
   "metadata": {},
   "source": [
    "26. Perfeito! Tudo certo até aqui. Agora, vamos executar nossa aplicação no ambiente mobile. Neste caso, iremos rodar em um android com `flet run --android main.py`:"
   ]
  },
  {
   "cell_type": "markdown",
   "metadata": {},
   "source": [
    "<div style=\"display: flex; justify-content: center\">\n",
    "    <img src=\"../assets/smartphone-meu-primeiro-flet-erro-imagem.png\" alt=\"Meu Primeiro Flet erro na imagem no Android\" />\n",
    "</div>"
   ]
  },
  {
   "cell_type": "markdown",
   "metadata": {},
   "source": [
    "27. Pode ser que aconteça o caso da imagem acima. Se for o caso, provavelmente seja porque a imagem esteja na máquina local de desenvolvimento, dentro da pasta **assets**. O arquivo provavelmente estará disponível no dispositivo móvel depois do *deploy*, mas há uma outra alternativa: podemos pegar essa imagem *online*. Nesse caso, na propriedade `src`, troque o endereço da imagem local pela URL da imagem da Internet:"
   ]
  },
  {
   "cell_type": "code",
   "execution_count": null,
   "metadata": {},
   "outputs": [],
   "source": [
    "page.add(\n",
    "    ft.SafeArea(ft.Text(\"Meu Primeiro Flet App\", size=30, weight=\"bold\")),\n",
    "    ft.Image(\n",
    "        src=\"https://upload.wikimedia.org/wikipedia/en/thumb/6/61/Vault_Boy_artwork.png/220px-Vault_Boy_artwork.png\",\n",
    "        fit=ft.ImageFit.CONTAIN,\n",
    "        error_content=ft.Text(\"Não foi possível carregar a imagem.\")\n",
    "    )\n",
    ")"
   ]
  },
  {
   "cell_type": "markdown",
   "metadata": {},
   "source": [
    "28. O código-fonte final da aplicação deverá ser esse:"
   ]
  },
  {
   "cell_type": "code",
   "execution_count": null,
   "metadata": {},
   "outputs": [],
   "source": [
    "import flet as ft\n",
    "\n",
    "def main(page: ft.Page):\n",
    "    # propriedades do app\n",
    "    page.title = \"Meu primeiro App\"\n",
    "    page.scroll = \"adaptive\"\n",
    "\n",
    "    page.add(\n",
    "        ft.SafeArea(ft.Text(\"Meu Primeiro Flet App\", size=30, weight=\"bold\")),\n",
    "        ft.Image(\n",
    "            src=\"https://upload.wikimedia.org/wikipedia/en/thumb/6/61/Vault_Boy_artwork.png/220px-Vault_Boy_artwork.png\",\n",
    "            fit=ft.ImageFit.CONTAIN,\n",
    "            error_content=ft.Text(\"Não foi possível carregar a imagem.\")\n",
    "        )\n",
    "    )\n",
    "\n",
    "ft.app(target=main, assets_dir=\"assets\")"
   ]
  },
  {
   "cell_type": "markdown",
   "metadata": {},
   "source": [
    "29. Resultado no android:"
   ]
  },
  {
   "cell_type": "markdown",
   "metadata": {},
   "source": [
    "<div style=\"display: flex; justify-content: center\">\n",
    "    <img src=\"../assets/smartphone-meu-primeiro-flet-final-retrato.png\" alt=\"App final retrato\" />\n",
    "</div>"
   ]
  },
  {
   "cell_type": "markdown",
   "metadata": {},
   "source": [
    "<div style=\"display: flex; justify-content: center\">\n",
    "    <img src=\"../assets/smartphone_meu-primeiro-flet-landscape.png\" alt=\"App final paisagem\" />\n",
    "</div>"
   ]
  }
 ],
 "metadata": {
  "kernelspec": {
   "display_name": ".venv",
   "language": "python",
   "name": "python3"
  },
  "language_info": {
   "name": "python",
   "version": "3.12.7"
  }
 },
 "nbformat": 4,
 "nbformat_minor": 2
}
