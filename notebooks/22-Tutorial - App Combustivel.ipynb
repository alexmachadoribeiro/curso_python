{
 "cells": [
  {
   "cell_type": "markdown",
   "metadata": {},
   "source": [
    "# **Tutorial - App Combustível**\n",
    "---"
   ]
  },
  {
   "cell_type": "markdown",
   "metadata": {},
   "source": [
    "## Pré-requisitos da aula\n",
    "\n",
    "- Funções\n",
    "- Import\n",
    "- Orientação a Objetos\n",
    "- Interface Gráfica\n",
    "- Introdução ao Flet\n",
    "- Meu primeiro Flet App\n",
    "- Eventos\n",
    "- Light e Dark Mode\n",
    "\n",
    "---"
   ]
  },
  {
   "cell_type": "markdown",
   "metadata": {},
   "source": [
    "Nas aulas anteriores, criamos alguns apps com a finalidade de apenas testar alguns recursos. A partir de agora, todos os apps que iremos criar podem ser perfeitamente aplicáveis no dia-a-dia do usuário. Finalmente chegamos à fase em que iremos desenvolver nossos apps completos para você poder publicar à vontade e mostrar para os amigos com um aplicativo para chamar de seu.\n",
    "\n",
    "Nosso primeiro app completo será um app de combustível."
   ]
  },
  {
   "cell_type": "markdown",
   "metadata": {},
   "source": [
    "## Situação-problema\n",
    "---"
   ]
  },
  {
   "cell_type": "markdown",
   "metadata": {},
   "source": [
    "Imagine que o nosso cliente possua um carro flex, ou seja, aceita como combustível tanto **gasolina** como **etanol**. Não é segredo que o etanol é bem mais barato do que a gasolina. O que muitos podem não saber é que o consumo do etanol também é muito maior. O cliente sabe disso, e gostaria de ter no seu celular um app, ou pelo menos uma aplicação online que pudesse retornar qual combustível tem o melhor custo-benefício com base no preço dos dois."
   ]
  },
  {
   "cell_type": "markdown",
   "metadata": {},
   "source": [
    "## Solução\n",
    "---\n",
    "\n",
    "Nosso cliente não exigiu que o nosso aplicativo fosse especificamente web ou app para celular. Pediu apenas que fosse um dos dois, mas como o Flet permite que desenvolvamos para qualquer plataforma usando o mesmo código-fonte, não há trabalho algum desenvolver simultâneamente para os dois. É o que faremos:"
   ]
  },
  {
   "cell_type": "markdown",
   "metadata": {},
   "source": [
    "1. Começe criando o projeto. Faça o nosso ritual padrão de criar a pasta do projeto (nome usado nesse tutorial: \"**combustivel**\"). Não se esqueça de criar o ambiente virtual `.venv`, instalar o Flet (`pip install flet`) e criar um novo projeto flet dentro da pasta (`flet create .`).\n",
    "2. Nosso código-fonte inicial se parecerá com esse:"
   ]
  },
  {
   "cell_type": "code",
   "execution_count": null,
   "metadata": {},
   "outputs": [],
   "source": [
    "import flet as ft\n",
    "\n",
    "def main(page: ft.Page):\n",
    "    page.add(ft.SafeArea(ft.Text(\"Hello, Flet!\")))\n",
    "\n",
    "ft.app(main)"
   ]
  },
  {
   "cell_type": "markdown",
   "metadata": {},
   "source": [
    "3. Acresccente as prorpiedades que desejar:"
   ]
  },
  {
   "cell_type": "code",
   "execution_count": null,
   "metadata": {},
   "outputs": [],
   "source": [
    "import flet as ft\n",
    "\n",
    "def main(page: ft.Page):\n",
    "    # propriedades da página\n",
    "    page.title = \"Combustível\"\n",
    "    page.theme_mode = ft.ThemeMode.LIGHT\n",
    "    page.bgcolor = ft.colors.WHITE\n",
    "\n",
    "    page.add(ft.SafeArea(ft.Text(\"Hello, Flet!\")))\n",
    "\n",
    "ft.app(main)"
   ]
  },
  {
   "cell_type": "markdown",
   "metadata": {},
   "source": [
    "### AppBar\n",
    "\n",
    "4. Vamos começar com o **AppBar**. O AppBar é uma barra superior da nossa aplicação que será inserida antes de `page.add()`:"
   ]
  },
  {
   "cell_type": "code",
   "execution_count": null,
   "metadata": {},
   "outputs": [],
   "source": [
    "import flet as ft\n",
    "\n",
    "def main(page: ft.Page):\n",
    "    page.title = \"Combustível\"\n",
    "    page.theme_mode = ft.ThemeMode.LIGHT\n",
    "    page.bgcolor = ft.colors.WHITE\n",
    "\n",
    "    # AppBar\n",
    "    page.appbar = ft.AppBar()\n",
    "\n",
    "    page.add(ft.SafeArea(ft.Text(\"Hello, Flet!\")))\n",
    "\n",
    "ft.app(main)"
   ]
  },
  {
   "cell_type": "markdown",
   "metadata": {},
   "source": [
    "5. Isso já é o suficiente para gerar um AppBar, embora sem conteúdo. Veja o resultado na versão desktop, mas procure executar também na versão web e mobile:"
   ]
  },
  {
   "attachments": {
    "image.png": {
     "image/png": "[encoded data removed]"
    }
   },
   "cell_type": "markdown",
   "metadata": {},
   "source": [
    "![image.png](attachment:image.png)"
   ]
  },
  {
   "cell_type": "markdown",
   "metadata": {},
   "source": [
    "6. Vamos começar colocando um título para o nosso AppBar:"
   ]
  },
  {
   "cell_type": "code",
   "execution_count": null,
   "metadata": {},
   "outputs": [],
   "source": [
    "import flet as ft\n",
    "\n",
    "def main(page: ft.Page):\n",
    "    page.title = \"Combustível\"\n",
    "    page.theme_mode = ft.ThemeMode.LIGHT\n",
    "    page.bgcolor = ft.colors.WHITE\n",
    "\n",
    "    # AppBar\n",
    "    page.appbar = ft.AppBar(title=ft.Text(\"Combustível\", size=16))\n",
    "\n",
    "    page.add(ft.SafeArea(ft.Text(\"Hello, Flet!\")))\n",
    "\n",
    "ft.app(main)"
   ]
  },
  {
   "cell_type": "markdown",
   "metadata": {},
   "source": [
    "7. Aproveitaremos que criamos na aula passada um algoritmo para alternar os temas Light e Dark. Vamos implementar esse código dentro do AppBar, com uma alteração: iremos trocar o texto \"**Light theme**\" e \"**Dark theme**\" do app da aula anterior por ícones representando os temas. Para isso, iremos criar uma variável representando o ícone do tema padrão da aplicação (que é o tema claro).\n",
    "8. Depois, iremos programar uma condicional para essa variável para que o ícone mude quando o *switch button* for acionado.\n",
    "9. Enfim, chamaremos essa variável desta vez dentro do **AppBar** ao invés do SafeBar, acrescentando ao final de `ft.AppBar()` o parâmetro `actions=[tema, interruptor]`, onde `tema` representa o ícone do tema, e `interruptor` representa o *switch button*:"
   ]
  },
  {
   "cell_type": "code",
   "execution_count": null,
   "metadata": {},
   "outputs": [],
   "source": [
    "import flet as ft\n",
    "\n",
    "def main(page: ft.Page):\n",
    "    # função do tema\n",
    "    def mudar_tema(e):\n",
    "        page.theme_mode = (\n",
    "            ft.ThemeMode.DARK\n",
    "            if page.theme_mode == ft.ThemeMode.LIGHT\n",
    "            else ft.ThemeMode.LIGHT\n",
    "        )\n",
    "        page.bgcolor = (\n",
    "            ft.colors.WHITE\n",
    "            if page.theme_mode == ft.ThemeMode.LIGHT\n",
    "            else ft.colors.GREY_900\n",
    "        )\n",
    "        # altera o ícone do tema\n",
    "        tema.name = (\n",
    "            ft.icons.SUNNY\n",
    "            if page.theme_mode == ft.ThemeMode.LIGHT\n",
    "            else ft.icons.MODE_NIGHT\n",
    "        )\n",
    "        page.update()\n",
    "\n",
    "    page.title = \"Combustível\"\n",
    "    page.theme_mode = ft.ThemeMode.LIGHT\n",
    "    page.bgcolor = ft.colors.WHITE\n",
    "\n",
    "    # ícone e botão do tema\n",
    "    tema = ft.Icon(name=ft.icons.SUNNY)\n",
    "    interruptor = ft.Switch(on_change=mudar_tema)\n",
    "\n",
    "    # AppBar\n",
    "    page.appbar = ft.AppBar(title=ft.Text(\"Combustível\", size=16), actions=[tema, interruptor])\n",
    "\n",
    "    page.add(ft.SafeArea(ft.Text(\"Hello, Flet!\")))\n",
    "\n",
    "ft.app(main)"
   ]
  },
  {
   "cell_type": "markdown",
   "metadata": {},
   "source": [
    "10. Vamos ver como o nosso app está ficando. Para fins práticos, será mostrado abaixo apenas a tela do app no Desktop, mas procure executar também o seu app nas versões Web e Mobile:"
   ]
  },
  {
   "cell_type": "markdown",
   "metadata": {},
   "source": [
    "### Light Mode:"
   ]
  },
  {
   "attachments": {
    "image.png": {
     "image/png": "[encoded data removed]"
    }
   },
   "cell_type": "markdown",
   "metadata": {},
   "source": [
    "![image.png](attachment:image.png)"
   ]
  },
  {
   "cell_type": "markdown",
   "metadata": {},
   "source": [
    "### Dark Mode:"
   ]
  },
  {
   "attachments": {
    "image.png": {
     "image/png": "[encoded data removed]"
    }
   },
   "cell_type": "markdown",
   "metadata": {},
   "source": [
    "![image.png](attachment:image.png)"
   ]
  },
  {
   "cell_type": "markdown",
   "metadata": {},
   "source": [
    "11. Legal! Agora, vamos começar a construção do app em si."
   ]
  },
  {
   "cell_type": "markdown",
   "metadata": {},
   "source": [
    "### Adicionando controles de página e manipulando eventos\n",
    "\n",
    "12. Para o nosso app, precisaremos desses controles:\n",
    "\n",
    "- `Text`: exibe o resultado na tela.\n",
    "- `TextField`: controle de entrada usado para receber os valores dos combustíveis.\n",
    "- `ElevatedButton`: Botão \"Calcular\" enviará os valores para a função, que retornará o resultado.\n",
    "- `Row`: um container para exibir TextField e ElevatedButton horizontalmente.\n",
    "\n",
    "13. Vamos substituir o conteúdo do `ft.Text()`dentro de `ft.SafeArea()` por um texto que funcionará como um título na página do App:"
   ]
  },
  {
   "cell_type": "code",
   "execution_count": null,
   "metadata": {},
   "outputs": [],
   "source": [
    "import flet as ft\n",
    "\n",
    "def main(page: ft.Page):\n",
    "    def mudar_tema(e):\n",
    "        page.theme_mode = (\n",
    "            ft.ThemeMode.DARK\n",
    "            if page.theme_mode == ft.ThemeMode.LIGHT\n",
    "            else ft.ThemeMode.LIGHT\n",
    "        )\n",
    "        page.bgcolor = (\n",
    "            ft.colors.WHITE\n",
    "            if page.theme_mode == ft.ThemeMode.LIGHT\n",
    "            else ft.colors.GREY_900\n",
    "        )\n",
    "        tema.name = (\n",
    "            ft.icons.SUNNY\n",
    "            if page.theme_mode == ft.ThemeMode.LIGHT\n",
    "            else ft.icons.MODE_NIGHT\n",
    "        )\n",
    "        page.update()\n",
    "\n",
    "    page.title = \"Combustível\"\n",
    "    page.theme_mode = ft.ThemeMode.LIGHT\n",
    "    page.bgcolor = ft.colors.WHITE\n",
    "\n",
    "    tema = ft.Icon(name=ft.icons.SUNNY)\n",
    "    interruptor = ft.Switch(on_change=mudar_tema)\n",
    "\n",
    "    page.appbar = ft.AppBar(title=ft.Text(\"Combustível\", size=16), actions=[tema, interruptor])\n",
    "\n",
    "    page.add(ft.SafeArea(ft.Row([ft.Text(\"\\nCusto-benefício combustível\", size=25, weight=\"bold\")], alignment=ft.MainAxisAlignment.CENTER)))\n",
    "\n",
    "ft.app(main)"
   ]
  }
 ],
 "metadata": {
  "kernelspec": {
   "display_name": ".venv",
   "language": "python",
   "name": "python3"
  },
  "language_info": {
   "name": "python",
   "version": "3.12.7"
  }
 },
 "nbformat": 4,
 "nbformat_minor": 2
}
