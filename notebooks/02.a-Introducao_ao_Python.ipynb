{
 "cells": [
  {
   "cell_type": "markdown",
   "metadata": {},
   "source": [
    "# **Introdução ao Python**\n",
    "---\n",
    "\n",
    "## Pré-requisitos da aula\n",
    "\n",
    "- Aula inaugural\n",
    "\n",
    "---"
   ]
  },
  {
   "cell_type": "markdown",
   "metadata": {},
   "source": [
    "### O bote do Python: ela vai te morder e te dar um abraço tão forte que você vai ficar sem ar"
   ]
  },
  {
   "cell_type": "markdown",
   "metadata": {},
   "source": [
    "<div style=\"display: flex; justify-content: center\">\n",
    "    <img src=\"../assets/python_200x269.png\" alt=\"Cobra Píton Reticulada em PNG\" />\n",
    "</div>"
   ]
  },
  {
   "cell_type": "markdown",
   "metadata": {},
   "source": [
    "**Nome:** Píton Reticulada <br />\n",
    "**Nome científico:** _Malayopython reticulatus_ <br />\n",
    "**Peçonhenta:** Não <br />\n",
    "**Tamanho:** 7 metros em média, podendo atingir até 9 metros de comprimeito <br />\n",
    "**Peso:** 170 kg em média <br />\n",
    "**Bioma:** Florestas Tropicais <br />\n",
    "**Localidade:** Sudeste da Ásia <br />\n",
    "\n",
    "**É considerada a maior cobra em comprimento do mundo, e a segunda maior em massa corporal (atrás apenas da Sucuri verde da Amazônia brasileira).**\n",
    "\n",
    "\n"
   ]
  },
  {
   "cell_type": "markdown",
   "metadata": {},
   "source": [
    "## Python: a linguagem de programação mais popular da atualidade\n",
    "---"
   ]
  },
  {
   "cell_type": "markdown",
   "metadata": {},
   "source": [
    "### Espera, esse curso não é da área de Biologia, e muito menos é sobre cobras..."
   ]
  },
  {
   "cell_type": "markdown",
   "metadata": {},
   "source": [
    "\n",
    "\n",
    "Estamos aqui para aprender sobre a linguagem de programação **Python**, que há mais de 10 anos está entre as 3 linguagens de programação mais populares do mundo, e desde 2023 se encontra em 1º lugar nos mais confiáveis _rankings_ de popularidades. De acordo com o **GitHub**, a maior plataforma de repositórios de códigos-fonte do mundo, Python era a linguagem com o maior número de envios de _pushes_ (uploads de códigos-fonte nos repositórios) no primeiro trimestre de 2024, com aproximadamente 16%, seguido de Java, em 2º lugar, e JavaScript, em 3º.\n"
   ]
  },
  {
   "cell_type": "markdown",
   "metadata": {},
   "source": [
    "### Ranking do GitHub"
   ]
  },
  {
   "cell_type": "markdown",
   "metadata": {},
   "source": [
    "Abaixo segue a tabela com as 10 linguagens de programação mais populares do GitHub:"
   ]
  },
  {
   "cell_type": "markdown",
   "metadata": {},
   "source": [
    "<div style=\"display: flex; justify-content: center\">\n",
    "    <img src=\"../assets/10-linguagens-github-pushes-2024.png\" alt=\"10 Linguagens de programação mais populares em 2024\" />\n",
    "</div>"
   ]
  },
  {
   "cell_type": "markdown",
   "metadata": {},
   "source": [
    "### Gráfico dos últmos 11 anos"
   ]
  },
  {
   "cell_type": "markdown",
   "metadata": {},
   "source": [
    "\n",
    "\n",
    "Abaixo segue um gráfico com a evolução da popularidade dessas linguagens nos últimos 11 anos. Observe que JavaScript era a linguagem mais usada até o ano de 2018 em termos de envios à plataforma, com uma popularidade inacreditavelmente alta, com mais de 25% entre 2014 e 2017, seguido de Python, enquanto que o gráfico de Java mostra uma linguagem incrivelmente estável em popularidade. Porém, a partir de 2019, o JavaScript começou a perder popularidade, chegando a ficar ligeiramente abaixo do Java nos últimos 2 anos, enquanto que o Python, que já era extremamente popular, ganhou ainda mais popularidade, se tornando atualmente a linguagem número 1:\n",
    "\n",
    "\n"
   ]
  },
  {
   "cell_type": "markdown",
   "metadata": {},
   "source": [
    "<div style=\"display: flex; justify-content: center\">\n",
    "    <img src=\"../assets/grafico-10-linguagens-github-pushes-2024.png\" alt=\"Gráfico com as 10 linguagens de programação mais populares em 2024\" />\n",
    "</div>"
   ]
  },
  {
   "cell_type": "markdown",
   "metadata": {},
   "source": [
    "#### Fonte:\n",
    "\n",
    "- https://madnight.github.io/githut/#/pushes/2024/1"
   ]
  },
  {
   "cell_type": "markdown",
   "metadata": {},
   "source": [
    "### Ranking da Hostinger\n",
    "\n",
    "Esse não é o único _rankinig_ a ser analisado. Há diversos outros _rankings_ que também podem ser consultados, cada um com uma lista diferente, e que utiliza critérios de classificação diferentes. Portanto, um único _ranking_ não é o suficiente para dizer que Python é a linguagem de programação número 1 do mundo. É preciso analisar outros critérios de classificação para verificar a popularidade da linguagem.\n",
    "\n",
    "De acordo com o serviço de hospedagem de websites ***Hostinger***, no artigo publicado em 2024 no link https://www.hostinger.com.br/tutoriais/linguagens-de-programacao-mais-usadas, Python também é a linguagem mais popular em seu próprio Ranking. Veja:"
   ]
  },
  {
   "cell_type": "markdown",
   "metadata": {},
   "source": [
    "<div style=\"display: flex; justify-content: center\">\n",
    "    <img src=\"../assets/10-linguagens-hostinger-2024.png\" alt=\"10 linguagens de programação mais usadas de acordo com a Hostinger\" />\n",
    "</div>"
   ]
  },
  {
   "cell_type": "markdown",
   "metadata": {},
   "source": [
    "Repare que a popularidade de cada linguagem muda nesse _ranking_, e mesmo assim, Python também é a linguagem mais popular.\n",
    "\n",
    "### Ranking do PYPL\n",
    "\n",
    "Vejamos agora esse outro _ranking_ do site ***PYPL***, que pode ser encontrado no link https://pypl.github.io/PYPL.html, que analisa a popularidade de cada linguagem de acordo com o número de busca por tutoriais no Google:"
   ]
  },
  {
   "cell_type": "markdown",
   "metadata": {},
   "source": [
    "<div style=\"display: flex; justify-content: center\">\n",
    "    <img src=\"../assets/10-linguagens-pypl-2024.png\" alt=\"10 linguagens de programação mais usadas de acordo com a PYPL\" />\n",
    "</div>"
   ]
  },
  {
   "cell_type": "markdown",
   "metadata": {},
   "source": [
    "Observe que Python continua em 1º lugar em popularidade, seguido por Java e JavaScript, completando o Top 3.\n",
    "\n",
    "Agora vamos observar como está a fatia de cada linguagem no mercado de trabalho de acordo com o PYPL:"
   ]
  },
  {
   "cell_type": "markdown",
   "metadata": {},
   "source": [
    "<div style=\"display: flex; justify-content: center\">\n",
    "    <img src=\"../assets/pypl_grafico_pizza.png\" alt=\"Gráfico pizza PYPL\" />\n",
    "</div>"
   ]
  },
  {
   "cell_type": "markdown",
   "metadata": {},
   "source": [
    "### Ranking da TIOBE\n",
    "\n",
    "Agora observe o _ranking_ da TIOBE (https://www.tiobe.com/tiobe-index/), cujas classificações são baseadas no número de engenheiros qualificados nas linguagens em todo o mundo, cursos e fornecedores terceirizados."
   ]
  },
  {
   "cell_type": "markdown",
   "metadata": {},
   "source": [
    "<div style=\"display: flex; justify-content: center\">\n",
    "    <img src=\"../assets/10-linguagens-tiobe-2024.png\" alt=\"10 linguagens de programação mais usadas de acordo com a TIOBE\" />\n",
    "</div>"
   ]
  },
  {
   "cell_type": "markdown",
   "metadata": {},
   "source": [
    "\n",
    "Mais uma vez, a classificação é bem diferente, mas veja que todas as classificações tem algo em comum: **todas elas têm Python como a linguagem de programação mais popular**.\n",
    "\n",
    "Assim como o _ranking_ do PYPL, o _ranking_ da TIOBE também é um dos mais confiáveis do mundo. Observe que no ano anterior, Java estava no top 3, mas caiu uma posição, perdendo para o C++. Uma das surpresas do _ranking_ é o JavaScript, que costuma ocupar facilmente o Top 3 em outros _rankings_, aqui sequer está no top 5, embora tenha subido uma posição em relação ao ano anterior, passando de 7º para 6º.\n",
    "\n",
    "Veja agora o gráfico com a evolução das linguagens do Top 10 do _ranking_ da TIOBE:"
   ]
  },
  {
   "cell_type": "markdown",
   "metadata": {},
   "source": [
    "<div style=\"display: flex; justify-content: center\">\n",
    "    <img src=\"../assets/grafico-10-linguagens-tiobes-2024.png\" alt=\"Gráfico com as 10 linguagens de programação mais usadas de acordo com a TIOBE\" />\n",
    "</div>"
   ]
  },
  {
   "cell_type": "markdown",
   "metadata": {},
   "source": [
    "Para ter uma visão geral, veja abaixo as posições das 10 principais linguagens de programação de muitos anos atrás no _ranking_ da TIOBE. Observe que essas são posições médias para um período de 12 meses."
   ]
  },
  {
   "cell_type": "markdown",
   "metadata": {},
   "source": [
    "<div style=\"display: flex; justify-content: center\">\n",
    "    <img src=\"../assets/10-linguagens-tiobe-anos-anteriores.png\" alt=\"10 linguagens de programação mais usadas nos anos anteriores de acordo com a TIOBE\" />\n",
    "</div>"
   ]
  },
  {
   "cell_type": "markdown",
   "metadata": {},
   "source": [
    "Observe que a partir de 2004, Python só cresceu, e nunca caiu uma posição sequer, atingindo o 1º lugar em 2024.\n",
    "\n",
    "Veja agora o **hall da fama** do TIOBE listando todos os vencedores do prêmio \"Linguagem de Programação do Ano\" é mostrado abaixo. O prêmio é concedido à linguagem de programação que tiver o maior aumento nas avaliações em um ano."
   ]
  },
  {
   "cell_type": "markdown",
   "metadata": {},
   "source": [
    "<div style=\"display: flex; justify-content: center\">\n",
    "    <img src=\"../assets/hall-da-fama-tiobe.png\" alt=\"Hall da Fama TIOBE\" />\n",
    "</div>"
   ]
  },
  {
   "cell_type": "markdown",
   "metadata": {},
   "source": [
    "Observe um detalhe interessante: **qual linguagem de programação aparece mais vezes como a vencedora de algum ano?** Extamente: ***Python***.\n",
    "\n",
    "Vamos observar agora o gráfico pizza do **TIOBE**:"
   ]
  },
  {
   "cell_type": "markdown",
   "metadata": {},
   "source": [
    "<div style=\"display: flex; justify-content: center\">\n",
    "    <img src=\"../assets/tiobe-grafico_pizza.png\" alt=\"TIOBE Gráfico Pizza\" />\n",
    "</div>"
   ]
  },
  {
   "cell_type": "markdown",
   "metadata": {},
   "source": [
    "\n",
    "\n",
    "\n",
    "### Qual o motivo de sua popularidade?"
   ]
  },
  {
   "cell_type": "markdown",
   "metadata": {},
   "source": [
    "Uma das principais características que fizeram o Python tão popular, é o fato de que ela foi criada para ser uma linguagem de pouca escrita, em que com poucas linhas de código e em pouco tempo seja possível fazer várias coisas que em outras linguagens demoraria muito mais tempo, e com dezenas de linhas de código a mais.\n",
    "\n",
    "Outro ponto a favor da linguagem é sua versatilidade: é possível fazer rapidamente qualquer coisa. Desde sistemas CRUD Web, passando por automatizações de tarefas, programação com placas Arduíno e Raspberry Pi, robótica, hacking, e até mesmo análise de dados e criação de programas com Inteligência Artificial. Graças a essas características, o Python pode substituir facilmente várias linguagens de programação nas mais variadas tarefas possíveis. Há ainda o fato de que a linguagem tem uma curva de aprendizagem bastante baixa quando comparado a outras linguagens, principalmente C e Java, se tornando uma das melhores e mais fáceis opções de linguagem para iniciantes.\n",
    "\n",
    "Tarefas pelas quais a linguagem Python é utilizada no mercado de trabalho:\n",
    "\n",
    "- Estudos de Lógica de Programação;\n",
    "- Programação de Sistemas Web;\n",
    "- Dashboards;\n",
    "- Automação;\n",
    "- Robótica;\n",
    "- Programação de disositivos como o Arduíno e Raspberry Pi;\n",
    "- Hacking e Pentest;\n",
    "- Análise e Ciência de Dados;\n",
    "- Cálculos de Estatísticas e Probabilidades;\n",
    "- Programação de Inteligência Artificial."
   ]
  },
  {
   "cell_type": "markdown",
   "metadata": {},
   "source": [
    "### Por que estudar Python agora?"
   ]
  },
  {
   "cell_type": "markdown",
   "metadata": {},
   "source": [
    "Um dos pontos onde Python é mais forte é na programação de sistemas de IA, a tão conhecida Inteligência Artificial, tão retratada nos filmes.\n",
    "\n",
    "Embora não seja uma tecnologia nova (a tecnologia foi implementada pela primeira vez na década de 50), só agora ela está engrenando de vez, graças à popularidade de serviços que utilizam a chamada IA Generativa em 2023, como o ChatGPT como o melhor exemplo. Graças a isso, todas as apostas se direcionaram para a IA, e elas são bastante altas, o que fez com que a popularidade das  linguagens Java, Julia, R e Python explodisse de vez, sendo Python o representante que apresenta a melhor facilidade de aprendizado e também o menor tempo de produção, o que se traduz em menores custos de desenvolvimento.\n",
    "\n",
    "Todos esses fatores fazem o ano de 2024 o ano da cobra. Ops, quer dizer, do Python, o que implica em maior sorte de quem investir nessa tecnologia nesse ano, com maior facilidade de conseguir emprego, e também os melhores salários."
   ]
  },
  {
   "cell_type": "markdown",
   "metadata": {},
   "source": [
    "### E o mercado de trabalho para Python?"
   ]
  },
  {
   "cell_type": "markdown",
   "metadata": {},
   "source": [
    "De acordo com o site pesquisa.codigofonte.com.br, a média salárial de um programador Python no ano de 2023 foi de **R$ 8.599,68**, obtendo um crescimento no salário em relação ao ano anterior (2022), estando em 4º lugar no _ranking_ do site, analisando tanto o valor quanto o crescimento e o número de programadores que participaram da pesquisa. Segue abaixo um print da pesquisa do site:"
   ]
  },
  {
   "cell_type": "markdown",
   "metadata": {},
   "source": [
    "<div style=\"display: flex; justify-content: center\">\n",
    "    <img src=\"../assets/media-salarial-codigo-fonte.png\" alt=\"Média Salarial por Linguagem de Programação. Pesquisa realizada pelo Código Fonte TV em 2024\" />\n",
    "</div>"
   ]
  },
  {
   "cell_type": "markdown",
   "metadata": {},
   "source": [
    "#### Fonte:\n",
    "- https://pesquisa.codigofonte.com.br/2024"
   ]
  },
  {
   "cell_type": "markdown",
   "metadata": {},
   "source": [
    "## Conhecendo o Python\n",
    "---"
   ]
  },
  {
   "cell_type": "markdown",
   "metadata": {},
   "source": [
    "### História"
   ]
  },
  {
   "cell_type": "markdown",
   "metadata": {},
   "source": [
    "O Python foi criado pelo programador holandês **Guido Van Rossum** em 1989 no **Centrum Wiskunde & Informatica (CWI)**, inicialmente como um _hobby_. A primeira versão (0.9.0) foi publicada em 1991. A versão 1.0 foi publicada em 1994. O 2.0 em 2000. E em 2008 foi lançado o Python 3.0. A versão mais recente (Maio de 2024) é o **Python 3.12.3**.\n",
    "\n",
    "Ao contrário do que muitos imaginam, a linguagem não recebeu esse nome em homenagem a nenhuma cobra ou coisa do tipo. Aliás, o motivo do nome em nada tem a ver com cobras: Guido era muito fã de um programa de TV humorístico da BBC chamado **_Monty Python_**, que segue a linha de programas como o Zorra Total ou o Casseta & Planeta Urgente, daí o nome."
   ]
  },
  {
   "cell_type": "markdown",
   "metadata": {},
   "source": [
    "<div style=\"display: flex; justify-content: center\">\n",
    "    <img src=\"../assets/monty-python-cartaz.jpg\" alt=\"Cartaz de um filme protagonizado pelo grupo humorístico 'Monty Python'\" width=400 />\n",
    "</div>"
   ]
  },
  {
   "cell_type": "markdown",
   "metadata": {},
   "source": [
    "### Principais recursos do Python"
   ]
  },
  {
   "cell_type": "markdown",
   "metadata": {},
   "source": [
    "- **É interpretada:** O Python executa diretamente o código linha por linha. Se houver erros no código do programa, ele será interrompido. Portanto, os programadores podem encontrar rapidamente erros no código.\n",
    "\n",
    "- **Fácil de usar:** Comandos curtos e fáceis de lembrar, todos em inglês técnico básico. E eles não terminam com ponto e vírgula (;). Experimenta fazer uma estrutura de dados com Python, é uma delícia.\n",
    "- **Indentação obrigatória:** Python não usa chaves ({}) para montar os blocos de programação. Ao invés disso, ele usa a própria indentação do cóigo, que é **obrigatória**.\n",
    "\n",
    "- **Tipagem dinâmica:** Assim como o JavaScript e o PHP, por exempplo, não há a necessidade de se declarar tipos de dados em Python: você declara uma variável, e inicializa atribuíndo a ela o valor desejado. Simples assim. O resto a própria linguagem faz o trabalho.\n",
    "\n",
    "- **Linguagem de Alto Nível:** Existem as linguagems de baixo nível e as de alto nível. Linguagens de baixo nível possui comandos mais próximos ao entendimento da máquina, enquanto as de alto nível, como o Python, possuem comandos próximos ao entendimento humano, o que a torna uma linguagem fácil de entender até mesmo para os iniciantes.\n",
    "\n",
    "- **É possível programar com o Paradígma da Orientação a Objetos:** Sim, o Python também possui Orientação a Objetos (OO), e com ele, todas as suas características: Herança, Abstração, Polimorfismo e Encapsulamento.\n",
    "\n",
    "- **É sensitive case:** Isso significa que letras maiúsculas são diferentes das letras minúsculas.\n",
    "\n",
    "- **Possui um número absurdo de bibliotecas:** Por padrão, o Python possui a **Standard Library**, com muitas funções extremamente úteis. Porém, é possível introduzir no código-fonte outras bibliotecas externas aumentando, e muito, o poder da linguagem. Algumas delas são voltadas para construção de gráficos, outras para Ciência de Dados, outras para Inteligência Artificial, outras para construção de Interface Gráfica, outras para acesso aos comandos dos Sistemas Operacionais, e por aí vai."
   ]
  },
  {
   "cell_type": "markdown",
   "metadata": {},
   "source": [
    "### Fonte:\n",
    "- https://aws.amazon.com/pt/what-is/python/#:~:text=alterações%20no%20código.-,Qual%20é%20a%20história%20do%20Python%3F,manter%20ocupado%20durante%20o%20Natal."
   ]
  },
  {
   "cell_type": "markdown",
   "metadata": {},
   "source": [
    "## Editores de Código Vs IDEs\n",
    "---"
   ]
  },
  {
   "cell_type": "markdown",
   "metadata": {},
   "source": [
    "### Editores de Código"
   ]
  },
  {
   "cell_type": "markdown",
   "metadata": {},
   "source": [
    "Um **Editor de Código** é um programa utilizado para edição de códigos-fonte de qualquer linguagem de programação. Geralmente são programas simples e leves, mas que possuem suporte aos chamados _plug-ins_, pequenas extensões para o programa que aumentam o poder do editor, fornecendo novos recursos, às vezes específicos para uma linguagem específica.\n",
    "\n",
    "**Vantagens:** leveza, simplicidade, foco no código-fonte, altamente personalizável, e possuem uma enorme quantidade de plug-ins, podendo deixar o editor tão bom quanto uma IDE, e com a cara do desenvolvedor. Praticamente todos são gratuítos.\n",
    "\n",
    "**Desvantagens:** por não possuir foco em uma linguagem específica, o desenvolvedor pode inicialmente sentir falta de muitos recursos. Além disso, exige a necessiadade de uma coniguração inicial relativamente longa. Costumam possuir muitos _bugs_."
   ]
  },
  {
   "cell_type": "markdown",
   "metadata": {},
   "source": [
    "#### Exemplos\n",
    "\n",
    "- Visual Studio Code (VSCode)\n",
    "- Sublime Text\n",
    "- Brackets\n",
    "- Notepad++\n",
    "- Bloco de Notas\n",
    "- VIM\n",
    "- Atom"
   ]
  },
  {
   "cell_type": "markdown",
   "metadata": {},
   "source": [
    "### IDE"
   ]
  },
  {
   "cell_type": "markdown",
   "metadata": {},
   "source": [
    "Uma **Integrated Development Environment**, ou simplesmente **IDE**, ou ainda em bom português um **Ambiente de Desenvolvimento Integrado** é um software que combina ferramentas de desenvolvimento de uma linguagem específica com um editor para aquela linguagem. Costumam ser mais pesados, mas também mais completos e profissionais.\n",
    "\n",
    "**Vantagens:** são mais completos, e com recursos que definitivamente fazem falta em um editor de códigos comum. É o tipo de programa ideal para trabalhos grandes, que exigem tempo.\n",
    "\n",
    "**Desvantagens:** são mais pesados e carregados. Possuem um visual muito mais poluído e podem ser mais difíceis de dominar para um iniciante. Algumas IDEs mais completas são pagas."
   ]
  },
  {
   "cell_type": "markdown",
   "metadata": {},
   "source": [
    "#### Exemplos\n",
    "\n",
    "- PyCharm\n",
    "- IDLE\n",
    "- Spyder\n",
    "- Jupyter\n",
    "- Mu\n",
    "- Wing\n",
    "- Thonny\n",
    "- Visual Studio IDE (versão Python)"
   ]
  },
  {
   "cell_type": "markdown",
   "metadata": {},
   "source": [
    "## Exercícios\n",
    "---"
   ]
  },
  {
   "cell_type": "markdown",
   "metadata": {},
   "source": [
    "### 1. Por que a linguagem se chama Python?\n",
    "\n",
    "<form>\n",
    "    <input type=\"radio\" name=\"1\" unchecked /><span>Em homenagem ao animal de estimação do criador, que era uma Píton</span><br />\n",
    "    <input type=\"radio\" name=\"1\" unchecked  /><span>Em homenagem à sogra, que tinha o costumo de ser chamada de Píton</span><br />\n",
    "    <input type=\"radio\" name=\"1\" unchecked  /><span>Em homenagem a um programa de TV humorístico, o Monty Python</span><br />\n",
    "    <input type=\"radio\" name=\"1\" unchecked  /><span>Em homenagem ao instituto de preservação da Píton Reticulada, ameaçada de extinção</span><br />\n",
    "</form>"
   ]
  },
  {
   "cell_type": "markdown",
   "metadata": {},
   "source": [
    "### 2. Python trabalha com qual das tarefas abaixo?\n",
    "\n",
    "<form>\n",
    "    <input type=\"radio\" name=\"2\" unchecked /><span>Sistemas Web</span><br />\n",
    "    <input type=\"radio\" name=\"2\" unchecked  /><span>Inteligência Artificial</span><br />\n",
    "    <input type=\"radio\" name=\"2\" unchecked  /><span>Programação de placas Arduíno</span><br />\n",
    "    <input type=\"radio\" name=\"2\" unchecked  /><span>Todas as opções acima</span><br />\n",
    "</form>"
   ]
  },
  {
   "cell_type": "markdown",
   "metadata": {},
   "source": [
    "### 3. Qual a linguagem de programação mais popular atualmente?\n",
    "\n",
    "<form>\n",
    "    <input type=\"radio\" name=\"3\" unchecked /><span>Java</span><br />\n",
    "    <input type=\"radio\" name=\"3\" unchecked  /><span>Python</span><br />\n",
    "    <input type=\"radio\" name=\"3\" unchecked  /><span>JavaScript</span><br />\n",
    "    <input type=\"radio\" name=\"3\" unchecked  /><span>Português</span><br />\n",
    "</form>"
   ]
  },
  {
   "cell_type": "markdown",
   "metadata": {},
   "source": [
    "### 4. Qual versão mais atual do Python?\n",
    "\n",
    "<form>\n",
    "    <input type=\"radio\" name=\"4\" unchecked /><span>3.x</span><br />\n",
    "    <input type=\"radio\" name=\"4\" unchecked  /><span>2.x</span><br />\n",
    "    <input type=\"radio\" name=\"4\" unchecked  /><span>1.x</span><br />\n",
    "    <input type=\"radio\" name=\"4\" unchecked  /><span>0.x</span><br />\n",
    "</form>"
   ]
  },
  {
   "cell_type": "markdown",
   "metadata": {},
   "source": [
    "### 5. Marque todas as opções de programas abaixo que podem ser usados para programar Python:\n",
    "\n",
    "<form>\n",
    "    <input type=\"checkbox\" name=\"5\" unchecked /><span>VSCode</span><br />\n",
    "    <input type=\"checkbox\" name=\"5\" unchecked  /><span>PyCharm</span><br />\n",
    "    <input type=\"checkbox\" name=\"5\" unchecked  /><span>Eclipse IDE for Enterprise Java and Web Developers</span><br />\n",
    "    <input type=\"checkbox\" name=\"5\" unchecked  /><span>Word</span><br />\n",
    "</form>"
   ]
  }
 ],
 "metadata": {
  "kernelspec": {
   "display_name": ".venv",
   "language": "python",
   "name": "python3"
  },
  "language_info": {
   "codemirror_mode": {
    "name": "ipython",
    "version": 3
   },
   "file_extension": ".py",
   "mimetype": "text/x-python",
   "name": "python",
   "nbconvert_exporter": "python",
   "pygments_lexer": "ipython3",
   "version": "3.12.7"
  }
 },
 "nbformat": 4,
 "nbformat_minor": 4
}
