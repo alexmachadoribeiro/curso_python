{
 "cells": [
  {
   "cell_type": "markdown",
   "metadata": {},
   "source": [
    "# **Banco de Dados Relacional**\n",
    "---"
   ]
  },
  {
   "cell_type": "markdown",
   "metadata": {},
   "source": [
    "## Pré-requisitos da aula\n",
    "\n",
    "- Aula inaugural\n",
    "- Introdução ao Banco de Dados\n",
    "\n",
    "---"
   ]
  },
  {
   "cell_type": "markdown",
   "metadata": {},
   "source": [
    "## O que é Banco de Dados Relacional (RDBMS)?\n",
    "---\n",
    "\n",
    "De acordo com a dona dos dois maiores SGBDs do mundo, que são a Oracle e o MySQL (https://www.oracle.com/br/database/what-is-a-relational-database/), **um banco de dados relacional é um tipo de banco de dados que armazena e fornece acesso a pontos de dados relacionados entre si**.\n",
    "\n",
    "Nesse modelo, os dados são organizados em **tabelas**, que por sua vez são divididas em **colunas** e **linhas**. Cada banco de dados possui várias tabelas, que estão relacionadas entre si. As tabelas são representações do que chamamos de **Entidades**, e cada entidade possui o que chamamos de **atributos**, e quando os atributos são registrados na tabela, estamos inserindo uma **tupla**.\n",
    "\n",
    "### Conceitos\n",
    "\n",
    "#### Entidade\n",
    "\n",
    "De forma simplificada, uma entidade **é basicamente tudo e qualquer coisa que possui existência**. Se algo existe, então ele é uma entidade. Exemplos: uma pessoa, um aluno, uma conta, uma turma, etc...\n",
    "\n",
    "Em um banco de dados, uma entidade é representada por uma tabela.\n",
    "\n",
    "#### Atributos\n",
    "\n",
    "Toda entidade possui **atributos**. Os atributos **são valores que definem as entidades e as diferenciam uma das outras**. Cada entidade possui seus próprios atributos, e quando o usuário insere dados, basicamente ele está preenchendo os valores desses atributos. Exemplo: nome, cpf, e-mail, etc...\n",
    "\n",
    "Em um banco de dados, o atributo de uma entidade corresponde a uma **coluna** de uma tabela, e pode também ser chamado de **campo**.\n",
    "\n",
    "#### Registros\n",
    "\n",
    "Quando o usuário termina de preencher todos os campos e manda cadastrar é inserido um novo **registro** no banco. Esse registro **contém todos os dados de um único cadastro**. Exemplo: os dados de uma única pessoa correspondem a um registro.\n",
    "\n",
    "Quando um novo registro é inserido em um banco de dados, é acresccentada uma nova **linha** na tabela correspondente. Também chamamos essa linha ou registro de **tupla**.\n",
    "\n",
    "##### Resumo\n",
    "\n",
    "- Entidade = Tabela\n",
    "- Atributos = Campos = Colunas\n",
    "- Registros = Tuplas = Linhas"
   ]
  },
  {
   "cell_type": "markdown",
   "metadata": {},
   "source": [
    "## Cardinalidade\n",
    "---\n",
    "\n",
    "A **cardinalidade** é o nome que damos para os tipos de relacionamento que cada uma das entidades (tabelas) possuem uma com as outras. Essa é a base para qualquer banco de dados relacional. São 3 tipos de cardinalidades:\n",
    "\n",
    "- **1:1 - Um-para-um**. Exemplo: um cliente de uma locadora de carros só poderá alugar um único carro por vez.\n",
    "- **1:N - Um-para-muitos**. Exemplo: um professor pode dar aula para várias turmas de qualificação do SENAI, mas uma turma de qualificação só pode ter um professor.\n",
    "- **N:M - Muito-para-muitos**. Exemplo: uma turma do ensino médio pode ter vários professores, e cada professor pode dar aula para mais de uma turma.\n",
    "\n",
    "Esse assunto será mais detalhado em aulas futuras."
   ]
  },
  {
   "cell_type": "markdown",
   "metadata": {},
   "source": [
    "## Structured Query Language (SQL)\n",
    "---\n",
    "\n",
    "A popular **Linguagem de Consulta Estruturada**, mais conhecida como **SQL**, é a linguagem utilizada em qualquer SGBD do tipo relacional. É a linguagem utilizada para trabalhar com o banco de dados do servidor, e é dividida em várias categorias. As mais conhecidas (obrigatórias) são:\n",
    "\n",
    "### DDL\n",
    "\n",
    "Sigla para **Data Definition Language**. Significa **Linguagem de Definição de Dados**. São comandos utilizados para criar, alterar ou destruir tabelas ou até mesmo bancos inteiros. Os comandos mais conhecidos são:\n",
    "\n",
    "- CREATE\n",
    "- ALTER\n",
    "- DROP\n",
    "\n",
    "### DML\n",
    "\n",
    "Sigla para **Data Manipulation Language**. Significa **Linguagem de Manipulação de Dados**. São comandos utilizados para manipular os dados dentro das tabelas. É essa categoria de comandos que realiza tarefas como inserir um novo registro, alterar algum atributo, ou até mesmo deletar alguma tupla. Os comandos mais conhecidos são:\n",
    "\n",
    "- INSERT\n",
    "- UPDATE\n",
    "- DELETE\n",
    "\n",
    "### DQL\n",
    "\n",
    "Sigla para **Data Query Language**. Significa **Linguagem de Consulta de Dados**. São comandos utilizados para retornar consultas aos dados do banco. Seu exemplo mais famoso de todos é:\n",
    "\n",
    "- SELECT\n",
    "\n",
    "### DCL\n",
    "\n",
    "Sigla para **Data Control Language**. Significa **Linguagem de Controle de Dados**. São comandos utilizados para o controle dos utilizadores do banco de dados. Essa é a categoria que concede ou nega permissões para a realização de alguns comandos e/ou tarefas diretamente no banco por parte de outros profissionais que ainda não possuem confiança suficiente por parte da empresa para o acesso total ao banco de dados. Os comandos mais famosos são:\n",
    "\n",
    "- GRANT\n",
    "- REVOKE\n",
    "- DENY\n",
    "\n",
    "O SQL é utilizado no que chamamos de **modelo físico do banco de dados**, ou seja, diretamente no acesso ao servidor do banco. Isso será visto com muito mais detalhes mais para frente no curso."
   ]
  }
 ],
 "metadata": {
  "language_info": {
   "name": "python"
  }
 },
 "nbformat": 4,
 "nbformat_minor": 2
}
