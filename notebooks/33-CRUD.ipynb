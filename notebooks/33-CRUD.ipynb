{
 "cells": [
  {
   "cell_type": "markdown",
   "id": "12c73ca0",
   "metadata": {},
   "source": [
    "# CRUD\n",
    "---"
   ]
  },
  {
   "cell_type": "markdown",
   "id": "17935190",
   "metadata": {},
   "source": [
    "## Requisitos da Aula\n",
    "\n",
    "- SQLAlchemy\n",
    "\n",
    "---"
   ]
  },
  {
   "cell_type": "markdown",
   "id": "046ce143",
   "metadata": {},
   "source": [
    "Agora que finalmente começamos a fazer operações de banco de dados utilizando Python, podemos criar um CRUD completo utilizando o banco de dados, como deve ser feito."
   ]
  },
  {
   "cell_type": "markdown",
   "id": "bfca45b2",
   "metadata": {},
   "source": [
    "## O que é um CRUD?\n",
    "---\n",
    "\n",
    "CRUD, caso ainda não tenha ficado claro, é a sigla para **CREATE**, **READ**, **UPDATE** e **DELETE (criar, ler, alterar e excluir)**. É basicamente o nome que damos para qualquer sistema que realize essas 4 operações em um banco de dados."
   ]
  }
 ],
 "metadata": {
  "language_info": {
   "name": "python"
  }
 },
 "nbformat": 4,
 "nbformat_minor": 5
}
