{
 "cells": [
  {
   "cell_type": "markdown",
   "metadata": {},
   "source": [
    "# **Light e Dark Theme**\n",
    "---\n",
    "\n",
    "## Pré-requisitos da aula\n",
    "\n",
    "- Funções\n",
    "- Import\n",
    "- Orientação a Objetos\n",
    "- Interface Gráfica\n",
    "- Introdução ao Flet\n",
    "- Meu primeiro Flet App\n",
    "- Eventos\n",
    "\n",
    "---"
   ]
  },
  {
   "cell_type": "markdown",
   "metadata": {},
   "source": [
    "## Modos ou Temas\n",
    "---\n",
    "\n",
    "A essa altura do campeonato, você já deve conhecer os temas visuais disponíveis para os aplicativos, conhecidos como **Modo Claro** ou **Light Mode**, e **Modo Escuro** ou **Dark Mode**. Os **temas** ou **modos**, como preferir chamar, são modalidades visuais que ajudam o usuário a ter mais conforto e facilitam a visualização da tela.\n",
    "\n",
    "A escolha do tema por parte do usuário varia de acordo com a preferência de cada um: nem todos gostam do tema claro e nem todos se adaptam ao tema escuro. Há vantagens e desvantagens em cada um dos temas, e ter um botão que altere esse tema na sua aplicação é de extrema importância hoje em dia por vários motivos, incluindo usabilidade."
   ]
  },
  {
   "cell_type": "markdown",
   "metadata": {},
   "source": [
    "### Tema Claro ou Light Theme\n",
    "\n",
    "O Tema Claro é o padrão para a maioria das aplicações. Consiste em cores claras no fundo, como o branco, por exemplo, e cores escuras para textos e imagens monocromáticas, como o preto, por exemplo.\n",
    "\n",
    "#### Vantagens do Light Theme\n",
    "\n",
    "- A cor branca com texto preto é melhor para ler, independentemente do ambiente, porque a íris se contrai para permitir menos luz.\n",
    "- Em ambientes iluminados, esse tema funciona melhor, pois diminui o reflexo do ambiente na tela.\n",
    "- Melhor para pessoas que não pretendem passar muito tempo na frente da tela.\n",
    "- Melhor de enxergar em ambientes com luz natural.\n",
    "\n",
    "#### Desvantagens do Light Theme\n",
    "\n",
    "- As telas em light mode emitem muito brilho, o que pode causar tensão ocular.\n",
    "- O fundo claro pode causar ofuscamento, o que também prejudica a leitura.\n",
    "- O tema claro pode atrapalhar a dormir e diminuir a qualidade do sono.\n",
    "- As cores claras, pelo incrível que pareça, consomem mais energia dos dispositivos, aumentando o consumo de energia do equipamento\n",
    "- Também diminui o tempo de vida útil da bateria dos dispositivos móveis.\n",
    "- A longa exposição ao modo claro pode causar fadiga e prejudicar a saúde dos seus olhos.\n",
    "\n",
    "#### Light Theme é mais indicado para:\n",
    "\n",
    "- Ambientes bem iluminados.\n",
    "- Pessoas com hábitos de leitura, principalmente em dispositivos eletrônicos.\n",
    "- Usuários mais leigos em informática.\n",
    "- Usuários que não trabalham tanto com computadores, ou passam pouco tempo na frente de uma tela."
   ]
  },
  {
   "cell_type": "markdown",
   "metadata": {},
   "source": [
    "### Tema Escuro ou Dark Theme\n",
    "\n",
    "O Tema Escuro ultimamente está virando o queridinho na TI. Consiste em cores escuras no fundo (não necessariamente o preto) e cores claras, como o branco, para textos e imagens monocromáticas. É importante frisar que o fato de a cor de fundo ser escura não implica que ela seja preta (quase nunca é). Pode ser cinza escuro, azul escuro, azul-marinho, roxo ou eigengrau, por exemplo.\n",
    "\n",
    "#### Vantagens do Dark Theme\n",
    "\n",
    "- Menor consumo de energia do computador.\n",
    "- Aumenta a vida útil da bateria dos dispositivos móveis.\n",
    "- O modo dark diminui a quantidade de brilho emitida pela tela, o que pode ajudar a reduzir o cansaço visual e a melhorar o sono.\n",
    "- O modo dark também pode ser indicado para pessoas com fotofobia ou outros problemas de visão.\n",
    "- Ajuda a manter o foco.\n",
    "- Aumenta a acessibilidade.\n",
    "- Melhor para ambientes com pouca iluminação.\n",
    "- Diminui o brilho da tela.\n",
    "- Melhor para pessoas com longa exposição ao computador.\n",
    "\n",
    "#### Desvantagens do Dark Theme\n",
    "\n",
    "- Mais difícil para se acostumar para quem não possui o hábito de telas mais escuras.\n",
    "- Em ambientes iluminados, o modo escuro aumenta o reflexo do ambiente na tela, dificultando a visualização.\n",
    "- Não indicado para ambientes com luz natural, como debaixo do Sol, por exemplo, pois diminui a visibilidade e força mais a visão.\n",
    "\n",
    "#### Dark Theme é mais indicado para:\n",
    "\n",
    "- Ambientes noturnos, fechados ou pouco iluminados.\n",
    "- Pessoas com longa exposição à telas de celulares, tablets ou computadores.\n",
    "- Programadores ou usuários avançados em TI.\n",
    "- Pessoas com problemas de visão.\n",
    "- Usuários que consomem conteúdos multimídia, como áudios e vídeos, por exemplo."
   ]
  },
  {
   "cell_type": "markdown",
   "metadata": {},
   "source": [
    "### Eigengrau ou Eigenlicht\n",
    "\n",
    "Responda rápido: qual a cor que você enxerga quando fecha os olhos, ou quando está em um ambiente totalmente escuro?\n",
    "\n",
    "Se respondeu preto, ERROU! A resposta certa é: a cor que você enxerga quando fecha os olhos chama-se **Eigengrau**, também conhecida como **Eigenlicht** (as duas são palavras germânicas, que em português significa algo como **cinza intrínseco** ou **cinza cerebral** no primeiro nome, e **luz intrínseca** ou **luz cerebral** no segundo nome). É a cor de fundo cinza escuro uniforme que muitas pessoas relatam ter visto em a ausência de luz. O termo Eigenlicht remonta ao século XIX, e raramente tem sido usado em publicações científicas recentes. Os termos científicos comuns para o fenômeno incluem “ruído visual” ou “adaptação ao fundo”. Esses termos surgem devido à percepção de um campo em constante mudança de pequenos pontos pretos e brancos vistos no fenômeno.\n",
    "\n",
    "Eigengrau é percebido como mais claro que um objeto preto em condições normais de iluminação, porque o contraste é mais importante para o sistema visual do que o brilho absoluto. Por exemplo, o céu noturno parece mais escuro do que Eigengrau devido ao contraste fornecido pelas estrelas.\n",
    "\n",
    "Em programação, os códigos para se chegar à cor Eigengrau são:\n",
    "\n",
    "- Hexadecimal: `#16161d`\n",
    "- RGB: `rgb(22, 22, 29)`\n",
    "- RGBA: `rgba(22, 22, 29, 1)`\n",
    "- CMYK: `(0.24, 0.24, 0.00, 0.89)`\n",
    "\n",
    "#### Resultado:"
   ]
  },
  {
   "cell_type": "markdown",
   "metadata": {},
   "source": [
    "<div style=\"width: 50px; height: 50px; background-color: #16161d; border: 1px solid #000\"></div>"
   ]
  },
  {
   "cell_type": "markdown",
   "metadata": {},
   "source": [
    "#### Diferença para a cor preta (HEX: #000000, RGB: rgb(0, 0, 0)):\n",
    "\n",
    "Eigengrau em cima / Preto embaixo:"
   ]
  },
  {
   "cell_type": "markdown",
   "metadata": {},
   "source": [
    "<div style=\"width: 50px; height: 50px; background-color: #16161d; border: 1px solid #000\"></div>\n",
    "<div style=\"width: 50px; height: 50px; background-color: #000000; border: 1px solid #000\"></div>"
   ]
  },
  {
   "cell_type": "markdown",
   "metadata": {},
   "source": [
    "A cor oposta para Eigengrau é `#1d1d16`:"
   ]
  },
  {
   "cell_type": "markdown",
   "metadata": {},
   "source": [
    "<div style=\"width: 50px; height: 50px; background-color: #1d1d16; border: 1px solid #000\"></div>"
   ]
  },
  {
   "cell_type": "markdown",
   "metadata": {},
   "source": [
    "As cores alternativas de Eigengrau são:\n",
    "\n",
    "- Absence of LIght: `#15151c` <div style=\"width: 50px; height: 50px; background-color: #15151c; border: 1px solid #000\"></div>\n",
    "- Abandon Black: `#231f20` <div style=\"width: 50px; height: 50px; background-color: #231f20; border: 1px solid #000\"></div>\n",
    "- Gray9: `#171717` <div style=\"width: 50px; height: 50px; background-color: #171717; border: 1px solid #000\"></div>\n",
    "- Gray8: `#141414` <div style=\"width: 50px; height: 50px; background-color: #141414; border: 1px solid #000\"></div>\n",
    "- Gray7: `#121212` <div style=\"width: 50px; height: 50px; background-color: #121212; border: 1px solid #000\"></div>\n",
    "- Gray6: `#0f0f0f` <div style=\"width: 50px; height: 50px; background-color: #0f0f0f; border: 1px solid #000\"></div>\n",
    "- Cinza escuro: `#232323` <div style=\"width: 50px; height: 50px; background-color: #232323; border: 1px solid #000\"></div>"
   ]
  },
  {
   "cell_type": "markdown",
   "metadata": {},
   "source": [
    "É preferível utilizar essas cores no lugar do preto absoluto, pois o preto irá aumentar o contraste com a cor mais clara do texto, podendo, dependendo dos casos, forçar ainda mais os olhos."
   ]
  },
  {
   "cell_type": "markdown",
   "metadata": {},
   "source": [
    "### Alto Contraste ou High Contrast"
   ]
  },
  {
   "cell_type": "markdown",
   "metadata": {},
   "source": [
    "É basicamente o mesmo modo escuro, porém, com o fundo definitivamente preto (`#000000` ou `rgb(0, 0, 0)`). Essa modalidade de tema faz com que as cores do texto pareçam muito mais claras do que o normal. O tema pode ser o mais adequado para algumas pessoas com problemas de visão, mas pode incomodar bastante justamente pelas cores do texto e das bordas."
   ]
  }
 ],
 "metadata": {
  "language_info": {
   "name": "python"
  }
 },
 "nbformat": 4,
 "nbformat_minor": 2
}
