{
 "cells": [
  {
   "cell_type": "markdown",
   "metadata": {},
   "source": [
    "# **Criando executáveis**\n",
    "---\n",
    "\n",
    "## Pré-requisitos da aula\n",
    "\n",
    "- Rodando o primeiro Projeto Python\n",
    "- Import\n",
    "\n",
    "---"
   ]
  },
  {
   "cell_type": "markdown",
   "metadata": {},
   "source": [
    "Após finalizar um programa, chegou a hora de disponibilizá-lo para o usuário. Mas você não poderá enviar o código-fonte do seu projeto, além do fato do usuário não ter um ambiente de desenvolvimento configurado em sua máquina. é por isso que você deve gerar um **executável**: um arquivo que contém o código-fonte e todas as dependências necessárias para o programa funcionar. É esse arquivo que o usuário final irá abrir para utilizar o programa desenvolvido por você.\n",
    "\n",
    "Há várias formas de se criar um arquivo executável. Nesse tutorial, será mostrada uma ddas formas mais usadas."
   ]
  },
  {
   "cell_type": "markdown",
   "metadata": {},
   "source": [
    "## PyInstaller\n",
    "---"
   ]
  },
  {
   "cell_type": "markdown",
   "metadata": {},
   "source": [
    "O **PyInstaller** é uma das formas mais populares de criar um executável. Ele permite, por exemplo, que você reuna todo o programa dentro de um único arquivo. Para isso, precisaremos instalar o pacote **pyinstaller** através do comando CLI `pip install pyinstaller`."
   ]
  },
  {
   "cell_type": "markdown",
   "metadata": {},
   "source": [
    "<div style=\"display: flex; justify-content: center\">\n",
    "    <img src=\"../assets/instalando-pyinstaller.png\" alt=\"Instalando o pyinstaller\" />\n",
    "</div>"
   ]
  },
  {
   "cell_type": "markdown",
   "metadata": {},
   "source": [
    "Após a instalação, poderemos gerar o nosso executável pelo próprio CLI através do comando `pyinstaller nome_do_arquivo.py`. Entretanto, se sua intenção (e provavelmente é) for gerar um único arquivo executável, o comando a ser executado é `pyinstaller --onefile nome_do_arquivo.py`."
   ]
  },
  {
   "cell_type": "markdown",
   "metadata": {},
   "source": [
    "<div style=\"display: flex; justify-content: center\">\n",
    "    <img src=\"../assets/criando-executavel-terminal.png\" alt=\"pyinstaller\" />\n",
    "</div>"
   ]
  },
  {
   "cell_type": "markdown",
   "metadata": {},
   "source": [
    "<div style=\"display: flex; justify-content: center\">\n",
    "    <img src=\"../assets/executavel-gerado.png\" alt=\"Executável gerado\" />\n",
    "</div>"
   ]
  },
  {
   "cell_type": "markdown",
   "metadata": {},
   "source": [
    "O comando irá gerar vários arquivos e pastas, mas o único arquivo que interessa para nós está dentro da pasta **dist**, que é o arquivo **nome_do_arquivo.exe**."
   ]
  },
  {
   "cell_type": "markdown",
   "metadata": {},
   "source": [
    "<div style=\"display: flex; justify-content: center\">\n",
    "    <img src=\"../assets/executavel-gerado-na-pasta.png\" alt=\"Local do executável\" />\n",
    "</div>"
   ]
  },
  {
   "cell_type": "markdown",
   "metadata": {},
   "source": [
    "Após o arquivo **.exe** ser gerado, ele pode ser transferido para qualquer outra máquina desejada, em qualquer outro diretório desejado. Não há a necessidade do VSCode para a execução do arquivo, e a máquina onde o arquivo será executado não precisa necessariamente do Python instalado. Inclusive a pasta **build** e o arquivo **app.spec** podem inclusive serem deletados do seu projeto sem peso na consciência. O próprio arquivo **.exe** não precisa ficar dentro da pasta **dist**. Pode retirá-lo de lá e deletar a pasta tranquilamente. "
   ]
  }
 ],
 "metadata": {
  "kernelspec": {
   "display_name": ".venv",
   "language": "python",
   "name": "python3"
  },
  "language_info": {
   "name": "python",
   "version": "3.12.7"
  }
 },
 "nbformat": 4,
 "nbformat_minor": 2
}
